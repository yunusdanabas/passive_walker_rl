{
 "cells": [
  {
   "cell_type": "markdown",
   "metadata": {},
   "source": [
    "# PPO with Behavior Cloning Initialization (Passive Walker)\n",
    "\n",
    "In this notebook, we demonstrate Proximal Policy Optimization (PPO) for the Passive Walker robot, initializing with a neural network policy pre-trained via Behavior Cloning (BC).\n",
    "\n",
    "- **We reuse functions from the `passive_walker.ppo.bc_init` package.**\n",
    "- **This notebook provides:**\n",
    "    - Loading the BC model and initializing PPO\n",
    "    - Running the PPO training loop (with critic)\n",
    "    - Visualizing training progress\n",
    "    - GUI rollouts for qualitative results\n",
    "\n",
    "---"
   ]
  },
  {
   "cell_type": "markdown",
   "metadata": {},
   "source": [
    "## 1. Setup & Imports\n",
    "\n",
    "We import all necessary modules and ensure the device (CPU/GPU) is selected for JAX."
   ]
  },
  {
   "cell_type": "code",
   "execution_count": 1,
   "metadata": {},
   "outputs": [
    {
     "name": "stdout",
     "output_type": "stream",
     "text": [
      "Using device: gpu\n"
     ]
    }
   ],
   "source": [
    "import os\n",
    "import numpy as np\n",
    "import jax\n",
    "import jax.numpy as jnp\n",
    "import pickle\n",
    "from pathlib import Path\n",
    "\n",
    "# Project-specific utilities\n",
    "from passive_walker.ppo.bc_init.utils import (\n",
    "    initialize_policy, \n",
    "    collect_trajectories, \n",
    "    compute_advantages, \n",
    ")\n",
    "\n",
    "# Set JAX backend and paths\n",
    "from passive_walker.ppo import (\n",
    "    set_device,\n",
    "    BC_RESULTS,\n",
    "    PPO_BC_DATA,\n",
    "    PPO_BC_RESULTS\n",
    ")\n",
    "from passive_walker.constants import XML_PATH\n",
    "\n",
    "# Set device: set_device(True) for GPU, set_device(False) for CPU\n",
    "set_device(use_gpu=True)  # or False if you don't have GPU\n",
    "print(f\"Using device: {jax.default_backend()}\")\n",
    "\n",
    "# Set paths for BC model and PPO outputs\n",
    "BC_MODEL_FILE = BC_RESULTS / \"hip_knee_mse\"\n",
    "\n",
    "OUTPUT_DIR = PPO_BC_RESULTS / \"notebook\"\n",
    "\n",
    "# Create necessary directories\n",
    "os.makedirs(PPO_BC_DATA, exist_ok=True)\n",
    "os.makedirs(PPO_BC_RESULTS, exist_ok=True)"
   ]
  },
  {
   "cell_type": "markdown",
   "metadata": {},
   "source": [
    "## 2. Load BC Model & Initialize PPO Environment\n",
    "\n",
    "We load the BC-seeded policy, and create all necessary action functions for training."
   ]
  },
  {
   "cell_type": "code",
   "execution_count": 2,
   "metadata": {},
   "outputs": [
    {
     "name": "stdout",
     "output_type": "stream",
     "text": [
      "Loaded BC policy. Obs dim: 11\n"
     ]
    }
   ],
   "source": [
    "BC_MODEL_PATH = BC_MODEL_FILE / \"hip_knee_mse_controller_50000steps.eqx\"\n",
    "\n",
    "rollout_steps = 4096\n",
    "hz = 500\n",
    "\n",
    "env, get_scaled_action, get_env_action, policy = initialize_policy(\n",
    "    model_path=BC_MODEL_PATH,\n",
    "    xml_path=str(XML_PATH),\n",
    "    simend=rollout_steps/hz,\n",
    "    sigma=0.1,\n",
    "    use_gui=False,\n",
    ")\n",
    "obs_dim = env.observation_space.shape[0]\n",
    "print(f\"Loaded BC policy. Obs dim: {obs_dim}\")"
   ]
  },
  {
   "cell_type": "markdown",
   "metadata": {},
   "source": [
    "## 3. PPO Training Loop (with Critic)\n",
    "\n",
    "We run PPO training using the loaded BC policy as the initial policy.  \n",
    "We use our Critic class and standard functions from our codebase."
   ]
  },
  {
   "cell_type": "code",
   "execution_count": 3,
   "metadata": {},
   "outputs": [],
   "source": [
    "from passive_walker.ppo.bc_init.train import Critic\n",
    "from passive_walker.ppo import save_policy_and_critic\n",
    "import equinox as eqx\n",
    "import optax\n",
    "\n",
    "# Hyperparameters (edit for your experiments)\n",
    "num_iters = 50\n",
    "rollout_steps = rollout_steps\n",
    "ppo_epochs = 10\n",
    "batch_size = 256\n",
    "gamma = 0.99\n",
    "lam = 0.95\n",
    "clip_eps = 0.2\n",
    "sigma = 0.1\n",
    "lr_policy = 3e-4\n",
    "lr_critic = 1e-3\n",
    "bc_coef = 1.0\n",
    "bc_anneal_steps = 200_000\n",
    "\n",
    "# Critic and optimizers\n",
    "critic = Critic(obs_dim, hidden=64, key=jax.random.PRNGKey(0))\n",
    "policy_opt = optax.adam(lr_policy)\n",
    "critic_opt = optax.adam(lr_critic)\n",
    "policy_state = policy_opt.init(eqx.filter(policy, eqx.is_array))\n",
    "critic_state = critic_opt.init(eqx.filter(critic, eqx.is_array))\n",
    "\n",
    "reward_history = []\n",
    "bc_coef_history = []\n",
    "total_steps = 0\n",
    "\n",
    "# Use the loss and update functions from your previous code, or import if modularized!\n",
    "def policy_log_prob(model, obs, acts, sigma=sigma):\n",
    "    mean = jax.vmap(model)(obs)\n",
    "    var = sigma ** 2\n",
    "    log_std = jnp.log(sigma)\n",
    "    lp = -0.5 * (((acts - mean) ** 2) / var + 2 * log_std + jnp.log(2 * jnp.pi))\n",
    "    return jnp.sum(lp, axis=-1)"
   ]
  },
  {
   "cell_type": "code",
   "execution_count": 4,
   "metadata": {},
   "outputs": [
    {
     "name": "stdout",
     "output_type": "stream",
     "text": [
      "[PPO] iter 1/50  avg_rew=1.07  bc_coef=1.000\n",
      "[PPO] iter 2/50  avg_rew=1.07  bc_coef=0.980\n",
      "[PPO] iter 3/50  avg_rew=1.07  bc_coef=0.959\n",
      "[PPO] iter 4/50  avg_rew=1.07  bc_coef=0.939\n",
      "[PPO] iter 5/50  avg_rew=1.07  bc_coef=0.918\n",
      "[PPO] iter 6/50  avg_rew=1.07  bc_coef=0.898\n",
      "[PPO] iter 7/50  avg_rew=1.07  bc_coef=0.877\n",
      "[PPO] iter 8/50  avg_rew=1.07  bc_coef=0.857\n",
      "[PPO] iter 9/50  avg_rew=1.07  bc_coef=0.836\n",
      "[PPO] iter 10/50  avg_rew=1.07  bc_coef=0.816\n",
      "[PPO] iter 11/50  avg_rew=1.07  bc_coef=0.795\n",
      "[PPO] iter 12/50  avg_rew=1.07  bc_coef=0.775\n",
      "[PPO] iter 13/50  avg_rew=1.07  bc_coef=0.754\n",
      "[PPO] iter 14/50  avg_rew=1.07  bc_coef=0.734\n",
      "[PPO] iter 15/50  avg_rew=1.07  bc_coef=0.713\n",
      "[PPO] iter 16/50  avg_rew=1.07  bc_coef=0.693\n",
      "[PPO] iter 17/50  avg_rew=1.07  bc_coef=0.672\n",
      "[PPO] iter 18/50  avg_rew=1.07  bc_coef=0.652\n",
      "[PPO] iter 19/50  avg_rew=1.07  bc_coef=0.631\n",
      "[PPO] iter 20/50  avg_rew=1.07  bc_coef=0.611\n",
      "[PPO] iter 21/50  avg_rew=1.07  bc_coef=0.590\n",
      "[PPO] iter 22/50  avg_rew=1.07  bc_coef=0.570\n",
      "[PPO] iter 23/50  avg_rew=1.07  bc_coef=0.549\n",
      "[PPO] iter 24/50  avg_rew=1.07  bc_coef=0.529\n",
      "[PPO] iter 25/50  avg_rew=1.07  bc_coef=0.508\n",
      "[PPO] iter 26/50  avg_rew=1.07  bc_coef=0.488\n",
      "[PPO] iter 27/50  avg_rew=1.07  bc_coef=0.468\n",
      "[PPO] iter 28/50  avg_rew=1.07  bc_coef=0.447\n",
      "[PPO] iter 29/50  avg_rew=1.07  bc_coef=0.427\n",
      "[PPO] iter 30/50  avg_rew=1.07  bc_coef=0.406\n",
      "[PPO] iter 31/50  avg_rew=1.07  bc_coef=0.386\n",
      "[PPO] iter 32/50  avg_rew=1.07  bc_coef=0.365\n",
      "[PPO] iter 33/50  avg_rew=1.07  bc_coef=0.345\n",
      "[PPO] iter 34/50  avg_rew=1.07  bc_coef=0.324\n",
      "[PPO] iter 35/50  avg_rew=1.07  bc_coef=0.304\n",
      "[PPO] iter 36/50  avg_rew=1.07  bc_coef=0.283\n",
      "[PPO] iter 37/50  avg_rew=1.07  bc_coef=0.263\n",
      "[PPO] iter 38/50  avg_rew=1.07  bc_coef=0.242\n",
      "[PPO] iter 39/50  avg_rew=1.07  bc_coef=0.222\n",
      "[PPO] iter 40/50  avg_rew=1.07  bc_coef=0.201\n",
      "[PPO] iter 41/50  avg_rew=1.07  bc_coef=0.181\n",
      "[PPO] iter 42/50  avg_rew=1.07  bc_coef=0.160\n",
      "[PPO] iter 43/50  avg_rew=1.07  bc_coef=0.140\n",
      "[PPO] iter 44/50  avg_rew=1.07  bc_coef=0.119\n",
      "[PPO] iter 45/50  avg_rew=1.07  bc_coef=0.099\n",
      "[PPO] iter 46/50  avg_rew=1.07  bc_coef=0.078\n",
      "[PPO] iter 47/50  avg_rew=1.07  bc_coef=0.058\n",
      "[PPO] iter 48/50  avg_rew=1.07  bc_coef=0.037\n",
      "[PPO] iter 49/50  avg_rew=1.07  bc_coef=0.017\n",
      "[PPO] iter 50/50  avg_rew=1.07  bc_coef=0.000\n",
      "Saved policy → /home/yunusdanabas/passive_walker_rl/results/ppo/bc_init/notebook/ppo_bcinit_50iters_4096steps/policy_0hz.eqx\n",
      "Saved critic → /home/yunusdanabas/passive_walker_rl/results/ppo/bc_init/notebook/ppo_bcinit_50iters_4096steps/critic_0hz.eqx\n"
     ]
    }
   ],
   "source": [
    "for it in range(1, num_iters + 1):\n",
    "    # 1. Collect on-policy data\n",
    "    traj = collect_trajectories(\n",
    "        env=env,\n",
    "        env_action_fn=get_env_action,\n",
    "        scaled_action_fn=get_scaled_action,\n",
    "        num_steps=rollout_steps,\n",
    "        render=False\n",
    "    )\n",
    "    obs = jnp.array(traj[\"obs\"], dtype=jnp.float32)\n",
    "    acts = jnp.array(traj[\"scaled_actions\"], dtype=jnp.float32)\n",
    "    rewards = np.array(traj[\"rewards\"])\n",
    "    dones = np.array(traj[\"dones\"])\n",
    "    bc_labels = acts  # BC loss is on scaled actions\n",
    "\n",
    "    # 2. Compute GAE advantages/returns\n",
    "    vals = np.array(jax.vmap(critic)(obs))\n",
    "    adv, ret = compute_advantages(rewards, dones, vals, gamma=gamma, lam=lam)\n",
    "    adv_j = jnp.array(adv, dtype=jnp.float32)\n",
    "    ret_j = jnp.array(ret, dtype=jnp.float32)\n",
    "    old_lp = policy_log_prob(policy, obs, acts, sigma)\n",
    "\n",
    "    # 3. Anneal BC coefficient\n",
    "    bc_weight = bc_coef * max(0.0, 1 - total_steps / bc_anneal_steps)\n",
    "\n",
    "    # 4. PPO and Critic updates (mini-batch)\n",
    "    idxs = np.arange(obs.shape[0])\n",
    "    for _ in range(ppo_epochs):\n",
    "        np.random.shuffle(idxs)\n",
    "        for start in range(0, len(idxs), batch_size):\n",
    "            b = idxs[start:start+batch_size]\n",
    "            # PPO update\n",
    "            def loss_fn(policy_, obs_, acts_, old_lp_, adv_, bc_labels_):\n",
    "                new_lp = policy_log_prob(policy_, obs_, acts_, sigma)\n",
    "                ratio = jnp.exp(new_lp - old_lp_)\n",
    "                clipped_obj = jnp.clip(ratio, 1-clip_eps, 1+clip_eps) * adv_\n",
    "                ppo_obj = -jnp.mean(jnp.minimum(ratio * adv_, clipped_obj))\n",
    "                im_loss = jnp.mean((jax.vmap(policy_)(obs_) - bc_labels_)**2)\n",
    "                return ppo_obj + bc_weight * im_loss\n",
    "\n",
    "            grads = jax.grad(loss_fn)(\n",
    "                policy, obs[b], acts[b], old_lp[b], adv_j[b], acts[b])\n",
    "            updates, policy_state = policy_opt.update(grads, policy_state)\n",
    "            policy = eqx.apply_updates(policy, updates)\n",
    "            # Critic update\n",
    "            def vf_loss(critic_, obs_, ret_):\n",
    "                return jnp.mean((jax.vmap(critic_)(obs_) - ret_)**2)\n",
    "            vf_grads = jax.grad(vf_loss)(critic, obs[b], ret_j[b])\n",
    "            vf_updates, critic_state = critic_opt.update(vf_grads, critic_state)\n",
    "            critic = eqx.apply_updates(critic, vf_updates)\n",
    "\n",
    "    avg_reward = rewards.mean()\n",
    "    reward_history.append(avg_reward)\n",
    "    bc_coef_history.append(bc_weight)\n",
    "    total_steps += rollout_steps\n",
    "    print(f\"[PPO] iter {it}/{num_iters}  avg_rew={avg_reward:.2f}  bc_coef={bc_weight:.3f}\")\n",
    "\n",
    "\n",
    "# Save policy/critic if desired\n",
    "run_name = f\"ppo_bcinit_{num_iters}iters_{rollout_steps}steps\"\n",
    "out_dir  = Path(OUTPUT_DIR) / run_name\n",
    "\n",
    "save_policy_and_critic(policy, critic, out_dir)"
   ]
  },
  {
   "cell_type": "markdown",
   "metadata": {},
   "source": [
    "## 5. PPO Training Diagnostics and Analysis\n",
    "\n",
    "Below, we plot the average reward per PPO iteration and the BC coefficient annealing curve."
   ]
  },
  {
   "cell_type": "code",
   "execution_count": 8,
   "metadata": {},
   "outputs": [
    {
     "name": "stdout",
     "output_type": "stream",
     "text": [
      "[utils.io] saved → /home/yunusdanabas/passive_walker_rl/results/ppo/bc_init/notebook/ppo_bc_init_training_log_notebook.pkl\n",
      "[log] Training history saved to /home/yunusdanabas/passive_walker_rl/results/ppo/bc_init/notebook/ppo_bc_init_training_log_notebook.pkl\n",
      "[utils.io] loaded ← /home/yunusdanabas/passive_walker_rl/results/ppo/bc_init/notebook/ppo_bc_init_training_log_notebook.pkl\n",
      "[plot] Saved training curve → /home/yunusdanabas/passive_walker_rl/results/ppo/bc_init/notebook/ppo_training_curve.png\n",
      "[plot] Saved training curve → /home/yunusdanabas/passive_walker_rl/results/ppo/bc_init/notebook/ppo_training_curve.png\n"
     ]
    },
    {
     "data": {
      "image/png": "[encoded data removed]",
      "text/plain": [
       "<Figure size 800x400 with 1 Axes>"
      ]
     },
     "metadata": {},
     "output_type": "display_data"
    },
    {
     "name": "stdout",
     "output_type": "stream",
     "text": [
      "Number of training iterations: 50\n",
      "Final average reward: 1.07\n",
      "Improvement: 0.00 (0.0%)\n"
     ]
    },
    {
     "data": {
      "image/png": "[encoded data removed]",
      "text/plain": [
       "<Figure size 1000x200 with 1 Axes>"
      ]
     },
     "metadata": {},
     "output_type": "display_data"
    }
   ],
   "source": [
    "from passive_walker.utils.io import save_pickle, load_pickle\n",
    "from passive_walker.ppo.bc_init.utils import plot_training_rewards, plot_bc_coefficient\n",
    "\n",
    "# Save reward and BC coefficient histories for later analysis/plots\n",
    "log = {\n",
    "    \"rewards\": reward_history,\n",
    "    \"bc_coef\": bc_coef_history,\n",
    "}\n",
    "log_path = os.path.join(OUTPUT_DIR, \"ppo_bc_init_training_log_notebook.pkl\")\n",
    "save_pickle(log, log_path)\n",
    "print(f\"[log] Training history saved to {log_path}\")\n",
    "\n",
    "# Load training log\n",
    "log = load_pickle(log_path)\n",
    "\n",
    "# Plot reward learning curve\n",
    "plot_training_rewards(\n",
    "    log[\"rewards\"],\n",
    "    save_path=os.path.join(OUTPUT_DIR, \"ppo_training_curve.png\"),\n",
    "    title=\"Average Reward per PPO Iteration\"\n",
    ")\n",
    "\n",
    "# Plot BC coefficient annealing\n",
    "plot_bc_coefficient(log[\"bc_coef\"], output_dir=OUTPUT_DIR)"
   ]
  },
  {
   "cell_type": "code",
   "execution_count": 11,
   "metadata": {},
   "outputs": [],
   "source": [
    "from passive_walker.ppo.bc_init.utils import plot_joint_and_reward\n",
    "\n",
    "# Create environment for evaluation (GUI if you want to see it, otherwise use_gui=False)\n",
    "# Use the correct model path: out_dir/\"policy.eqx\" if you want the latest saved policy,\n",
    "# or BC_MODEL_PATH if you want to evaluate the BC model.\n",
    "# Here, use the latest policy saved by save_policy_and_critic:\n",
    "eval_model_path = out_dir / \"policy_0hz.eqx\"\n",
    "\n",
    "env, get_scaled_action, get_env_action, _ = initialize_policy(\n",
    "    model_path=eval_model_path,\n",
    "    xml_path=str(XML_PATH),\n",
    "    simend=30.0,\n",
    "    sigma=0.1,\n",
    "    use_gui=False,\n",
    ")\n",
    "\n",
    "obs = env.reset()\n",
    "traj_obs = []\n",
    "rewards = []\n",
    "done = False\n",
    "while not done:\n",
    "    obs_jnp = jnp.array(obs, dtype=jnp.float32)\n",
    "    act = get_env_action(obs_jnp)\n",
    "    obs, r, done, _ = env.step(act)\n",
    "    traj_obs.append(obs)\n",
    "    rewards.append(r)\n",
    "    # env.render()  # Optionally show GUI\n",
    "\n",
    "traj_obs = np.array(traj_obs)\n",
    "rewards = np.array(rewards)\n",
    "\n",
    "# Save for later\n",
    "np.save(os.path.join(OUTPUT_DIR, \"ppo_eval_joint_positions.npy\"), traj_obs)\n",
    "np.save(os.path.join(OUTPUT_DIR, \"ppo_eval_rewards.npy\"), rewards)"
   ]
  },
  {
   "cell_type": "code",
   "execution_count": 12,
   "metadata": {},
   "outputs": [
    {
     "data": {
      "image/png": "[encoded data removed]",
      "text/plain": [
       "<Figure size 800x400 with 1 Axes>"
      ]
     },
     "metadata": {},
     "output_type": "display_data"
    },
    {
     "data": {
      "image/png": "[encoded data removed]",
      "text/plain": [
       "<Figure size 800x300 with 1 Axes>"
      ]
     },
     "metadata": {},
     "output_type": "display_data"
    }
   ],
   "source": [
    "# Plot and save\n",
    "plot_joint_and_reward(traj_obs, rewards, save_prefix=os.path.join(OUTPUT_DIR, \"ppo_eval\"))\n",
    "\n",
    "# Export as CSV for your report\n",
    "np.savetxt(os.path.join(OUTPUT_DIR, \"ppo_eval_joint_positions.csv\"), traj_obs, delimiter=\",\")\n",
    "np.savetxt(os.path.join(OUTPUT_DIR, \"ppo_eval_rewards.csv\"), rewards, delimiter=\",\")"
   ]
  },
  {
   "cell_type": "markdown",
   "metadata": {},
   "source": [
    "## 6. GUI Rollout Demo\n",
    "\n",
    "Play the trained PPO policy in Mujoco for a visual check!"
   ]
  },
  {
   "cell_type": "code",
   "execution_count": 14,
   "metadata": {},
   "outputs": [],
   "source": [
    "env_gui_bcInit, get_scaled_action, get_env_action, policy = initialize_policy(\n",
    "    model_path=os.path.join(OUTPUT_DIR, \"ppo_bcinit_50iters_4096steps\", \"policy_0hz.eqx\"),\n",
    "    xml_path=str(XML_PATH),\n",
    "    simend=30.0,\n",
    "    sigma=sigma,\n",
    "    use_gui=True,\n",
    ")\n",
    "\n",
    "obs = env_gui_bcInit.reset()\n",
    "done = False\n",
    "while not done:\n",
    "    act = get_env_action(jnp.array(obs))\n",
    "    obs, reward, done, info = env_gui_bcInit.step(act)\n",
    "    env_gui_bcInit.render()\n",
    "    if done:\n",
    "        break\n",
    "env_gui_bcInit.close()"
   ]
  },
  {
   "cell_type": "markdown",
   "metadata": {},
   "source": [
    "## Scratch PPO (no pre-training)\n",
    "\n",
    "In this section we train a fresh policy and value function **from scratch** using Proximal Policy Optimization (PPO).  \n",
    "We will:\n",
    "\n",
    "1. Collect on-policy rollouts  \n",
    "2. Compute GAE advantages  \n",
    "3. Perform PPO updates (policy & critic)  \n",
    "4. Plot the training curve  \n",
    "5. Do a final GUI rollout  \n",
    "\n",
    "---\n",
    "\n",
    "### 1. Setup & Imports\n",
    "\n",
    "Bring in our scratch‐PPO utilities and JAX/EQX machinery."
   ]
  },
  {
   "cell_type": "code",
   "execution_count": 18,
   "metadata": {},
   "outputs": [
    {
     "name": "stdout",
     "output_type": "stream",
     "text": [
      "Device set to: gpu\n",
      "JAX backend: gpu\n"
     ]
    }
   ],
   "source": [
    "import os\n",
    "import numpy as np\n",
    "import jax, jax.numpy as jnp\n",
    "import matplotlib.pyplot as plt\n",
    "import equinox as eqx\n",
    "import optax\n",
    "\n",
    "# our scratch PPO package\n",
    "from passive_walker.constants import set_device, XML_PATH, DATA_DIR\n",
    "from passive_walker.ppo.scratch.utils import (\n",
    "    initialize_policy,\n",
    "    collect_trajectories,\n",
    "    compute_advantages,\n",
    "    policy_log_prob,\n",
    "    save_pickle,\n",
    "    plot_training_rewards,\n",
    ")\n",
    "# Critic network defined in the scratch train script\n",
    "from passive_walker.ppo.scratch.train import Critic\n",
    "\n",
    "# choose CPU or GPU\n",
    "set_device(use_gpu=True)  # or False\n",
    "print(\"JAX backend:\", jax.default_backend())"
   ]
  },
  {
   "cell_type": "markdown",
   "metadata": {},
   "source": [
    "### 2. Hyperparameters & Initialization\n",
    "\n",
    "Define PPO hyperparameters, create the env, policy, critic, and optimizers."
   ]
  },
  {
   "cell_type": "code",
   "execution_count": null,
   "metadata": {},
   "outputs": [
    {
     "name": "stdout",
     "output_type": "stream",
     "text": [
      "Initialized scratch PPO policy & critic.\n"
     ]
    }
   ],
   "source": [
    "# PPO hyperparameters\n",
    "NUM_ITERS      = 100      # PPO iterations\n",
    "ROLLOUT_STEPS  = 2048     # steps per iteration\n",
    "PPO_EPOCHS     = 10       # epochs per update\n",
    "MINI_BATCH     = 256      # minibatch size\n",
    "GAMMA          = 0.99     # discount factor\n",
    "LAMBDA         = 0.95     # GAE lambda\n",
    "CLIP_EPS       = 0.2      # PPO clipping epsilon\n",
    "SIGMA          = 0.1      # policy std in scaled space\n",
    "LR_POLICY      = 3e-4     # policy learning rate\n",
    "LR_CRITIC      = 1e-3     # critic learning rate\n",
    "HZ             = 500      # simulation Hz\n",
    "\n",
    "# initialize policy & critic from scratch\n",
    "# note: initialize_policy returns (env, get_scaled, get_env, policy_model)\n",
    "env, get_scaled_action, get_env_action, policy = initialize_policy(\n",
    "    obs_dim=None,        # scratch-utils auto infers via xml_path\n",
    "    act_dim=None,\n",
    "    xml_path=str(XML_PATH),\n",
    "    simend=ROLLOUT_STEPS/HZ,\n",
    "    sigma=SIGMA,\n",
    "    use_gui=False,\n",
    ")\n",
    "# build a fresh Critic\n",
    "key    = jax.random.PRNGKey(0)\n",
    "critic = Critic(env.observation_space.shape[0], hidden=64, key=key)\n",
    "\n",
    "# optimizers and states\n",
    "policy_opt  = optax.adam(LR_POLICY)\n",
    "critic_opt  = optax.adam(LR_CRITIC)\n",
    "policy_state = policy_opt.init(eqx.filter(policy, eqx.is_array))\n",
    "critic_state = critic_opt.init(eqx.filter(critic, eqx.is_array))\n",
    "\n",
    "print(\"Initialized scratch PPO policy & critic.\")"
   ]
  },
  {
   "cell_type": "markdown",
   "metadata": {},
   "source": [
    "### 3. Training Loop\n",
    "\n",
    "For each iteration:\n",
    "- collect rollouts  \n",
    "- compute GAE  \n",
    "- do PPO & critic mini-batch updates  \n",
    "- record average reward"
   ]
  },
  {
   "cell_type": "code",
   "execution_count": 20,
   "metadata": {},
   "outputs": [
    {
     "name": "stdout",
     "output_type": "stream",
     "text": [
      "[PPO scratch] iter 001/10  avg reward = 0.871\n",
      "[PPO scratch] iter 002/10  avg reward = 0.871\n",
      "[PPO scratch] iter 002/10  avg reward = 0.871\n",
      "[PPO scratch] iter 003/10  avg reward = 0.871\n",
      "[PPO scratch] iter 003/10  avg reward = 0.871\n",
      "[PPO scratch] iter 004/10  avg reward = 0.871\n",
      "[PPO scratch] iter 005/10  avg reward = 0.871\n",
      "[PPO scratch] iter 006/10  avg reward = 0.871\n",
      "[PPO scratch] iter 007/10  avg reward = 0.871\n",
      "[PPO scratch] iter 008/10  avg reward = 0.871\n",
      "[PPO scratch] iter 009/10  avg reward = 0.871\n",
      "[PPO scratch] iter 010/10  avg reward = 0.871\n",
      "Saved model → /home/yunusdanabas/passive_walker_rl/data/trained_policy_with_critic_notebook.pkl\n",
      "Saved training log → /home/yunusdanabas/passive_walker_rl/data/ppo_scratch_training_log_notebook.pkl\n"
     ]
    }
   ],
   "source": [
    "reward_history = []\n",
    "\n",
    "for it in range(1, NUM_ITERS + 1):\n",
    "    # 1) collect on-policy rollouts\n",
    "    traj = collect_trajectories(\n",
    "        env=env,\n",
    "        env_action_fn=get_env_action,\n",
    "        scaled_action_fn=get_scaled_action,\n",
    "        num_steps=ROLLOUT_STEPS,\n",
    "        render=False,\n",
    "    )\n",
    "    obs    = jnp.array(traj[\"obs\"], dtype=jnp.float32)\n",
    "    acts   = jnp.array(traj[\"scaled_actions\"], dtype=jnp.float32)\n",
    "    rews   = np.array(traj[\"rewards\"], dtype=np.float32)\n",
    "    dones  = np.array(traj[\"dones\"],   dtype=np.float32)\n",
    "\n",
    "    # 2) compute GAE advantages & returns\n",
    "    vals       = np.array(jax.vmap(critic)(obs))\n",
    "    advantages, returns = compute_advantages(rews, dones, vals, gamma=GAMMA, lam=LAMBDA)\n",
    "    adv_j      = jnp.array(advantages, dtype=jnp.float32)\n",
    "    ret_j      = jnp.array(returns,    dtype=jnp.float32)\n",
    "\n",
    "    # 3) old log-probs\n",
    "    old_lp_j   = policy_log_prob(policy, obs, acts, SIGMA)\n",
    "\n",
    "    # 4) PPO + Critic updates\n",
    "    idxs = np.arange(obs.shape[0])\n",
    "    for _ in range(PPO_EPOCHS):\n",
    "        np.random.shuffle(idxs)\n",
    "        for start in range(0, len(idxs), MINI_BATCH):\n",
    "            b = idxs[start:start+MINI_BATCH]\n",
    "\n",
    "            # — policy update (unchanged) —\n",
    "            def ppo_loss_fn(pi, o, a, old_lp, adv):\n",
    "                new_lp = policy_log_prob(pi, o, a, SIGMA)\n",
    "                ratio  = jnp.exp(new_lp - old_lp)\n",
    "                obj    = jnp.minimum(ratio * adv,\n",
    "                                     jnp.clip(ratio, 1-CLIP_EPS, 1+CLIP_EPS) * adv)\n",
    "                return -jnp.mean(obj)\n",
    "\n",
    "            p_grads = jax.grad(ppo_loss_fn)(policy, obs[b], acts[b], old_lp_j[b], adv_j[b])\n",
    "            # filter out only the arrays:\n",
    "            p_upd, policy_state = policy_opt.update(\n",
    "                eqx.filter(p_grads, eqx.is_array),\n",
    "                policy_state\n",
    "            )\n",
    "            policy = eqx.apply_updates(policy, p_upd)\n",
    "\n",
    "            # — critic update (fixed) —\n",
    "            def vf_loss_fn(cr, o, ret):\n",
    "                pred = jax.vmap(cr)(o)\n",
    "                return jnp.mean((pred - ret)**2)\n",
    "\n",
    "            # get the grads (no value grab):\n",
    "            c_grads = jax.grad(vf_loss_fn)(critic, obs[b], ret_j[b])\n",
    "            # filter to arrays and update\n",
    "            c_upd, critic_state = critic_opt.update(\n",
    "                eqx.filter(c_grads, eqx.is_array),\n",
    "                critic_state\n",
    "            )\n",
    "            critic = eqx.apply_updates(critic, c_upd)\n",
    "\n",
    "    # 5) log average reward\n",
    "    avg_rew = rews.mean()\n",
    "    reward_history.append(avg_rew)\n",
    "    print(f\"[PPO scratch] iter {it:03d}/{NUM_ITERS}  avg reward = {avg_rew:.3f}\")\n",
    "\n",
    "# Save the trained policy and critic\n",
    "model_path = DATA_DIR / \"trained_policy_with_critic_notebook.pkl\"\n",
    "with open(model_path, \"wb\") as f:\n",
    "    pickle.dump((policy, critic), f)\n",
    "print(f\"Saved model → {model_path}\")\n",
    "\n",
    "# Save training history\n",
    "log_path = DATA_DIR / \"ppo_scratch_training_log_notebook.pkl\"\n",
    "with open(log_path, \"wb\") as f:\n",
    "    pickle.dump({\"rewards\": reward_history}, f)\n",
    "print(f\"Saved training log → {log_path}\")"
   ]
  },
  {
   "cell_type": "markdown",
   "metadata": {},
   "source": [
    "### 4. Plot Training Curve\n",
    "\n",
    "Visualize how average reward evolves over the PPO iterations."
   ]
  },
  {
   "cell_type": "code",
   "execution_count": 21,
   "metadata": {},
   "outputs": [
    {
     "name": "stdout",
     "output_type": "stream",
     "text": [
      "[plot] Saved training curve → /home/yunusdanabas/passive_walker_rl/data/scratch_ppo_training_curve.png\n"
     ]
    },
    {
     "data": {
      "image/png": "[encoded data removed]",
      "text/plain": [
       "<Figure size 800x400 with 1 Axes>"
      ]
     },
     "metadata": {},
     "output_type": "display_data"
    },
    {
     "name": "stdout",
     "output_type": "stream",
     "text": [
      "Number of training iterations: 10\n",
      "Final average reward: 0.87\n",
      "Improvement: 0.00 (0.0%)\n"
     ]
    }
   ],
   "source": [
    "plot_training_rewards(reward_history,\n",
    "                      save_path=DATA_DIR/\"scratch_ppo_training_curve.png\",\n",
    "                      title=\"Scratch PPO: Avg Reward per Iteration\")"
   ]
  },
  {
   "cell_type": "markdown",
   "metadata": {},
   "source": [
    "### 5. Final GUI Rollout\n",
    "\n",
    "Run the trained scratch-PPO policy in the Mujoco GUI for a quick sanity‐check."
   ]
  },
  {
   "cell_type": "code",
   "execution_count": 22,
   "metadata": {},
   "outputs": [
    {
     "name": "stdout",
     "output_type": "stream",
     "text": [
      "Playing final rollout…\n"
     ]
    },
    {
     "name": "stderr",
     "output_type": "stream",
     "text": [
      "/home/yunusdanabas/miniconda3/envs/ens492/lib/python3.10/site-packages/glfw/__init__.py:917: GLFWError: (65537) b'The GLFW library is not initialized'\n",
      "  warnings.warn(message, GLFWError)\n"
     ]
    },
    {
     "name": "stdout",
     "output_type": "stream",
     "text": [
      "Final rollout total reward: 193.9067008793354\n"
     ]
    }
   ],
   "source": [
    "from mujoco.glfw import glfw\n",
    "\n",
    "env_gui_scratch, _, _, _ = initialize_policy(\n",
    "    obs_dim=None,\n",
    "    act_dim=None,\n",
    "    xml_path=str(XML_PATH),\n",
    "    simend=30.0,\n",
    "    sigma=SIGMA,\n",
    "    use_gui=True,\n",
    ")\n",
    "obs0, done = env_gui_scratch.reset(), False\n",
    "total_reward = 0.0\n",
    "\n",
    "print(\"Playing final rollout…\")\n",
    "while not done and not glfw.window_should_close(env_gui_scratch.window):\n",
    "    a = np.array(policy(jnp.array(obs0)), dtype=np.float32)\n",
    "    obs0, r, done, _ = env_gui_scratch.step(a)\n",
    "    total_reward += r\n",
    "    env_gui_scratch.render()\n",
    "\n",
    "env_gui_scratch.close()\n",
    "print(\"Final rollout total reward:\", total_reward)"
   ]
  },
  {
   "cell_type": "markdown",
   "metadata": {},
   "source": [
    "## Comparison of PPO Variants\n",
    "\n",
    "We now compare the two variants:\n",
    "\n",
    "- **BC-init PPO**: warm-started from a behavior-cloned policy  \n",
    "- **Scratch PPO**: trained from random initialization\n",
    "\n",
    "We will:\n",
    "1. Plot their average‐reward curves on the same axes  \n",
    "2. Tabulate final, best and mean rewards  \n",
    "3. Export summary to CSV  "
   ]
  },
  {
   "cell_type": "code",
   "execution_count": 31,
   "metadata": {},
   "outputs": [
    {
     "name": "stdout",
     "output_type": "stream",
     "text": [
      "[utils.io] loaded ← /home/yunusdanabas/passive_walker_rl/results/ppo/bc_init/notebook/ppo_bc_init_training_log_notebook.pkl\n"
     ]
    },
    {
     "data": {
      "image/png": "[encoded data removed]",
      "text/plain": [
       "<Figure size 700x400 with 1 Axes>"
      ]
     },
     "metadata": {},
     "output_type": "display_data"
    }
   ],
   "source": [
    "from passive_walker.utils.io import load_pickle as load_bc_log\n",
    "from passive_walker.ppo.scratch.utils import load_pickle as load_scr_log\n",
    "from passive_walker.ppo.bc_init import PPO_BC_RESULTS as BC_RESULTS_DIR\n",
    "from passive_walker.ppo.scratch import DATA_DIR as SCRATCH_DIR\n",
    "\n",
    "PPO_DIR = OUTPUT_DIR  # Use OUTPUT_DIR as the PPO results directory\n",
    "\n",
    "# Use the correct path for the BC-init PPO log (saved in OUTPUT_DIR, not PPO_BC_DATA)\n",
    "bc_log    = load_bc_log(PPO_DIR / \"ppo_bc_init_training_log_notebook.pkl\")\n",
    "scr_log   = load_scr_log(SCRATCH_DIR / \"ppo_scratch_training_log_notebook.pkl\")\n",
    "\n",
    "bc_rewards  = np.array(bc_log[\"rewards\"])\n",
    "scr_rewards = np.array(scr_log[\"rewards\"])\n",
    "\n",
    "# 2) side‐by‐side learning curves\n",
    "plt.figure(figsize=(7,4))\n",
    "plt.plot(bc_rewards,  label=\"BC-init PPO\")\n",
    "plt.plot(scr_rewards, label=\"Scratch PPO\")\n",
    "plt.xlabel(\"PPO Iteration\")\n",
    "plt.ylabel(\"Average Reward\")\n",
    "plt.title(\"Learning Curves: BC-init vs. Scratch\")\n",
    "plt.legend()\n",
    "plt.grid(True)\n",
    "plt.tight_layout()\n",
    "plt.savefig(PPO_DIR / \"ppo_compare_reward.png\", dpi=150, bbox_inches=\"tight\")\n",
    "plt.show()"
   ]
  },
  {
   "cell_type": "markdown",
   "metadata": {},
   "source": [
    "> **Observation:**  \n",
    "> - BC-init PPO immediately starts near **0.45** reward and steadily improves  \n",
    "> - Scratch PPO begins near **0.0** and requires ~*X* iterations to catch up  \n",
    "> \n",
    "> This confirms the warm-start benefit of behavior cloning.\n"
   ]
  },
  {
   "cell_type": "code",
   "execution_count": 32,
   "metadata": {},
   "outputs": [
    {
     "data": {
      "text/html": [
       "<div>\n",
       "<style scoped>\n",
       "    .dataframe tbody tr th:only-of-type {\n",
       "        vertical-align: middle;\n",
       "    }\n",
       "\n",
       "    .dataframe tbody tr th {\n",
       "        vertical-align: top;\n",
       "    }\n",
       "\n",
       "    .dataframe thead th {\n",
       "        text-align: right;\n",
       "    }\n",
       "</style>\n",
       "<table border=\"1\" class=\"dataframe\">\n",
       "  <thead>\n",
       "    <tr style=\"text-align: right;\">\n",
       "      <th></th>\n",
       "      <th>variant</th>\n",
       "      <th>final_reward</th>\n",
       "      <th>best_reward</th>\n",
       "      <th>mean_reward</th>\n",
       "      <th>num_iters</th>\n",
       "    </tr>\n",
       "  </thead>\n",
       "  <tbody>\n",
       "    <tr>\n",
       "      <th>0</th>\n",
       "      <td>BC_init</td>\n",
       "      <td>1.073834</td>\n",
       "      <td>1.073834</td>\n",
       "      <td>1.073834</td>\n",
       "      <td>50</td>\n",
       "    </tr>\n",
       "    <tr>\n",
       "      <th>1</th>\n",
       "      <td>Scratch</td>\n",
       "      <td>0.871113</td>\n",
       "      <td>0.871113</td>\n",
       "      <td>0.871113</td>\n",
       "      <td>10</td>\n",
       "    </tr>\n",
       "  </tbody>\n",
       "</table>\n",
       "</div>"
      ],
      "text/plain": [
       "   variant  final_reward  best_reward  mean_reward  num_iters\n",
       "0  BC_init      1.073834     1.073834     1.073834         50\n",
       "1  Scratch      0.871113     0.871113     0.871113         10"
      ]
     },
     "metadata": {},
     "output_type": "display_data"
    },
    {
     "name": "stdout",
     "output_type": "stream",
     "text": [
      "Saved summary → ppo_comparison_summary.csv\n"
     ]
    }
   ],
   "source": [
    "import pandas as pd\n",
    "\n",
    "# 3) build summary table\n",
    "summary = pd.DataFrame({\n",
    "    \"variant\":       [\"BC_init\",        \"Scratch\"],\n",
    "    \"final_reward\":  [bc_rewards[-1],   scr_rewards[-1]],\n",
    "    \"best_reward\":   [bc_rewards.max(), scr_rewards.max()],\n",
    "    \"mean_reward\":   [bc_rewards.mean(),scr_rewards.mean()],\n",
    "    \"num_iters\":     [len(bc_rewards),  len(scr_rewards)],\n",
    "})\n",
    "display(summary)\n",
    "\n",
    "# 4) export for report\n",
    "out_csv = Path(\"ppo_comparison_summary.csv\")\n",
    "summary.to_csv(out_csv, index=False)\n",
    "print(f\"Saved summary → {out_csv}\")"
   ]
  }
 ],
 "metadata": {
  "kernelspec": {
   "display_name": "ens492",
   "language": "python",
   "name": "python3"
  },
  "language_info": {
   "codemirror_mode": {
    "name": "ipython",
    "version": 3
   },
   "file_extension": ".py",
   "mimetype": "text/x-python",
   "name": "python",
   "nbconvert_exporter": "python",
   "pygments_lexer": "ipython3",
   "version": "3.10.15"
  }
 },
 "nbformat": 4,
 "nbformat_minor": 2
}
