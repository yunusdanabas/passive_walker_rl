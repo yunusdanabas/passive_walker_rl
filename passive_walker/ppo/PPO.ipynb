{
 "cells": [
  {
   "cell_type": "markdown",
   "metadata": {},
   "source": [
    "# PPO with Behavior Cloning Initialization (Passive Walker)\n",
    "\n",
    "In this notebook, we demonstrate Proximal Policy Optimization (PPO) for the Passive Walker robot, initializing with a neural network policy pre-trained via Behavior Cloning (BC).\n",
    "\n",
    "- **We reuse functions from the `passive_walker.ppo.bc_init` package.**\n",
    "- **This notebook provides:**\n",
    "    - Loading the BC model and initializing PPO\n",
    "    - Running the PPO training loop (with critic)\n",
    "    - Visualizing training progress\n",
    "    - GUI rollouts for qualitative results\n",
    "\n",
    "---\n"
   ]
  },
  {
   "cell_type": "markdown",
   "metadata": {},
   "source": [
    "## 1. Setup & Imports\n",
    "\n",
    "We import all necessary modules and ensure the device (CPU/GPU) is selected for JAX."
   ]
  },
  {
   "cell_type": "code",
   "execution_count": null,
   "metadata": {},
   "outputs": [],
   "source": [
    "# Standard packages\n",
    "import os\n",
    "import numpy as np\n",
    "import jax\n",
    "import jax.numpy as jnp\n",
    "import matplotlib.pyplot as plt\n",
    "import pickle\n",
    "\n",
    "# Project-specific utilities\n",
    "from passive_walker.ppo.bc_init.utils import (\n",
    "    initialize_policy, \n",
    "    collect_trajectories, \n",
    "    compute_advantages, \n",
    "    save_pickle, \n",
    "    load_pickle,\n",
    ")\n",
    "from passive_walker.ppo.bc_init.train import Critic\n",
    "\n",
    "# Set JAX backend\n",
    "from passive_walker.ppo.bc_init import set_device\n",
    "set_device(use_gpu=True)  # or False if you don't have GPU\n",
    "\n",
    "# Set paths\n",
    "from passive_walker.constants  import XML_PATH, BC_DATA, PPO_BC_DATA\n",
    "BC_MODEL_PATH = BC_DATA/ \"hip_knee_mse_controller.pkl\"\n",
    "PPO_DATA_DIR = \"data/ppo/bc_init\"\n",
    "os.makedirs(PPO_DATA_DIR, exist_ok=True)\n",
    "\n",
    "OUTPUT_DIR = str(PPO_BC_DATA)\n",
    "os.makedirs(OUTPUT_DIR, exist_ok=True)\n",
    "\n",
    "# Set device: set_device(True) for GPU, set_device(False) for CPU\n",
    "set_device(True)\n",
    "print(f\"Using device: {jax.default_backend()}\")\n"
   ]
  },
  {
   "cell_type": "markdown",
   "metadata": {},
   "source": [
    "## 2. Load BC Model & Initialize PPO Environment\n",
    "\n",
    "We load the BC-seeded policy, and create all necessary action functions for training."
   ]
  },
  {
   "cell_type": "code",
   "execution_count": null,
   "metadata": {},
   "outputs": [],
   "source": [
    "# Load the BC model and create env/policy functions\n",
    "env, get_scaled_action, get_env_action, policy = initialize_policy(\n",
    "    model_path=BC_MODEL_PATH,\n",
    "    xml_path=str(XML_PATH),\n",
    "    simend=30.0,\n",
    "    sigma=0.1,\n",
    "    use_gui=False,\n",
    ")\n",
    "obs_dim = env.observation_space.shape[0]\n",
    "print(f\"Loaded BC policy. Obs dim: {obs_dim}\")"
   ]
  },
  {
   "cell_type": "markdown",
   "metadata": {},
   "source": [
    "## 3. PPO Training Loop (with Critic)\n",
    "\n",
    "We run PPO training using the loaded BC policy as the initial policy.  \n",
    "We use our Critic class and standard functions from our codebase."
   ]
  },
  {
   "cell_type": "code",
   "execution_count": null,
   "metadata": {},
   "outputs": [],
   "source": [
    "import equinox as eqx\n",
    "import optax\n",
    "\n",
    "# Hyperparameters (edit for your experiments)\n",
    "num_iters = 10\n",
    "rollout_steps = 2048\n",
    "ppo_epochs = 10\n",
    "batch_size = 256\n",
    "gamma = 0.99\n",
    "lam = 0.95\n",
    "clip_eps = 0.2\n",
    "sigma = 0.1\n",
    "lr_policy = 3e-4\n",
    "lr_critic = 1e-3\n",
    "bc_coef = 1.0\n",
    "bc_anneal_steps = 200_000\n",
    "\n",
    "# Critic and optimizers\n",
    "critic = Critic(obs_dim, hidden=64, key=jax.random.PRNGKey(0))\n",
    "policy_opt = optax.adam(lr_policy)\n",
    "critic_opt = optax.adam(lr_critic)\n",
    "policy_state = policy_opt.init(eqx.filter(policy, eqx.is_array))\n",
    "critic_state = critic_opt.init(eqx.filter(critic, eqx.is_array))\n",
    "\n",
    "reward_history = []\n",
    "bc_coef_history = []\n",
    "total_steps = 0\n",
    "\n",
    "# Use the loss and update functions from your previous code, or import if modularized!\n",
    "def policy_log_prob(model, obs, acts, sigma=sigma):\n",
    "    mean = jax.vmap(model)(obs)\n",
    "    var = sigma ** 2\n",
    "    log_std = jnp.log(sigma)\n",
    "    lp = -0.5 * (((acts - mean) ** 2) / var + 2 * log_std + jnp.log(2 * jnp.pi))\n",
    "    return jnp.sum(lp, axis=-1)\n",
    "\n",
    "for it in range(1, num_iters + 1):\n",
    "    # 1. Collect on-policy data\n",
    "    traj = collect_trajectories(\n",
    "        env=env,\n",
    "        env_action_fn=get_env_action,\n",
    "        scaled_action_fn=get_scaled_action,\n",
    "        num_steps=rollout_steps,\n",
    "        render=False\n",
    "    )\n",
    "    obs = jnp.array(traj[\"obs\"], dtype=jnp.float32)\n",
    "    acts = jnp.array(traj[\"scaled_actions\"], dtype=jnp.float32)\n",
    "    rewards = np.array(traj[\"rewards\"])\n",
    "    dones = np.array(traj[\"dones\"])\n",
    "    bc_labels = acts  # BC loss is on scaled actions\n",
    "\n",
    "    # 2. Compute GAE advantages/returns\n",
    "    vals = np.array(jax.vmap(critic)(obs))\n",
    "    adv, ret = compute_advantages(rewards, dones, vals, gamma=gamma, lam=lam)\n",
    "    adv_j = jnp.array(adv, dtype=jnp.float32)\n",
    "    ret_j = jnp.array(ret, dtype=jnp.float32)\n",
    "    old_lp = policy_log_prob(policy, obs, acts, sigma)\n",
    "\n",
    "    # 3. Anneal BC coefficient\n",
    "    bc_weight = bc_coef * max(0.0, 1 - total_steps / bc_anneal_steps)\n",
    "\n",
    "    # 4. PPO and Critic updates (mini-batch)\n",
    "    idxs = np.arange(obs.shape[0])\n",
    "    for _ in range(ppo_epochs):\n",
    "        np.random.shuffle(idxs)\n",
    "        for start in range(0, len(idxs), batch_size):\n",
    "            b = idxs[start:start+batch_size]\n",
    "            # PPO update\n",
    "            def loss_fn(policy_, obs_, acts_, old_lp_, adv_, bc_labels_):\n",
    "                new_lp = policy_log_prob(policy_, obs_, acts_, sigma)\n",
    "                ratio = jnp.exp(new_lp - old_lp_)\n",
    "                clipped_obj = jnp.clip(ratio, 1-clip_eps, 1+clip_eps) * adv_\n",
    "                ppo_obj = -jnp.mean(jnp.minimum(ratio * adv_, clipped_obj))\n",
    "                im_loss = jnp.mean((jax.vmap(policy_)(obs_) - bc_labels_)**2)\n",
    "                return ppo_obj + bc_weight * im_loss\n",
    "\n",
    "            grads = jax.grad(loss_fn)(\n",
    "                policy, obs[b], acts[b], old_lp[b], adv_j[b], acts[b])\n",
    "            updates, policy_state = policy_opt.update(grads, policy_state)\n",
    "            policy = eqx.apply_updates(policy, updates)\n",
    "            # Critic update\n",
    "            def vf_loss(critic_, obs_, ret_):\n",
    "                return jnp.mean((jax.vmap(critic_)(obs_) - ret_)**2)\n",
    "            vf_grads = jax.grad(vf_loss)(critic, obs[b], ret_j[b])\n",
    "            vf_updates, critic_state = critic_opt.update(vf_grads, critic_state)\n",
    "            critic = eqx.apply_updates(critic, vf_updates)\n",
    "\n",
    "    avg_reward = rewards.mean()\n",
    "    reward_history.append(avg_reward)\n",
    "    bc_coef_history.append(bc_weight)\n",
    "    total_steps += rollout_steps\n",
    "    print(f\"[PPO] iter {it}/{num_iters}  avg_rew={avg_reward:.2f}  bc_coef={bc_weight:.3f}\")\n",
    "\n",
    "# Save policy/critic if desired\n",
    "with open(os.path.join(OUTPUT_DIR, \"trained_policy_with_critic.pkl\"), \"wb\") as f:\n",
    "    pickle.dump((policy, critic), f)"
   ]
  },
  {
   "cell_type": "markdown",
   "metadata": {},
   "source": [
    "## 5. PPO Training Diagnostics and Analysis\n",
    "\n",
    "Below, we plot the average reward per PPO iteration and the BC coefficient annealing curve."
   ]
  },
  {
   "cell_type": "code",
   "execution_count": null,
   "metadata": {},
   "outputs": [],
   "source": [
    "# Save reward and BC coefficient histories for later analysis/plots\n",
    "log = {\n",
    "    \"rewards\": reward_history,\n",
    "    \"bc_coef\": bc_coef_history,\n",
    "}\n",
    "log_path = os.path.join(OUTPUT_DIR, \"ppo_training_log.pkl\")\n",
    "save_pickle(log, log_path)\n",
    "print(f\"[log] Training history saved to {log_path}\")"
   ]
  },
  {
   "cell_type": "code",
   "execution_count": null,
   "metadata": {},
   "outputs": [],
   "source": [
    "from passive_walker.ppo.bc_init.utils import analyze_training_log, plot_bc_coefficient\n",
    "\n",
    "# Plot reward learning curve\n",
    "analyze_training_log(\n",
    "    log_path=os.path.join(OUTPUT_DIR, \"ppo_training_log.pkl\"),\n",
    "    save_path=os.path.join(OUTPUT_DIR, \"ppo_training_curve.png\"),\n",
    "    title=\"Average Reward per PPO Iteration\"\n",
    ")\n",
    "\n",
    "# Plot BC coefficient annealing\n",
    "log = load_pickle(os.path.join(OUTPUT_DIR, \"ppo_training_log.pkl\"))\n",
    "plot_bc_coefficient(log[\"bc_coef\"], output_dir=OUTPUT_DIR)"
   ]
  },
  {
   "cell_type": "code",
   "execution_count": 6,
   "metadata": {},
   "outputs": [],
   "source": [
    "from passive_walker.ppo.bc_init.utils import plot_joint_and_reward\n",
    "\n",
    "# Create environment for evaluation (GUI if you want to see it, otherwise use_gui=False)\n",
    "env, get_scaled_action, get_env_action, _ = initialize_policy(\n",
    "    model_path=os.path.join(OUTPUT_DIR, \"trained_policy_with_critic.pkl\"),\n",
    "    xml_path=str(XML_PATH),\n",
    "    simend=30.0,\n",
    "    sigma=0.1,\n",
    "    use_gui=False,\n",
    ")\n",
    "\n",
    "obs = env.reset()\n",
    "traj_obs = []\n",
    "rewards = []\n",
    "done = False\n",
    "while not done:\n",
    "    obs_jnp = jnp.array(obs, dtype=jnp.float32)\n",
    "    act = get_env_action(obs_jnp)\n",
    "    obs, r, done, _ = env.step(act)\n",
    "    traj_obs.append(obs)\n",
    "    rewards.append(r)\n",
    "    # env.render()  # Optionally show GUI\n",
    "\n",
    "traj_obs = np.array(traj_obs)\n",
    "rewards = np.array(rewards)\n",
    "\n",
    "# Save for later\n",
    "np.save(os.path.join(OUTPUT_DIR, \"ppo_eval_joint_positions.npy\"), traj_obs)\n",
    "np.save(os.path.join(OUTPUT_DIR, \"ppo_eval_rewards.npy\"), rewards)"
   ]
  },
  {
   "cell_type": "code",
   "execution_count": null,
   "metadata": {},
   "outputs": [],
   "source": [
    "# Plot and save\n",
    "plot_joint_and_reward(traj_obs, rewards, save_prefix=os.path.join(OUTPUT_DIR, \"ppo_eval\"))\n",
    "\n",
    "# Export as CSV for your report\n",
    "np.savetxt(os.path.join(OUTPUT_DIR, \"ppo_eval_joint_positions.csv\"), traj_obs, delimiter=\",\")\n",
    "np.savetxt(os.path.join(OUTPUT_DIR, \"ppo_eval_rewards.csv\"), rewards, delimiter=\",\")"
   ]
  },
  {
   "cell_type": "markdown",
   "metadata": {},
   "source": [
    "## 6. GUI Rollout Demo\n",
    "\n",
    "Play the trained PPO policy in Mujoco for a visual check!"
   ]
  },
  {
   "cell_type": "code",
   "execution_count": 8,
   "metadata": {},
   "outputs": [],
   "source": [
    "env_gui, get_scaled_action, get_env_action, policy = initialize_policy(\n",
    "    model_path=os.path.join(OUTPUT_DIR, \"trained_policy_with_critic.pkl\"),\n",
    "    xml_path=str(XML_PATH),\n",
    "    simend=30.0,\n",
    "    sigma=sigma,\n",
    "    use_gui=True,\n",
    ")\n",
    "\n",
    "obs = env_gui.reset()\n",
    "done = False\n",
    "while not done:\n",
    "    act = get_env_action(jnp.array(obs))\n",
    "    obs, reward, done, info = env_gui.step(act)\n",
    "    env_gui.render()\n",
    "    if done:\n",
    "        break\n",
    "env_gui.close()"
   ]
  },
  {
   "cell_type": "markdown",
   "metadata": {},
   "source": [
    "## Scratch PPO (no pre-training)\n",
    "\n",
    "In this section we train a fresh policy and value function **from scratch** using Proximal Policy Optimization (PPO).  \n",
    "We will:\n",
    "\n",
    "1. Collect on-policy rollouts  \n",
    "2. Compute GAE advantages  \n",
    "3. Perform PPO updates (policy & critic)  \n",
    "4. Plot the training curve  \n",
    "5. Do a final GUI rollout  \n",
    "\n",
    "---\n",
    "\n",
    "### 1. Setup & Imports\n",
    "\n",
    "Bring in our scratch‐PPO utilities and JAX/EQX machinery."
   ]
  },
  {
   "cell_type": "code",
   "execution_count": 1,
   "metadata": {},
   "outputs": [
    {
     "name": "stdout",
     "output_type": "stream",
     "text": [
      "JAX backend: cpu\n"
     ]
    }
   ],
   "source": [
    "import os\n",
    "import numpy as np\n",
    "import jax, jax.numpy as jnp\n",
    "import matplotlib.pyplot as plt\n",
    "import equinox as eqx\n",
    "import optax\n",
    "\n",
    "# our scratch PPO package\n",
    "from passive_walker.ppo.scratch import set_device, XML_PATH, DATA_DIR\n",
    "from passive_walker.ppo.scratch.utils import (\n",
    "    initialize_policy,\n",
    "    collect_trajectories,\n",
    "    compute_advantages,\n",
    "    policy_log_prob,\n",
    "    save_pickle,\n",
    "    plot_training_rewards,\n",
    ")\n",
    "# Critic network defined in the scratch train script\n",
    "from passive_walker.ppo.scratch.train import Critic\n",
    "\n",
    "# choose CPU or GPU\n",
    "set_device(use_gpu=True)  # or False\n",
    "print(\"JAX backend:\", jax.default_backend())"
   ]
  },
  {
   "cell_type": "markdown",
   "metadata": {},
   "source": [
    "### 2. Hyperparameters & Initialization\n",
    "\n",
    "Define PPO hyperparameters, create the env, policy, critic, and optimizers."
   ]
  },
  {
   "cell_type": "code",
   "execution_count": 5,
   "metadata": {},
   "outputs": [
    {
     "name": "stdout",
     "output_type": "stream",
     "text": [
      "Initialized scratch PPO policy & critic.\n"
     ]
    }
   ],
   "source": [
    "\n",
    "# PPO hyperparameters\n",
    "NUM_ITERS      = 10       # PPO iterations\n",
    "ROLLOUT_STEPS  = 2048      # steps per iteration\n",
    "PPO_EPOCHS     = 10        # epochs per update\n",
    "MINI_BATCH     = 256       # minibatch size\n",
    "GAMMA          = 0.99      # discount\n",
    "LAMBDA         = 0.95      # GAE λ\n",
    "CLIP_EPS       = 0.2       # PPO clipping\n",
    "SIGMA          = 0.1       # policy std in scaled space\n",
    "LR_POLICY      = 3e-4      # policy lr\n",
    "LR_CRITIC      = 1e-3      # critic lr\n",
    "\n",
    "# initialize policy & critic from scratch\n",
    "# note: initialize_policy returns (env, get_scaled, get_env, policy_model)\n",
    "env, get_scaled_action, get_env_action, policy = initialize_policy(\n",
    "    obs_dim=None,        # scratch-utils auto infers via xml_path\n",
    "    act_dim=None,\n",
    "    xml_path=str(XML_PATH),\n",
    "    simend=ROLLOUT_STEPS/60.0,\n",
    "    sigma=SIGMA,\n",
    "    use_gui=False,\n",
    ")\n",
    "# build a fresh Critic\n",
    "key    = jax.random.PRNGKey(0)\n",
    "critic = Critic(env.observation_space.shape[0], hidden=64, key=key)\n",
    "\n",
    "# optimizers and states\n",
    "policy_opt  = optax.adam(LR_POLICY)\n",
    "critic_opt  = optax.adam(LR_CRITIC)\n",
    "policy_state = policy_opt.init(eqx.filter(policy, eqx.is_array))\n",
    "critic_state = critic_opt.init(eqx.filter(critic, eqx.is_array))\n",
    "\n",
    "print(\"Initialized scratch PPO policy & critic.\")"
   ]
  },
  {
   "cell_type": "markdown",
   "metadata": {},
   "source": [
    "### 3. Training Loop\n",
    "\n",
    "For each iteration:\n",
    "- collect rollouts  \n",
    "- compute GAE  \n",
    "- do PPO & critic mini-batch updates  \n",
    "- record average reward"
   ]
  },
  {
   "cell_type": "code",
   "execution_count": 6,
   "metadata": {},
   "outputs": [
    {
     "name": "stdout",
     "output_type": "stream",
     "text": [
      "[PPO scratch] iter 001/10  avg reward = 0.484\n",
      "[PPO scratch] iter 002/10  avg reward = 0.481\n",
      "[PPO scratch] iter 003/10  avg reward = 0.496\n",
      "[PPO scratch] iter 004/10  avg reward = 0.484\n",
      "[PPO scratch] iter 005/10  avg reward = 0.493\n",
      "[PPO scratch] iter 006/10  avg reward = 0.490\n",
      "[PPO scratch] iter 007/10  avg reward = 0.507\n",
      "[PPO scratch] iter 008/10  avg reward = 0.500\n",
      "[PPO scratch] iter 009/10  avg reward = 0.504\n",
      "[PPO scratch] iter 010/10  avg reward = 0.504\n"
     ]
    }
   ],
   "source": [
    "reward_history = []\n",
    "\n",
    "for it in range(1, NUM_ITERS + 1):\n",
    "    # 1) collect on-policy rollouts\n",
    "    traj = collect_trajectories(\n",
    "        env=env,\n",
    "        env_action_fn=get_env_action,\n",
    "        scaled_action_fn=get_scaled_action,\n",
    "        num_steps=ROLLOUT_STEPS,\n",
    "        render=False,\n",
    "    )\n",
    "    obs    = jnp.array(traj[\"obs\"], dtype=jnp.float32)\n",
    "    acts   = jnp.array(traj[\"scaled_actions\"], dtype=jnp.float32)\n",
    "    rews   = np.array(traj[\"rewards\"], dtype=np.float32)\n",
    "    dones  = np.array(traj[\"dones\"],   dtype=np.float32)\n",
    "\n",
    "    # 2) compute GAE advantages & returns\n",
    "    vals       = np.array(jax.vmap(critic)(obs))\n",
    "    advantages, returns = compute_advantages(rews, dones, vals, gamma=GAMMA, lam=LAMBDA)\n",
    "    adv_j      = jnp.array(advantages, dtype=jnp.float32)\n",
    "    ret_j      = jnp.array(returns,    dtype=jnp.float32)\n",
    "\n",
    "    # 3) old log-probs\n",
    "    old_lp_j   = policy_log_prob(policy, obs, acts, SIGMA)\n",
    "\n",
    "    # 4) PPO + Critic updates\n",
    "    idxs = np.arange(obs.shape[0])\n",
    "    for _ in range(PPO_EPOCHS):\n",
    "        np.random.shuffle(idxs)\n",
    "        for start in range(0, len(idxs), MINI_BATCH):\n",
    "            b = idxs[start:start+MINI_BATCH]\n",
    "\n",
    "            # — policy update (unchanged) —\n",
    "            def ppo_loss_fn(pi, o, a, old_lp, adv):\n",
    "                new_lp = policy_log_prob(pi, o, a, SIGMA)\n",
    "                ratio  = jnp.exp(new_lp - old_lp)\n",
    "                obj    = jnp.minimum(ratio * adv,\n",
    "                                     jnp.clip(ratio, 1-CLIP_EPS, 1+CLIP_EPS) * adv)\n",
    "                return -jnp.mean(obj)\n",
    "\n",
    "            p_grads = jax.grad(ppo_loss_fn)(policy, obs[b], acts[b], old_lp_j[b], adv_j[b])\n",
    "            # filter out only the arrays:\n",
    "            p_upd, policy_state = policy_opt.update(\n",
    "                eqx.filter(p_grads, eqx.is_array),\n",
    "                policy_state\n",
    "            )\n",
    "            policy = eqx.apply_updates(policy, p_upd)\n",
    "\n",
    "            # — critic update (fixed) —\n",
    "            def vf_loss_fn(cr, o, ret):\n",
    "                pred = jax.vmap(cr)(o)\n",
    "                return jnp.mean((pred - ret)**2)\n",
    "\n",
    "            # get the grads (no value grab):\n",
    "            c_grads = jax.grad(vf_loss_fn)(critic, obs[b], ret_j[b])\n",
    "            # filter to arrays and update\n",
    "            c_upd, critic_state = critic_opt.update(\n",
    "                eqx.filter(c_grads, eqx.is_array),\n",
    "                critic_state\n",
    "            )\n",
    "            critic = eqx.apply_updates(critic, c_upd)\n",
    "\n",
    "    # 5) log average reward\n",
    "    avg_rew = rews.mean()\n",
    "    reward_history.append(avg_rew)\n",
    "    print(f\"[PPO scratch] iter {it:03d}/{NUM_ITERS}  avg reward = {avg_rew:.3f}\")"
   ]
  },
  {
   "cell_type": "markdown",
   "metadata": {},
   "source": [
    "### 4. Plot Training Curve\n",
    "\n",
    "Visualize how average reward evolves over the PPO iterations."
   ]
  },
  {
   "cell_type": "code",
   "execution_count": 7,
   "metadata": {},
   "outputs": [
    {
     "name": "stdout",
     "output_type": "stream",
     "text": [
      "[plot] Saved training curve → /home/yunusdanabas/ENS492/passive_walker_rl/data/ppo/scratch/scratch_ppo_training_curve.png\n"
     ]
    },
    {
     "data": {
      "image/png": "[encoded data removed]",
      "text/plain": [
       "<Figure size 800x400 with 1 Axes>"
      ]
     },
     "metadata": {},
     "output_type": "display_data"
    },
    {
     "name": "stdout",
     "output_type": "stream",
     "text": [
      "Number of training iterations: 10\n",
      "Final average reward: 0.50\n",
      "Improvement: 0.02 (4.1%)\n"
     ]
    }
   ],
   "source": [
    "plot_training_rewards(reward_history,\n",
    "                      save_path=DATA_DIR/\"scratch_ppo_training_curve.png\",\n",
    "                      title=\"Scratch PPO: Avg Reward per Iteration\")"
   ]
  },
  {
   "cell_type": "markdown",
   "metadata": {},
   "source": [
    "### 5. Final GUI Rollout\n",
    "\n",
    "Run the trained scratch-PPO policy in the Mujoco GUI for a quick sanity‐check."
   ]
  },
  {
   "cell_type": "code",
   "execution_count": 8,
   "metadata": {},
   "outputs": [
    {
     "name": "stdout",
     "output_type": "stream",
     "text": [
      "Playing final rollout…\n",
      "Final rollout total reward: 31.871594720268696\n"
     ]
    }
   ],
   "source": [
    "from mujoco.glfw import glfw\n",
    "\n",
    "env_gui, _, _, _ = initialize_policy(\n",
    "    obs_dim=None,\n",
    "    act_dim=None,\n",
    "    xml_path=str(XML_PATH),\n",
    "    simend=30.0,\n",
    "    sigma=SIGMA,\n",
    "    use_gui=True,\n",
    ")\n",
    "obs0, done = env_gui.reset(), False\n",
    "total_reward = 0.0\n",
    "\n",
    "print(\"Playing final rollout…\")\n",
    "while not done and not glfw.window_should_close(env_gui.window):\n",
    "    a = np.array(policy(jnp.array(obs0)), dtype=np.float32)\n",
    "    obs0, r, done, _ = env_gui.step(a)\n",
    "    total_reward += r\n",
    "    env_gui.render()\n",
    "\n",
    "env_gui.close()\n",
    "print(\"Final rollout total reward:\", total_reward)"
   ]
  }
 ],
 "metadata": {
  "kernelspec": {
   "display_name": "ME58006",
   "language": "python",
   "name": "python3"
  },
  "language_info": {
   "codemirror_mode": {
    "name": "ipython",
    "version": 3
   },
   "file_extension": ".py",
   "mimetype": "text/x-python",
   "name": "python",
   "nbconvert_exporter": "python",
   "pygments_lexer": "ipython3",
   "version": "3.10.15"
  }
 },
 "nbformat": 4,
 "nbformat_minor": 2
}
