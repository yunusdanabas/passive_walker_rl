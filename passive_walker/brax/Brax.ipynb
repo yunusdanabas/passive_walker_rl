{
 "cells": [
  {
   "cell_type": "code",
   "execution_count": 1,
   "id": "7ca3cec0",
   "metadata": {},
   "outputs": [
    {
     "name": "stderr",
     "output_type": "stream",
     "text": [
      "/tmp/ipykernel_1509/4202943089.py:4: DeprecationWarning: jax.lib.xla_bridge.get_backend is deprecated; use jax.extend.backend.get_backend.\n",
      "  print(\"Default backend:\", xla_bridge.get_backend().platform)\n"
     ]
    },
    {
     "name": "stdout",
     "output_type": "stream",
     "text": [
      "Default backend: gpu\n",
      "All devices: [CudaDevice(id=0)]\n"
     ]
    }
   ],
   "source": [
    "import jax\n",
    "from jax.lib import xla_bridge\n",
    "\n",
    "print(\"Default backend:\", xla_bridge.get_backend().platform)\n",
    "print(\"All devices:\", jax.devices())"
   ]
  },
  {
   "cell_type": "markdown",
   "id": "7b836fed",
   "metadata": {},
   "source": [
    "# Model ⇨ System Conversion"
   ]
  },
  {
   "cell_type": "markdown",
   "id": "37609ee4",
   "metadata": {},
   "source": [
    "### Imports & File Path"
   ]
  },
  {
   "cell_type": "code",
   "execution_count": 2,
   "id": "e2a1c722",
   "metadata": {},
   "outputs": [],
   "source": [
    "import pathlib\n",
    "import mujoco          # MuJoCo >= 3.1\n",
    "import brax\n",
    "from brax.io import mjcf\n",
    "import jax.numpy as jnp\n",
    "from IPython.display import Markdown, display\n",
    "\n",
    "\n",
    "# Path to your XML file (relative or absolute)\n",
    "from passive_walker.constants import XML_PATH\n",
    "from passive_walker.brax import DATA_BRAX\n",
    "assert XML_PATH.exists(), f'XML file not found: {XML_PATH.resolve()}'"
   ]
  },
  {
   "cell_type": "markdown",
   "id": "308a8018",
   "metadata": {},
   "source": [
    "### Load XML with MuJoCo & Convert to Brax System"
   ]
  },
  {
   "cell_type": "code",
   "execution_count": 3,
   "id": "4141822b",
   "metadata": {},
   "outputs": [
    {
     "name": "stdout",
     "output_type": "stream",
     "text": [
      "MuJoCo XML successfully loaded and converted to Brax System\n"
     ]
    }
   ],
   "source": [
    "# Load into a raw MuJoCo model\n",
    "mj_model = mujoco.MjModel.from_xml_path(str(XML_PATH))\n",
    "\n",
    "# Convert MuJoCo model → Brax System (JAX‑native datastructure)\n",
    "walker_sys = mjcf.load_model(mj_model)\n",
    "\n",
    "print('MuJoCo XML successfully loaded and converted to Brax System')"
   ]
  },
  {
   "cell_type": "markdown",
   "id": "714dc05f",
   "metadata": {},
   "source": [
    "There were some problem with my XML file and following code ensures len(sys.link_types) == len(sys.link_names) "
   ]
  },
  {
   "cell_type": "code",
   "execution_count": 4,
   "id": "7f9dcfaf",
   "metadata": {},
   "outputs": [
    {
     "name": "stdout",
     "output_type": "stream",
     "text": [
      "  No patch needed: 'link_types' and 'link_names' match\n",
      "  No patch needed: '31111'\n",
      "  No patch needed: '['torso', 'left_leg', 'left_foot', 'right_leg', 'right_foot']'\n"
     ]
    }
   ],
   "source": [
    "def fix_link_types(sys: brax.System) -> brax.System:\n",
    "\n",
    "    if len(sys.link_types) == len(sys.link_names):\n",
    "        print(\"  No patch needed: 'link_types' and 'link_names' match\")\n",
    "        print(f\"  No patch needed: '{sys.link_types}'\")\n",
    "        print(f\"  No patch needed: '{sys.link_names}'\")\n",
    "        return sys                      # nothing to do\n",
    "\n",
    "    if len(sys.link_types) == len(sys.link_names) - 1:\n",
    "        print(f\"  Patching link names: '{sys.link_names}'\")\n",
    "        print(f\"  Patching link_types: '{sys.link_types}'\")\n",
    "\n",
    "        fixed = sys.replace(link_types=sys.link_types[0] + sys.link_types)\n",
    "        print(f\"  Patched link names: '{fixed.link_names}'\")\n",
    "        print(f\"  Patched link_types: '{sys.link_types}' ➜ '{fixed.link_types}'\")\n",
    "        return fixed\n",
    "\n",
    "    raise ValueError(\n",
    "        f\"Unexpected link_types mismatch: {len(sys.link_types)} vs {len(sys.link_names)}\"\n",
    "    )\n",
    "\n",
    "walker_sys = fix_link_types(walker_sys)"
   ]
  },
  {
   "cell_type": "markdown",
   "id": "b65df7ab",
   "metadata": {},
   "source": [
    "### System Summary"
   ]
  },
  {
   "cell_type": "code",
   "execution_count": 5,
   "id": "b4b0801a",
   "metadata": {},
   "outputs": [],
   "source": [
    "import pandas as pd\n",
    "import numpy as np\n",
    "import jax.numpy as jnp\n",
    "from IPython.display import display, Markdown\n",
    "\n",
    "def summarize_brax_system(sys, *, style='html'):\n",
    "    \"\"\"\n",
    "    Pretty‑prints a Brax System and returns DataFrames for joints, actuators\n",
    "    and bodies.  Pass style='df' to skip notebook display and just get the\n",
    "    dataframes.\n",
    "\n",
    "    Returns\n",
    "    -------\n",
    "    (joints_df, actuators_df, bodies_df)\n",
    "    \"\"\"\n",
    "    \n",
    "    # helpers \n",
    "    joint_type_map = {0:'free', 1:'ball', 2:'slide', 3:'hinge', 4:'weld'}\n",
    "    names_blob = sys.names\n",
    "    _get_name = lambda off: names_blob[off:].split(b'\\x00',1)[0].decode()\n",
    "    body_names = ['world'] + list(sys.link_names)\n",
    "\n",
    "    # tilt of gravity vector wrt −Z (deg)\n",
    "    tilt = float(jnp.degrees(jnp.arctan2(-sys.gravity[0], sys.gravity[2])))\n",
    "\n",
    "    # joints table \n",
    "    joints_df = pd.DataFrame({\n",
    "        'idx'     : np.arange(sys.njnt),\n",
    "        'type'    : [joint_type_map.get(int(t), '?') for t in sys.jnt_type],\n",
    "        'name'    : [_get_name(int(o)) for o in sys.name_jntadr],\n",
    "        'body'    : [body_names[int(b)] for b in sys.jnt_bodyid],\n",
    "        'axis'    : [tuple(a.tolist()) for a in sys.jnt_axis],\n",
    "        'limited' : sys.jnt_limited.astype(bool),\n",
    "        'lo'      : sys.jnt_range[:,0],\n",
    "        'hi'      : sys.jnt_range[:,1],\n",
    "    })\n",
    "\n",
    "    # actuators table\n",
    "    # map each actuator's q_id to a joint index\n",
    "    q_to_joint = {int(qp):idx for idx, qp in enumerate(sys.jnt_qposadr)}\n",
    "    rows = []\n",
    "    for i,(lo,hi) in enumerate(sys.actuator.ctrl_range):\n",
    "        qid   = int(sys.actuator.q_id[i])\n",
    "        jidx  = q_to_joint[qid]\n",
    "        rows.append(dict(\n",
    "            idx       = i,\n",
    "            name      = _get_name(int(sys.name_actuatoradr[i]))\n",
    "                        if hasattr(sys,'name_actuatoradr') else f'act_{i}',\n",
    "            joint     = joints_df.loc[jidx,'name'],\n",
    "            body      = joints_df.loc[jidx,'body'],\n",
    "            ctrl_lo   = lo,\n",
    "            ctrl_hi   = hi,\n",
    "            unit      = 'rad' if i==0 else 'm',\n",
    "        ))\n",
    "    actuators_df = pd.DataFrame(rows)\n",
    "    \n",
    "    # bodies table \n",
    "    bodies_df = pd.DataFrame({\n",
    "        'idx'   : np.arange(len(sys.link_names)),\n",
    "        'name'  : sys.link_names,\n",
    "        'parent': ['world' if p == -1 else sys.link_names[p]\n",
    "                for p in sys.link_parents],                               \n",
    "        'mass'  : sys.link.inertia.mass,\n",
    "        'inertia': [tuple(np.diag(I)) for I in sys.link.inertia.i],\n",
    "    })\n",
    "\n",
    "\n",
    "    # display in notebooks \n",
    "    if style=='html':\n",
    "        display(Markdown('## ⟪ Brax System Summary ⟫'))\n",
    "        print('‾'*45)\n",
    "        print(f' bodies           : {sys.link_names}')\n",
    "        print(f' nq | nv | nu     : {sys.nq} | {sys.nv} | {sys.nu}')\n",
    "        print(f' gravity tilt     : {tilt:+.1f} deg')\n",
    "\n",
    "        display(Markdown('### Bodies'));     display(bodies_df.style.hide(axis=\"index\"))\n",
    "        display(Markdown('### Joints'));     display(joints_df.style.hide(axis=\"index\"))\n",
    "        display(Markdown('### Actuators'));  display(actuators_df.style.hide(axis=\"index\"))\n",
    "\n",
    "    return joints_df, actuators_df, bodies_df\n"
   ]
  },
  {
   "cell_type": "code",
   "execution_count": 6,
   "id": "f24a2e62",
   "metadata": {},
   "outputs": [
    {
     "data": {
      "text/markdown": [
       "## ⟪ Brax System Summary ⟫"
      ],
      "text/plain": [
       "<IPython.core.display.Markdown object>"
      ]
     },
     "metadata": {},
     "output_type": "display_data"
    },
    {
     "name": "stdout",
     "output_type": "stream",
     "text": [
      "‾‾‾‾‾‾‾‾‾‾‾‾‾‾‾‾‾‾‾‾‾‾‾‾‾‾‾‾‾‾‾‾‾‾‾‾‾‾‾‾‾‾‾‾‾\n",
      " bodies           : ['torso', 'left_leg', 'left_foot', 'right_leg', 'right_foot']\n",
      " nq | nv | nu     : 7 | 7 | 3\n",
      " gravity tilt     : -180.0 deg\n"
     ]
    },
    {
     "data": {
      "text/markdown": [
       "### Bodies"
      ],
      "text/plain": [
       "<IPython.core.display.Markdown object>"
      ]
     },
     "metadata": {},
     "output_type": "display_data"
    },
    {
     "data": {
      "text/html": [
       "<style type=\"text/css\">\n",
       "</style>\n",
       "<table id=\"T_99a46\">\n",
       "  <thead>\n",
       "    <tr>\n",
       "      <th id=\"T_99a46_level0_col0\" class=\"col_heading level0 col0\" >idx</th>\n",
       "      <th id=\"T_99a46_level0_col1\" class=\"col_heading level0 col1\" >name</th>\n",
       "      <th id=\"T_99a46_level0_col2\" class=\"col_heading level0 col2\" >parent</th>\n",
       "      <th id=\"T_99a46_level0_col3\" class=\"col_heading level0 col3\" >mass</th>\n",
       "      <th id=\"T_99a46_level0_col4\" class=\"col_heading level0 col4\" >inertia</th>\n",
       "    </tr>\n",
       "  </thead>\n",
       "  <tbody>\n",
       "    <tr>\n",
       "      <td id=\"T_99a46_row0_col0\" class=\"data row0 col0\" >0</td>\n",
       "      <td id=\"T_99a46_row0_col1\" class=\"data row0 col1\" >torso</td>\n",
       "      <td id=\"T_99a46_row0_col2\" class=\"data row0 col2\" >world</td>\n",
       "      <td id=\"T_99a46_row0_col3\" class=\"data row0 col3\" >5.000000</td>\n",
       "      <td id=\"T_99a46_row0_col4\" class=\"data row0 col4\" >(0.02, 0.02, 0.02)</td>\n",
       "    </tr>\n",
       "    <tr>\n",
       "      <td id=\"T_99a46_row1_col0\" class=\"data row1 col0\" >1</td>\n",
       "      <td id=\"T_99a46_row1_col1\" class=\"data row1 col1\" >left_leg</td>\n",
       "      <td id=\"T_99a46_row1_col2\" class=\"data row1 col2\" >torso</td>\n",
       "      <td id=\"T_99a46_row1_col3\" class=\"data row1 col3\" >1.000000</td>\n",
       "      <td id=\"T_99a46_row1_col4\" class=\"data row1 col4\" >(0.09557031, 0.09557031, 0.001234375)</td>\n",
       "    </tr>\n",
       "    <tr>\n",
       "      <td id=\"T_99a46_row2_col0\" class=\"data row2 col0\" >2</td>\n",
       "      <td id=\"T_99a46_row2_col1\" class=\"data row2 col1\" >left_foot</td>\n",
       "      <td id=\"T_99a46_row2_col2\" class=\"data row2 col2\" >left_leg</td>\n",
       "      <td id=\"T_99a46_row2_col3\" class=\"data row2 col3\" >0.100000</td>\n",
       "      <td id=\"T_99a46_row2_col4\" class=\"data row2 col4\" >(1e-04, 1e-04, 1e-04)</td>\n",
       "    </tr>\n",
       "    <tr>\n",
       "      <td id=\"T_99a46_row3_col0\" class=\"data row3 col0\" >3</td>\n",
       "      <td id=\"T_99a46_row3_col1\" class=\"data row3 col1\" >right_leg</td>\n",
       "      <td id=\"T_99a46_row3_col2\" class=\"data row3 col2\" >torso</td>\n",
       "      <td id=\"T_99a46_row3_col3\" class=\"data row3 col3\" >1.000000</td>\n",
       "      <td id=\"T_99a46_row3_col4\" class=\"data row3 col4\" >(0.09557031, 0.09557031, 0.001234375)</td>\n",
       "    </tr>\n",
       "    <tr>\n",
       "      <td id=\"T_99a46_row4_col0\" class=\"data row4 col0\" >4</td>\n",
       "      <td id=\"T_99a46_row4_col1\" class=\"data row4 col1\" >right_foot</td>\n",
       "      <td id=\"T_99a46_row4_col2\" class=\"data row4 col2\" >right_leg</td>\n",
       "      <td id=\"T_99a46_row4_col3\" class=\"data row4 col3\" >0.100000</td>\n",
       "      <td id=\"T_99a46_row4_col4\" class=\"data row4 col4\" >(1e-04, 1e-04, 1e-04)</td>\n",
       "    </tr>\n",
       "  </tbody>\n",
       "</table>\n"
      ],
      "text/plain": [
       "<pandas.io.formats.style.Styler at 0x7f1b076779a0>"
      ]
     },
     "metadata": {},
     "output_type": "display_data"
    },
    {
     "data": {
      "text/markdown": [
       "### Joints"
      ],
      "text/plain": [
       "<IPython.core.display.Markdown object>"
      ]
     },
     "metadata": {},
     "output_type": "display_data"
    },
    {
     "data": {
      "text/html": [
       "<style type=\"text/css\">\n",
       "</style>\n",
       "<table id=\"T_19901\">\n",
       "  <thead>\n",
       "    <tr>\n",
       "      <th id=\"T_19901_level0_col0\" class=\"col_heading level0 col0\" >idx</th>\n",
       "      <th id=\"T_19901_level0_col1\" class=\"col_heading level0 col1\" >type</th>\n",
       "      <th id=\"T_19901_level0_col2\" class=\"col_heading level0 col2\" >name</th>\n",
       "      <th id=\"T_19901_level0_col3\" class=\"col_heading level0 col3\" >body</th>\n",
       "      <th id=\"T_19901_level0_col4\" class=\"col_heading level0 col4\" >axis</th>\n",
       "      <th id=\"T_19901_level0_col5\" class=\"col_heading level0 col5\" >limited</th>\n",
       "      <th id=\"T_19901_level0_col6\" class=\"col_heading level0 col6\" >lo</th>\n",
       "      <th id=\"T_19901_level0_col7\" class=\"col_heading level0 col7\" >hi</th>\n",
       "    </tr>\n",
       "  </thead>\n",
       "  <tbody>\n",
       "    <tr>\n",
       "      <td id=\"T_19901_row0_col0\" class=\"data row0 col0\" >0</td>\n",
       "      <td id=\"T_19901_row0_col1\" class=\"data row0 col1\" >slide</td>\n",
       "      <td id=\"T_19901_row0_col2\" class=\"data row0 col2\" >slide_x</td>\n",
       "      <td id=\"T_19901_row0_col3\" class=\"data row0 col3\" >torso</td>\n",
       "      <td id=\"T_19901_row0_col4\" class=\"data row0 col4\" >(1.0, 0.0, 0.0)</td>\n",
       "      <td id=\"T_19901_row0_col5\" class=\"data row0 col5\" >False</td>\n",
       "      <td id=\"T_19901_row0_col6\" class=\"data row0 col6\" >-inf</td>\n",
       "      <td id=\"T_19901_row0_col7\" class=\"data row0 col7\" >inf</td>\n",
       "    </tr>\n",
       "    <tr>\n",
       "      <td id=\"T_19901_row1_col0\" class=\"data row1 col0\" >1</td>\n",
       "      <td id=\"T_19901_row1_col1\" class=\"data row1 col1\" >slide</td>\n",
       "      <td id=\"T_19901_row1_col2\" class=\"data row1 col2\" >slide_z</td>\n",
       "      <td id=\"T_19901_row1_col3\" class=\"data row1 col3\" >torso</td>\n",
       "      <td id=\"T_19901_row1_col4\" class=\"data row1 col4\" >(0.0, 0.0, 1.0)</td>\n",
       "      <td id=\"T_19901_row1_col5\" class=\"data row1 col5\" >False</td>\n",
       "      <td id=\"T_19901_row1_col6\" class=\"data row1 col6\" >-inf</td>\n",
       "      <td id=\"T_19901_row1_col7\" class=\"data row1 col7\" >inf</td>\n",
       "    </tr>\n",
       "    <tr>\n",
       "      <td id=\"T_19901_row2_col0\" class=\"data row2 col0\" >2</td>\n",
       "      <td id=\"T_19901_row2_col1\" class=\"data row2 col1\" >hinge</td>\n",
       "      <td id=\"T_19901_row2_col2\" class=\"data row2 col2\" >yaw</td>\n",
       "      <td id=\"T_19901_row2_col3\" class=\"data row2 col3\" >torso</td>\n",
       "      <td id=\"T_19901_row2_col4\" class=\"data row2 col4\" >(0.0, 1.0, 0.0)</td>\n",
       "      <td id=\"T_19901_row2_col5\" class=\"data row2 col5\" >False</td>\n",
       "      <td id=\"T_19901_row2_col6\" class=\"data row2 col6\" >-inf</td>\n",
       "      <td id=\"T_19901_row2_col7\" class=\"data row2 col7\" >inf</td>\n",
       "    </tr>\n",
       "    <tr>\n",
       "      <td id=\"T_19901_row3_col0\" class=\"data row3 col0\" >3</td>\n",
       "      <td id=\"T_19901_row3_col1\" class=\"data row3 col1\" >hinge</td>\n",
       "      <td id=\"T_19901_row3_col2\" class=\"data row3 col2\" >left_leg_lock</td>\n",
       "      <td id=\"T_19901_row3_col3\" class=\"data row3 col3\" >left_leg</td>\n",
       "      <td id=\"T_19901_row3_col4\" class=\"data row3 col4\" >(1.0, 0.0, 0.0)</td>\n",
       "      <td id=\"T_19901_row3_col5\" class=\"data row3 col5\" >True</td>\n",
       "      <td id=\"T_19901_row3_col6\" class=\"data row3 col6\" >0.000000</td>\n",
       "      <td id=\"T_19901_row3_col7\" class=\"data row3 col7\" >0.000175</td>\n",
       "    </tr>\n",
       "    <tr>\n",
       "      <td id=\"T_19901_row4_col0\" class=\"data row4 col0\" >4</td>\n",
       "      <td id=\"T_19901_row4_col1\" class=\"data row4 col1\" >slide</td>\n",
       "      <td id=\"T_19901_row4_col2\" class=\"data row4 col2\" >left_knee</td>\n",
       "      <td id=\"T_19901_row4_col3\" class=\"data row4 col3\" >left_foot</td>\n",
       "      <td id=\"T_19901_row4_col4\" class=\"data row4 col4\" >(0.0, 0.0, -1.0)</td>\n",
       "      <td id=\"T_19901_row4_col5\" class=\"data row4 col5\" >True</td>\n",
       "      <td id=\"T_19901_row4_col6\" class=\"data row4 col6\" >-0.300000</td>\n",
       "      <td id=\"T_19901_row4_col7\" class=\"data row4 col7\" >0.300000</td>\n",
       "    </tr>\n",
       "    <tr>\n",
       "      <td id=\"T_19901_row5_col0\" class=\"data row5 col0\" >5</td>\n",
       "      <td id=\"T_19901_row5_col1\" class=\"data row5 col1\" >hinge</td>\n",
       "      <td id=\"T_19901_row5_col2\" class=\"data row5 col2\" >hip</td>\n",
       "      <td id=\"T_19901_row5_col3\" class=\"data row5 col3\" >right_leg</td>\n",
       "      <td id=\"T_19901_row5_col4\" class=\"data row5 col4\" >(0.0, -1.0, 0.0)</td>\n",
       "      <td id=\"T_19901_row5_col5\" class=\"data row5 col5\" >False</td>\n",
       "      <td id=\"T_19901_row5_col6\" class=\"data row5 col6\" >-inf</td>\n",
       "      <td id=\"T_19901_row5_col7\" class=\"data row5 col7\" >inf</td>\n",
       "    </tr>\n",
       "    <tr>\n",
       "      <td id=\"T_19901_row6_col0\" class=\"data row6 col0\" >6</td>\n",
       "      <td id=\"T_19901_row6_col1\" class=\"data row6 col1\" >slide</td>\n",
       "      <td id=\"T_19901_row6_col2\" class=\"data row6 col2\" >right_knee</td>\n",
       "      <td id=\"T_19901_row6_col3\" class=\"data row6 col3\" >right_foot</td>\n",
       "      <td id=\"T_19901_row6_col4\" class=\"data row6 col4\" >(0.0, 0.0, -1.0)</td>\n",
       "      <td id=\"T_19901_row6_col5\" class=\"data row6 col5\" >True</td>\n",
       "      <td id=\"T_19901_row6_col6\" class=\"data row6 col6\" >-0.300000</td>\n",
       "      <td id=\"T_19901_row6_col7\" class=\"data row6 col7\" >0.300000</td>\n",
       "    </tr>\n",
       "  </tbody>\n",
       "</table>\n"
      ],
      "text/plain": [
       "<pandas.io.formats.style.Styler at 0x7f1b076779a0>"
      ]
     },
     "metadata": {},
     "output_type": "display_data"
    },
    {
     "data": {
      "text/markdown": [
       "### Actuators"
      ],
      "text/plain": [
       "<IPython.core.display.Markdown object>"
      ]
     },
     "metadata": {},
     "output_type": "display_data"
    },
    {
     "data": {
      "text/html": [
       "<style type=\"text/css\">\n",
       "</style>\n",
       "<table id=\"T_e72d6\">\n",
       "  <thead>\n",
       "    <tr>\n",
       "      <th id=\"T_e72d6_level0_col0\" class=\"col_heading level0 col0\" >idx</th>\n",
       "      <th id=\"T_e72d6_level0_col1\" class=\"col_heading level0 col1\" >name</th>\n",
       "      <th id=\"T_e72d6_level0_col2\" class=\"col_heading level0 col2\" >joint</th>\n",
       "      <th id=\"T_e72d6_level0_col3\" class=\"col_heading level0 col3\" >body</th>\n",
       "      <th id=\"T_e72d6_level0_col4\" class=\"col_heading level0 col4\" >ctrl_lo</th>\n",
       "      <th id=\"T_e72d6_level0_col5\" class=\"col_heading level0 col5\" >ctrl_hi</th>\n",
       "      <th id=\"T_e72d6_level0_col6\" class=\"col_heading level0 col6\" >unit</th>\n",
       "    </tr>\n",
       "  </thead>\n",
       "  <tbody>\n",
       "    <tr>\n",
       "      <td id=\"T_e72d6_row0_col0\" class=\"data row0 col0\" >0</td>\n",
       "      <td id=\"T_e72d6_row0_col1\" class=\"data row0 col1\" >hip_act</td>\n",
       "      <td id=\"T_e72d6_row0_col2\" class=\"data row0 col2\" >hip</td>\n",
       "      <td id=\"T_e72d6_row0_col3\" class=\"data row0 col3\" >right_leg</td>\n",
       "      <td id=\"T_e72d6_row0_col4\" class=\"data row0 col4\" >-0.5</td>\n",
       "      <td id=\"T_e72d6_row0_col5\" class=\"data row0 col5\" >0.5</td>\n",
       "      <td id=\"T_e72d6_row0_col6\" class=\"data row0 col6\" >rad</td>\n",
       "    </tr>\n",
       "    <tr>\n",
       "      <td id=\"T_e72d6_row1_col0\" class=\"data row1 col0\" >1</td>\n",
       "      <td id=\"T_e72d6_row1_col1\" class=\"data row1 col1\" >left_knee_act</td>\n",
       "      <td id=\"T_e72d6_row1_col2\" class=\"data row1 col2\" >left_knee</td>\n",
       "      <td id=\"T_e72d6_row1_col3\" class=\"data row1 col3\" >left_foot</td>\n",
       "      <td id=\"T_e72d6_row1_col4\" class=\"data row1 col4\" >-0.3</td>\n",
       "      <td id=\"T_e72d6_row1_col5\" class=\"data row1 col5\" >0.3</td>\n",
       "      <td id=\"T_e72d6_row1_col6\" class=\"data row1 col6\" >m</td>\n",
       "    </tr>\n",
       "    <tr>\n",
       "      <td id=\"T_e72d6_row2_col0\" class=\"data row2 col0\" >2</td>\n",
       "      <td id=\"T_e72d6_row2_col1\" class=\"data row2 col1\" >right_knee_act</td>\n",
       "      <td id=\"T_e72d6_row2_col2\" class=\"data row2 col2\" >right_knee</td>\n",
       "      <td id=\"T_e72d6_row2_col3\" class=\"data row2 col3\" >right_foot</td>\n",
       "      <td id=\"T_e72d6_row2_col4\" class=\"data row2 col4\" >-0.3</td>\n",
       "      <td id=\"T_e72d6_row2_col5\" class=\"data row2 col5\" >0.3</td>\n",
       "      <td id=\"T_e72d6_row2_col6\" class=\"data row2 col6\" >m</td>\n",
       "    </tr>\n",
       "  </tbody>\n",
       "</table>\n"
      ],
      "text/plain": [
       "<pandas.io.formats.style.Styler at 0x7f1b076779a0>"
      ]
     },
     "metadata": {},
     "output_type": "display_data"
    },
    {
     "data": {
      "text/plain": [
       "(   idx   type           name        body              axis  limited   lo  \\\n",
       " 0    0  slide        slide_x       torso   (1.0, 0.0, 0.0)    False -inf   \n",
       " 1    1  slide        slide_z       torso   (0.0, 0.0, 1.0)    False -inf   \n",
       " 2    2  hinge            yaw       torso   (0.0, 1.0, 0.0)    False -inf   \n",
       " 3    3  hinge  left_leg_lock    left_leg   (1.0, 0.0, 0.0)     True  0.0   \n",
       " 4    4  slide      left_knee   left_foot  (0.0, 0.0, -1.0)     True -0.3   \n",
       " 5    5  hinge            hip   right_leg  (0.0, -1.0, 0.0)    False -inf   \n",
       " 6    6  slide     right_knee  right_foot  (0.0, 0.0, -1.0)     True -0.3   \n",
       " \n",
       "          hi  \n",
       " 0       inf  \n",
       " 1       inf  \n",
       " 2       inf  \n",
       " 3  0.000175  \n",
       " 4  0.300000  \n",
       " 5       inf  \n",
       " 6  0.300000  ,\n",
       "    idx            name       joint        body ctrl_lo ctrl_hi unit\n",
       " 0    0         hip_act         hip   right_leg    -0.5     0.5  rad\n",
       " 1    1   left_knee_act   left_knee   left_foot    -0.3     0.3    m\n",
       " 2    2  right_knee_act  right_knee  right_foot    -0.3     0.3    m,\n",
       "    idx        name     parent  mass                                inertia\n",
       " 0    0       torso      world   5.0                     (0.02, 0.02, 0.02)\n",
       " 1    1    left_leg      torso   1.0  (0.09557031, 0.09557031, 0.001234375)\n",
       " 2    2   left_foot   left_leg   0.1                  (1e-04, 1e-04, 1e-04)\n",
       " 3    3   right_leg      torso   1.0  (0.09557031, 0.09557031, 0.001234375)\n",
       " 4    4  right_foot  right_leg   0.1                  (1e-04, 1e-04, 1e-04))"
      ]
     },
     "execution_count": 6,
     "metadata": {},
     "output_type": "execute_result"
    }
   ],
   "source": [
    "summarize_brax_system(walker_sys)"
   ]
  },
  {
   "cell_type": "code",
   "execution_count": 7,
   "id": "6d4f9f85",
   "metadata": {},
   "outputs": [
    {
     "name": "stdout",
     "output_type": "stream",
     "text": [
      "0 2 83 b'slide_x'\n",
      "1 2 91 b'slide_z'\n",
      "2 3 99 b'yaw'\n",
      "3 3 103 b'left_leg_lock'\n",
      "4 2 117 b'left_knee'\n",
      "5 3 127 b'hip'\n",
      "6 2 131 b'right_knee'\n"
     ]
    }
   ],
   "source": [
    "# show raw MuJoCo codes next to the names we print\n",
    "for idx, (code, name_off) in enumerate(zip(walker_sys.jnt_type, walker_sys.name_jntadr)):\n",
    "    print(idx, int(code), name_off, walker_sys.names[name_off:].split(b'\\0',1)[0])"
   ]
  },
  {
   "cell_type": "markdown",
   "id": "8276f479",
   "metadata": {},
   "source": [
    "> **Gravity check:** MuJoCo encodes an 11.5° downhill slope by tilting the\n",
    "> gravity vector to **( 1.95, 0, –9.61 )m/s²**.  No physical ramp geom is\n",
    "> present; the walker “falls” forward automatically.  If you prefer a flat\n",
    "> world, change the `<option gravity=\"0 0 -9.81\">` line in the XML and\n",
    "> re‑run Cell A‑2."
   ]
  },
  {
   "cell_type": "code",
   "execution_count": 8,
   "id": "3f990ac7",
   "metadata": {},
   "outputs": [
    {
     "name": "stdout",
     "output_type": "stream",
     "text": [
      " Basic numeric sanity checks passed.\n",
      "-------------------------------------------\n"
     ]
    }
   ],
   "source": [
    "# Ensure mass & inertia arrays are finite and positive\n",
    "assert np.all(np.isfinite(walker_sys.link.inertia.i)), 'non‑finite inertia detected'\n",
    "assert np.all(walker_sys.link.inertia.mass > 0), 'link with zero/neg mass detected'\n",
    "\n",
    "print(' Basic numeric sanity checks passed.')\n",
    "print('-------------------------------------------')"
   ]
  },
  {
   "cell_type": "code",
   "execution_count": 9,
   "id": "f448df54",
   "metadata": {},
   "outputs": [
    {
     "name": "stdout",
     "output_type": "stream",
     "text": [
      " System pickled to: /home/yunusdanabas/passive_walker_rl/data/brax/passiveWalker_brax_system.pkl.gz\n",
      "-------------------------------------------\n"
     ]
    }
   ],
   "source": [
    "import pickle, gzip\n",
    "\n",
    "OUT = DATA_BRAX / \"passiveWalker_brax_system.pkl.gz\"\n",
    "with gzip.open(OUT, 'wb') as f:\n",
    "    pickle.dump(walker_sys, f)\n",
    "print(f' System pickled to: {OUT.resolve()}')\n",
    "print('-------------------------------------------')"
   ]
  },
  {
   "cell_type": "markdown",
   "id": "3244c0e3",
   "metadata": {},
   "source": [
    "# BraxPassiveWalker Environment"
   ]
  },
  {
   "cell_type": "markdown",
   "id": "0d9075fe",
   "metadata": {},
   "source": [
    "### Imports and sys reload "
   ]
  },
  {
   "cell_type": "code",
   "execution_count": 10,
   "id": "c6faf35a",
   "metadata": {},
   "outputs": [],
   "source": [
    "import jax\n",
    "import jax.numpy as jnp\n",
    "\n",
    "from brax.envs.base    import PipelineEnv, State\n",
    "from brax.v1.physics.base import QP\n",
    "from IPython.display   import HTML, display"
   ]
  },
  {
   "cell_type": "markdown",
   "id": "a4cf9ae5",
   "metadata": {},
   "source": [
    "### Environment Class Definition"
   ]
  },
  {
   "cell_type": "code",
   "execution_count": 11,
   "id": "86f4ed60",
   "metadata": {},
   "outputs": [],
   "source": [
    "class BraxPassiveWalker(PipelineEnv):\n",
    "    \"\"\"\n",
    "    Simple PD‑controlled biped walker (hip + two knees) converted from MuJoCo XML.\n",
    "    * Action ∈ [‑1,1]^3, scaled to physical ranges inside the class.\n",
    "    * Reward = forward progress (Δx).  Episode ends if torso falls below 0.5 m\n",
    "      or pitch exceeds ±0.8 rad.\n",
    "    \"\"\"\n",
    "    def __init__(self,\n",
    "                 sys: brax.System,\n",
    "                 kp: jnp.ndarray = jnp.array([  5.0, 1000.0, 1000.0]),\n",
    "                 kd: jnp.ndarray = jnp.array([  0.5,   50.0,   50.0]),\n",
    "                 reset_noise: float = 0.1):\n",
    "        super().__init__(sys=sys, backend='positional')\n",
    "\n",
    "        self.act_idx      = sys.actuator.q_id            # [hip, knees]\n",
    "        self.kp, self.kd  = kp, kd\n",
    "        self.action_scale = jnp.array([0.5, 0.3, 0.3])   # rad, m, m\n",
    "        self.reset_noise  = reset_noise\n",
    "\n",
    "        self.obs_size     = 2 + 1 + 2 + 3 + 3   # (see _get_obs)\n",
    "        self.act_size     = 3\n",
    "\n",
    "    # ---------- helpers ---------------------------------------------------\n",
    "    def _get_obs(self, ps: brax.base.State) -> jnp.ndarray:\n",
    "        torso_euler = brax.math.quat_to_euler(ps.x.rot[0])  # xyz order\n",
    "        return jnp.concatenate([\n",
    "            ps.x.pos[0, (0, 2)],          # x, z\n",
    "            torso_euler[1:2],             # pitch\n",
    "            ps.xd.vel[0, (0, 2)],         # ẋ, ż\n",
    "            ps.q[self.act_idx],           # joint pos\n",
    "            ps.qd[self.act_idx],          # joint vel\n",
    "        ])\n",
    "\n",
    "    # ---------- API -------------------------------------------------------\n",
    "    def reset(self, rng: jax.Array):\n",
    "        qd_dim = int(self.sys.qd_size())\n",
    "        q  = self.sys.init_q.copy()\n",
    "        qd = jnp.zeros(qd_dim)\n",
    "\n",
    "        # small uniform noise on the three actuated joints\n",
    "        rng, sub = jax.random.split(rng)\n",
    "        q_noise  = self.reset_noise * (2.*jax.random.uniform(sub, (3,)) - 1.)\n",
    "        q = q.at[self.act_idx].set(q_noise * self.action_scale)\n",
    "\n",
    "        ps = self.pipeline_init(q, qd)          # now uses generalized pipeline\n",
    "        return brax.envs.base.State(            # same namedtuple as before\n",
    "            pipeline_state = ps,\n",
    "            obs            = self._get_obs(ps),\n",
    "            reward         = jnp.array(0., jnp.float32),\n",
    "            done           = jnp.array(0., jnp.float32),\n",
    "            metrics        = {\n",
    "                'prev_x': ps.x.pos[0, 0],\n",
    "                'reward': jnp.array(0., jnp.float32),\n",
    "            },\n",
    "        )        \n",
    "\n",
    "    def step(self, state, action):\n",
    "        action   = jnp.clip(action, -1., 1.)\n",
    "        targets  = action * self.action_scale\n",
    "\n",
    "        q, qd    = state.pipeline_state.q[self.act_idx], state.pipeline_state.qd[self.act_idx]\n",
    "        τ        = self.kp * (targets - q) - self.kd * qd  # PD torque\n",
    "\n",
    "        ps_next  = self.pipeline_step(state.pipeline_state, τ)\n",
    "        reward   = ps_next.x.pos[0, 0] - state.metrics['prev_x']\n",
    "\n",
    "        height_ok = ps_next.x.pos[0, 2] > 0.5\n",
    "        pitch_ok  = jnp.abs(brax.math.quat_to_euler(ps_next.x.rot[0])[1]) < 0.8\n",
    "        done      = jnp.logical_not(jnp.logical_and(height_ok, pitch_ok))\n",
    "\n",
    "        return state.replace(\n",
    "            pipeline_state = ps_next,\n",
    "            obs            = self._get_obs(ps_next),\n",
    "            reward         = reward,\n",
    "            done           = done.astype(jnp.float32),\n",
    "            metrics        = {\n",
    "                'prev_x': ps_next.x.pos[0, 0],\n",
    "                'reward': reward,\n",
    "            },\n",
    "        )"
   ]
  },
  {
   "cell_type": "markdown",
   "id": "beb25d7b",
   "metadata": {},
   "source": [
    "### Single‑Episode Smoke Test (JIT)"
   ]
  },
  {
   "cell_type": "code",
   "execution_count": 12,
   "id": "c77c65a8",
   "metadata": {},
   "outputs": [],
   "source": [
    "env = BraxPassiveWalker(walker_sys)\n",
    "\n",
    "@jax.jit\n",
    "def play_episode(rng):\n",
    "    state  = env.reset(rng)\n",
    "    total_r, steps = 0., 0\n",
    "\n",
    "    # naive alternating‑swing heuristic for ~100 steps\n",
    "    action_seq = jnp.array([[ 1., -1.,  1.],\n",
    "                            [-1.,  1., -1.],\n",
    "                            [ 0.,  0.,  0.]])\n",
    "    def body(carry, _):\n",
    "        st, idx, tot = carry\n",
    "        st  = env.step(st, action_seq[idx % 3])\n",
    "        return (st, idx+1, tot+st.reward), None\n",
    "\n",
    "    (final_state, n, total_r), _ = jax.lax.scan(body,\n",
    "                                                (state, 0, total_r),\n",
    "                                                None, length=100)\n",
    "    return final_state, total_r"
   ]
  },
  {
   "cell_type": "code",
   "execution_count": 13,
   "id": "4b42af4f",
   "metadata": {},
   "outputs": [
    {
     "name": "stdout",
     "output_type": "stream",
     "text": [
      "height  : 1.3197712898254395 m\n",
      "forward : 0.004566623829305172 m\n",
      "total R : 0.00\n",
      "fallen  : False\n"
     ]
    }
   ],
   "source": [
    "fs, R = play_episode(jax.random.PRNGKey(0))\n",
    "print(f'height  : {fs.pipeline_state.x.pos[0,2]:} m')\n",
    "print(f'forward : {fs.pipeline_state.x.pos[0,0]:} m')\n",
    "print(f'total R : {R:.2f}')\n",
    "print(f'fallen  : {bool(fs.done)}')"
   ]
  },
  {
   "cell_type": "markdown",
   "id": "f69e0b92",
   "metadata": {},
   "source": [
    "# Vectorised & JIT Benchmarks"
   ]
  },
  {
   "cell_type": "markdown",
   "id": "e778f350",
   "metadata": {},
   "source": [
    "### Prereqs & Imports"
   ]
  },
  {
   "cell_type": "code",
   "execution_count": 14,
   "id": "ed6d20ea",
   "metadata": {},
   "outputs": [
    {
     "name": "stdout",
     "output_type": "stream",
     "text": [
      "JAX devices: [CudaDevice(id=0)]\n"
     ]
    }
   ],
   "source": [
    "import time, functools, itertools\n",
    "import jax, jax.numpy as jnp\n",
    "from brax.envs.wrappers.training import VmapWrapper\n",
    "\n",
    "print(\"JAX devices:\", jax.devices())"
   ]
  },
  {
   "cell_type": "markdown",
   "id": "c3cfd53c",
   "metadata": {},
   "source": [
    "### VmapWrapper Integration"
   ]
  },
  {
   "cell_type": "code",
   "execution_count": 15,
   "id": "c1547303",
   "metadata": {},
   "outputs": [
    {
     "name": "stdout",
     "output_type": "stream",
     "text": [
      "obs shape: 11 | act shape: 3\n"
     ]
    }
   ],
   "source": [
    "def make_vec_env(num_envs: int):\n",
    "    \"\"\"Returns a BraxPassiveWalker wrapped to act on `num_envs` in parallel.\"\"\"\n",
    "    base_env = BraxPassiveWalker(walker_sys)\n",
    "    return VmapWrapper(base_env, batch_size=num_envs)\n",
    "\n",
    "# Sanity check: just one copy\n",
    "env1 = make_vec_env(1)\n",
    "print(\"obs shape:\", env1.observation_size, \"| act shape:\", env1.act_size)"
   ]
  },
  {
   "cell_type": "markdown",
   "id": "82ccff26",
   "metadata": {},
   "source": [
    "### JIT‑Compile reset/step"
   ]
  },
  {
   "cell_type": "code",
   "execution_count": 16,
   "id": "80c9795f",
   "metadata": {},
   "outputs": [
    {
     "name": "stdout",
     "output_type": "stream",
     "text": [
      "vmapped-env : 11730.6 µs/step (CPU)\n"
     ]
    }
   ],
   "source": [
    "def jit_env(env):\n",
    "    \"\"\"Return (`jitted_reset`, `jitted_step`).\"\"\"\n",
    "    return jax.jit(env.reset), jax.jit(env.step)\n",
    "\n",
    "# --- batched env with batch_size = 1 ---------------------------\n",
    "env1 = make_vec_env(1)                       \n",
    "reset_jit, step_jit = jit_env(env1)\n",
    "\n",
    "# make your action have the same leading batch axis\n",
    "action = jnp.zeros((1, env1.act_size))       \n",
    "state = reset_jit(jax.random.PRNGKey(0))\n",
    "\n",
    "N = 1_000\n",
    "t0 = time.time()\n",
    "for _ in range(N):\n",
    "    state = step_jit(state, action)    # returns a State; we overwrite `state`\n",
    "print(f\"vmapped-env : {(time.time()-t0)*1e6/N:.1f} µs/step (CPU)\")"
   ]
  },
  {
   "cell_type": "markdown",
   "id": "370b6927",
   "metadata": {},
   "source": [
    "### Scalability Sweep"
   ]
  },
  {
   "cell_type": "code",
   "execution_count": 17,
   "id": "18dad033",
   "metadata": {},
   "outputs": [
    {
     "name": "stderr",
     "output_type": "stream",
     "text": [
      "E0522 04:25:56.541851    1509 buffer_comparator.cc:156] Difference at 17: 0, expected 1.07511\n",
      "E0522 04:25:56.541882    1509 buffer_comparator.cc:156] Difference at 18: 0.0132527, expected 0.732182\n",
      "E0522 04:25:56.541886    1509 buffer_comparator.cc:156] Difference at 19: 0, expected 1.70304\n",
      "E0522 04:25:56.541890    1509 buffer_comparator.cc:156] Difference at 21: 0, expected 0.663661\n",
      "E0522 04:25:56.541892    1509 buffer_comparator.cc:156] Difference at 22: 0, expected 1.17505\n",
      "E0522 04:25:56.541894    1509 buffer_comparator.cc:156] Difference at 23: 0, expected 0.505134\n",
      "E0522 04:25:56.541897    1509 buffer_comparator.cc:156] Difference at 25: 0, expected 0.486818\n",
      "E0522 04:25:56.541899    1509 buffer_comparator.cc:156] Difference at 26: 0, expected 0.692841\n",
      "E0522 04:25:56.541901    1509 buffer_comparator.cc:156] Difference at 27: 0, expected 0.959922\n",
      "E0522 04:25:56.541903    1509 buffer_comparator.cc:156] Difference at 28: 1, expected 0.672071\n",
      "2025-05-22 04:25:56.541911: E external/xla/xla/service/gpu/autotuning/gemm_fusion_autotuner.cc:1138] Results do not match the reference. This is likely a bug/unexpected loss of precision.\n",
      "E0522 04:25:56.548442    1509 buffer_comparator.cc:156] Difference at 17: 0, expected 1.07511\n",
      "E0522 04:25:56.548456    1509 buffer_comparator.cc:156] Difference at 18: 0.0132527, expected 0.732182\n",
      "E0522 04:25:56.548459    1509 buffer_comparator.cc:156] Difference at 19: 0, expected 1.70304\n",
      "E0522 04:25:56.548462    1509 buffer_comparator.cc:156] Difference at 21: 0, expected 0.663661\n",
      "E0522 04:25:56.548464    1509 buffer_comparator.cc:156] Difference at 22: 0, expected 1.17505\n",
      "E0522 04:25:56.548467    1509 buffer_comparator.cc:156] Difference at 23: 0, expected 0.505134\n",
      "E0522 04:25:56.548469    1509 buffer_comparator.cc:156] Difference at 25: 0, expected 0.486818\n",
      "E0522 04:25:56.548471    1509 buffer_comparator.cc:156] Difference at 26: 0, expected 0.692841\n",
      "E0522 04:25:56.548474    1509 buffer_comparator.cc:156] Difference at 27: 0, expected 0.959922\n",
      "E0522 04:25:56.548476    1509 buffer_comparator.cc:156] Difference at 28: 1, expected 0.672071\n",
      "2025-05-22 04:25:56.548481: E external/xla/xla/service/gpu/autotuning/gemm_fusion_autotuner.cc:1138] Results do not match the reference. This is likely a bug/unexpected loss of precision.\n",
      "E0522 04:25:56.554162    1509 buffer_comparator.cc:156] Difference at 32: 0.999777, expected 0.722027\n",
      "E0522 04:25:56.554177    1509 buffer_comparator.cc:156] Difference at 33: 0, expected 0.54055\n",
      "E0522 04:25:56.554180    1509 buffer_comparator.cc:156] Difference at 34: -0.0211286, expected 1.02725\n",
      "E0522 04:25:56.554183    1509 buffer_comparator.cc:156] Difference at 35: 0, expected 0.850344\n",
      "E0522 04:25:56.554186    1509 buffer_comparator.cc:156] Difference at 37: 0, expected 0.820612\n",
      "E0522 04:25:56.554188    1509 buffer_comparator.cc:156] Difference at 38: -0.0211286, expected 0.8686\n",
      "E0522 04:25:56.554191    1509 buffer_comparator.cc:156] Difference at 39: 0, expected 0.693029\n",
      "E0522 04:25:56.554193    1509 buffer_comparator.cc:156] Difference at 40: 1, expected 0.715064\n",
      "E0522 04:25:56.554196    1509 buffer_comparator.cc:156] Difference at 41: 0, expected 1.29697\n",
      "E0522 04:25:56.554198    1509 buffer_comparator.cc:156] Difference at 42: 0, expected 1.32968\n",
      "2025-05-22 04:25:56.554202: E external/xla/xla/service/gpu/autotuning/gemm_fusion_autotuner.cc:1138] Results do not match the reference. This is likely a bug/unexpected loss of precision.\n",
      "E0522 04:25:56.560274    1509 buffer_comparator.cc:156] Difference at 32: 0.999777, expected 0.722027\n",
      "E0522 04:25:56.560289    1509 buffer_comparator.cc:156] Difference at 33: 0, expected 0.54055\n",
      "E0522 04:25:56.560292    1509 buffer_comparator.cc:156] Difference at 34: -0.0211286, expected 1.02725\n",
      "E0522 04:25:56.560295    1509 buffer_comparator.cc:156] Difference at 35: 0, expected 0.850344\n",
      "E0522 04:25:56.560298    1509 buffer_comparator.cc:156] Difference at 37: 0, expected 0.820612\n",
      "E0522 04:25:56.560300    1509 buffer_comparator.cc:156] Difference at 38: -0.0211286, expected 0.8686\n",
      "E0522 04:25:56.560303    1509 buffer_comparator.cc:156] Difference at 39: 0, expected 0.693029\n",
      "E0522 04:25:56.560305    1509 buffer_comparator.cc:156] Difference at 40: 1, expected 0.715064\n",
      "E0522 04:25:56.560307    1509 buffer_comparator.cc:156] Difference at 41: 0, expected 1.29697\n",
      "E0522 04:25:56.560309    1509 buffer_comparator.cc:156] Difference at 42: 0, expected 1.32968\n",
      "2025-05-22 04:25:56.560313: E external/xla/xla/service/gpu/autotuning/gemm_fusion_autotuner.cc:1138] Results do not match the reference. This is likely a bug/unexpected loss of precision.\n",
      "E0522 04:25:56.566377    1509 buffer_comparator.cc:156] Difference at 65: 0, expected 0.35196\n",
      "E0522 04:25:56.566390    1509 buffer_comparator.cc:156] Difference at 66: 0, expected 1.6273\n",
      "E0522 04:25:56.566393    1509 buffer_comparator.cc:156] Difference at 67: 0, expected 1.26983\n",
      "E0522 04:25:56.566396    1509 buffer_comparator.cc:156] Difference at 68: 1, expected 0.795074\n",
      "E0522 04:25:56.566398    1509 buffer_comparator.cc:156] Difference at 69: 0, expected 0.599225\n",
      "E0522 04:25:56.566401    1509 buffer_comparator.cc:156] Difference at 70: 0, expected 1.58231\n",
      "E0522 04:25:56.566403    1509 buffer_comparator.cc:156] Difference at 71: 0, expected 0.681458\n",
      "E0522 04:25:56.566405    1509 buffer_comparator.cc:156] Difference at 72: 0.999822, expected 0.742352\n",
      "E0522 04:25:56.566408    1509 buffer_comparator.cc:156] Difference at 73: 0, expected 1.26135\n",
      "E0522 04:25:56.566410    1509 buffer_comparator.cc:156] Difference at 74: -0.0188404, expected 0.661904\n",
      "2025-05-22 04:25:56.566415: E external/xla/xla/service/gpu/autotuning/gemm_fusion_autotuner.cc:1138] Results do not match the reference. This is likely a bug/unexpected loss of precision.\n",
      "E0522 04:25:56.572556    1509 buffer_comparator.cc:156] Difference at 65: 0, expected 0.35196\n",
      "E0522 04:25:56.572571    1509 buffer_comparator.cc:156] Difference at 66: 0, expected 1.6273\n",
      "E0522 04:25:56.572574    1509 buffer_comparator.cc:156] Difference at 67: 0, expected 1.26983\n",
      "E0522 04:25:56.572577    1509 buffer_comparator.cc:156] Difference at 68: 1, expected 0.795074\n",
      "E0522 04:25:56.572579    1509 buffer_comparator.cc:156] Difference at 69: 0, expected 0.599225\n",
      "E0522 04:25:56.572581    1509 buffer_comparator.cc:156] Difference at 70: 0, expected 1.58231\n",
      "E0522 04:25:56.572584    1509 buffer_comparator.cc:156] Difference at 71: 0, expected 0.681458\n",
      "E0522 04:25:56.572586    1509 buffer_comparator.cc:156] Difference at 72: 0.999822, expected 0.742352\n",
      "E0522 04:25:56.572588    1509 buffer_comparator.cc:156] Difference at 73: 0, expected 1.26135\n",
      "E0522 04:25:56.572591    1509 buffer_comparator.cc:156] Difference at 74: -0.0188404, expected 0.661904\n",
      "2025-05-22 04:25:56.572595: E external/xla/xla/service/gpu/autotuning/gemm_fusion_autotuner.cc:1138] Results do not match the reference. This is likely a bug/unexpected loss of precision.\n",
      "E0522 04:25:56.578245    1509 buffer_comparator.cc:156] Difference at 65: 0, expected 0.35196\n",
      "E0522 04:25:56.578258    1509 buffer_comparator.cc:156] Difference at 66: 0, expected 1.6273\n",
      "E0522 04:25:56.578261    1509 buffer_comparator.cc:156] Difference at 67: 0, expected 1.26983\n",
      "E0522 04:25:56.578263    1509 buffer_comparator.cc:156] Difference at 68: 1, expected 0.795074\n",
      "E0522 04:25:56.578265    1509 buffer_comparator.cc:156] Difference at 69: 0, expected 0.599225\n",
      "E0522 04:25:56.578268    1509 buffer_comparator.cc:156] Difference at 70: 0, expected 1.58231\n",
      "E0522 04:25:56.578270    1509 buffer_comparator.cc:156] Difference at 71: 0, expected 0.681458\n",
      "E0522 04:25:56.578272    1509 buffer_comparator.cc:156] Difference at 72: 0.999822, expected 0.742352\n",
      "E0522 04:25:56.578275    1509 buffer_comparator.cc:156] Difference at 73: 0, expected 1.26135\n",
      "E0522 04:25:56.578277    1509 buffer_comparator.cc:156] Difference at 74: -0.0188404, expected 0.661904\n",
      "2025-05-22 04:25:56.578281: E external/xla/xla/service/gpu/autotuning/gemm_fusion_autotuner.cc:1138] Results do not match the reference. This is likely a bug/unexpected loss of precision.\n",
      "E0522 04:25:56.615293    1509 buffer_comparator.cc:156] Difference at 80: 1.29105, expected 0\n",
      "E0522 04:25:56.615309    1509 buffer_comparator.cc:156] Difference at 81: 1.18587, expected 0\n",
      "E0522 04:25:56.615313    1509 buffer_comparator.cc:156] Difference at 82: 1.0607, expected 0\n",
      "E0522 04:25:56.615315    1509 buffer_comparator.cc:156] Difference at 83: 0.667702, expected 0\n",
      "E0522 04:25:56.615317    1509 buffer_comparator.cc:156] Difference at 84: 1.11413, expected 0\n",
      "E0522 04:25:56.615320    1509 buffer_comparator.cc:156] Difference at 85: 0.578987, expected 0\n",
      "E0522 04:25:56.615322    1509 buffer_comparator.cc:156] Difference at 86: 0.683127, expected 0\n",
      "E0522 04:25:56.615324    1509 buffer_comparator.cc:156] Difference at 87: 0.270109, expected 0\n",
      "E0522 04:25:56.615326    1509 buffer_comparator.cc:156] Difference at 88: 0.699085, expected 0\n",
      "E0522 04:25:56.615328    1509 buffer_comparator.cc:156] Difference at 89: 0.934831, expected 0\n",
      "2025-05-22 04:25:56.615332: E external/xla/xla/service/gpu/autotuning/gemm_fusion_autotuner.cc:1138] Results do not match the reference. This is likely a bug/unexpected loss of precision.\n",
      "E0522 04:25:56.632855    1509 buffer_comparator.cc:156] Difference at 80: 1.29105, expected 0\n",
      "E0522 04:25:56.632870    1509 buffer_comparator.cc:156] Difference at 81: 1.18587, expected 0\n",
      "E0522 04:25:56.632873    1509 buffer_comparator.cc:156] Difference at 82: 1.0607, expected 0\n",
      "E0522 04:25:56.632875    1509 buffer_comparator.cc:156] Difference at 83: 0.667702, expected 0\n",
      "E0522 04:25:56.632878    1509 buffer_comparator.cc:156] Difference at 84: 1.11413, expected 0\n",
      "E0522 04:25:56.632880    1509 buffer_comparator.cc:156] Difference at 85: 0.578987, expected 0\n",
      "E0522 04:25:56.632882    1509 buffer_comparator.cc:156] Difference at 86: 0.683127, expected 0\n",
      "E0522 04:25:56.632884    1509 buffer_comparator.cc:156] Difference at 87: 0.270109, expected 0\n",
      "E0522 04:25:56.632886    1509 buffer_comparator.cc:156] Difference at 88: 0.699085, expected 0\n",
      "E0522 04:25:56.632888    1509 buffer_comparator.cc:156] Difference at 89: 0.934831, expected 0\n",
      "2025-05-22 04:25:56.632892: E external/xla/xla/service/gpu/autotuning/gemm_fusion_autotuner.cc:1138] Results do not match the reference. This is likely a bug/unexpected loss of precision.\n",
      "E0522 04:25:56.650036    1509 buffer_comparator.cc:156] Difference at 160: 0.739287, expected 0\n",
      "E0522 04:25:56.650052    1509 buffer_comparator.cc:156] Difference at 161: 0.550792, expected 0\n",
      "E0522 04:25:56.650054    1509 buffer_comparator.cc:156] Difference at 162: 1.07671, expected 0\n",
      "E0522 04:25:56.650057    1509 buffer_comparator.cc:156] Difference at 163: 0.88361, expected 0\n",
      "E0522 04:25:56.650059    1509 buffer_comparator.cc:156] Difference at 164: 1.15371, expected 0\n",
      "E0522 04:25:56.650061    1509 buffer_comparator.cc:156] Difference at 165: 0.83531, expected 0\n",
      "E0522 04:25:56.650063    1509 buffer_comparator.cc:156] Difference at 166: 0.901356, expected 0\n",
      "E0522 04:25:56.650065    1509 buffer_comparator.cc:156] Difference at 167: 0.732503, expected 0\n",
      "E0522 04:25:56.650067    1509 buffer_comparator.cc:156] Difference at 168: 0.75781, expected 0\n",
      "E0522 04:25:56.650071    1509 buffer_comparator.cc:156] Difference at 169: 1.34136, expected 0\n",
      "2025-05-22 04:25:56.650077: E external/xla/xla/service/gpu/autotuning/gemm_fusion_autotuner.cc:1138] Results do not match the reference. This is likely a bug/unexpected loss of precision.\n",
      "E0522 04:25:56.668272    1509 buffer_comparator.cc:156] Difference at 160: 0.739287, expected 0\n",
      "E0522 04:25:56.668287    1509 buffer_comparator.cc:156] Difference at 161: 0.550792, expected 0\n",
      "E0522 04:25:56.668289    1509 buffer_comparator.cc:156] Difference at 162: 1.07671, expected 0\n",
      "E0522 04:25:56.668292    1509 buffer_comparator.cc:156] Difference at 163: 0.88361, expected 0\n",
      "E0522 04:25:56.668294    1509 buffer_comparator.cc:156] Difference at 164: 1.15371, expected 0\n",
      "E0522 04:25:56.668296    1509 buffer_comparator.cc:156] Difference at 165: 0.83531, expected 0\n",
      "E0522 04:25:56.668298    1509 buffer_comparator.cc:156] Difference at 166: 0.901356, expected 0\n",
      "E0522 04:25:56.668300    1509 buffer_comparator.cc:156] Difference at 167: 0.732503, expected 0\n",
      "E0522 04:25:56.668302    1509 buffer_comparator.cc:156] Difference at 168: 0.75781, expected 0\n",
      "E0522 04:25:56.668304    1509 buffer_comparator.cc:156] Difference at 169: 1.34136, expected 0\n",
      "2025-05-22 04:25:56.668308: E external/xla/xla/service/gpu/autotuning/gemm_fusion_autotuner.cc:1138] Results do not match the reference. This is likely a bug/unexpected loss of precision.\n",
      "E0522 04:25:56.685481    1509 buffer_comparator.cc:156] Difference at 320: 0.889375, expected 0\n",
      "E0522 04:25:56.685496    1509 buffer_comparator.cc:156] Difference at 321: 0.323847, expected 0\n",
      "E0522 04:25:56.685499    1509 buffer_comparator.cc:156] Difference at 322: 1.5385, expected 0\n",
      "E0522 04:25:56.685501    1509 buffer_comparator.cc:156] Difference at 323: 1.27501, expected 0\n",
      "E0522 04:25:56.685503    1509 buffer_comparator.cc:156] Difference at 324: 0.912745, expected 0\n",
      "E0522 04:25:56.685506    1509 buffer_comparator.cc:156] Difference at 325: 0.649142, expected 0\n",
      "E0522 04:25:56.685508    1509 buffer_comparator.cc:156] Difference at 326: 1.51287, expected 0\n",
      "E0522 04:25:56.685510    1509 buffer_comparator.cc:156] Difference at 327: 0.748423, expected 0\n",
      "E0522 04:25:56.685512    1509 buffer_comparator.cc:156] Difference at 328: 0.602204, expected 0\n",
      "E0522 04:25:56.685514    1509 buffer_comparator.cc:156] Difference at 329: 1.30132, expected 0\n",
      "2025-05-22 04:25:56.685518: E external/xla/xla/service/gpu/autotuning/gemm_fusion_autotuner.cc:1138] Results do not match the reference. This is likely a bug/unexpected loss of precision.\n",
      "E0522 04:25:56.702700    1509 buffer_comparator.cc:156] Difference at 320: 0.889375, expected 0\n",
      "E0522 04:25:56.702715    1509 buffer_comparator.cc:156] Difference at 321: 0.323847, expected 0\n",
      "E0522 04:25:56.702718    1509 buffer_comparator.cc:156] Difference at 322: 1.5385, expected 0\n",
      "E0522 04:25:56.702720    1509 buffer_comparator.cc:156] Difference at 323: 1.27501, expected 0\n",
      "E0522 04:25:56.702722    1509 buffer_comparator.cc:156] Difference at 324: 0.912745, expected 0\n",
      "E0522 04:25:56.702724    1509 buffer_comparator.cc:156] Difference at 325: 0.649142, expected 0\n",
      "E0522 04:25:56.702726    1509 buffer_comparator.cc:156] Difference at 326: 1.51287, expected 0\n",
      "E0522 04:25:56.702729    1509 buffer_comparator.cc:156] Difference at 327: 0.748423, expected 0\n",
      "E0522 04:25:56.702730    1509 buffer_comparator.cc:156] Difference at 328: 0.602204, expected 0\n",
      "E0522 04:25:56.702732    1509 buffer_comparator.cc:156] Difference at 329: 1.30132, expected 0\n",
      "2025-05-22 04:25:56.702738: E external/xla/xla/service/gpu/autotuning/gemm_fusion_autotuner.cc:1138] Results do not match the reference. This is likely a bug/unexpected loss of precision.\n",
      "E0522 04:25:56.720016    1509 buffer_comparator.cc:156] Difference at 320: 0.889375, expected 0\n",
      "E0522 04:25:56.720030    1509 buffer_comparator.cc:156] Difference at 321: 0.323847, expected 0\n",
      "E0522 04:25:56.720033    1509 buffer_comparator.cc:156] Difference at 322: 1.5385, expected 0\n",
      "E0522 04:25:56.720035    1509 buffer_comparator.cc:156] Difference at 323: 1.27501, expected 0\n",
      "E0522 04:25:56.720037    1509 buffer_comparator.cc:156] Difference at 324: 0.912745, expected 0\n",
      "E0522 04:25:56.720039    1509 buffer_comparator.cc:156] Difference at 325: 0.649142, expected 0\n",
      "E0522 04:25:56.720041    1509 buffer_comparator.cc:156] Difference at 326: 1.51287, expected 0\n",
      "E0522 04:25:56.720043    1509 buffer_comparator.cc:156] Difference at 327: 0.748423, expected 0\n",
      "E0522 04:25:56.720046    1509 buffer_comparator.cc:156] Difference at 328: 0.602204, expected 0\n",
      "E0522 04:25:56.720048    1509 buffer_comparator.cc:156] Difference at 329: 1.30132, expected 0\n",
      "2025-05-22 04:25:56.720052: E external/xla/xla/service/gpu/autotuning/gemm_fusion_autotuner.cc:1138] Results do not match the reference. This is likely a bug/unexpected loss of precision.\n",
      "E0522 04:25:56.763631    1509 buffer_comparator.cc:156] Difference at 80: 0, expected 0.920569\n",
      "E0522 04:25:56.763648    1509 buffer_comparator.cc:156] Difference at 81: 0, expected 0.194606\n",
      "E0522 04:25:56.763651    1509 buffer_comparator.cc:156] Difference at 82: 0, expected 0.137821\n",
      "E0522 04:25:56.763653    1509 buffer_comparator.cc:156] Difference at 83: 0, expected 0.1944\n",
      "E0522 04:25:56.763656    1509 buffer_comparator.cc:156] Difference at 84: 0, expected 1.35372\n",
      "E0522 04:25:56.763658    1509 buffer_comparator.cc:156] Difference at 85: 0, expected 0.41507\n",
      "E0522 04:25:56.763660    1509 buffer_comparator.cc:156] Difference at 86: 0, expected 0.922517\n",
      "E0522 04:25:56.763662    1509 buffer_comparator.cc:156] Difference at 88: 0, expected 0.763919\n",
      "E0522 04:25:56.763664    1509 buffer_comparator.cc:156] Difference at 89: 0, expected 0.827473\n",
      "E0522 04:25:56.763666    1509 buffer_comparator.cc:156] Difference at 90: 0, expected 1.19019\n",
      "2025-05-22 04:25:56.763670: E external/xla/xla/service/gpu/autotuning/gemm_fusion_autotuner.cc:1138] Results do not match the reference. This is likely a bug/unexpected loss of precision.\n",
      "E0522 04:25:56.769732    1509 buffer_comparator.cc:156] Difference at 80: 0, expected 0.920569\n",
      "E0522 04:25:56.769747    1509 buffer_comparator.cc:156] Difference at 81: 0, expected 0.194606\n",
      "E0522 04:25:56.769750    1509 buffer_comparator.cc:156] Difference at 82: 0, expected 0.137821\n",
      "E0522 04:25:56.769752    1509 buffer_comparator.cc:156] Difference at 83: 0, expected 0.1944\n",
      "E0522 04:25:56.769755    1509 buffer_comparator.cc:156] Difference at 84: 0, expected 1.35372\n",
      "E0522 04:25:56.769757    1509 buffer_comparator.cc:156] Difference at 85: 0, expected 0.41507\n",
      "E0522 04:25:56.769759    1509 buffer_comparator.cc:156] Difference at 86: 0, expected 0.922517\n",
      "E0522 04:25:56.769761    1509 buffer_comparator.cc:156] Difference at 88: 0, expected 0.763919\n",
      "E0522 04:25:56.769763    1509 buffer_comparator.cc:156] Difference at 89: 0, expected 0.827473\n",
      "E0522 04:25:56.769765    1509 buffer_comparator.cc:156] Difference at 90: 0, expected 1.19019\n",
      "2025-05-22 04:25:56.769769: E external/xla/xla/service/gpu/autotuning/gemm_fusion_autotuner.cc:1138] Results do not match the reference. This is likely a bug/unexpected loss of precision.\n",
      "E0522 04:25:56.775442    1509 buffer_comparator.cc:156] Difference at 160: 0, expected 0.590883\n",
      "E0522 04:25:56.775456    1509 buffer_comparator.cc:156] Difference at 161: 0, expected 0.492653\n",
      "E0522 04:25:56.775459    1509 buffer_comparator.cc:156] Difference at 162: 0, expected 0.226176\n",
      "E0522 04:25:56.775461    1509 buffer_comparator.cc:156] Difference at 163: 0, expected 1.31754\n",
      "E0522 04:25:56.775464    1509 buffer_comparator.cc:156] Difference at 164: 0, expected 0.812048\n",
      "E0522 04:25:56.775466    1509 buffer_comparator.cc:156] Difference at 165: 0, expected 1.2797\n",
      "E0522 04:25:56.775468    1509 buffer_comparator.cc:156] Difference at 166: 0, expected 0.606277\n",
      "E0522 04:25:56.775470    1509 buffer_comparator.cc:156] Difference at 167: 0, expected 0.247396\n",
      "E0522 04:25:56.775472    1509 buffer_comparator.cc:156] Difference at 168: 0, expected 0.997054\n",
      "E0522 04:25:56.775474    1509 buffer_comparator.cc:156] Difference at 169: 0, expected 0.963507\n",
      "2025-05-22 04:25:56.775478: E external/xla/xla/service/gpu/autotuning/gemm_fusion_autotuner.cc:1138] Results do not match the reference. This is likely a bug/unexpected loss of precision.\n",
      "E0522 04:25:56.781493    1509 buffer_comparator.cc:156] Difference at 160: 0, expected 0.590883\n",
      "E0522 04:25:56.781508    1509 buffer_comparator.cc:156] Difference at 161: 0, expected 0.492653\n",
      "E0522 04:25:56.781510    1509 buffer_comparator.cc:156] Difference at 162: 0, expected 0.226176\n",
      "E0522 04:25:56.781513    1509 buffer_comparator.cc:156] Difference at 163: 0, expected 1.31754\n",
      "E0522 04:25:56.781515    1509 buffer_comparator.cc:156] Difference at 164: 0, expected 0.812048\n",
      "E0522 04:25:56.781517    1509 buffer_comparator.cc:156] Difference at 165: 0, expected 1.2797\n",
      "E0522 04:25:56.781519    1509 buffer_comparator.cc:156] Difference at 166: 0, expected 0.606277\n",
      "E0522 04:25:56.781521    1509 buffer_comparator.cc:156] Difference at 167: 0, expected 0.247396\n",
      "E0522 04:25:56.781523    1509 buffer_comparator.cc:156] Difference at 168: 0, expected 0.997054\n",
      "E0522 04:25:56.781525    1509 buffer_comparator.cc:156] Difference at 169: 0, expected 0.963507\n",
      "2025-05-22 04:25:56.781530: E external/xla/xla/service/gpu/autotuning/gemm_fusion_autotuner.cc:1138] Results do not match the reference. This is likely a bug/unexpected loss of precision.\n",
      "E0522 04:25:56.787563    1509 buffer_comparator.cc:156] Difference at 320: 0, expected 1.40809\n",
      "E0522 04:25:56.787577    1509 buffer_comparator.cc:156] Difference at 321: 0, expected 1.03673\n",
      "E0522 04:25:56.787580    1509 buffer_comparator.cc:156] Difference at 322: 0, expected 0.149518\n",
      "E0522 04:25:56.787582    1509 buffer_comparator.cc:156] Difference at 323: 0, expected 0.292281\n",
      "E0522 04:25:56.787584    1509 buffer_comparator.cc:156] Difference at 324: 0, expected 0.865814\n",
      "E0522 04:25:56.787587    1509 buffer_comparator.cc:156] Difference at 325: 0, expected 1.05007\n",
      "E0522 04:25:56.787589    1509 buffer_comparator.cc:156] Difference at 326: 0, expected 0.693416\n",
      "E0522 04:25:56.787591    1509 buffer_comparator.cc:156] Difference at 327: 0, expected 0.136777\n",
      "E0522 04:25:56.787593    1509 buffer_comparator.cc:156] Difference at 328: 0, expected 0.176641\n",
      "E0522 04:25:56.787595    1509 buffer_comparator.cc:156] Difference at 329: 0, expected 0.801524\n",
      "2025-05-22 04:25:56.787599: E external/xla/xla/service/gpu/autotuning/gemm_fusion_autotuner.cc:1138] Results do not match the reference. This is likely a bug/unexpected loss of precision.\n",
      "E0522 04:25:56.793217    1509 buffer_comparator.cc:156] Difference at 320: 0, expected 1.40809\n",
      "E0522 04:25:56.793242    1509 buffer_comparator.cc:156] Difference at 321: 0, expected 1.03673\n",
      "E0522 04:25:56.793245    1509 buffer_comparator.cc:156] Difference at 322: 0, expected 0.149518\n",
      "E0522 04:25:56.793248    1509 buffer_comparator.cc:156] Difference at 323: 0, expected 0.292281\n",
      "E0522 04:25:56.793250    1509 buffer_comparator.cc:156] Difference at 324: 0, expected 0.865814\n",
      "E0522 04:25:56.793252    1509 buffer_comparator.cc:156] Difference at 325: 0, expected 1.05007\n",
      "E0522 04:25:56.793255    1509 buffer_comparator.cc:156] Difference at 326: 0, expected 0.693416\n",
      "E0522 04:25:56.793257    1509 buffer_comparator.cc:156] Difference at 327: 0, expected 0.136777\n",
      "E0522 04:25:56.793259    1509 buffer_comparator.cc:156] Difference at 328: 0, expected 0.176641\n",
      "E0522 04:25:56.793261    1509 buffer_comparator.cc:156] Difference at 329: 0, expected 0.801524\n",
      "2025-05-22 04:25:56.793265: E external/xla/xla/service/gpu/autotuning/gemm_fusion_autotuner.cc:1138] Results do not match the reference. This is likely a bug/unexpected loss of precision.\n",
      "E0522 04:25:56.799282    1509 buffer_comparator.cc:156] Difference at 320: 0, expected 1.40809\n",
      "E0522 04:25:56.799297    1509 buffer_comparator.cc:156] Difference at 321: 0, expected 1.03673\n",
      "E0522 04:25:56.799299    1509 buffer_comparator.cc:156] Difference at 322: 0, expected 0.149518\n",
      "E0522 04:25:56.799302    1509 buffer_comparator.cc:156] Difference at 323: 0, expected 0.292281\n",
      "E0522 04:25:56.799304    1509 buffer_comparator.cc:156] Difference at 324: 0, expected 0.865814\n",
      "E0522 04:25:56.799307    1509 buffer_comparator.cc:156] Difference at 325: 0, expected 1.05007\n",
      "E0522 04:25:56.799309    1509 buffer_comparator.cc:156] Difference at 326: 0, expected 0.693416\n",
      "E0522 04:25:56.799311    1509 buffer_comparator.cc:156] Difference at 327: 0, expected 0.136777\n",
      "E0522 04:25:56.799313    1509 buffer_comparator.cc:156] Difference at 328: 0, expected 0.176641\n",
      "E0522 04:25:56.799315    1509 buffer_comparator.cc:156] Difference at 329: 0, expected 0.801524\n",
      "2025-05-22 04:25:56.799319: E external/xla/xla/service/gpu/autotuning/gemm_fusion_autotuner.cc:1138] Results do not match the reference. This is likely a bug/unexpected loss of precision.\n",
      "E0522 04:25:56.835767    1509 buffer_comparator.cc:156] Difference at 80: 0.920569, expected 0\n",
      "E0522 04:25:56.835783    1509 buffer_comparator.cc:156] Difference at 81: 0.194374, expected 0\n",
      "E0522 04:25:56.835786    1509 buffer_comparator.cc:156] Difference at 82: 0.137722, expected 0\n",
      "E0522 04:25:56.835789    1509 buffer_comparator.cc:156] Difference at 83: 0.194371, expected 0\n",
      "E0522 04:25:56.835791    1509 buffer_comparator.cc:156] Difference at 84: 1.3535, expected 0\n",
      "E0522 04:25:56.835793    1509 buffer_comparator.cc:156] Difference at 85: 0.415045, expected 0\n",
      "E0522 04:25:56.835795    1509 buffer_comparator.cc:156] Difference at 86: 0.921778, expected 0\n",
      "E0522 04:25:56.835797    1509 buffer_comparator.cc:156] Difference at 88: 0.763828, expected 0\n",
      "E0522 04:25:56.835799    1509 buffer_comparator.cc:156] Difference at 89: 0.827253, expected 0\n",
      "E0522 04:25:56.835801    1509 buffer_comparator.cc:156] Difference at 90: 1.19019, expected 0\n",
      "2025-05-22 04:25:56.835806: E external/xla/xla/service/gpu/autotuning/gemm_fusion_autotuner.cc:1138] Results do not match the reference. This is likely a bug/unexpected loss of precision.\n",
      "E0522 04:25:56.853065    1509 buffer_comparator.cc:156] Difference at 80: 0.920569, expected 0\n",
      "E0522 04:25:56.853080    1509 buffer_comparator.cc:156] Difference at 81: 0.194374, expected 0\n",
      "E0522 04:25:56.853083    1509 buffer_comparator.cc:156] Difference at 82: 0.137722, expected 0\n",
      "E0522 04:25:56.853085    1509 buffer_comparator.cc:156] Difference at 83: 0.194371, expected 0\n",
      "E0522 04:25:56.853087    1509 buffer_comparator.cc:156] Difference at 84: 1.3535, expected 0\n",
      "E0522 04:25:56.853089    1509 buffer_comparator.cc:156] Difference at 85: 0.415045, expected 0\n",
      "E0522 04:25:56.853091    1509 buffer_comparator.cc:156] Difference at 86: 0.921778, expected 0\n",
      "E0522 04:25:56.853093    1509 buffer_comparator.cc:156] Difference at 88: 0.763828, expected 0\n",
      "E0522 04:25:56.853096    1509 buffer_comparator.cc:156] Difference at 89: 0.827253, expected 0\n",
      "E0522 04:25:56.853098    1509 buffer_comparator.cc:156] Difference at 90: 1.19019, expected 0\n",
      "2025-05-22 04:25:56.853102: E external/xla/xla/service/gpu/autotuning/gemm_fusion_autotuner.cc:1138] Results do not match the reference. This is likely a bug/unexpected loss of precision.\n",
      "E0522 04:25:56.862771    1509 buffer_comparator.cc:156] Difference at 160: 0.590883, expected 0\n",
      "E0522 04:25:56.862786    1509 buffer_comparator.cc:156] Difference at 161: 0.492149, expected 0\n",
      "E0522 04:25:56.862789    1509 buffer_comparator.cc:156] Difference at 162: 0.226036, expected 0\n",
      "E0522 04:25:56.862791    1509 buffer_comparator.cc:156] Difference at 163: 1.31725, expected 0\n",
      "E0522 04:25:56.862793    1509 buffer_comparator.cc:156] Difference at 164: 0.811393, expected 0\n",
      "E0522 04:25:56.862796    1509 buffer_comparator.cc:156] Difference at 165: 1.2793, expected 0\n",
      "E0522 04:25:56.862798    1509 buffer_comparator.cc:156] Difference at 166: 0.605566, expected 0\n",
      "E0522 04:25:56.862800    1509 buffer_comparator.cc:156] Difference at 167: 0.247186, expected 0\n",
      "E0522 04:25:56.862802    1509 buffer_comparator.cc:156] Difference at 168: 0.996906, expected 0\n",
      "E0522 04:25:56.862804    1509 buffer_comparator.cc:156] Difference at 169: 0.963229, expected 0\n",
      "2025-05-22 04:25:56.862809: E external/xla/xla/service/gpu/autotuning/gemm_fusion_autotuner.cc:1138] Results do not match the reference. This is likely a bug/unexpected loss of precision.\n",
      "E0522 04:25:56.864906    1509 buffer_comparator.cc:156] Difference at 160: 0.590883, expected 0\n",
      "E0522 04:25:56.864920    1509 buffer_comparator.cc:156] Difference at 161: 0.492149, expected 0\n",
      "E0522 04:25:56.864923    1509 buffer_comparator.cc:156] Difference at 162: 0.226036, expected 0\n",
      "E0522 04:25:56.864925    1509 buffer_comparator.cc:156] Difference at 163: 1.31725, expected 0\n",
      "E0522 04:25:56.864928    1509 buffer_comparator.cc:156] Difference at 164: 0.811393, expected 0\n",
      "E0522 04:25:56.864930    1509 buffer_comparator.cc:156] Difference at 165: 1.2793, expected 0\n",
      "E0522 04:25:56.864932    1509 buffer_comparator.cc:156] Difference at 166: 0.605566, expected 0\n",
      "E0522 04:25:56.864934    1509 buffer_comparator.cc:156] Difference at 167: 0.247186, expected 0\n",
      "E0522 04:25:56.864936    1509 buffer_comparator.cc:156] Difference at 168: 0.996906, expected 0\n",
      "E0522 04:25:56.864938    1509 buffer_comparator.cc:156] Difference at 169: 0.963229, expected 0\n",
      "2025-05-22 04:25:56.864942: E external/xla/xla/service/gpu/autotuning/gemm_fusion_autotuner.cc:1138] Results do not match the reference. This is likely a bug/unexpected loss of precision.\n",
      "E0522 04:25:56.867027    1509 buffer_comparator.cc:156] Difference at 320: 1.40769, expected 0\n",
      "E0522 04:25:56.867041    1509 buffer_comparator.cc:156] Difference at 321: 1.03575, expected 0\n",
      "E0522 04:25:56.867044    1509 buffer_comparator.cc:156] Difference at 322: 0.14944, expected 0\n",
      "E0522 04:25:56.867047    1509 buffer_comparator.cc:156] Difference at 323: 0.292191, expected 0\n",
      "E0522 04:25:56.867049    1509 buffer_comparator.cc:156] Difference at 324: 0.865761, expected 0\n",
      "E0522 04:25:56.867052    1509 buffer_comparator.cc:156] Difference at 325: 1.0495, expected 0\n",
      "E0522 04:25:56.867054    1509 buffer_comparator.cc:156] Difference at 326: 0.693024, expected 0\n",
      "E0522 04:25:56.867056    1509 buffer_comparator.cc:156] Difference at 327: 0.136763, expected 0\n",
      "E0522 04:25:56.867058    1509 buffer_comparator.cc:156] Difference at 328: 0.176621, expected 0\n",
      "E0522 04:25:56.867060    1509 buffer_comparator.cc:156] Difference at 329: 0.801084, expected 0\n",
      "2025-05-22 04:25:56.867064: E external/xla/xla/service/gpu/autotuning/gemm_fusion_autotuner.cc:1138] Results do not match the reference. This is likely a bug/unexpected loss of precision.\n",
      "E0522 04:25:56.869169    1509 buffer_comparator.cc:156] Difference at 320: 1.40769, expected 0\n",
      "E0522 04:25:56.869184    1509 buffer_comparator.cc:156] Difference at 321: 1.03575, expected 0\n",
      "E0522 04:25:56.869187    1509 buffer_comparator.cc:156] Difference at 322: 0.14944, expected 0\n",
      "E0522 04:25:56.869189    1509 buffer_comparator.cc:156] Difference at 323: 0.292191, expected 0\n",
      "E0522 04:25:56.869191    1509 buffer_comparator.cc:156] Difference at 324: 0.865761, expected 0\n",
      "E0522 04:25:56.869194    1509 buffer_comparator.cc:156] Difference at 325: 1.0495, expected 0\n",
      "E0522 04:25:56.869196    1509 buffer_comparator.cc:156] Difference at 326: 0.693024, expected 0\n",
      "E0522 04:25:56.869198    1509 buffer_comparator.cc:156] Difference at 327: 0.136763, expected 0\n",
      "E0522 04:25:56.869200    1509 buffer_comparator.cc:156] Difference at 328: 0.176621, expected 0\n",
      "E0522 04:25:56.869202    1509 buffer_comparator.cc:156] Difference at 329: 0.801084, expected 0\n",
      "2025-05-22 04:25:56.869207: E external/xla/xla/service/gpu/autotuning/gemm_fusion_autotuner.cc:1138] Results do not match the reference. This is likely a bug/unexpected loss of precision.\n",
      "E0522 04:25:56.871351    1509 buffer_comparator.cc:156] Difference at 320: 1.40769, expected 0\n",
      "E0522 04:25:56.871366    1509 buffer_comparator.cc:156] Difference at 321: 1.03575, expected 0\n",
      "E0522 04:25:56.871368    1509 buffer_comparator.cc:156] Difference at 322: 0.14944, expected 0\n",
      "E0522 04:25:56.871371    1509 buffer_comparator.cc:156] Difference at 323: 0.292191, expected 0\n",
      "E0522 04:25:56.871373    1509 buffer_comparator.cc:156] Difference at 324: 0.865761, expected 0\n",
      "E0522 04:25:56.871375    1509 buffer_comparator.cc:156] Difference at 325: 1.0495, expected 0\n",
      "E0522 04:25:56.871377    1509 buffer_comparator.cc:156] Difference at 326: 0.693024, expected 0\n",
      "E0522 04:25:56.871380    1509 buffer_comparator.cc:156] Difference at 327: 0.136763, expected 0\n",
      "E0522 04:25:56.871382    1509 buffer_comparator.cc:156] Difference at 328: 0.176621, expected 0\n",
      "E0522 04:25:56.871384    1509 buffer_comparator.cc:156] Difference at 329: 0.801084, expected 0\n",
      "2025-05-22 04:25:56.871389: E external/xla/xla/service/gpu/autotuning/gemm_fusion_autotuner.cc:1138] Results do not match the reference. This is likely a bug/unexpected loss of precision.\n",
      "E0522 04:25:56.877445    1509 buffer_comparator.cc:156] Difference at 96: 2.1714, expected 1.18435\n",
      "E0522 04:25:56.877461    1509 buffer_comparator.cc:156] Difference at 97: 40.8938, expected 1.23801\n",
      "E0522 04:25:56.877464    1509 buffer_comparator.cc:156] Difference at 98: 56.1707, expected 1.0923\n",
      "E0522 04:25:56.877467    1509 buffer_comparator.cc:156] Difference at 99: 2.2962, expected 0.610146\n",
      "E0522 04:25:56.877470    1509 buffer_comparator.cc:156] Difference at 100: 2.17021, expected 0.640123\n",
      "E0522 04:25:56.877472    1509 buffer_comparator.cc:156] Difference at 101: 1.0543, expected 0.524634\n",
      "E0522 04:25:56.877474    1509 buffer_comparator.cc:156] Difference at 102: 15.9649, expected 1.28025\n",
      "E0522 04:25:56.877476    1509 buffer_comparator.cc:156] Difference at 103: 31.907, expected 1.32399\n",
      "E0522 04:25:56.877479    1509 buffer_comparator.cc:156] Difference at 105: 1.5659, expected 0.926232\n",
      "E0522 04:25:56.877481    1509 buffer_comparator.cc:156] Difference at 106: 1.84539, expected 0.962609\n",
      "2025-05-22 04:25:56.877485: E external/xla/xla/service/gpu/autotuning/gemm_fusion_autotuner.cc:1138] Results do not match the reference. This is likely a bug/unexpected loss of precision.\n",
      "E0522 04:25:56.878918    1509 buffer_comparator.cc:156] Difference at 64: 0.308167, expected 0.638155\n",
      "E0522 04:25:56.878933    1509 buffer_comparator.cc:156] Difference at 65: 0.0975404, expected 1.11451\n",
      "E0522 04:25:56.878936    1509 buffer_comparator.cc:156] Difference at 66: 0.547221, expected 1.15232\n",
      "E0522 04:25:56.878939    1509 buffer_comparator.cc:156] Difference at 67: 0.278498, expected 1.09184\n",
      "E0522 04:25:56.878941    1509 buffer_comparator.cc:156] Difference at 69: 0.546881, expected 1.00054\n",
      "E0522 04:25:56.878943    1509 buffer_comparator.cc:156] Difference at 73: 0.964889, expected 0.725761\n",
      "E0522 04:25:56.878945    1509 buffer_comparator.cc:156] Difference at 74: 0.967695, expected 0.531145\n",
      "E0522 04:25:56.878947    1509 buffer_comparator.cc:156] Difference at 75: 0.157613, expected 0.821321\n",
      "E0522 04:25:56.878949    1509 buffer_comparator.cc:156] Difference at 78: 0.98111, expected 0.487133\n",
      "E0522 04:25:56.878952    1509 buffer_comparator.cc:156] Difference at 79: 0.957167, expected 1.20309\n",
      "2025-05-22 04:25:56.878956: E external/xla/xla/service/gpu/autotuning/gemm_fusion_autotuner.cc:1138] Results do not match the reference. This is likely a bug/unexpected loss of precision.\n",
      "E0522 04:25:56.880002    1509 buffer_comparator.cc:156] Difference at 64: 0.308167, expected 0.638155\n",
      "E0522 04:25:56.880017    1509 buffer_comparator.cc:156] Difference at 65: 0.0975404, expected 1.11451\n",
      "E0522 04:25:56.880020    1509 buffer_comparator.cc:156] Difference at 66: 0.547221, expected 1.15232\n",
      "E0522 04:25:56.880022    1509 buffer_comparator.cc:156] Difference at 67: 0.278498, expected 1.09184\n",
      "E0522 04:25:56.880024    1509 buffer_comparator.cc:156] Difference at 69: 0.546881, expected 1.00054\n",
      "E0522 04:25:56.880027    1509 buffer_comparator.cc:156] Difference at 73: 0.964889, expected 0.725761\n",
      "E0522 04:25:56.880029    1509 buffer_comparator.cc:156] Difference at 74: 0.967695, expected 0.531145\n",
      "E0522 04:25:56.880031    1509 buffer_comparator.cc:156] Difference at 75: 0.157613, expected 0.821321\n",
      "E0522 04:25:56.880033    1509 buffer_comparator.cc:156] Difference at 78: 0.98111, expected 0.487133\n",
      "E0522 04:25:56.880036    1509 buffer_comparator.cc:156] Difference at 79: 0.957167, expected 1.20309\n",
      "2025-05-22 04:25:56.880039: E external/xla/xla/service/gpu/autotuning/gemm_fusion_autotuner.cc:1138] Results do not match the reference. This is likely a bug/unexpected loss of precision.\n",
      "E0522 04:25:56.881039    1509 buffer_comparator.cc:156] Difference at 128: 0.125183, expected 0.64172\n",
      "E0522 04:25:56.881054    1509 buffer_comparator.cc:156] Difference at 129: 0.317099, expected 1.1234\n",
      "E0522 04:25:56.881057    1509 buffer_comparator.cc:156] Difference at 130: 0.76375, expected 1.16822\n",
      "E0522 04:25:56.881059    1509 buffer_comparator.cc:156] Difference at 131: 0.950222, expected 1.30829\n",
      "E0522 04:25:56.881061    1509 buffer_comparator.cc:156] Difference at 132: 0.490589, expected 0.986952\n",
      "E0522 04:25:56.881063    1509 buffer_comparator.cc:156] Difference at 133: 0.0344461, expected 0.396548\n",
      "E0522 04:25:56.881066    1509 buffer_comparator.cc:156] Difference at 134: 0.663606, expected 1.6094\n",
      "E0522 04:25:56.881068    1509 buffer_comparator.cc:156] Difference at 135: 0.438744, expected 0.951441\n",
      "E0522 04:25:56.881070    1509 buffer_comparator.cc:156] Difference at 137: 0.381558, expected 0.556762\n",
      "E0522 04:25:56.881072    1509 buffer_comparator.cc:156] Difference at 138: 0.210209, expected 1.23977\n",
      "2025-05-22 04:25:56.881076: E external/xla/xla/service/gpu/autotuning/gemm_fusion_autotuner.cc:1138] Results do not match the reference. This is likely a bug/unexpected loss of precision.\n",
      "E0522 04:25:56.882104    1509 buffer_comparator.cc:156] Difference at 128: 0.125183, expected 0.64172\n",
      "E0522 04:25:56.882118    1509 buffer_comparator.cc:156] Difference at 129: 0.317099, expected 1.1234\n",
      "E0522 04:25:56.882121    1509 buffer_comparator.cc:156] Difference at 130: 0.76375, expected 1.16822\n",
      "E0522 04:25:56.882123    1509 buffer_comparator.cc:156] Difference at 131: 0.950222, expected 1.30829\n",
      "E0522 04:25:56.882125    1509 buffer_comparator.cc:156] Difference at 132: 0.490589, expected 0.986952\n",
      "E0522 04:25:56.882127    1509 buffer_comparator.cc:156] Difference at 133: 0.0344461, expected 0.396548\n",
      "E0522 04:25:56.882130    1509 buffer_comparator.cc:156] Difference at 134: 0.663606, expected 1.6094\n",
      "E0522 04:25:56.882132    1509 buffer_comparator.cc:156] Difference at 135: 0.438744, expected 0.951441\n",
      "E0522 04:25:56.882134    1509 buffer_comparator.cc:156] Difference at 137: 0.381558, expected 0.556762\n",
      "E0522 04:25:56.882136    1509 buffer_comparator.cc:156] Difference at 138: 0.210209, expected 1.23977\n",
      "2025-05-22 04:25:56.882140: E external/xla/xla/service/gpu/autotuning/gemm_fusion_autotuner.cc:1138] Results do not match the reference. This is likely a bug/unexpected loss of precision.\n",
      "E0522 04:25:56.883131    1509 buffer_comparator.cc:156] Difference at 257: 0.794285, expected 0.410086\n",
      "E0522 04:25:56.883145    1509 buffer_comparator.cc:156] Difference at 258: 0.436118, expected 1.96072\n",
      "E0522 04:25:56.883148    1509 buffer_comparator.cc:156] Difference at 259: 0.311215, expected 1.43428\n",
      "E0522 04:25:56.883150    1509 buffer_comparator.cc:156] Difference at 260: 0.862678, expected 0.637138\n",
      "E0522 04:25:56.883153    1509 buffer_comparator.cc:156] Difference at 261: 0.528533, expected 1.26823\n",
      "E0522 04:25:56.883155    1509 buffer_comparator.cc:156] Difference at 262: 0.62036, expected 1.44024\n",
      "E0522 04:25:56.883157    1509 buffer_comparator.cc:156] Difference at 263: 0.165649, expected 0.5761\n",
      "E0522 04:25:56.883159    1509 buffer_comparator.cc:156] Difference at 264: 0.119547, expected 0.553235\n",
      "E0522 04:25:56.883161    1509 buffer_comparator.cc:156] Difference at 265: 0.601982, expected 1.41655\n",
      "E0522 04:25:56.883164    1509 buffer_comparator.cc:156] Difference at 266: 0.471957, expected 0.324344\n",
      "2025-05-22 04:25:56.883167: E external/xla/xla/service/gpu/autotuning/gemm_fusion_autotuner.cc:1138] Results do not match the reference. This is likely a bug/unexpected loss of precision.\n",
      "E0522 04:25:56.884162    1509 buffer_comparator.cc:156] Difference at 257: 0.794285, expected 0.410086\n",
      "E0522 04:25:56.884176    1509 buffer_comparator.cc:156] Difference at 258: 0.436118, expected 1.96072\n",
      "E0522 04:25:56.884179    1509 buffer_comparator.cc:156] Difference at 259: 0.311215, expected 1.43428\n",
      "E0522 04:25:56.884181    1509 buffer_comparator.cc:156] Difference at 260: 0.862678, expected 0.637138\n",
      "E0522 04:25:56.884183    1509 buffer_comparator.cc:156] Difference at 261: 0.528533, expected 1.26823\n",
      "E0522 04:25:56.884185    1509 buffer_comparator.cc:156] Difference at 262: 0.62036, expected 1.44024\n",
      "E0522 04:25:56.884187    1509 buffer_comparator.cc:156] Difference at 263: 0.165649, expected 0.5761\n",
      "E0522 04:25:56.884190    1509 buffer_comparator.cc:156] Difference at 264: 0.119547, expected 0.553235\n",
      "E0522 04:25:56.884192    1509 buffer_comparator.cc:156] Difference at 265: 0.601982, expected 1.41655\n",
      "E0522 04:25:56.884194    1509 buffer_comparator.cc:156] Difference at 266: 0.471957, expected 0.324344\n",
      "2025-05-22 04:25:56.884198: E external/xla/xla/service/gpu/autotuning/gemm_fusion_autotuner.cc:1138] Results do not match the reference. This is likely a bug/unexpected loss of precision.\n",
      "E0522 04:25:56.885204    1509 buffer_comparator.cc:156] Difference at 257: 0.794285, expected 0.410086\n",
      "E0522 04:25:56.885218    1509 buffer_comparator.cc:156] Difference at 258: 0.436118, expected 1.96072\n",
      "E0522 04:25:56.885220    1509 buffer_comparator.cc:156] Difference at 259: 0.311215, expected 1.43428\n",
      "E0522 04:25:56.885234    1509 buffer_comparator.cc:156] Difference at 260: 0.862678, expected 0.637138\n",
      "E0522 04:25:56.885241    1509 buffer_comparator.cc:156] Difference at 261: 0.528533, expected 1.26823\n",
      "E0522 04:25:56.885243    1509 buffer_comparator.cc:156] Difference at 262: 0.62036, expected 1.44024\n",
      "E0522 04:25:56.885245    1509 buffer_comparator.cc:156] Difference at 263: 0.165649, expected 0.5761\n",
      "E0522 04:25:56.885248    1509 buffer_comparator.cc:156] Difference at 264: 0.119547, expected 0.553235\n",
      "E0522 04:25:56.885250    1509 buffer_comparator.cc:156] Difference at 265: 0.601982, expected 1.41655\n",
      "E0522 04:25:56.885252    1509 buffer_comparator.cc:156] Difference at 266: 0.471957, expected 0.324344\n",
      "2025-05-22 04:25:56.885256: E external/xla/xla/service/gpu/autotuning/gemm_fusion_autotuner.cc:1138] Results do not match the reference. This is likely a bug/unexpected loss of precision.\n",
      "E0522 04:26:13.449906    1509 buffer_comparator.cc:156] Difference at 65: 0, expected 1.3252\n",
      "E0522 04:26:13.449938    1509 buffer_comparator.cc:156] Difference at 66: 0, expected 0.204479\n",
      "E0522 04:26:13.449944    1509 buffer_comparator.cc:156] Difference at 67: 0, expected 1.0661\n",
      "E0522 04:26:13.449949    1509 buffer_comparator.cc:156] Difference at 68: 0.99982, expected 0.796279\n",
      "E0522 04:26:13.449952    1509 buffer_comparator.cc:156] Difference at 69: 0, expected 1.32882\n",
      "E0522 04:26:13.449956    1509 buffer_comparator.cc:156] Difference at 70: -0.0189815, expected 0.690818\n",
      "E0522 04:26:13.449960    1509 buffer_comparator.cc:156] Difference at 71: 0, expected 1.5177\n",
      "E0522 04:26:13.449963    1509 buffer_comparator.cc:156] Difference at 72: 0.99982, expected 0.50871\n",
      "E0522 04:26:13.449966    1509 buffer_comparator.cc:156] Difference at 73: 0, expected 0.581688\n",
      "E0522 04:26:13.449970    1509 buffer_comparator.cc:156] Difference at 74: -0.0189815, expected 0.256882\n",
      "2025-05-22 04:26:13.449978: E external/xla/xla/service/gpu/autotuning/gemm_fusion_autotuner.cc:1138] Results do not match the reference. This is likely a bug/unexpected loss of precision.\n",
      "E0522 04:26:13.455319    1509 buffer_comparator.cc:156] Difference at 65: 0, expected 1.3252\n",
      "E0522 04:26:13.455335    1509 buffer_comparator.cc:156] Difference at 66: 0, expected 0.204479\n",
      "E0522 04:26:13.455341    1509 buffer_comparator.cc:156] Difference at 67: 0, expected 1.0661\n",
      "E0522 04:26:13.455345    1509 buffer_comparator.cc:156] Difference at 68: 0.99982, expected 0.796279\n",
      "E0522 04:26:13.455349    1509 buffer_comparator.cc:156] Difference at 69: 0, expected 1.32882\n",
      "E0522 04:26:13.455354    1509 buffer_comparator.cc:156] Difference at 70: -0.0189815, expected 0.690818\n",
      "E0522 04:26:13.455358    1509 buffer_comparator.cc:156] Difference at 71: 0, expected 1.5177\n",
      "E0522 04:26:13.455362    1509 buffer_comparator.cc:156] Difference at 72: 0.99982, expected 0.50871\n",
      "E0522 04:26:13.455366    1509 buffer_comparator.cc:156] Difference at 73: 0, expected 0.581688\n",
      "E0522 04:26:13.455371    1509 buffer_comparator.cc:156] Difference at 74: -0.0189815, expected 0.256882\n",
      "2025-05-22 04:26:13.455378: E external/xla/xla/service/gpu/autotuning/gemm_fusion_autotuner.cc:1138] Results do not match the reference. This is likely a bug/unexpected loss of precision.\n",
      "E0522 04:26:13.460967    1509 buffer_comparator.cc:156] Difference at 128: 0.999845, expected 1.4464\n",
      "E0522 04:26:13.460983    1509 buffer_comparator.cc:156] Difference at 129: 0, expected 0.692625\n",
      "E0522 04:26:13.460988    1509 buffer_comparator.cc:156] Difference at 130: 0.017616, expected 0.840291\n",
      "E0522 04:26:13.460992    1509 buffer_comparator.cc:156] Difference at 131: 0, expected 1.84372\n",
      "E0522 04:26:13.460997    1509 buffer_comparator.cc:156] Difference at 133: 0, expected 0.69603\n",
      "E0522 04:26:13.461001    1509 buffer_comparator.cc:156] Difference at 134: 0.017616, expected 0.208769\n",
      "E0522 04:26:13.461005    1509 buffer_comparator.cc:156] Difference at 135: 0, expected 1.91875\n",
      "E0522 04:26:13.461009    1509 buffer_comparator.cc:156] Difference at 136: 1, expected 0.231969\n",
      "E0522 04:26:13.461013    1509 buffer_comparator.cc:156] Difference at 137: 0, expected 0.475404\n",
      "E0522 04:26:13.461017    1509 buffer_comparator.cc:156] Difference at 138: 0, expected 0.405763\n",
      "2025-05-22 04:26:13.461024: E external/xla/xla/service/gpu/autotuning/gemm_fusion_autotuner.cc:1138] Results do not match the reference. This is likely a bug/unexpected loss of precision.\n",
      "E0522 04:26:13.466292    1509 buffer_comparator.cc:156] Difference at 128: 0.999845, expected 1.4464\n",
      "E0522 04:26:13.466307    1509 buffer_comparator.cc:156] Difference at 129: 0, expected 0.692625\n",
      "E0522 04:26:13.466313    1509 buffer_comparator.cc:156] Difference at 130: 0.017616, expected 0.840291\n",
      "E0522 04:26:13.466317    1509 buffer_comparator.cc:156] Difference at 131: 0, expected 1.84372\n",
      "E0522 04:26:13.466322    1509 buffer_comparator.cc:156] Difference at 133: 0, expected 0.69603\n",
      "E0522 04:26:13.466326    1509 buffer_comparator.cc:156] Difference at 134: 0.017616, expected 0.208769\n",
      "E0522 04:26:13.466330    1509 buffer_comparator.cc:156] Difference at 135: 0, expected 1.91875\n",
      "E0522 04:26:13.466334    1509 buffer_comparator.cc:156] Difference at 136: 1, expected 0.231969\n",
      "E0522 04:26:13.466338    1509 buffer_comparator.cc:156] Difference at 137: 0, expected 0.475404\n",
      "E0522 04:26:13.466343    1509 buffer_comparator.cc:156] Difference at 138: 0, expected 0.405763\n",
      "2025-05-22 04:26:13.466349: E external/xla/xla/service/gpu/autotuning/gemm_fusion_autotuner.cc:1138] Results do not match the reference. This is likely a bug/unexpected loss of precision.\n",
      "E0522 04:26:13.472466    1509 buffer_comparator.cc:156] Difference at 256: 1, expected 0.691394\n",
      "E0522 04:26:13.472482    1509 buffer_comparator.cc:156] Difference at 257: 0, expected 0.510186\n",
      "E0522 04:26:13.472488    1509 buffer_comparator.cc:156] Difference at 258: 0, expected 0.521568\n",
      "E0522 04:26:13.472492    1509 buffer_comparator.cc:156] Difference at 259: 0, expected 1.32681\n",
      "E0522 04:26:13.472496    1509 buffer_comparator.cc:156] Difference at 260: 1, expected 0.601782\n",
      "E0522 04:26:13.472500    1509 buffer_comparator.cc:156] Difference at 261: 0, expected 1.19004\n",
      "E0522 04:26:13.472505    1509 buffer_comparator.cc:156] Difference at 262: 0, expected 0.535908\n",
      "E0522 04:26:13.472509    1509 buffer_comparator.cc:156] Difference at 263: 0, expected 1.14559\n",
      "E0522 04:26:13.472513    1509 buffer_comparator.cc:156] Difference at 265: 0, expected 1.06637\n",
      "E0522 04:26:13.472517    1509 buffer_comparator.cc:156] Difference at 266: 0, expected 0.326191\n",
      "2025-05-22 04:26:13.472524: E external/xla/xla/service/gpu/autotuning/gemm_fusion_autotuner.cc:1138] Results do not match the reference. This is likely a bug/unexpected loss of precision.\n",
      "E0522 04:26:13.478102    1509 buffer_comparator.cc:156] Difference at 256: 1, expected 0.691394\n",
      "E0522 04:26:13.478117    1509 buffer_comparator.cc:156] Difference at 257: 0, expected 0.510186\n",
      "E0522 04:26:13.478122    1509 buffer_comparator.cc:156] Difference at 258: 0, expected 0.521568\n",
      "E0522 04:26:13.478126    1509 buffer_comparator.cc:156] Difference at 259: 0, expected 1.32681\n",
      "E0522 04:26:13.478131    1509 buffer_comparator.cc:156] Difference at 260: 1, expected 0.601782\n",
      "E0522 04:26:13.478135    1509 buffer_comparator.cc:156] Difference at 261: 0, expected 1.19004\n",
      "E0522 04:26:13.478139    1509 buffer_comparator.cc:156] Difference at 262: 0, expected 0.535908\n",
      "E0522 04:26:13.478143    1509 buffer_comparator.cc:156] Difference at 263: 0, expected 1.14559\n",
      "E0522 04:26:13.478147    1509 buffer_comparator.cc:156] Difference at 265: 0, expected 1.06637\n",
      "E0522 04:26:13.478151    1509 buffer_comparator.cc:156] Difference at 266: 0, expected 0.326191\n",
      "2025-05-22 04:26:13.478157: E external/xla/xla/service/gpu/autotuning/gemm_fusion_autotuner.cc:1138] Results do not match the reference. This is likely a bug/unexpected loss of precision.\n",
      "E0522 04:26:13.483767    1509 buffer_comparator.cc:156] Difference at 256: 1, expected 0.691394\n",
      "E0522 04:26:13.483783    1509 buffer_comparator.cc:156] Difference at 257: 0, expected 0.510186\n",
      "E0522 04:26:13.483788    1509 buffer_comparator.cc:156] Difference at 258: 0, expected 0.521568\n",
      "E0522 04:26:13.483792    1509 buffer_comparator.cc:156] Difference at 259: 0, expected 1.32681\n",
      "E0522 04:26:13.483796    1509 buffer_comparator.cc:156] Difference at 260: 1, expected 0.601782\n",
      "E0522 04:26:13.483800    1509 buffer_comparator.cc:156] Difference at 261: 0, expected 1.19004\n",
      "E0522 04:26:13.483804    1509 buffer_comparator.cc:156] Difference at 262: 0, expected 0.535908\n",
      "E0522 04:26:13.483809    1509 buffer_comparator.cc:156] Difference at 263: 0, expected 1.14559\n",
      "E0522 04:26:13.483813    1509 buffer_comparator.cc:156] Difference at 265: 0, expected 1.06637\n",
      "E0522 04:26:13.483817    1509 buffer_comparator.cc:156] Difference at 266: 0, expected 0.326191\n",
      "2025-05-22 04:26:13.483823: E external/xla/xla/service/gpu/autotuning/gemm_fusion_autotuner.cc:1138] Results do not match the reference. This is likely a bug/unexpected loss of precision.\n",
      "E0522 04:26:13.489457    1509 buffer_comparator.cc:156] Difference at 512: 0.999967, expected 1.22976\n",
      "E0522 04:26:13.489474    1509 buffer_comparator.cc:156] Difference at 513: 0, expected 0.566288\n",
      "E0522 04:26:13.489479    1509 buffer_comparator.cc:156] Difference at 514: -0.00814992, expected 0.394987\n",
      "E0522 04:26:13.489484    1509 buffer_comparator.cc:156] Difference at 515: 0, expected 1.6115\n",
      "E0522 04:26:13.489488    1509 buffer_comparator.cc:156] Difference at 516: 1, expected 0.730835\n",
      "E0522 04:26:13.489493    1509 buffer_comparator.cc:156] Difference at 517: 0, expected 0.785248\n",
      "E0522 04:26:13.489497    1509 buffer_comparator.cc:156] Difference at 518: 0, expected 0.701329\n",
      "E0522 04:26:13.489501    1509 buffer_comparator.cc:156] Difference at 519: 0, expected 1.50329\n",
      "E0522 04:26:13.489505    1509 buffer_comparator.cc:156] Difference at 520: 1, expected 0.129589\n",
      "E0522 04:26:13.489509    1509 buffer_comparator.cc:156] Difference at 521: 0, expected 0.971092\n",
      "2025-05-22 04:26:13.489516: E external/xla/xla/service/gpu/autotuning/gemm_fusion_autotuner.cc:1138] Results do not match the reference. This is likely a bug/unexpected loss of precision.\n",
      "E0522 04:26:13.495091    1509 buffer_comparator.cc:156] Difference at 512: 0.999967, expected 1.22976\n",
      "E0522 04:26:13.495106    1509 buffer_comparator.cc:156] Difference at 513: 0, expected 0.566288\n",
      "E0522 04:26:13.495111    1509 buffer_comparator.cc:156] Difference at 514: -0.00814992, expected 0.394987\n",
      "E0522 04:26:13.495116    1509 buffer_comparator.cc:156] Difference at 515: 0, expected 1.6115\n",
      "E0522 04:26:13.495120    1509 buffer_comparator.cc:156] Difference at 516: 1, expected 0.730835\n",
      "E0522 04:26:13.495125    1509 buffer_comparator.cc:156] Difference at 517: 0, expected 0.785248\n",
      "E0522 04:26:13.495129    1509 buffer_comparator.cc:156] Difference at 518: 0, expected 0.701329\n",
      "E0522 04:26:13.495133    1509 buffer_comparator.cc:156] Difference at 519: 0, expected 1.50329\n",
      "E0522 04:26:13.495137    1509 buffer_comparator.cc:156] Difference at 520: 1, expected 0.129589\n",
      "E0522 04:26:13.495141    1509 buffer_comparator.cc:156] Difference at 521: 0, expected 0.971092\n",
      "2025-05-22 04:26:13.495148: E external/xla/xla/service/gpu/autotuning/gemm_fusion_autotuner.cc:1138] Results do not match the reference. This is likely a bug/unexpected loss of precision.\n",
      "E0522 04:26:13.500700    1509 buffer_comparator.cc:156] Difference at 1024: 1, expected 1.40006\n",
      "E0522 04:26:13.500716    1509 buffer_comparator.cc:156] Difference at 1025: 0, expected 0.789354\n",
      "E0522 04:26:13.500721    1509 buffer_comparator.cc:156] Difference at 1026: 0, expected 0.552238\n",
      "E0522 04:26:13.500725    1509 buffer_comparator.cc:156] Difference at 1027: 0, expected 1.2162\n",
      "E0522 04:26:13.500729    1509 buffer_comparator.cc:156] Difference at 1028: 0.999985, expected 0.225638\n",
      "E0522 04:26:13.500734    1509 buffer_comparator.cc:156] Difference at 1029: 0, expected 1.22537\n",
      "E0522 04:26:13.500738    1509 buffer_comparator.cc:156] Difference at 1030: 0.00542588, expected 0.704431\n",
      "E0522 04:26:13.500742    1509 buffer_comparator.cc:156] Difference at 1031: 0, expected 1.67987\n",
      "E0522 04:26:13.500747    1509 buffer_comparator.cc:156] Difference at 1032: 0.999985, expected 0.577585\n",
      "E0522 04:26:13.500751    1509 buffer_comparator.cc:156] Difference at 1033: 0, expected 1.10669\n",
      "2025-05-22 04:26:13.500757: E external/xla/xla/service/gpu/autotuning/gemm_fusion_autotuner.cc:1138] Results do not match the reference. This is likely a bug/unexpected loss of precision.\n",
      "E0522 04:26:13.506438    1509 buffer_comparator.cc:156] Difference at 1024: 1, expected 1.40006\n",
      "E0522 04:26:13.506454    1509 buffer_comparator.cc:156] Difference at 1025: 0, expected 0.789354\n",
      "E0522 04:26:13.506460    1509 buffer_comparator.cc:156] Difference at 1026: 0, expected 0.552238\n",
      "E0522 04:26:13.506463    1509 buffer_comparator.cc:156] Difference at 1027: 0, expected 1.2162\n",
      "E0522 04:26:13.506468    1509 buffer_comparator.cc:156] Difference at 1028: 0.999985, expected 0.225638\n",
      "E0522 04:26:13.506472    1509 buffer_comparator.cc:156] Difference at 1029: 0, expected 1.22537\n",
      "E0522 04:26:13.506476    1509 buffer_comparator.cc:156] Difference at 1030: 0.00542588, expected 0.704431\n",
      "E0522 04:26:13.506480    1509 buffer_comparator.cc:156] Difference at 1031: 0, expected 1.67987\n",
      "E0522 04:26:13.506485    1509 buffer_comparator.cc:156] Difference at 1032: 0.999985, expected 0.577585\n",
      "E0522 04:26:13.506489    1509 buffer_comparator.cc:156] Difference at 1033: 0, expected 1.10669\n",
      "2025-05-22 04:26:13.506495: E external/xla/xla/service/gpu/autotuning/gemm_fusion_autotuner.cc:1138] Results do not match the reference. This is likely a bug/unexpected loss of precision.\n",
      "E0522 04:26:13.526032    1509 buffer_comparator.cc:156] Difference at 0: 1.0441, expected 0.759953\n",
      "E0522 04:26:13.526053    1509 buffer_comparator.cc:156] Difference at 1: 1.07583, expected 0.799893\n",
      "E0522 04:26:13.526058    1509 buffer_comparator.cc:156] Difference at 2: 1.0895, expected 0.649072\n",
      "E0522 04:26:13.526063    1509 buffer_comparator.cc:156] Difference at 3: 1.06364, expected 0.747781\n",
      "E0522 04:26:13.526067    1509 buffer_comparator.cc:156] Difference at 4: 1.10314, expected 0.786326\n",
      "E0522 04:26:13.526071    1509 buffer_comparator.cc:156] Difference at 5: 1.04011, expected 0.641838\n",
      "E0522 04:26:13.526075    1509 buffer_comparator.cc:156] Difference at 6: 0.849179, expected 1.84123\n",
      "E0522 04:26:13.526079    1509 buffer_comparator.cc:156] Difference at 7: 0.871598, expected 1.91609\n",
      "E0522 04:26:13.526083    1509 buffer_comparator.cc:156] Difference at 8: 0.9103, expected 1.74864\n",
      "E0522 04:26:13.526087    1509 buffer_comparator.cc:156] Difference at 9: 1.40787, expected 1.05998\n",
      "2025-05-22 04:26:13.526094: E external/xla/xla/service/gpu/autotuning/gemm_fusion_autotuner.cc:1138] Results do not match the reference. This is likely a bug/unexpected loss of precision.\n",
      "E0522 04:26:13.539388    1509 buffer_comparator.cc:156] Difference at 0: 1.0441, expected 0.759953\n",
      "E0522 04:26:13.539404    1509 buffer_comparator.cc:156] Difference at 1: 1.07583, expected 0.799893\n",
      "E0522 04:26:13.539409    1509 buffer_comparator.cc:156] Difference at 2: 1.0895, expected 0.649072\n",
      "E0522 04:26:13.539414    1509 buffer_comparator.cc:156] Difference at 3: 1.06364, expected 0.747781\n",
      "E0522 04:26:13.539418    1509 buffer_comparator.cc:156] Difference at 4: 1.10314, expected 0.786326\n",
      "E0522 04:26:13.539422    1509 buffer_comparator.cc:156] Difference at 5: 1.04011, expected 0.641838\n",
      "E0522 04:26:13.539426    1509 buffer_comparator.cc:156] Difference at 6: 0.849179, expected 1.84123\n",
      "E0522 04:26:13.539430    1509 buffer_comparator.cc:156] Difference at 7: 0.871598, expected 1.91609\n",
      "E0522 04:26:13.539434    1509 buffer_comparator.cc:156] Difference at 8: 0.9103, expected 1.74864\n",
      "E0522 04:26:13.539438    1509 buffer_comparator.cc:156] Difference at 9: 1.40787, expected 1.05998\n",
      "2025-05-22 04:26:13.539445: E external/xla/xla/service/gpu/autotuning/gemm_fusion_autotuner.cc:1138] Results do not match the reference. This is likely a bug/unexpected loss of precision.\n",
      "E0522 04:26:13.552923    1509 buffer_comparator.cc:156] Difference at 0: 1.0441, expected 0.759953\n",
      "E0522 04:26:13.552939    1509 buffer_comparator.cc:156] Difference at 1: 1.07583, expected 0.799893\n",
      "E0522 04:26:13.552945    1509 buffer_comparator.cc:156] Difference at 2: 1.0895, expected 0.649072\n",
      "E0522 04:26:13.552949    1509 buffer_comparator.cc:156] Difference at 3: 1.06364, expected 0.747781\n",
      "E0522 04:26:13.552953    1509 buffer_comparator.cc:156] Difference at 4: 1.10314, expected 0.786326\n",
      "E0522 04:26:13.552957    1509 buffer_comparator.cc:156] Difference at 5: 1.04011, expected 0.641838\n",
      "E0522 04:26:13.552962    1509 buffer_comparator.cc:156] Difference at 6: 0.849179, expected 1.84123\n",
      "E0522 04:26:13.552966    1509 buffer_comparator.cc:156] Difference at 7: 0.871598, expected 1.91609\n",
      "E0522 04:26:13.552970    1509 buffer_comparator.cc:156] Difference at 8: 0.9103, expected 1.74864\n",
      "E0522 04:26:13.552974    1509 buffer_comparator.cc:156] Difference at 9: 1.40787, expected 1.05998\n",
      "2025-05-22 04:26:13.552980: E external/xla/xla/service/gpu/autotuning/gemm_fusion_autotuner.cc:1138] Results do not match the reference. This is likely a bug/unexpected loss of precision.\n",
      "E0522 04:26:13.566412    1509 buffer_comparator.cc:156] Difference at 0: 1.0441, expected 0.759953\n",
      "E0522 04:26:13.566435    1509 buffer_comparator.cc:156] Difference at 1: 1.07583, expected 0.799893\n",
      "E0522 04:26:13.566440    1509 buffer_comparator.cc:156] Difference at 2: 1.0895, expected 0.649072\n",
      "E0522 04:26:13.566444    1509 buffer_comparator.cc:156] Difference at 3: 1.06364, expected 0.747781\n",
      "E0522 04:26:13.566448    1509 buffer_comparator.cc:156] Difference at 4: 1.10314, expected 0.786326\n",
      "E0522 04:26:13.566452    1509 buffer_comparator.cc:156] Difference at 5: 1.04011, expected 0.641838\n",
      "E0522 04:26:13.566455    1509 buffer_comparator.cc:156] Difference at 6: 0.849179, expected 1.84123\n",
      "E0522 04:26:13.566459    1509 buffer_comparator.cc:156] Difference at 7: 0.871598, expected 1.91609\n",
      "E0522 04:26:13.566463    1509 buffer_comparator.cc:156] Difference at 8: 0.9103, expected 1.74864\n",
      "E0522 04:26:13.566467    1509 buffer_comparator.cc:156] Difference at 9: 1.40787, expected 1.05998\n",
      "2025-05-22 04:26:13.566474: E external/xla/xla/service/gpu/autotuning/gemm_fusion_autotuner.cc:1138] Results do not match the reference. This is likely a bug/unexpected loss of precision.\n",
      "E0522 04:26:13.579844    1509 buffer_comparator.cc:156] Difference at 0: 1.0441, expected 0.759953\n",
      "E0522 04:26:13.579860    1509 buffer_comparator.cc:156] Difference at 1: 1.07583, expected 0.799893\n",
      "E0522 04:26:13.579866    1509 buffer_comparator.cc:156] Difference at 2: 1.0895, expected 0.649072\n",
      "E0522 04:26:13.579871    1509 buffer_comparator.cc:156] Difference at 3: 1.06364, expected 0.747781\n",
      "E0522 04:26:13.579875    1509 buffer_comparator.cc:156] Difference at 4: 1.10314, expected 0.786326\n",
      "E0522 04:26:13.579879    1509 buffer_comparator.cc:156] Difference at 5: 1.04011, expected 0.641838\n",
      "E0522 04:26:13.579883    1509 buffer_comparator.cc:156] Difference at 6: 0.849179, expected 1.84123\n",
      "E0522 04:26:13.579887    1509 buffer_comparator.cc:156] Difference at 7: 0.871598, expected 1.91609\n",
      "E0522 04:26:13.579891    1509 buffer_comparator.cc:156] Difference at 8: 0.9103, expected 1.74864\n",
      "E0522 04:26:13.579895    1509 buffer_comparator.cc:156] Difference at 9: 1.40787, expected 1.05998\n",
      "2025-05-22 04:26:13.579902: E external/xla/xla/service/gpu/autotuning/gemm_fusion_autotuner.cc:1138] Results do not match the reference. This is likely a bug/unexpected loss of precision.\n",
      "E0522 04:26:13.593249    1509 buffer_comparator.cc:156] Difference at 0: 1.0441, expected 0.759953\n",
      "E0522 04:26:13.593266    1509 buffer_comparator.cc:156] Difference at 1: 1.07583, expected 0.799893\n",
      "E0522 04:26:13.593271    1509 buffer_comparator.cc:156] Difference at 2: 1.0895, expected 0.649072\n",
      "E0522 04:26:13.593276    1509 buffer_comparator.cc:156] Difference at 3: 1.06364, expected 0.747781\n",
      "E0522 04:26:13.593280    1509 buffer_comparator.cc:156] Difference at 4: 1.10314, expected 0.786326\n",
      "E0522 04:26:13.593284    1509 buffer_comparator.cc:156] Difference at 5: 1.04011, expected 0.641838\n",
      "E0522 04:26:13.593289    1509 buffer_comparator.cc:156] Difference at 6: 0.849179, expected 1.84123\n",
      "E0522 04:26:13.593308    1509 buffer_comparator.cc:156] Difference at 7: 0.871598, expected 1.91609\n",
      "E0522 04:26:13.593313    1509 buffer_comparator.cc:156] Difference at 8: 0.9103, expected 1.74864\n",
      "E0522 04:26:13.593317    1509 buffer_comparator.cc:156] Difference at 9: 1.40787, expected 1.05998\n",
      "2025-05-22 04:26:13.593324: E external/xla/xla/service/gpu/autotuning/gemm_fusion_autotuner.cc:1138] Results do not match the reference. This is likely a bug/unexpected loss of precision.\n",
      "E0522 04:26:13.606790    1509 buffer_comparator.cc:156] Difference at 160: 0.481136, expected 1.13109\n",
      "E0522 04:26:13.606807    1509 buffer_comparator.cc:156] Difference at 161: 0.455769, expected 1.17217\n",
      "E0522 04:26:13.606812    1509 buffer_comparator.cc:156] Difference at 162: 1.69641, expected 1.01181\n",
      "E0522 04:26:13.606817    1509 buffer_comparator.cc:156] Difference at 163: 1.76404, expected 1.04392\n",
      "E0522 04:26:13.606821    1509 buffer_comparator.cc:156] Difference at 164: 1.62944, expected 1.03639\n",
      "E0522 04:26:13.606825    1509 buffer_comparator.cc:156] Difference at 192: 0.677704, expected 1.25829\n",
      "E0522 04:26:13.606829    1509 buffer_comparator.cc:156] Difference at 193: 0.0282354, expected 1.29787\n",
      "E0522 04:26:13.606834    1509 buffer_comparator.cc:156] Difference at 194: 0.67483, expected 1.2985\n",
      "E0522 04:26:13.606838    1509 buffer_comparator.cc:156] Difference at 195: 0.565143, expected 0.849168\n",
      "E0522 04:26:13.606842    1509 buffer_comparator.cc:156] Difference at 196: 0.387567, expected 0.881495\n",
      "2025-05-22 04:26:13.606849: E external/xla/xla/service/gpu/autotuning/gemm_fusion_autotuner.cc:1138] Results do not match the reference. This is likely a bug/unexpected loss of precision.\n",
      "E0522 04:26:13.620354    1509 buffer_comparator.cc:156] Difference at 384: 0.384543, expected 1.17807\n",
      "E0522 04:26:13.620370    1509 buffer_comparator.cc:156] Difference at 385: 0.603191, expected 1.23661\n",
      "E0522 04:26:13.620375    1509 buffer_comparator.cc:156] Difference at 386: 0.781352, expected 1.02266\n",
      "E0522 04:26:13.620380    1509 buffer_comparator.cc:156] Difference at 387: 1.07806, expected 1.43498\n",
      "E0522 04:26:13.620384    1509 buffer_comparator.cc:156] Difference at 388: 0.761962, expected 1.49864\n",
      "E0522 04:26:13.620388    1509 buffer_comparator.cc:156] Difference at 389: 0.151813, expected 1.32918\n",
      "E0522 04:26:13.620392    1509 buffer_comparator.cc:156] Difference at 390: 0.843485, expected 1.32706\n",
      "E0522 04:26:13.620396    1509 buffer_comparator.cc:156] Difference at 391: 0.364436, expected 1.3745\n",
      "E0522 04:26:13.620400    1509 buffer_comparator.cc:156] Difference at 392: 0.57996, expected 1.32397\n",
      "E0522 04:26:13.620404    1509 buffer_comparator.cc:156] Difference at 393: 0.485583, expected 1.06257\n",
      "2025-05-22 04:26:13.620411: E external/xla/xla/service/gpu/autotuning/gemm_fusion_autotuner.cc:1138] Results do not match the reference. This is likely a bug/unexpected loss of precision.\n",
      "E0522 04:26:13.633455    1509 buffer_comparator.cc:156] Difference at 384: 0.384543, expected 1.17807\n",
      "E0522 04:26:13.633472    1509 buffer_comparator.cc:156] Difference at 385: 0.603191, expected 1.23661\n",
      "E0522 04:26:13.633477    1509 buffer_comparator.cc:156] Difference at 386: 0.781352, expected 1.02266\n",
      "E0522 04:26:13.633482    1509 buffer_comparator.cc:156] Difference at 387: 1.07806, expected 1.43498\n",
      "E0522 04:26:13.633486    1509 buffer_comparator.cc:156] Difference at 388: 0.761962, expected 1.49864\n",
      "E0522 04:26:13.633490    1509 buffer_comparator.cc:156] Difference at 389: 0.151813, expected 1.32918\n",
      "E0522 04:26:13.633494    1509 buffer_comparator.cc:156] Difference at 390: 0.843485, expected 1.32706\n",
      "E0522 04:26:13.633498    1509 buffer_comparator.cc:156] Difference at 391: 0.364436, expected 1.3745\n",
      "E0522 04:26:13.633502    1509 buffer_comparator.cc:156] Difference at 392: 0.57996, expected 1.32397\n",
      "E0522 04:26:13.633506    1509 buffer_comparator.cc:156] Difference at 393: 0.485583, expected 1.06257\n",
      "2025-05-22 04:26:13.633513: E external/xla/xla/service/gpu/autotuning/gemm_fusion_autotuner.cc:1138] Results do not match the reference. This is likely a bug/unexpected loss of precision.\n",
      "E0522 04:26:13.646870    1509 buffer_comparator.cc:156] Difference at 0: 1.0441, expected 0.759953\n",
      "E0522 04:26:13.646887    1509 buffer_comparator.cc:156] Difference at 1: 1.07583, expected 0.799893\n",
      "E0522 04:26:13.646892    1509 buffer_comparator.cc:156] Difference at 2: 1.0895, expected 0.649072\n",
      "E0522 04:26:13.646897    1509 buffer_comparator.cc:156] Difference at 3: 1.06364, expected 0.747781\n",
      "E0522 04:26:13.646901    1509 buffer_comparator.cc:156] Difference at 4: 1.10314, expected 0.786326\n",
      "E0522 04:26:13.646905    1509 buffer_comparator.cc:156] Difference at 5: 1.04011, expected 0.641838\n",
      "E0522 04:26:13.646909    1509 buffer_comparator.cc:156] Difference at 6: 0.849179, expected 1.84123\n",
      "E0522 04:26:13.646913    1509 buffer_comparator.cc:156] Difference at 7: 0.871598, expected 1.91609\n",
      "E0522 04:26:13.646917    1509 buffer_comparator.cc:156] Difference at 8: 0.9103, expected 1.74864\n",
      "E0522 04:26:13.646921    1509 buffer_comparator.cc:156] Difference at 9: 1.40787, expected 1.05998\n",
      "2025-05-22 04:26:13.646928: E external/xla/xla/service/gpu/autotuning/gemm_fusion_autotuner.cc:1138] Results do not match the reference. This is likely a bug/unexpected loss of precision.\n",
      "E0522 04:26:13.657069    1509 buffer_comparator.cc:156] Difference at 768: 0.840621, expected 1.09315\n",
      "E0522 04:26:13.657086    1509 buffer_comparator.cc:156] Difference at 769: 0.729958, expected 1.13427\n",
      "E0522 04:26:13.657091    1509 buffer_comparator.cc:156] Difference at 770: 0.295478, expected 1.08937\n",
      "E0522 04:26:13.657096    1509 buffer_comparator.cc:156] Difference at 771: 1.27738, expected 1.65007\n",
      "E0522 04:26:13.657100    1509 buffer_comparator.cc:156] Difference at 772: 0.499133, expected 1.71674\n",
      "E0522 04:26:13.657105    1509 buffer_comparator.cc:156] Difference at 773: 0.349431, expected 1.57151\n",
      "E0522 04:26:13.657109    1509 buffer_comparator.cc:156] Difference at 774: 0.925853, expected 0.672913\n",
      "E0522 04:26:13.657113    1509 buffer_comparator.cc:156] Difference at 776: 0.317295, expected 0.685767\n",
      "E0522 04:26:13.657117    1509 buffer_comparator.cc:156] Difference at 777: 0.173916, expected 0.840092\n",
      "E0522 04:26:13.657121    1509 buffer_comparator.cc:156] Difference at 779: 1.12394, expected 0.759697\n",
      "2025-05-22 04:26:13.657128: E external/xla/xla/service/gpu/autotuning/gemm_fusion_autotuner.cc:1138] Results do not match the reference. This is likely a bug/unexpected loss of precision.\n",
      "E0522 04:26:13.658675    1509 buffer_comparator.cc:156] Difference at 16: 0.621055, expected 1.52797\n",
      "E0522 04:26:13.658692    1509 buffer_comparator.cc:156] Difference at 17: 0.307367, expected 1.35395\n",
      "E0522 04:26:13.658697    1509 buffer_comparator.cc:156] Difference at 18: 0.925095, expected 0.715657\n",
      "E0522 04:26:13.658701    1509 buffer_comparator.cc:156] Difference at 19: 0.456058, expected 0.73236\n",
      "E0522 04:26:13.658706    1509 buffer_comparator.cc:156] Difference at 20: 0.880748, expected 1.24724\n",
      "E0522 04:26:13.658710    1509 buffer_comparator.cc:156] Difference at 21: 0.101669, expected 0.64673\n",
      "E0522 04:26:13.658714    1509 buffer_comparator.cc:156] Difference at 22: 0.0194523, expected 1.66166\n",
      "E0522 04:26:13.658719    1509 buffer_comparator.cc:156] Difference at 24: 0.720405, expected 1.12299\n",
      "E0522 04:26:13.658723    1509 buffer_comparator.cc:156] Difference at 25: 0.332093, expected 0.597631\n",
      "E0522 04:26:13.658727    1509 buffer_comparator.cc:156] Difference at 26: 0.591077, expected 1.22097\n",
      "2025-05-22 04:26:13.658734: E external/xla/xla/service/gpu/autotuning/gemm_fusion_autotuner.cc:1138] Results do not match the reference. This is likely a bug/unexpected loss of precision.\n",
      "E0522 04:26:13.659799    1509 buffer_comparator.cc:156] Difference at 16: 0.621055, expected 1.52797\n",
      "E0522 04:26:13.659815    1509 buffer_comparator.cc:156] Difference at 17: 0.307367, expected 1.35395\n",
      "E0522 04:26:13.659820    1509 buffer_comparator.cc:156] Difference at 18: 0.925095, expected 0.715657\n",
      "E0522 04:26:13.659825    1509 buffer_comparator.cc:156] Difference at 19: 0.456058, expected 0.73236\n",
      "E0522 04:26:13.659829    1509 buffer_comparator.cc:156] Difference at 20: 0.880748, expected 1.24724\n",
      "E0522 04:26:13.659833    1509 buffer_comparator.cc:156] Difference at 21: 0.101669, expected 0.64673\n",
      "E0522 04:26:13.659838    1509 buffer_comparator.cc:156] Difference at 22: 0.0194523, expected 1.66166\n",
      "E0522 04:26:13.659842    1509 buffer_comparator.cc:156] Difference at 24: 0.720405, expected 1.12299\n",
      "E0522 04:26:13.659847    1509 buffer_comparator.cc:156] Difference at 25: 0.332093, expected 0.597631\n",
      "E0522 04:26:13.659851    1509 buffer_comparator.cc:156] Difference at 26: 0.591077, expected 1.22097\n",
      "2025-05-22 04:26:13.659857: E external/xla/xla/service/gpu/autotuning/gemm_fusion_autotuner.cc:1138] Results do not match the reference. This is likely a bug/unexpected loss of precision.\n",
      "E0522 04:26:13.660911    1509 buffer_comparator.cc:156] Difference at 32: 0.296472, expected 1.66542\n",
      "E0522 04:26:13.660927    1509 buffer_comparator.cc:156] Difference at 33: 0.0463513, expected 1.10755\n",
      "E0522 04:26:13.660932    1509 buffer_comparator.cc:156] Difference at 34: 0.46456, expected 0.700161\n",
      "E0522 04:26:13.660937    1509 buffer_comparator.cc:156] Difference at 35: 0.505428, expected 1.17851\n",
      "E0522 04:26:13.660942    1509 buffer_comparator.cc:156] Difference at 37: 0.761426, expected 0.992135\n",
      "E0522 04:26:13.660946    1509 buffer_comparator.cc:156] Difference at 39: 0.63107, expected 1.03906\n",
      "E0522 04:26:13.660950    1509 buffer_comparator.cc:156] Difference at 41: 0.0898917, expected 1.5177\n",
      "E0522 04:26:13.660955    1509 buffer_comparator.cc:156] Difference at 42: 0.133336, expected 0.78986\n",
      "E0522 04:26:13.660959    1509 buffer_comparator.cc:156] Difference at 43: 0.0808624, expected 0.963022\n",
      "E0522 04:26:13.660963    1509 buffer_comparator.cc:156] Difference at 44: 0.713125, expected 1.67103\n",
      "2025-05-22 04:26:13.660970: E external/xla/xla/service/gpu/autotuning/gemm_fusion_autotuner.cc:1138] Results do not match the reference. This is likely a bug/unexpected loss of precision.\n",
      "E0522 04:26:13.662023    1509 buffer_comparator.cc:156] Difference at 32: 0.296472, expected 1.66542\n",
      "E0522 04:26:13.662039    1509 buffer_comparator.cc:156] Difference at 33: 0.0463513, expected 1.10755\n",
      "E0522 04:26:13.662045    1509 buffer_comparator.cc:156] Difference at 34: 0.46456, expected 0.700161\n",
      "E0522 04:26:13.662050    1509 buffer_comparator.cc:156] Difference at 35: 0.505428, expected 1.17851\n",
      "E0522 04:26:13.662054    1509 buffer_comparator.cc:156] Difference at 37: 0.761426, expected 0.992135\n",
      "E0522 04:26:13.662058    1509 buffer_comparator.cc:156] Difference at 39: 0.63107, expected 1.03906\n",
      "E0522 04:26:13.662062    1509 buffer_comparator.cc:156] Difference at 41: 0.0898917, expected 1.5177\n",
      "E0522 04:26:13.662067    1509 buffer_comparator.cc:156] Difference at 42: 0.133336, expected 0.78986\n",
      "E0522 04:26:13.662071    1509 buffer_comparator.cc:156] Difference at 43: 0.0808624, expected 0.963022\n",
      "E0522 04:26:13.662075    1509 buffer_comparator.cc:156] Difference at 44: 0.713125, expected 1.67103\n",
      "2025-05-22 04:26:13.662082: E external/xla/xla/service/gpu/autotuning/gemm_fusion_autotuner.cc:1138] Results do not match the reference. This is likely a bug/unexpected loss of precision.\n",
      "E0522 04:26:13.663225    1509 buffer_comparator.cc:156] Difference at 66: 0.332184, expected 1.27276\n",
      "E0522 04:26:13.663241    1509 buffer_comparator.cc:156] Difference at 67: 0.603468, expected 1.26024\n",
      "E0522 04:26:13.663246    1509 buffer_comparator.cc:156] Difference at 68: 0.710507, expected 1.07078\n",
      "E0522 04:26:13.663251    1509 buffer_comparator.cc:156] Difference at 69: 0.526102, expected 0.992832\n",
      "E0522 04:26:13.663256    1509 buffer_comparator.cc:156] Difference at 70: 0.654278, expected 1.07377\n",
      "E0522 04:26:13.663260    1509 buffer_comparator.cc:156] Difference at 71: 0.729709, expected 1.40263\n",
      "E0522 04:26:13.663264    1509 buffer_comparator.cc:156] Difference at 72: 0.240655, expected 0.434755\n",
      "E0522 04:26:13.663268    1509 buffer_comparator.cc:156] Difference at 73: 0.707253, expected 1.10228\n",
      "E0522 04:26:13.663272    1509 buffer_comparator.cc:156] Difference at 75: 0.781377, expected 0.398454\n",
      "E0522 04:26:13.663277    1509 buffer_comparator.cc:156] Difference at 76: 0.603837, expected 0.877534\n",
      "2025-05-22 04:26:13.663283: E external/xla/xla/service/gpu/autotuning/gemm_fusion_autotuner.cc:1138] Results do not match the reference. This is likely a bug/unexpected loss of precision.\n",
      "E0522 04:26:13.664412    1509 buffer_comparator.cc:156] Difference at 66: 0.332184, expected 1.27276\n",
      "E0522 04:26:13.664428    1509 buffer_comparator.cc:156] Difference at 67: 0.603468, expected 1.26024\n",
      "E0522 04:26:13.664434    1509 buffer_comparator.cc:156] Difference at 68: 0.710507, expected 1.07078\n",
      "E0522 04:26:13.664438    1509 buffer_comparator.cc:156] Difference at 69: 0.526102, expected 0.992832\n",
      "E0522 04:26:13.664443    1509 buffer_comparator.cc:156] Difference at 70: 0.654278, expected 1.07377\n",
      "E0522 04:26:13.664447    1509 buffer_comparator.cc:156] Difference at 71: 0.729709, expected 1.40263\n",
      "E0522 04:26:13.664451    1509 buffer_comparator.cc:156] Difference at 72: 0.240655, expected 0.434755\n",
      "E0522 04:26:13.664455    1509 buffer_comparator.cc:156] Difference at 73: 0.707253, expected 1.10228\n",
      "E0522 04:26:13.664459    1509 buffer_comparator.cc:156] Difference at 75: 0.781377, expected 0.398454\n",
      "E0522 04:26:13.664464    1509 buffer_comparator.cc:156] Difference at 76: 0.603837, expected 0.877534\n",
      "2025-05-22 04:26:13.664470: E external/xla/xla/service/gpu/autotuning/gemm_fusion_autotuner.cc:1138] Results do not match the reference. This is likely a bug/unexpected loss of precision.\n",
      "E0522 04:26:13.665492    1509 buffer_comparator.cc:156] Difference at 66: 0.332184, expected 1.27276\n",
      "E0522 04:26:13.665508    1509 buffer_comparator.cc:156] Difference at 67: 0.603468, expected 1.26024\n",
      "E0522 04:26:13.665513    1509 buffer_comparator.cc:156] Difference at 68: 0.710507, expected 1.07078\n",
      "E0522 04:26:13.665518    1509 buffer_comparator.cc:156] Difference at 69: 0.526102, expected 0.992832\n",
      "E0522 04:26:13.665522    1509 buffer_comparator.cc:156] Difference at 70: 0.654278, expected 1.07377\n",
      "E0522 04:26:13.665526    1509 buffer_comparator.cc:156] Difference at 71: 0.729709, expected 1.40263\n",
      "E0522 04:26:13.665531    1509 buffer_comparator.cc:156] Difference at 72: 0.240655, expected 0.434755\n",
      "E0522 04:26:13.665535    1509 buffer_comparator.cc:156] Difference at 73: 0.707253, expected 1.10228\n",
      "E0522 04:26:13.665539    1509 buffer_comparator.cc:156] Difference at 75: 0.781377, expected 0.398454\n",
      "E0522 04:26:13.665543    1509 buffer_comparator.cc:156] Difference at 76: 0.603837, expected 0.877534\n",
      "2025-05-22 04:26:13.665550: E external/xla/xla/service/gpu/autotuning/gemm_fusion_autotuner.cc:1138] Results do not match the reference. This is likely a bug/unexpected loss of precision.\n",
      "E0522 04:26:13.666596    1509 buffer_comparator.cc:156] Difference at 128: 0.672059, expected 1.58137\n",
      "E0522 04:26:13.666611    1509 buffer_comparator.cc:156] Difference at 129: 0.640718, expected 1.21214\n",
      "E0522 04:26:13.666616    1509 buffer_comparator.cc:156] Difference at 130: 0.909366, expected 0.192831\n",
      "E0522 04:26:13.666621    1509 buffer_comparator.cc:156] Difference at 132: 0.838762, expected 1.07756\n",
      "E0522 04:26:13.666626    1509 buffer_comparator.cc:156] Difference at 134: 0.211889, expected 1.18165\n",
      "E0522 04:26:13.666630    1509 buffer_comparator.cc:156] Difference at 137: 0.583186, expected 0.84809\n",
      "E0522 04:26:13.666634    1509 buffer_comparator.cc:156] Difference at 138: 0.877892, expected 0.656701\n",
      "E0522 04:26:13.666638    1509 buffer_comparator.cc:156] Difference at 139: 0.740032, expected 1.33206\n",
      "E0522 04:26:13.666642    1509 buffer_comparator.cc:156] Difference at 140: 0.70907, expected 1.31679\n",
      "E0522 04:26:13.666647    1509 buffer_comparator.cc:156] Difference at 141: 0.234827, expected 0.99397\n",
      "2025-05-22 04:26:13.666653: E external/xla/xla/service/gpu/autotuning/gemm_fusion_autotuner.cc:1138] Results do not match the reference. This is likely a bug/unexpected loss of precision.\n",
      "E0522 04:26:13.667624    1509 buffer_comparator.cc:156] Difference at 128: 0.672059, expected 1.58137\n",
      "E0522 04:26:13.667640    1509 buffer_comparator.cc:156] Difference at 129: 0.640718, expected 1.21214\n",
      "E0522 04:26:13.667645    1509 buffer_comparator.cc:156] Difference at 130: 0.909366, expected 0.192831\n",
      "E0522 04:26:13.667650    1509 buffer_comparator.cc:156] Difference at 132: 0.838762, expected 1.07756\n",
      "E0522 04:26:13.667654    1509 buffer_comparator.cc:156] Difference at 134: 0.211889, expected 1.18165\n",
      "E0522 04:26:13.667659    1509 buffer_comparator.cc:156] Difference at 137: 0.583186, expected 0.84809\n",
      "E0522 04:26:13.667663    1509 buffer_comparator.cc:156] Difference at 138: 0.877892, expected 0.656701\n",
      "E0522 04:26:13.667667    1509 buffer_comparator.cc:156] Difference at 139: 0.740032, expected 1.33206\n",
      "E0522 04:26:13.667671    1509 buffer_comparator.cc:156] Difference at 140: 0.70907, expected 1.31679\n",
      "E0522 04:26:13.667675    1509 buffer_comparator.cc:156] Difference at 141: 0.234827, expected 0.99397\n",
      "2025-05-22 04:26:13.667682: E external/xla/xla/service/gpu/autotuning/gemm_fusion_autotuner.cc:1138] Results do not match the reference. This is likely a bug/unexpected loss of precision.\n",
      "E0522 04:26:13.668698    1509 buffer_comparator.cc:156] Difference at 256: 0.593759, expected 1.10275\n",
      "E0522 04:26:13.668714    1509 buffer_comparator.cc:156] Difference at 257: 0.130151, expected 0.573575\n",
      "E0522 04:26:13.668719    1509 buffer_comparator.cc:156] Difference at 259: 0.0923523, expected 0.952095\n",
      "E0522 04:26:13.668724    1509 buffer_comparator.cc:156] Difference at 260: 0.0783777, expected 1.05766\n",
      "E0522 04:26:13.668728    1509 buffer_comparator.cc:156] Difference at 261: 0.0078203, expected 1.32408\n",
      "E0522 04:26:13.668733    1509 buffer_comparator.cc:156] Difference at 262: 0.0351691, expected 0.623901\n",
      "E0522 04:26:13.668737    1509 buffer_comparator.cc:156] Difference at 263: 0.423109, expected 0.944289\n",
      "E0522 04:26:13.668742    1509 buffer_comparator.cc:156] Difference at 264: 0.372211, expected 0.531483\n",
      "E0522 04:26:13.668746    1509 buffer_comparator.cc:156] Difference at 265: 0.655573, expected 1.25506\n",
      "E0522 04:26:13.668750    1509 buffer_comparator.cc:156] Difference at 266: 0.0779134, expected 1.42892\n",
      "2025-05-22 04:26:13.668757: E external/xla/xla/service/gpu/autotuning/gemm_fusion_autotuner.cc:1138] Results do not match the reference. This is likely a bug/unexpected loss of precision.\n",
      "E0522 04:26:13.670214    1509 buffer_comparator.cc:156] Difference at 256: 0.593759, expected 1.10275\n",
      "E0522 04:26:13.670231    1509 buffer_comparator.cc:156] Difference at 257: 0.130151, expected 0.573575\n",
      "E0522 04:26:13.670236    1509 buffer_comparator.cc:156] Difference at 259: 0.0923523, expected 0.952095\n",
      "E0522 04:26:13.670241    1509 buffer_comparator.cc:156] Difference at 260: 0.0783777, expected 1.05766\n",
      "E0522 04:26:13.670245    1509 buffer_comparator.cc:156] Difference at 261: 0.0078203, expected 1.32408\n",
      "E0522 04:26:13.670249    1509 buffer_comparator.cc:156] Difference at 262: 0.0351691, expected 0.623901\n",
      "E0522 04:26:13.670253    1509 buffer_comparator.cc:156] Difference at 263: 0.423109, expected 0.944289\n",
      "E0522 04:26:13.670258    1509 buffer_comparator.cc:156] Difference at 264: 0.372211, expected 0.531483\n",
      "E0522 04:26:13.670262    1509 buffer_comparator.cc:156] Difference at 265: 0.655573, expected 1.25506\n",
      "E0522 04:26:13.670266    1509 buffer_comparator.cc:156] Difference at 266: 0.0779134, expected 1.42892\n",
      "2025-05-22 04:26:13.670272: E external/xla/xla/service/gpu/autotuning/gemm_fusion_autotuner.cc:1138] Results do not match the reference. This is likely a bug/unexpected loss of precision.\n",
      "E0522 04:26:13.673256    1509 buffer_comparator.cc:156] Difference at 80: 0.925109, expected 6.57277\n",
      "E0522 04:26:13.673273    1509 buffer_comparator.cc:156] Difference at 81: 1.35546, expected 0.24304\n",
      "E0522 04:26:13.673278    1509 buffer_comparator.cc:156] Difference at 82: 1.32165, expected 3.34969\n",
      "E0522 04:26:13.673283    1509 buffer_comparator.cc:156] Difference at 83: 0.940594, expected 3.46466\n",
      "E0522 04:26:13.673287    1509 buffer_comparator.cc:156] Difference at 84: 0.784403, expected 3.53859\n",
      "E0522 04:26:13.673306    1509 buffer_comparator.cc:156] Difference at 85: 0.733128, expected 2.92322\n",
      "E0522 04:26:13.673312    1509 buffer_comparator.cc:156] Difference at 86: 0.915454, expected 13.4558\n",
      "E0522 04:26:13.673317    1509 buffer_comparator.cc:156] Difference at 87: 0.535133, expected 2.02351\n",
      "E0522 04:26:13.673321    1509 buffer_comparator.cc:156] Difference at 88: 0.959445, expected 2.48688\n",
      "E0522 04:26:13.673325    1509 buffer_comparator.cc:156] Difference at 89: 0.842168, expected 2.3963\n",
      "2025-05-22 04:26:13.673332: E external/xla/xla/service/gpu/autotuning/gemm_fusion_autotuner.cc:1138] Results do not match the reference. This is likely a bug/unexpected loss of precision.\n",
      "E0522 04:26:13.675346    1509 buffer_comparator.cc:156] Difference at 80: 0.925109, expected 6.57277\n",
      "E0522 04:26:13.675364    1509 buffer_comparator.cc:156] Difference at 81: 1.35546, expected 0.24304\n",
      "E0522 04:26:13.675370    1509 buffer_comparator.cc:156] Difference at 82: 1.32165, expected 3.34969\n",
      "E0522 04:26:13.675374    1509 buffer_comparator.cc:156] Difference at 83: 0.940594, expected 3.46466\n",
      "E0522 04:26:13.675379    1509 buffer_comparator.cc:156] Difference at 84: 0.784403, expected 3.53859\n",
      "E0522 04:26:13.675383    1509 buffer_comparator.cc:156] Difference at 85: 0.733128, expected 2.92322\n",
      "E0522 04:26:13.675387    1509 buffer_comparator.cc:156] Difference at 86: 0.915454, expected 13.4558\n",
      "E0522 04:26:13.675392    1509 buffer_comparator.cc:156] Difference at 87: 0.535133, expected 2.02351\n",
      "E0522 04:26:13.675396    1509 buffer_comparator.cc:156] Difference at 88: 0.959445, expected 2.48688\n",
      "E0522 04:26:13.675400    1509 buffer_comparator.cc:156] Difference at 89: 0.842168, expected 2.3963\n",
      "2025-05-22 04:26:13.675407: E external/xla/xla/service/gpu/autotuning/gemm_fusion_autotuner.cc:1138] Results do not match the reference. This is likely a bug/unexpected loss of precision.\n",
      "E0522 04:26:13.677391    1509 buffer_comparator.cc:156] Difference at 160: 0.122317, expected 11.2809\n",
      "E0522 04:26:13.677407    1509 buffer_comparator.cc:156] Difference at 161: 0.337392, expected 17.4583\n",
      "E0522 04:26:13.677413    1509 buffer_comparator.cc:156] Difference at 162: 0.20407, expected 2.14543\n",
      "E0522 04:26:13.677418    1509 buffer_comparator.cc:156] Difference at 164: 1.07486, expected 4.95364\n",
      "E0522 04:26:13.677422    1509 buffer_comparator.cc:156] Difference at 165: 1.27195, expected 3.69043\n",
      "E0522 04:26:13.677426    1509 buffer_comparator.cc:156] Difference at 166: 1.43478, expected 8.26375\n",
      "E0522 04:26:13.677430    1509 buffer_comparator.cc:156] Difference at 167: 0.673915, expected 1.47141\n",
      "E0522 04:26:13.677435    1509 buffer_comparator.cc:156] Difference at 169: 0.785856, expected 3.79668\n",
      "E0522 04:26:13.677439    1509 buffer_comparator.cc:156] Difference at 170: 0.60138, expected 2.62932\n",
      "E0522 04:26:13.677443    1509 buffer_comparator.cc:156] Difference at 171: 1.73092, expected 9.85448\n",
      "2025-05-22 04:26:13.677452: E external/xla/xla/service/gpu/autotuning/gemm_fusion_autotuner.cc:1138] Results do not match the reference. This is likely a bug/unexpected loss of precision.\n",
      "E0522 04:26:13.679456    1509 buffer_comparator.cc:156] Difference at 160: 0.122317, expected 11.2809\n",
      "E0522 04:26:13.679473    1509 buffer_comparator.cc:156] Difference at 161: 0.337392, expected 17.4583\n",
      "E0522 04:26:13.679478    1509 buffer_comparator.cc:156] Difference at 162: 0.20407, expected 2.14543\n",
      "E0522 04:26:13.679483    1509 buffer_comparator.cc:156] Difference at 164: 1.07486, expected 4.95364\n",
      "E0522 04:26:13.679487    1509 buffer_comparator.cc:156] Difference at 165: 1.27195, expected 3.69043\n",
      "E0522 04:26:13.679491    1509 buffer_comparator.cc:156] Difference at 166: 1.43478, expected 8.26375\n",
      "E0522 04:26:13.679496    1509 buffer_comparator.cc:156] Difference at 167: 0.673915, expected 1.47141\n",
      "E0522 04:26:13.679500    1509 buffer_comparator.cc:156] Difference at 169: 0.785856, expected 3.79668\n",
      "E0522 04:26:13.679504    1509 buffer_comparator.cc:156] Difference at 170: 0.60138, expected 2.62932\n",
      "E0522 04:26:13.679508    1509 buffer_comparator.cc:156] Difference at 171: 1.73092, expected 9.85448\n",
      "2025-05-22 04:26:13.679515: E external/xla/xla/service/gpu/autotuning/gemm_fusion_autotuner.cc:1138] Results do not match the reference. This is likely a bug/unexpected loss of precision.\n",
      "E0522 04:26:13.681505    1509 buffer_comparator.cc:156] Difference at 320: 0.537606, expected 11.0855\n",
      "E0522 04:26:13.681522    1509 buffer_comparator.cc:156] Difference at 321: 0.170432, expected 14.6781\n",
      "E0522 04:26:13.681527    1509 buffer_comparator.cc:156] Difference at 322: 0.913139, expected 0.416159\n",
      "E0522 04:26:13.681532    1509 buffer_comparator.cc:156] Difference at 323: 0.257792, expected 3.09852\n",
      "E0522 04:26:13.681536    1509 buffer_comparator.cc:156] Difference at 324: 0.167782, expected 1.295\n",
      "E0522 04:26:13.681541    1509 buffer_comparator.cc:156] Difference at 325: 0.396799, expected 6.85625\n",
      "E0522 04:26:13.681545    1509 buffer_comparator.cc:156] Difference at 326: 0.0188886, expected 19.0113\n",
      "E0522 04:26:13.681549    1509 buffer_comparator.cc:156] Difference at 327: 0.0739948, expected 2.45899\n",
      "E0522 04:26:13.681554    1509 buffer_comparator.cc:156] Difference at 328: 0.8565, expected 2.24656\n",
      "E0522 04:26:13.681558    1509 buffer_comparator.cc:156] Difference at 329: 0.684096, expected 2.33583\n",
      "2025-05-22 04:26:13.681565: E external/xla/xla/service/gpu/autotuning/gemm_fusion_autotuner.cc:1138] Results do not match the reference. This is likely a bug/unexpected loss of precision.\n",
      "E0522 04:26:13.683715    1509 buffer_comparator.cc:156] Difference at 320: 0.537606, expected 11.0855\n",
      "E0522 04:26:13.683731    1509 buffer_comparator.cc:156] Difference at 321: 0.170432, expected 14.6781\n",
      "E0522 04:26:13.683736    1509 buffer_comparator.cc:156] Difference at 322: 0.913139, expected 0.416159\n",
      "E0522 04:26:13.683741    1509 buffer_comparator.cc:156] Difference at 323: 0.257792, expected 3.09852\n",
      "E0522 04:26:13.683746    1509 buffer_comparator.cc:156] Difference at 324: 0.167782, expected 1.295\n",
      "E0522 04:26:13.683750    1509 buffer_comparator.cc:156] Difference at 325: 0.396799, expected 6.85625\n",
      "E0522 04:26:13.683754    1509 buffer_comparator.cc:156] Difference at 326: 0.0188886, expected 19.0113\n",
      "E0522 04:26:13.683759    1509 buffer_comparator.cc:156] Difference at 327: 0.0739948, expected 2.45899\n",
      "E0522 04:26:13.683763    1509 buffer_comparator.cc:156] Difference at 328: 0.8565, expected 2.24656\n",
      "E0522 04:26:13.683768    1509 buffer_comparator.cc:156] Difference at 329: 0.684096, expected 2.33583\n",
      "2025-05-22 04:26:13.683776: E external/xla/xla/service/gpu/autotuning/gemm_fusion_autotuner.cc:1138] Results do not match the reference. This is likely a bug/unexpected loss of precision.\n",
      "E0522 04:26:13.685823    1509 buffer_comparator.cc:156] Difference at 320: 0.537606, expected 11.0855\n",
      "E0522 04:26:13.685839    1509 buffer_comparator.cc:156] Difference at 321: 0.170432, expected 14.6781\n",
      "E0522 04:26:13.685845    1509 buffer_comparator.cc:156] Difference at 322: 0.913139, expected 0.416159\n",
      "E0522 04:26:13.685850    1509 buffer_comparator.cc:156] Difference at 323: 0.257792, expected 3.09852\n",
      "E0522 04:26:13.685854    1509 buffer_comparator.cc:156] Difference at 324: 0.167782, expected 1.295\n",
      "E0522 04:26:13.685858    1509 buffer_comparator.cc:156] Difference at 325: 0.396799, expected 6.85625\n",
      "E0522 04:26:13.685862    1509 buffer_comparator.cc:156] Difference at 326: 0.0188886, expected 19.0113\n",
      "E0522 04:26:13.685867    1509 buffer_comparator.cc:156] Difference at 327: 0.0739948, expected 2.45899\n",
      "E0522 04:26:13.685871    1509 buffer_comparator.cc:156] Difference at 328: 0.8565, expected 2.24656\n",
      "E0522 04:26:13.685876    1509 buffer_comparator.cc:156] Difference at 329: 0.684096, expected 2.33583\n",
      "2025-05-22 04:26:13.685882: E external/xla/xla/service/gpu/autotuning/gemm_fusion_autotuner.cc:1138] Results do not match the reference. This is likely a bug/unexpected loss of precision.\n",
      "E0522 04:26:13.687850    1509 buffer_comparator.cc:156] Difference at 640: 1.64118, expected 5.35235\n",
      "E0522 04:26:13.687865    1509 buffer_comparator.cc:156] Difference at 641: 1.2629, expected 4.39889\n",
      "E0522 04:26:13.687870    1509 buffer_comparator.cc:156] Difference at 642: 0.190495, expected 0.789339\n",
      "E0522 04:26:13.687875    1509 buffer_comparator.cc:156] Difference at 643: 0.413226, expected 1.79146\n",
      "E0522 04:26:13.687880    1509 buffer_comparator.cc:156] Difference at 644: 1.12448, expected 3.63918\n",
      "E0522 04:26:13.687884    1509 buffer_comparator.cc:156] Difference at 645: 0.71698, expected 2.59968\n",
      "E0522 04:26:13.687888    1509 buffer_comparator.cc:156] Difference at 647: 0.940883, expected 2.05264\n",
      "E0522 04:26:13.687893    1509 buffer_comparator.cc:156] Difference at 648: 0.803435, expected 4.2312\n",
      "E0522 04:26:13.687897    1509 buffer_comparator.cc:156] Difference at 649: 0.888964, expected 4.9592\n",
      "E0522 04:26:13.687901    1509 buffer_comparator.cc:156] Difference at 650: 0.67008, expected 11.4175\n",
      "2025-05-22 04:26:13.687908: E external/xla/xla/service/gpu/autotuning/gemm_fusion_autotuner.cc:1138] Results do not match the reference. This is likely a bug/unexpected loss of precision.\n",
      "E0522 04:26:13.689824    1509 buffer_comparator.cc:156] Difference at 640: 1.64118, expected 5.35235\n",
      "E0522 04:26:13.689839    1509 buffer_comparator.cc:156] Difference at 641: 1.2629, expected 4.39889\n",
      "E0522 04:26:13.689844    1509 buffer_comparator.cc:156] Difference at 642: 0.190495, expected 0.789339\n",
      "E0522 04:26:13.689849    1509 buffer_comparator.cc:156] Difference at 643: 0.413226, expected 1.79146\n",
      "E0522 04:26:13.689853    1509 buffer_comparator.cc:156] Difference at 644: 1.12448, expected 3.63918\n",
      "E0522 04:26:13.689857    1509 buffer_comparator.cc:156] Difference at 645: 0.71698, expected 2.59968\n",
      "E0522 04:26:13.689861    1509 buffer_comparator.cc:156] Difference at 647: 0.940883, expected 2.05264\n",
      "E0522 04:26:13.689866    1509 buffer_comparator.cc:156] Difference at 648: 0.803435, expected 4.2312\n",
      "E0522 04:26:13.689870    1509 buffer_comparator.cc:156] Difference at 649: 0.888964, expected 4.9592\n",
      "E0522 04:26:13.689874    1509 buffer_comparator.cc:156] Difference at 650: 0.67008, expected 11.4175\n",
      "2025-05-22 04:26:13.689883: E external/xla/xla/service/gpu/autotuning/gemm_fusion_autotuner.cc:1138] Results do not match the reference. This is likely a bug/unexpected loss of precision.\n",
      "E0522 04:26:13.691760    1509 buffer_comparator.cc:156] Difference at 1280: 0.956562, expected 11.2763\n",
      "E0522 04:26:13.691776    1509 buffer_comparator.cc:156] Difference at 1281: 0.553542, expected 11.7236\n",
      "E0522 04:26:13.691782    1509 buffer_comparator.cc:156] Difference at 1283: 0.515458, expected 3.10216\n",
      "E0522 04:26:13.691787    1509 buffer_comparator.cc:156] Difference at 1284: 0.687059, expected 0.432551\n",
      "E0522 04:26:13.691791    1509 buffer_comparator.cc:156] Difference at 1285: 0.330682, expected 8.94199\n",
      "E0522 04:26:13.691795    1509 buffer_comparator.cc:156] Difference at 1286: 0.58756, expected 15.1882\n",
      "E0522 04:26:13.691799    1509 buffer_comparator.cc:156] Difference at 1287: 0.430002, expected 1.88747\n",
      "E0522 04:26:13.691804    1509 buffer_comparator.cc:156] Difference at 1288: 0.416276, expected 2.17231\n",
      "E0522 04:26:13.691808    1509 buffer_comparator.cc:156] Difference at 1289: 0.491806, expected 1.41343\n",
      "E0522 04:26:13.691812    1509 buffer_comparator.cc:156] Difference at 1290: 0.974886, expected 10.5851\n",
      "2025-05-22 04:26:13.691819: E external/xla/xla/service/gpu/autotuning/gemm_fusion_autotuner.cc:1138] Results do not match the reference. This is likely a bug/unexpected loss of precision.\n",
      "E0522 04:26:13.693706    1509 buffer_comparator.cc:156] Difference at 1280: 0.956562, expected 11.2763\n",
      "E0522 04:26:13.693722    1509 buffer_comparator.cc:156] Difference at 1281: 0.553542, expected 11.7236\n",
      "E0522 04:26:13.693728    1509 buffer_comparator.cc:156] Difference at 1283: 0.515458, expected 3.10216\n",
      "E0522 04:26:13.693733    1509 buffer_comparator.cc:156] Difference at 1284: 0.687059, expected 0.432551\n",
      "E0522 04:26:13.693737    1509 buffer_comparator.cc:156] Difference at 1285: 0.330682, expected 8.94199\n",
      "E0522 04:26:13.693741    1509 buffer_comparator.cc:156] Difference at 1286: 0.58756, expected 15.1882\n",
      "E0522 04:26:13.693746    1509 buffer_comparator.cc:156] Difference at 1287: 0.430002, expected 1.88747\n",
      "E0522 04:26:13.693750    1509 buffer_comparator.cc:156] Difference at 1288: 0.416276, expected 2.17231\n",
      "E0522 04:26:13.693754    1509 buffer_comparator.cc:156] Difference at 1289: 0.491806, expected 1.41343\n",
      "E0522 04:26:13.693759    1509 buffer_comparator.cc:156] Difference at 1290: 0.974886, expected 10.5851\n",
      "2025-05-22 04:26:13.693766: E external/xla/xla/service/gpu/autotuning/gemm_fusion_autotuner.cc:1138] Results do not match the reference. This is likely a bug/unexpected loss of precision.\n",
      "E0522 04:26:13.695229    1509 buffer_comparator.cc:156] Difference at 80: 6.5713, expected 0.497057\n",
      "E0522 04:26:13.695245    1509 buffer_comparator.cc:156] Difference at 81: 0.24283, expected 0.488959\n",
      "E0522 04:26:13.695251    1509 buffer_comparator.cc:156] Difference at 82: 3.34787, expected 0.706348\n",
      "E0522 04:26:13.695256    1509 buffer_comparator.cc:156] Difference at 83: 3.46195, expected 0.479087\n",
      "E0522 04:26:13.695260    1509 buffer_comparator.cc:156] Difference at 84: 3.53665, expected 1.21534\n",
      "E0522 04:26:13.695264    1509 buffer_comparator.cc:156] Difference at 85: 2.92314, expected 1.73855\n",
      "E0522 04:26:13.695268    1509 buffer_comparator.cc:156] Difference at 86: 13.4473, expected 1.31904\n",
      "E0522 04:26:13.695272    1509 buffer_comparator.cc:156] Difference at 87: 2.0233, expected 0.110022\n",
      "E0522 04:26:13.695277    1509 buffer_comparator.cc:156] Difference at 88: 2.4848, expected 0.930225\n",
      "E0522 04:26:13.695281    1509 buffer_comparator.cc:156] Difference at 89: 2.39436, expected 0.167872\n",
      "2025-05-22 04:26:13.695288: E external/xla/xla/service/gpu/autotuning/gemm_fusion_autotuner.cc:1138] Results do not match the reference. This is likely a bug/unexpected loss of precision.\n",
      "E0522 04:26:13.696280    1509 buffer_comparator.cc:156] Difference at 80: 6.5713, expected 0.497057\n",
      "E0522 04:26:13.696310    1509 buffer_comparator.cc:156] Difference at 81: 0.24283, expected 0.488959\n",
      "E0522 04:26:13.696317    1509 buffer_comparator.cc:156] Difference at 82: 3.34787, expected 0.706348\n",
      "E0522 04:26:13.696322    1509 buffer_comparator.cc:156] Difference at 83: 3.46195, expected 0.479087\n",
      "E0522 04:26:13.696326    1509 buffer_comparator.cc:156] Difference at 84: 3.53665, expected 1.21534\n",
      "E0522 04:26:13.696330    1509 buffer_comparator.cc:156] Difference at 85: 2.92314, expected 1.73855\n",
      "E0522 04:26:13.696334    1509 buffer_comparator.cc:156] Difference at 86: 13.4473, expected 1.31904\n",
      "E0522 04:26:13.696339    1509 buffer_comparator.cc:156] Difference at 87: 2.0233, expected 0.110022\n",
      "E0522 04:26:13.696343    1509 buffer_comparator.cc:156] Difference at 88: 2.4848, expected 0.930225\n",
      "E0522 04:26:13.696347    1509 buffer_comparator.cc:156] Difference at 89: 2.39436, expected 0.167872\n",
      "2025-05-22 04:26:13.696354: E external/xla/xla/service/gpu/autotuning/gemm_fusion_autotuner.cc:1138] Results do not match the reference. This is likely a bug/unexpected loss of precision.\n",
      "E0522 04:26:13.697308    1509 buffer_comparator.cc:156] Difference at 160: 11.2752, expected 0.98981\n",
      "E0522 04:26:13.697324    1509 buffer_comparator.cc:156] Difference at 161: 17.4583, expected 0.267668\n",
      "E0522 04:26:13.697330    1509 buffer_comparator.cc:156] Difference at 162: 2.14543, expected 0.85867\n",
      "E0522 04:26:13.697334    1509 buffer_comparator.cc:156] Difference at 163: 1.57713, expected 1.03836\n",
      "E0522 04:26:13.697339    1509 buffer_comparator.cc:156] Difference at 164: 4.94977, expected 0.423246\n",
      "E0522 04:26:13.697343    1509 buffer_comparator.cc:156] Difference at 165: 3.6876, expected 0.959455\n",
      "E0522 04:26:13.697347    1509 buffer_comparator.cc:156] Difference at 166: 8.26375, expected 0.9308\n",
      "E0522 04:26:13.697351    1509 buffer_comparator.cc:156] Difference at 169: 3.79448, expected 1.04245\n",
      "E0522 04:26:13.697355    1509 buffer_comparator.cc:156] Difference at 170: 2.62677, expected 1.05712\n",
      "E0522 04:26:13.697359    1509 buffer_comparator.cc:156] Difference at 171: 9.85448, expected 0.751736\n",
      "2025-05-22 04:26:13.697366: E external/xla/xla/service/gpu/autotuning/gemm_fusion_autotuner.cc:1138] Results do not match the reference. This is likely a bug/unexpected loss of precision.\n",
      "E0522 04:26:13.698272    1509 buffer_comparator.cc:156] Difference at 160: 11.2752, expected 0.98981\n",
      "E0522 04:26:13.698287    1509 buffer_comparator.cc:156] Difference at 161: 17.4583, expected 0.267668\n",
      "E0522 04:26:13.698311    1509 buffer_comparator.cc:156] Difference at 162: 2.14543, expected 0.85867\n",
      "E0522 04:26:13.698317    1509 buffer_comparator.cc:156] Difference at 163: 1.57713, expected 1.03836\n",
      "E0522 04:26:13.698321    1509 buffer_comparator.cc:156] Difference at 164: 4.94977, expected 0.423246\n",
      "E0522 04:26:13.698325    1509 buffer_comparator.cc:156] Difference at 165: 3.6876, expected 0.959455\n",
      "E0522 04:26:13.698330    1509 buffer_comparator.cc:156] Difference at 166: 8.26375, expected 0.9308\n",
      "E0522 04:26:13.698334    1509 buffer_comparator.cc:156] Difference at 169: 3.79448, expected 1.04245\n",
      "E0522 04:26:13.698338    1509 buffer_comparator.cc:156] Difference at 170: 2.62677, expected 1.05712\n",
      "E0522 04:26:13.698343    1509 buffer_comparator.cc:156] Difference at 171: 9.85448, expected 0.751736\n",
      "2025-05-22 04:26:13.698349: E external/xla/xla/service/gpu/autotuning/gemm_fusion_autotuner.cc:1138] Results do not match the reference. This is likely a bug/unexpected loss of precision.\n",
      "E0522 04:26:13.699309    1509 buffer_comparator.cc:156] Difference at 320: 11.0789, expected 1.37325\n",
      "E0522 04:26:13.699325    1509 buffer_comparator.cc:156] Difference at 321: 14.6758, expected 1.23214\n",
      "E0522 04:26:13.699330    1509 buffer_comparator.cc:156] Difference at 322: 0.415946, expected 1.05901\n",
      "E0522 04:26:13.699335    1509 buffer_comparator.cc:156] Difference at 323: 3.095, expected 0.771916\n",
      "E0522 04:26:13.699340    1509 buffer_comparator.cc:156] Difference at 324: 1.295, expected 0.284469\n",
      "E0522 04:26:13.699344    1509 buffer_comparator.cc:156] Difference at 325: 6.85073, expected 1.15329\n",
      "E0522 04:26:13.699348    1509 buffer_comparator.cc:156] Difference at 326: 19.0017, expected 0.74688\n",
      "E0522 04:26:13.699353    1509 buffer_comparator.cc:156] Difference at 327: 2.45803, expected 1.13632\n",
      "E0522 04:26:13.699357    1509 buffer_comparator.cc:156] Difference at 328: 2.24501, expected 0.312246\n",
      "E0522 04:26:13.699361    1509 buffer_comparator.cc:156] Difference at 329: 2.33531, expected 0.481415\n",
      "2025-05-22 04:26:13.699368: E external/xla/xla/service/gpu/autotuning/gemm_fusion_autotuner.cc:1138] Results do not match the reference. This is likely a bug/unexpected loss of precision.\n",
      "E0522 04:26:13.700330    1509 buffer_comparator.cc:156] Difference at 320: 11.0789, expected 1.37325\n",
      "E0522 04:26:13.700349    1509 buffer_comparator.cc:156] Difference at 321: 14.6758, expected 1.23214\n",
      "E0522 04:26:13.700354    1509 buffer_comparator.cc:156] Difference at 322: 0.415946, expected 1.05901\n",
      "E0522 04:26:13.700359    1509 buffer_comparator.cc:156] Difference at 323: 3.095, expected 0.771916\n",
      "E0522 04:26:13.700363    1509 buffer_comparator.cc:156] Difference at 324: 1.295, expected 0.284469\n",
      "E0522 04:26:13.700367    1509 buffer_comparator.cc:156] Difference at 325: 6.85073, expected 1.15329\n",
      "E0522 04:26:13.700372    1509 buffer_comparator.cc:156] Difference at 326: 19.0017, expected 0.74688\n",
      "E0522 04:26:13.700376    1509 buffer_comparator.cc:156] Difference at 327: 2.45803, expected 1.13632\n",
      "E0522 04:26:13.700380    1509 buffer_comparator.cc:156] Difference at 328: 2.24501, expected 0.312246\n",
      "E0522 04:26:13.700385    1509 buffer_comparator.cc:156] Difference at 329: 2.33531, expected 0.481415\n",
      "2025-05-22 04:26:13.700392: E external/xla/xla/service/gpu/autotuning/gemm_fusion_autotuner.cc:1138] Results do not match the reference. This is likely a bug/unexpected loss of precision.\n",
      "E0522 04:26:13.701337    1509 buffer_comparator.cc:156] Difference at 320: 11.0789, expected 1.37325\n",
      "E0522 04:26:13.701353    1509 buffer_comparator.cc:156] Difference at 321: 14.6758, expected 1.23214\n",
      "E0522 04:26:13.701358    1509 buffer_comparator.cc:156] Difference at 322: 0.415946, expected 1.05901\n",
      "E0522 04:26:13.701363    1509 buffer_comparator.cc:156] Difference at 323: 3.095, expected 0.771916\n",
      "E0522 04:26:13.701368    1509 buffer_comparator.cc:156] Difference at 324: 1.295, expected 0.284469\n",
      "E0522 04:26:13.701372    1509 buffer_comparator.cc:156] Difference at 325: 6.85073, expected 1.15329\n",
      "E0522 04:26:13.701376    1509 buffer_comparator.cc:156] Difference at 326: 19.0017, expected 0.74688\n",
      "E0522 04:26:13.701381    1509 buffer_comparator.cc:156] Difference at 327: 2.45803, expected 1.13632\n",
      "E0522 04:26:13.701385    1509 buffer_comparator.cc:156] Difference at 328: 2.24501, expected 0.312246\n",
      "E0522 04:26:13.701389    1509 buffer_comparator.cc:156] Difference at 329: 2.33531, expected 0.481415\n",
      "2025-05-22 04:26:13.701396: E external/xla/xla/service/gpu/autotuning/gemm_fusion_autotuner.cc:1138] Results do not match the reference. This is likely a bug/unexpected loss of precision.\n",
      "E0522 04:26:13.702333    1509 buffer_comparator.cc:156] Difference at 640: 5.35162, expected 1.44068\n",
      "E0522 04:26:13.702349    1509 buffer_comparator.cc:156] Difference at 641: 4.39889, expected 1.57172\n",
      "E0522 04:26:13.702354    1509 buffer_comparator.cc:156] Difference at 642: 0.788912, expected 1.12271\n",
      "E0522 04:26:13.702359    1509 buffer_comparator.cc:156] Difference at 643: 1.7902, expected 1.10709\n",
      "E0522 04:26:13.702363    1509 buffer_comparator.cc:156] Difference at 644: 3.63892, expected 0.275442\n",
      "E0522 04:26:13.702367    1509 buffer_comparator.cc:156] Difference at 645: 2.59727, expected 0.190744\n",
      "E0522 04:26:13.702372    1509 buffer_comparator.cc:156] Difference at 647: 2.05168, expected 1.14089\n",
      "E0522 04:26:13.702376    1509 buffer_comparator.cc:156] Difference at 648: 4.228, expected 0.35753\n",
      "E0522 04:26:13.702380    1509 buffer_comparator.cc:156] Difference at 649: 4.9592, expected 1.17611\n",
      "E0522 04:26:13.702384    1509 buffer_comparator.cc:156] Difference at 650: 11.4113, expected 0.733386\n",
      "2025-05-22 04:26:13.702392: E external/xla/xla/service/gpu/autotuning/gemm_fusion_autotuner.cc:1138] Results do not match the reference. This is likely a bug/unexpected loss of precision.\n",
      "E0522 04:26:13.703338    1509 buffer_comparator.cc:156] Difference at 640: 5.35162, expected 1.44068\n",
      "E0522 04:26:13.703353    1509 buffer_comparator.cc:156] Difference at 641: 4.39889, expected 1.57172\n",
      "E0522 04:26:13.703358    1509 buffer_comparator.cc:156] Difference at 642: 0.788912, expected 1.12271\n",
      "E0522 04:26:13.703364    1509 buffer_comparator.cc:156] Difference at 643: 1.7902, expected 1.10709\n",
      "E0522 04:26:13.703368    1509 buffer_comparator.cc:156] Difference at 644: 3.63892, expected 0.275442\n",
      "E0522 04:26:13.703372    1509 buffer_comparator.cc:156] Difference at 645: 2.59727, expected 0.190744\n",
      "E0522 04:26:13.703377    1509 buffer_comparator.cc:156] Difference at 647: 2.05168, expected 1.14089\n",
      "E0522 04:26:13.703381    1509 buffer_comparator.cc:156] Difference at 648: 4.228, expected 0.35753\n",
      "E0522 04:26:13.703385    1509 buffer_comparator.cc:156] Difference at 649: 4.9592, expected 1.17611\n",
      "E0522 04:26:13.703389    1509 buffer_comparator.cc:156] Difference at 650: 11.4113, expected 0.733386\n",
      "2025-05-22 04:26:13.703397: E external/xla/xla/service/gpu/autotuning/gemm_fusion_autotuner.cc:1138] Results do not match the reference. This is likely a bug/unexpected loss of precision.\n",
      "E0522 04:26:13.704356    1509 buffer_comparator.cc:156] Difference at 1281: 0.553542, expected 0.840122\n",
      "E0522 04:26:13.704371    1509 buffer_comparator.cc:156] Difference at 1282: 0.348115, expected 0.719776\n",
      "E0522 04:26:13.704376    1509 buffer_comparator.cc:156] Difference at 1283: 0.515458, expected 1.29504\n",
      "E0522 04:26:13.704381    1509 buffer_comparator.cc:156] Difference at 1285: 0.330682, expected 0.814983\n",
      "E0522 04:26:13.704386    1509 buffer_comparator.cc:156] Difference at 1286: 0.58756, expected 1.54322\n",
      "E0522 04:26:13.704390    1509 buffer_comparator.cc:156] Difference at 1288: 0.416276, expected 0.595982\n",
      "E0522 04:26:13.704394    1509 buffer_comparator.cc:156] Difference at 1290: 0.974886, expected 1.24583\n",
      "E0522 04:26:13.704399    1509 buffer_comparator.cc:156] Difference at 1291: 0.0710371, expected 0.851831\n",
      "E0522 04:26:13.704403    1509 buffer_comparator.cc:156] Difference at 1292: 0.00654188, expected 0.628317\n",
      "E0522 04:26:13.704407    1509 buffer_comparator.cc:156] Difference at 1294: 0.565303, expected 0.893783\n",
      "2025-05-22 04:26:13.704414: E external/xla/xla/service/gpu/autotuning/gemm_fusion_autotuner.cc:1138] Results do not match the reference. This is likely a bug/unexpected loss of precision.\n",
      "E0522 04:26:13.705379    1509 buffer_comparator.cc:156] Difference at 1281: 0.553542, expected 0.840122\n",
      "E0522 04:26:13.705395    1509 buffer_comparator.cc:156] Difference at 1282: 0.348115, expected 0.719776\n",
      "E0522 04:26:13.705399    1509 buffer_comparator.cc:156] Difference at 1283: 0.515458, expected 1.29504\n",
      "E0522 04:26:13.705404    1509 buffer_comparator.cc:156] Difference at 1285: 0.330682, expected 0.814983\n",
      "E0522 04:26:13.705409    1509 buffer_comparator.cc:156] Difference at 1286: 0.58756, expected 1.54322\n",
      "E0522 04:26:13.705413    1509 buffer_comparator.cc:156] Difference at 1288: 0.416276, expected 0.595982\n",
      "E0522 04:26:13.705417    1509 buffer_comparator.cc:156] Difference at 1290: 0.974886, expected 1.24583\n",
      "E0522 04:26:13.705422    1509 buffer_comparator.cc:156] Difference at 1291: 0.0710371, expected 0.851831\n",
      "E0522 04:26:13.705426    1509 buffer_comparator.cc:156] Difference at 1292: 0.00654188, expected 0.628317\n",
      "E0522 04:26:13.705430    1509 buffer_comparator.cc:156] Difference at 1294: 0.565303, expected 0.893783\n",
      "2025-05-22 04:26:13.705437: E external/xla/xla/service/gpu/autotuning/gemm_fusion_autotuner.cc:1138] Results do not match the reference. This is likely a bug/unexpected loss of precision.\n",
      "E0522 04:26:13.708129    1509 buffer_comparator.cc:156] Difference at 80: 0.49679, expected 5.03782\n",
      "E0522 04:26:13.708145    1509 buffer_comparator.cc:156] Difference at 81: 0.488688, expected 4.37381\n",
      "E0522 04:26:13.708151    1509 buffer_comparator.cc:156] Difference at 82: 0.705491, expected 1.35827\n",
      "E0522 04:26:13.708155    1509 buffer_comparator.cc:156] Difference at 83: 0.478743, expected 2.20081\n",
      "E0522 04:26:13.708160    1509 buffer_comparator.cc:156] Difference at 84: 1.21441, expected 8.43529\n",
      "E0522 04:26:13.708163    1509 buffer_comparator.cc:156] Difference at 85: 1.73855, expected 11.4831\n",
      "E0522 04:26:13.708167    1509 buffer_comparator.cc:156] Difference at 86: 1.31803, expected 14.7064\n",
      "E0522 04:26:13.708171    1509 buffer_comparator.cc:156] Difference at 87: 0.109895, expected 1.07372\n",
      "E0522 04:26:13.708175    1509 buffer_comparator.cc:156] Difference at 88: 0.929759, expected 3.84888\n",
      "E0522 04:26:13.708178    1509 buffer_comparator.cc:156] Difference at 89: 0.167774, expected 1.07337\n",
      "2025-05-22 04:26:13.708188: E external/xla/xla/service/gpu/autotuning/gemm_fusion_autotuner.cc:1138] Results do not match the reference. This is likely a bug/unexpected loss of precision.\n",
      "E0522 04:26:13.710147    1509 buffer_comparator.cc:156] Difference at 80: 0.49679, expected 5.03782\n",
      "E0522 04:26:13.710163    1509 buffer_comparator.cc:156] Difference at 81: 0.488688, expected 4.37381\n",
      "E0522 04:26:13.710168    1509 buffer_comparator.cc:156] Difference at 82: 0.705491, expected 1.35827\n",
      "E0522 04:26:13.710173    1509 buffer_comparator.cc:156] Difference at 83: 0.478743, expected 2.20081\n",
      "E0522 04:26:13.710177    1509 buffer_comparator.cc:156] Difference at 84: 1.21441, expected 8.43529\n",
      "E0522 04:26:13.710182    1509 buffer_comparator.cc:156] Difference at 85: 1.73855, expected 11.4831\n",
      "E0522 04:26:13.710186    1509 buffer_comparator.cc:156] Difference at 86: 1.31803, expected 14.7064\n",
      "E0522 04:26:13.710191    1509 buffer_comparator.cc:156] Difference at 87: 0.109895, expected 1.07372\n",
      "E0522 04:26:13.710195    1509 buffer_comparator.cc:156] Difference at 88: 0.929759, expected 3.84888\n",
      "E0522 04:26:13.710200    1509 buffer_comparator.cc:156] Difference at 89: 0.167774, expected 1.07337\n",
      "2025-05-22 04:26:13.710206: E external/xla/xla/service/gpu/autotuning/gemm_fusion_autotuner.cc:1138] Results do not match the reference. This is likely a bug/unexpected loss of precision.\n",
      "E0522 04:26:13.712121    1509 buffer_comparator.cc:156] Difference at 160: 0.989415, expected 6.33924\n",
      "E0522 04:26:13.712137    1509 buffer_comparator.cc:156] Difference at 161: 0.267511, expected 4.65404\n",
      "E0522 04:26:13.712142    1509 buffer_comparator.cc:156] Difference at 162: 0.858135, expected 2.02893\n",
      "E0522 04:26:13.712147    1509 buffer_comparator.cc:156] Difference at 163: 1.03816, expected 2.07422\n",
      "E0522 04:26:13.712151    1509 buffer_comparator.cc:156] Difference at 164: 0.423199, expected 1.73903\n",
      "E0522 04:26:13.712155    1509 buffer_comparator.cc:156] Difference at 165: 0.958807, expected 5.48216\n",
      "E0522 04:26:13.712159    1509 buffer_comparator.cc:156] Difference at 166: 0.930409, expected 12.594\n",
      "E0522 04:26:13.712164    1509 buffer_comparator.cc:156] Difference at 167: 1.28847, expected 2.51906\n",
      "E0522 04:26:13.712169    1509 buffer_comparator.cc:156] Difference at 168: 1.12123, expected 2.10112\n",
      "E0522 04:26:13.712173    1509 buffer_comparator.cc:156] Difference at 169: 1.04144, expected 7.85231\n",
      "2025-05-22 04:26:13.712181: E external/xla/xla/service/gpu/autotuning/gemm_fusion_autotuner.cc:1138] Results do not match the reference. This is likely a bug/unexpected loss of precision.\n",
      "E0522 04:26:13.714063    1509 buffer_comparator.cc:156] Difference at 160: 0.989415, expected 6.33924\n",
      "E0522 04:26:13.714079    1509 buffer_comparator.cc:156] Difference at 161: 0.267511, expected 4.65404\n",
      "E0522 04:26:13.714084    1509 buffer_comparator.cc:156] Difference at 162: 0.858135, expected 2.02893\n",
      "E0522 04:26:13.714089    1509 buffer_comparator.cc:156] Difference at 163: 1.03816, expected 2.07422\n",
      "E0522 04:26:13.714093    1509 buffer_comparator.cc:156] Difference at 164: 0.423199, expected 1.73903\n",
      "E0522 04:26:13.714097    1509 buffer_comparator.cc:156] Difference at 165: 0.958807, expected 5.48216\n",
      "E0522 04:26:13.714101    1509 buffer_comparator.cc:156] Difference at 166: 0.930409, expected 12.594\n",
      "E0522 04:26:13.714106    1509 buffer_comparator.cc:156] Difference at 167: 1.28847, expected 2.51906\n",
      "E0522 04:26:13.714110    1509 buffer_comparator.cc:156] Difference at 168: 1.12123, expected 2.10112\n",
      "E0522 04:26:13.714114    1509 buffer_comparator.cc:156] Difference at 169: 1.04144, expected 7.85231\n",
      "2025-05-22 04:26:13.714121: E external/xla/xla/service/gpu/autotuning/gemm_fusion_autotuner.cc:1138] Results do not match the reference. This is likely a bug/unexpected loss of precision.\n",
      "E0522 04:26:13.716048    1509 buffer_comparator.cc:156] Difference at 320: 1.37285, expected 8.34196\n",
      "E0522 04:26:13.716063    1509 buffer_comparator.cc:156] Difference at 321: 1.23151, expected 8.98395\n",
      "E0522 04:26:13.716068    1509 buffer_comparator.cc:156] Difference at 322: 1.0581, expected 2.55559\n",
      "E0522 04:26:13.716073    1509 buffer_comparator.cc:156] Difference at 323: 0.77141, expected 3.5851\n",
      "E0522 04:26:13.716078    1509 buffer_comparator.cc:156] Difference at 324: 0.284203, expected 1.95927\n",
      "E0522 04:26:13.716082    1509 buffer_comparator.cc:156] Difference at 325: 1.1529, expected 5.31215\n",
      "E0522 04:26:13.716086    1509 buffer_comparator.cc:156] Difference at 326: 0.746504, expected 10.2463\n",
      "E0522 04:26:13.716091    1509 buffer_comparator.cc:156] Difference at 327: 1.13583, expected 3.41683\n",
      "E0522 04:26:13.716095    1509 buffer_comparator.cc:156] Difference at 328: 0.312096, expected 1.5608\n",
      "E0522 04:26:13.716099    1509 buffer_comparator.cc:156] Difference at 329: 0.480976, expected 3.59189\n",
      "2025-05-22 04:26:13.716106: E external/xla/xla/service/gpu/autotuning/gemm_fusion_autotuner.cc:1138] Results do not match the reference. This is likely a bug/unexpected loss of precision.\n",
      "E0522 04:26:13.718010    1509 buffer_comparator.cc:156] Difference at 320: 1.37285, expected 8.34196\n",
      "E0522 04:26:13.718026    1509 buffer_comparator.cc:156] Difference at 321: 1.23151, expected 8.98395\n",
      "E0522 04:26:13.718031    1509 buffer_comparator.cc:156] Difference at 322: 1.0581, expected 2.55559\n",
      "E0522 04:26:13.718036    1509 buffer_comparator.cc:156] Difference at 323: 0.77141, expected 3.5851\n",
      "E0522 04:26:13.718040    1509 buffer_comparator.cc:156] Difference at 324: 0.284203, expected 1.95927\n",
      "E0522 04:26:13.718045    1509 buffer_comparator.cc:156] Difference at 325: 1.1529, expected 5.31215\n",
      "E0522 04:26:13.718049    1509 buffer_comparator.cc:156] Difference at 326: 0.746504, expected 10.2463\n",
      "E0522 04:26:13.718054    1509 buffer_comparator.cc:156] Difference at 327: 1.13583, expected 3.41683\n",
      "E0522 04:26:13.718058    1509 buffer_comparator.cc:156] Difference at 328: 0.312096, expected 1.5608\n",
      "E0522 04:26:13.718062    1509 buffer_comparator.cc:156] Difference at 329: 0.480976, expected 3.59189\n",
      "2025-05-22 04:26:13.718070: E external/xla/xla/service/gpu/autotuning/gemm_fusion_autotuner.cc:1138] Results do not match the reference. This is likely a bug/unexpected loss of precision.\n",
      "E0522 04:26:13.720004    1509 buffer_comparator.cc:156] Difference at 320: 1.37285, expected 8.34196\n",
      "E0522 04:26:13.720020    1509 buffer_comparator.cc:156] Difference at 321: 1.23151, expected 8.98395\n",
      "E0522 04:26:13.720025    1509 buffer_comparator.cc:156] Difference at 322: 1.0581, expected 2.55559\n",
      "E0522 04:26:13.720030    1509 buffer_comparator.cc:156] Difference at 323: 0.77141, expected 3.5851\n",
      "E0522 04:26:13.720034    1509 buffer_comparator.cc:156] Difference at 324: 0.284203, expected 1.95927\n",
      "E0522 04:26:13.720039    1509 buffer_comparator.cc:156] Difference at 325: 1.1529, expected 5.31215\n",
      "E0522 04:26:13.720043    1509 buffer_comparator.cc:156] Difference at 326: 0.746504, expected 10.2463\n",
      "E0522 04:26:13.720048    1509 buffer_comparator.cc:156] Difference at 327: 1.13583, expected 3.41683\n",
      "E0522 04:26:13.720052    1509 buffer_comparator.cc:156] Difference at 328: 0.312096, expected 1.5608\n",
      "E0522 04:26:13.720056    1509 buffer_comparator.cc:156] Difference at 329: 0.480976, expected 3.59189\n",
      "2025-05-22 04:26:13.720064: E external/xla/xla/service/gpu/autotuning/gemm_fusion_autotuner.cc:1138] Results do not match the reference. This is likely a bug/unexpected loss of precision.\n",
      "E0522 04:26:13.721979    1509 buffer_comparator.cc:156] Difference at 640: 1.4398, expected 8.48501\n",
      "E0522 04:26:13.721995    1509 buffer_comparator.cc:156] Difference at 641: 1.57108, expected 18.5557\n",
      "E0522 04:26:13.722000    1509 buffer_comparator.cc:156] Difference at 642: 1.12177, expected 2.55374\n",
      "E0522 04:26:13.722005    1509 buffer_comparator.cc:156] Difference at 643: 1.10671, expected 3.39628\n",
      "E0522 04:26:13.722010    1509 buffer_comparator.cc:156] Difference at 644: 0.275424, expected 0.982195\n",
      "E0522 04:26:13.722015    1509 buffer_comparator.cc:156] Difference at 645: 0.190681, expected 0.955141\n",
      "E0522 04:26:13.722019    1509 buffer_comparator.cc:156] Difference at 646: 1.07532, expected 6.78253\n",
      "E0522 04:26:13.722023    1509 buffer_comparator.cc:156] Difference at 647: 1.13994, expected 3.00613\n",
      "E0522 04:26:13.722027    1509 buffer_comparator.cc:156] Difference at 648: 0.357123, expected 2.46409\n",
      "E0522 04:26:13.722032    1509 buffer_comparator.cc:156] Difference at 649: 1.17565, expected 8.27309\n",
      "2025-05-22 04:26:13.722038: E external/xla/xla/service/gpu/autotuning/gemm_fusion_autotuner.cc:1138] Results do not match the reference. This is likely a bug/unexpected loss of precision.\n",
      "E0522 04:26:13.723945    1509 buffer_comparator.cc:156] Difference at 640: 1.4398, expected 8.48501\n",
      "E0522 04:26:13.723961    1509 buffer_comparator.cc:156] Difference at 641: 1.57108, expected 18.5557\n",
      "E0522 04:26:13.723966    1509 buffer_comparator.cc:156] Difference at 642: 1.12177, expected 2.55374\n",
      "E0522 04:26:13.723971    1509 buffer_comparator.cc:156] Difference at 643: 1.10671, expected 3.39628\n",
      "E0522 04:26:13.723975    1509 buffer_comparator.cc:156] Difference at 644: 0.275424, expected 0.982195\n",
      "E0522 04:26:13.723980    1509 buffer_comparator.cc:156] Difference at 645: 0.190681, expected 0.955141\n",
      "E0522 04:26:13.723984    1509 buffer_comparator.cc:156] Difference at 646: 1.07532, expected 6.78253\n",
      "E0522 04:26:13.723988    1509 buffer_comparator.cc:156] Difference at 647: 1.13994, expected 3.00613\n",
      "E0522 04:26:13.723992    1509 buffer_comparator.cc:156] Difference at 648: 0.357123, expected 2.46409\n",
      "E0522 04:26:13.723997    1509 buffer_comparator.cc:156] Difference at 649: 1.17565, expected 8.27309\n",
      "2025-05-22 04:26:13.724005: E external/xla/xla/service/gpu/autotuning/gemm_fusion_autotuner.cc:1138] Results do not match the reference. This is likely a bug/unexpected loss of precision.\n",
      "E0522 04:26:13.725925    1509 buffer_comparator.cc:156] Difference at 1280: 0.956562, expected 10.1802\n",
      "E0522 04:26:13.725941    1509 buffer_comparator.cc:156] Difference at 1281: 0.553542, expected 17.698\n",
      "E0522 04:26:13.725947    1509 buffer_comparator.cc:156] Difference at 1282: 0.348115, expected 1.8209\n",
      "E0522 04:26:13.725952    1509 buffer_comparator.cc:156] Difference at 1283: 0.515458, expected 2.54891\n",
      "E0522 04:26:13.725956    1509 buffer_comparator.cc:156] Difference at 1284: 0.687059, expected 4.0392\n",
      "E0522 04:26:13.725961    1509 buffer_comparator.cc:156] Difference at 1285: 0.330682, expected 4.48605\n",
      "E0522 04:26:13.725965    1509 buffer_comparator.cc:156] Difference at 1286: 0.58756, expected 18.7194\n",
      "E0522 04:26:13.725970    1509 buffer_comparator.cc:156] Difference at 1287: 0.430002, expected 0.634035\n",
      "E0522 04:26:13.725974    1509 buffer_comparator.cc:156] Difference at 1288: 0.416276, expected 2.40049\n",
      "E0522 04:26:13.725978    1509 buffer_comparator.cc:156] Difference at 1289: 0.491806, expected 4.28037\n",
      "2025-05-22 04:26:13.725985: E external/xla/xla/service/gpu/autotuning/gemm_fusion_autotuner.cc:1138] Results do not match the reference. This is likely a bug/unexpected loss of precision.\n",
      "E0522 04:26:13.727894    1509 buffer_comparator.cc:156] Difference at 1280: 0.956562, expected 10.1802\n",
      "E0522 04:26:13.727911    1509 buffer_comparator.cc:156] Difference at 1281: 0.553542, expected 17.698\n",
      "E0522 04:26:13.727916    1509 buffer_comparator.cc:156] Difference at 1282: 0.348115, expected 1.8209\n",
      "E0522 04:26:13.727921    1509 buffer_comparator.cc:156] Difference at 1283: 0.515458, expected 2.54891\n",
      "E0522 04:26:13.727925    1509 buffer_comparator.cc:156] Difference at 1284: 0.687059, expected 4.0392\n",
      "E0522 04:26:13.727929    1509 buffer_comparator.cc:156] Difference at 1285: 0.330682, expected 4.48605\n",
      "E0522 04:26:13.727934    1509 buffer_comparator.cc:156] Difference at 1286: 0.58756, expected 18.7194\n",
      "E0522 04:26:13.727938    1509 buffer_comparator.cc:156] Difference at 1287: 0.430002, expected 0.634035\n",
      "E0522 04:26:13.727943    1509 buffer_comparator.cc:156] Difference at 1288: 0.416276, expected 2.40049\n",
      "E0522 04:26:13.727947    1509 buffer_comparator.cc:156] Difference at 1289: 0.491806, expected 4.28037\n",
      "2025-05-22 04:26:13.727958: E external/xla/xla/service/gpu/autotuning/gemm_fusion_autotuner.cc:1138] Results do not match the reference. This is likely a bug/unexpected loss of precision.\n",
      "E0522 04:26:29.823378    1509 buffer_comparator.cc:156] Difference at 64: -0.125, expected 0.577698\n",
      "E0522 04:26:29.823410    1509 buffer_comparator.cc:156] Difference at 65: 0.314547, expected 1.01812\n",
      "E0522 04:26:29.823414    1509 buffer_comparator.cc:156] Difference at 66: 0, expected 0.656646\n",
      "E0522 04:26:29.823417    1509 buffer_comparator.cc:156] Difference at 67: 0.125, expected 0.26413\n",
      "E0522 04:26:29.823419    1509 buffer_comparator.cc:156] Difference at 68: 1.3, expected 0.549137\n",
      "E0522 04:26:29.823422    1509 buffer_comparator.cc:156] Difference at 69: 0.0350724, expected 0.962932\n",
      "E0522 04:26:29.823424    1509 buffer_comparator.cc:156] Difference at 70: 0.125, expected 1.90848\n",
      "E0522 04:26:29.823426    1509 buffer_comparator.cc:156] Difference at 71: 0.0231041, expected 1.06907\n",
      "E0522 04:26:29.823429    1509 buffer_comparator.cc:156] Difference at 72: 0, expected 0.84669\n",
      "E0522 04:26:29.823431    1509 buffer_comparator.cc:156] Difference at 73: 0, expected 0.560755\n",
      "2025-05-22 04:26:29.823437: E external/xla/xla/service/gpu/autotuning/gemm_fusion_autotuner.cc:1138] Results do not match the reference. This is likely a bug/unexpected loss of precision.\n",
      "E0522 04:26:29.829945    1509 buffer_comparator.cc:156] Difference at 64: -0.125, expected 0.577698\n",
      "E0522 04:26:29.829963    1509 buffer_comparator.cc:156] Difference at 65: 0.314547, expected 1.01812\n",
      "E0522 04:26:29.829965    1509 buffer_comparator.cc:156] Difference at 66: 0, expected 0.656646\n",
      "E0522 04:26:29.829968    1509 buffer_comparator.cc:156] Difference at 67: 0.125, expected 0.26413\n",
      "E0522 04:26:29.829970    1509 buffer_comparator.cc:156] Difference at 68: 1.3, expected 0.549137\n",
      "E0522 04:26:29.829973    1509 buffer_comparator.cc:156] Difference at 69: 0.0350724, expected 0.962932\n",
      "E0522 04:26:29.829975    1509 buffer_comparator.cc:156] Difference at 70: 0.125, expected 1.90848\n",
      "E0522 04:26:29.829977    1509 buffer_comparator.cc:156] Difference at 71: 0.0231041, expected 1.06907\n",
      "E0522 04:26:29.829979    1509 buffer_comparator.cc:156] Difference at 72: 0, expected 0.84669\n",
      "E0522 04:26:29.829982    1509 buffer_comparator.cc:156] Difference at 73: 0, expected 0.560755\n",
      "2025-05-22 04:26:29.829986: E external/xla/xla/service/gpu/autotuning/gemm_fusion_autotuner.cc:1138] Results do not match the reference. This is likely a bug/unexpected loss of precision.\n",
      "E0522 04:26:29.836573    1509 buffer_comparator.cc:156] Difference at 129: -0.0459194, expected 0.474246\n",
      "E0522 04:26:29.836590    1509 buffer_comparator.cc:156] Difference at 130: 0.125, expected 2.061\n",
      "E0522 04:26:29.836593    1509 buffer_comparator.cc:156] Difference at 131: 0.045244, expected 0.726032\n",
      "E0522 04:26:29.836595    1509 buffer_comparator.cc:156] Difference at 132: 0, expected 1.09696\n",
      "E0522 04:26:29.836598    1509 buffer_comparator.cc:156] Difference at 133: 0, expected 0.78853\n",
      "E0522 04:26:29.836600    1509 buffer_comparator.cc:156] Difference at 134: 1.3, expected 0.256894\n",
      "E0522 04:26:29.836602    1509 buffer_comparator.cc:156] Difference at 135: 0, expected 1.16435\n",
      "E0522 04:26:29.836604    1509 buffer_comparator.cc:156] Difference at 136: -0.125, expected 0.31245\n",
      "E0522 04:26:29.836607    1509 buffer_comparator.cc:156] Difference at 137: 0.8, expected 0.427707\n",
      "E0522 04:26:29.836609    1509 buffer_comparator.cc:156] Difference at 138: 0, expected 1.23463\n",
      "2025-05-22 04:26:29.836612: E external/xla/xla/service/gpu/autotuning/gemm_fusion_autotuner.cc:1138] Results do not match the reference. This is likely a bug/unexpected loss of precision.\n",
      "E0522 04:26:29.847432    1509 buffer_comparator.cc:156] Difference at 129: -0.0459194, expected 0.474246\n",
      "E0522 04:26:29.847447    1509 buffer_comparator.cc:156] Difference at 130: 0.125, expected 2.061\n",
      "E0522 04:26:29.847450    1509 buffer_comparator.cc:156] Difference at 131: 0.045244, expected 0.726032\n",
      "E0522 04:26:29.847452    1509 buffer_comparator.cc:156] Difference at 132: 0, expected 1.09696\n",
      "E0522 04:26:29.847455    1509 buffer_comparator.cc:156] Difference at 133: 0, expected 0.78853\n",
      "E0522 04:26:29.847457    1509 buffer_comparator.cc:156] Difference at 134: 1.3, expected 0.256894\n",
      "E0522 04:26:29.847459    1509 buffer_comparator.cc:156] Difference at 135: 0, expected 1.16435\n",
      "E0522 04:26:29.847461    1509 buffer_comparator.cc:156] Difference at 136: -0.125, expected 0.31245\n",
      "E0522 04:26:29.847463    1509 buffer_comparator.cc:156] Difference at 137: 0.8, expected 0.427707\n",
      "E0522 04:26:29.847465    1509 buffer_comparator.cc:156] Difference at 138: 0, expected 1.23463\n",
      "2025-05-22 04:26:29.847469: E external/xla/xla/service/gpu/autotuning/gemm_fusion_autotuner.cc:1138] Results do not match the reference. This is likely a bug/unexpected loss of precision.\n",
      "E0522 04:26:29.853896    1509 buffer_comparator.cc:156] Difference at 256: -0.125, expected 0.87093\n",
      "E0522 04:26:29.853911    1509 buffer_comparator.cc:156] Difference at 257: 0.8, expected 0.529096\n",
      "E0522 04:26:29.853914    1509 buffer_comparator.cc:156] Difference at 258: 0, expected 0.862818\n",
      "E0522 04:26:29.853916    1509 buffer_comparator.cc:156] Difference at 259: -0.125, expected 0.982\n",
      "E0522 04:26:29.853919    1509 buffer_comparator.cc:156] Difference at 260: 0.291893, expected 0.815993\n",
      "E0522 04:26:29.853921    1509 buffer_comparator.cc:156] Difference at 261: 4.65661e-10, expected 1.20523\n",
      "E0522 04:26:29.853923    1509 buffer_comparator.cc:156] Difference at 262: 0.125, expected 0.940025\n",
      "E0522 04:26:29.853925    1509 buffer_comparator.cc:156] Difference at 263: 1.3, expected 0.78214\n",
      "E0522 04:26:29.853928    1509 buffer_comparator.cc:156] Difference at 264: 0.00510486, expected 0.628509\n",
      "E0522 04:26:29.853930    1509 buffer_comparator.cc:156] Difference at 265: 0.125, expected 0.946126\n",
      "2025-05-22 04:26:29.853934: E external/xla/xla/service/gpu/autotuning/gemm_fusion_autotuner.cc:1138] Results do not match the reference. This is likely a bug/unexpected loss of precision.\n",
      "E0522 04:26:29.860161    1509 buffer_comparator.cc:156] Difference at 256: -0.125, expected 0.87093\n",
      "E0522 04:26:29.860176    1509 buffer_comparator.cc:156] Difference at 257: 0.8, expected 0.529096\n",
      "E0522 04:26:29.860179    1509 buffer_comparator.cc:156] Difference at 258: 0, expected 0.862818\n",
      "E0522 04:26:29.860182    1509 buffer_comparator.cc:156] Difference at 259: -0.125, expected 0.982\n",
      "E0522 04:26:29.860184    1509 buffer_comparator.cc:156] Difference at 260: 0.291893, expected 0.815993\n",
      "E0522 04:26:29.860186    1509 buffer_comparator.cc:156] Difference at 261: 4.65661e-10, expected 1.20523\n",
      "E0522 04:26:29.860189    1509 buffer_comparator.cc:156] Difference at 262: 0.125, expected 0.940025\n",
      "E0522 04:26:29.860191    1509 buffer_comparator.cc:156] Difference at 263: 1.3, expected 0.78214\n",
      "E0522 04:26:29.860193    1509 buffer_comparator.cc:156] Difference at 264: 0.00510486, expected 0.628509\n",
      "E0522 04:26:29.860195    1509 buffer_comparator.cc:156] Difference at 265: 0.125, expected 0.946126\n",
      "2025-05-22 04:26:29.860200: E external/xla/xla/service/gpu/autotuning/gemm_fusion_autotuner.cc:1138] Results do not match the reference. This is likely a bug/unexpected loss of precision.\n",
      "E0522 04:26:29.866295    1509 buffer_comparator.cc:156] Difference at 256: -0.125, expected 0.87093\n",
      "E0522 04:26:29.866308    1509 buffer_comparator.cc:156] Difference at 257: 0.8, expected 0.529096\n",
      "E0522 04:26:29.866311    1509 buffer_comparator.cc:156] Difference at 258: 0, expected 0.862818\n",
      "E0522 04:26:29.866313    1509 buffer_comparator.cc:156] Difference at 259: -0.125, expected 0.982\n",
      "E0522 04:26:29.866315    1509 buffer_comparator.cc:156] Difference at 260: 0.291893, expected 0.815993\n",
      "E0522 04:26:29.866317    1509 buffer_comparator.cc:156] Difference at 261: 4.65661e-10, expected 1.20523\n",
      "E0522 04:26:29.866320    1509 buffer_comparator.cc:156] Difference at 262: 0.125, expected 0.940025\n",
      "E0522 04:26:29.866322    1509 buffer_comparator.cc:156] Difference at 263: 1.3, expected 0.78214\n",
      "E0522 04:26:29.866324    1509 buffer_comparator.cc:156] Difference at 264: 0.00510486, expected 0.628509\n",
      "E0522 04:26:29.866326    1509 buffer_comparator.cc:156] Difference at 265: 0.125, expected 0.946126\n",
      "2025-05-22 04:26:29.866331: E external/xla/xla/service/gpu/autotuning/gemm_fusion_autotuner.cc:1138] Results do not match the reference. This is likely a bug/unexpected loss of precision.\n",
      "E0522 04:26:29.872444    1509 buffer_comparator.cc:156] Difference at 513: 0, expected 0.605447\n",
      "E0522 04:26:29.872459    1509 buffer_comparator.cc:156] Difference at 514: -0.125, expected 0.930658\n",
      "E0522 04:26:29.872462    1509 buffer_comparator.cc:156] Difference at 515: 0.272478, expected 0.627014\n",
      "E0522 04:26:29.872465    1509 buffer_comparator.cc:156] Difference at 516: 3.72529e-09, expected 0.812153\n",
      "E0522 04:26:29.872467    1509 buffer_comparator.cc:156] Difference at 517: 0.125, expected 0.972991\n",
      "E0522 04:26:29.872470    1509 buffer_comparator.cc:156] Difference at 518: 1.3, expected 2.09024\n",
      "E0522 04:26:29.872472    1509 buffer_comparator.cc:156] Difference at 519: 0.0506116, expected 1.00021\n",
      "E0522 04:26:29.872474    1509 buffer_comparator.cc:156] Difference at 520: 0.125, expected 0.509004\n",
      "E0522 04:26:29.872476    1509 buffer_comparator.cc:156] Difference at 521: 0.0401096, expected 0.850877\n",
      "E0522 04:26:29.872478    1509 buffer_comparator.cc:156] Difference at 522: 0, expected 1.19551\n",
      "2025-05-22 04:26:29.872482: E external/xla/xla/service/gpu/autotuning/gemm_fusion_autotuner.cc:1138] Results do not match the reference. This is likely a bug/unexpected loss of precision.\n",
      "E0522 04:26:29.880032    1509 buffer_comparator.cc:156] Difference at 513: 0, expected 0.605447\n",
      "E0522 04:26:29.880047    1509 buffer_comparator.cc:156] Difference at 514: -0.125, expected 0.930658\n",
      "E0522 04:26:29.880050    1509 buffer_comparator.cc:156] Difference at 515: 0.272478, expected 0.627014\n",
      "E0522 04:26:29.880052    1509 buffer_comparator.cc:156] Difference at 516: 3.72529e-09, expected 0.812153\n",
      "E0522 04:26:29.880055    1509 buffer_comparator.cc:156] Difference at 517: 0.125, expected 0.972991\n",
      "E0522 04:26:29.880057    1509 buffer_comparator.cc:156] Difference at 518: 1.3, expected 2.09024\n",
      "E0522 04:26:29.880059    1509 buffer_comparator.cc:156] Difference at 519: 0.0506116, expected 1.00021\n",
      "E0522 04:26:29.880064    1509 buffer_comparator.cc:156] Difference at 520: 0.125, expected 0.509004\n",
      "E0522 04:26:29.880066    1509 buffer_comparator.cc:156] Difference at 521: 0.0401096, expected 0.850877\n",
      "E0522 04:26:29.880068    1509 buffer_comparator.cc:156] Difference at 522: 0, expected 1.19551\n",
      "2025-05-22 04:26:29.880072: E external/xla/xla/service/gpu/autotuning/gemm_fusion_autotuner.cc:1138] Results do not match the reference. This is likely a bug/unexpected loss of precision.\n",
      "E0522 04:26:29.886261    1509 buffer_comparator.cc:156] Difference at 1024: -0.125, expected 0.511087\n",
      "E0522 04:26:29.886277    1509 buffer_comparator.cc:156] Difference at 1025: 0.287529, expected 1.19648\n",
      "E0522 04:26:29.886280    1509 buffer_comparator.cc:156] Difference at 1026: 0, expected 1.32206\n",
      "E0522 04:26:29.886283    1509 buffer_comparator.cc:156] Difference at 1027: 0.125, expected 0.493848\n",
      "E0522 04:26:29.886285    1509 buffer_comparator.cc:156] Difference at 1028: 1.3, expected 0.488268\n",
      "E0522 04:26:29.886288    1509 buffer_comparator.cc:156] Difference at 1029: 0.018197, expected 0.978239\n",
      "E0522 04:26:29.886290    1509 buffer_comparator.cc:156] Difference at 1030: 0.125, expected 1.72981\n",
      "E0522 04:26:29.886292    1509 buffer_comparator.cc:156] Difference at 1031: 0.032953, expected 1.04589\n",
      "E0522 04:26:29.886294    1509 buffer_comparator.cc:156] Difference at 1032: 0, expected 0.928098\n",
      "E0522 04:26:29.886296    1509 buffer_comparator.cc:156] Difference at 1033: 0, expected 1.06303\n",
      "2025-05-22 04:26:29.886300: E external/xla/xla/service/gpu/autotuning/gemm_fusion_autotuner.cc:1138] Results do not match the reference. This is likely a bug/unexpected loss of precision.\n",
      "E0522 04:26:29.892401    1509 buffer_comparator.cc:156] Difference at 1024: -0.125, expected 0.511087\n",
      "E0522 04:26:29.892416    1509 buffer_comparator.cc:156] Difference at 1025: 0.287529, expected 1.19648\n",
      "E0522 04:26:29.892419    1509 buffer_comparator.cc:156] Difference at 1026: 0, expected 1.32206\n",
      "E0522 04:26:29.892421    1509 buffer_comparator.cc:156] Difference at 1027: 0.125, expected 0.493848\n",
      "E0522 04:26:29.892424    1509 buffer_comparator.cc:156] Difference at 1028: 1.3, expected 0.488268\n",
      "E0522 04:26:29.892426    1509 buffer_comparator.cc:156] Difference at 1029: 0.018197, expected 0.978239\n",
      "E0522 04:26:29.892428    1509 buffer_comparator.cc:156] Difference at 1030: 0.125, expected 1.72981\n",
      "E0522 04:26:29.892430    1509 buffer_comparator.cc:156] Difference at 1031: 0.032953, expected 1.04589\n",
      "E0522 04:26:29.892432    1509 buffer_comparator.cc:156] Difference at 1032: 0, expected 0.928098\n",
      "E0522 04:26:29.892434    1509 buffer_comparator.cc:156] Difference at 1033: 0, expected 1.06303\n",
      "2025-05-22 04:26:29.892439: E external/xla/xla/service/gpu/autotuning/gemm_fusion_autotuner.cc:1138] Results do not match the reference. This is likely a bug/unexpected loss of precision.\n",
      "E0522 04:26:29.917850    1509 buffer_comparator.cc:156] Difference at 80: 0, expected 2.84516\n",
      "E0522 04:26:29.917866    1509 buffer_comparator.cc:156] Difference at 82: 0, expected 3.6315\n",
      "E0522 04:26:29.917869    1509 buffer_comparator.cc:156] Difference at 83: 0, expected 2.20896\n",
      "E0522 04:26:29.917872    1509 buffer_comparator.cc:156] Difference at 84: 0, expected 0.484465\n",
      "E0522 04:26:29.917874    1509 buffer_comparator.cc:156] Difference at 85: 0, expected 1.48249\n",
      "E0522 04:26:29.917876    1509 buffer_comparator.cc:156] Difference at 86: 0, expected 2.00755\n",
      "E0522 04:26:29.917879    1509 buffer_comparator.cc:156] Difference at 87: 0, expected 3.38468\n",
      "E0522 04:26:29.917881    1509 buffer_comparator.cc:156] Difference at 88: 0, expected 2.49827\n",
      "E0522 04:26:29.917883    1509 buffer_comparator.cc:156] Difference at 89: 0, expected 0.203626\n",
      "E0522 04:26:29.917885    1509 buffer_comparator.cc:156] Difference at 90: 0, expected 4.57844\n",
      "2025-05-22 04:26:29.917889: E external/xla/xla/service/gpu/autotuning/gemm_fusion_autotuner.cc:1138] Results do not match the reference. This is likely a bug/unexpected loss of precision.\n",
      "E0522 04:26:29.935207    1509 buffer_comparator.cc:156] Difference at 80: 0, expected 2.84516\n",
      "E0522 04:26:29.935223    1509 buffer_comparator.cc:156] Difference at 82: 0, expected 3.6315\n",
      "E0522 04:26:29.935225    1509 buffer_comparator.cc:156] Difference at 83: 0, expected 2.20896\n",
      "E0522 04:26:29.935228    1509 buffer_comparator.cc:156] Difference at 84: 0, expected 0.484465\n",
      "E0522 04:26:29.935230    1509 buffer_comparator.cc:156] Difference at 85: 0, expected 1.48249\n",
      "E0522 04:26:29.935232    1509 buffer_comparator.cc:156] Difference at 86: 0, expected 2.00755\n",
      "E0522 04:26:29.935234    1509 buffer_comparator.cc:156] Difference at 87: 0, expected 3.38468\n",
      "E0522 04:26:29.935236    1509 buffer_comparator.cc:156] Difference at 88: 0, expected 2.49827\n",
      "E0522 04:26:29.935238    1509 buffer_comparator.cc:156] Difference at 89: 0, expected 0.203626\n",
      "E0522 04:26:29.935240    1509 buffer_comparator.cc:156] Difference at 90: 0, expected 4.57844\n",
      "2025-05-22 04:26:29.935244: E external/xla/xla/service/gpu/autotuning/gemm_fusion_autotuner.cc:1138] Results do not match the reference. This is likely a bug/unexpected loss of precision.\n",
      "E0522 04:26:29.952675    1509 buffer_comparator.cc:156] Difference at 160: 0, expected 5.6708\n",
      "E0522 04:26:29.952689    1509 buffer_comparator.cc:156] Difference at 161: 0, expected 2.43519\n",
      "E0522 04:26:29.952692    1509 buffer_comparator.cc:156] Difference at 162: 0, expected 0.988182\n",
      "E0522 04:26:29.952695    1509 buffer_comparator.cc:156] Difference at 163: 0, expected 1.85756\n",
      "E0522 04:26:29.952697    1509 buffer_comparator.cc:156] Difference at 164: 0, expected 0.481732\n",
      "E0522 04:26:29.952699    1509 buffer_comparator.cc:156] Difference at 165: 0, expected 1.35431\n",
      "E0522 04:26:29.952701    1509 buffer_comparator.cc:156] Difference at 166: 0, expected 0.650002\n",
      "E0522 04:26:29.952703    1509 buffer_comparator.cc:156] Difference at 167: 0, expected 2.03262\n",
      "E0522 04:26:29.952705    1509 buffer_comparator.cc:156] Difference at 168: 0, expected 0.483015\n",
      "E0522 04:26:29.952707    1509 buffer_comparator.cc:156] Difference at 169: 0, expected 0.684333\n",
      "2025-05-22 04:26:29.952712: E external/xla/xla/service/gpu/autotuning/gemm_fusion_autotuner.cc:1138] Results do not match the reference. This is likely a bug/unexpected loss of precision.\n",
      "E0522 04:26:29.970097    1509 buffer_comparator.cc:156] Difference at 160: 0, expected 5.6708\n",
      "E0522 04:26:29.970111    1509 buffer_comparator.cc:156] Difference at 161: 0, expected 2.43519\n",
      "E0522 04:26:29.970114    1509 buffer_comparator.cc:156] Difference at 162: 0, expected 0.988182\n",
      "E0522 04:26:29.970116    1509 buffer_comparator.cc:156] Difference at 163: 0, expected 1.85756\n",
      "E0522 04:26:29.970118    1509 buffer_comparator.cc:156] Difference at 164: 0, expected 0.481732\n",
      "E0522 04:26:29.970120    1509 buffer_comparator.cc:156] Difference at 165: 0, expected 1.35431\n",
      "E0522 04:26:29.970122    1509 buffer_comparator.cc:156] Difference at 166: 0, expected 0.650002\n",
      "E0522 04:26:29.970124    1509 buffer_comparator.cc:156] Difference at 167: 0, expected 2.03262\n",
      "E0522 04:26:29.970126    1509 buffer_comparator.cc:156] Difference at 168: 0, expected 0.483015\n",
      "E0522 04:26:29.970129    1509 buffer_comparator.cc:156] Difference at 169: 0, expected 0.684333\n",
      "2025-05-22 04:26:29.970133: E external/xla/xla/service/gpu/autotuning/gemm_fusion_autotuner.cc:1138] Results do not match the reference. This is likely a bug/unexpected loss of precision.\n",
      "E0522 04:26:29.987577    1509 buffer_comparator.cc:156] Difference at 320: 0, expected 5.33362\n",
      "E0522 04:26:29.987592    1509 buffer_comparator.cc:156] Difference at 321: 0, expected 1.9333\n",
      "E0522 04:26:29.987595    1509 buffer_comparator.cc:156] Difference at 323: 0, expected 1.80417\n",
      "E0522 04:26:29.987597    1509 buffer_comparator.cc:156] Difference at 324: 0, expected 0.459183\n",
      "E0522 04:26:29.987599    1509 buffer_comparator.cc:156] Difference at 325: 0, expected 3.46658\n",
      "E0522 04:26:29.987601    1509 buffer_comparator.cc:156] Difference at 326: 0, expected 2.96232\n",
      "E0522 04:26:29.987603    1509 buffer_comparator.cc:156] Difference at 327: 0, expected 2.46093\n",
      "E0522 04:26:29.987605    1509 buffer_comparator.cc:156] Difference at 328: 0, expected 1.80168\n",
      "E0522 04:26:29.987607    1509 buffer_comparator.cc:156] Difference at 329: 0, expected 0.926565\n",
      "E0522 04:26:29.987609    1509 buffer_comparator.cc:156] Difference at 330: 0, expected 2.47314\n",
      "2025-05-22 04:26:29.987613: E external/xla/xla/service/gpu/autotuning/gemm_fusion_autotuner.cc:1138] Results do not match the reference. This is likely a bug/unexpected loss of precision.\n",
      "E0522 04:26:30.004936    1509 buffer_comparator.cc:156] Difference at 320: 0, expected 5.33362\n",
      "E0522 04:26:30.004950    1509 buffer_comparator.cc:156] Difference at 321: 0, expected 1.9333\n",
      "E0522 04:26:30.004953    1509 buffer_comparator.cc:156] Difference at 323: 0, expected 1.80417\n",
      "E0522 04:26:30.004955    1509 buffer_comparator.cc:156] Difference at 324: 0, expected 0.459183\n",
      "E0522 04:26:30.004958    1509 buffer_comparator.cc:156] Difference at 325: 0, expected 3.46658\n",
      "E0522 04:26:30.004969    1509 buffer_comparator.cc:156] Difference at 326: 0, expected 2.96232\n",
      "E0522 04:26:30.004973    1509 buffer_comparator.cc:156] Difference at 327: 0, expected 2.46093\n",
      "E0522 04:26:30.004976    1509 buffer_comparator.cc:156] Difference at 328: 0, expected 1.80168\n",
      "E0522 04:26:30.004978    1509 buffer_comparator.cc:156] Difference at 329: 0, expected 0.926565\n",
      "E0522 04:26:30.004980    1509 buffer_comparator.cc:156] Difference at 330: 0, expected 2.47314\n",
      "2025-05-22 04:26:30.004985: E external/xla/xla/service/gpu/autotuning/gemm_fusion_autotuner.cc:1138] Results do not match the reference. This is likely a bug/unexpected loss of precision.\n",
      "E0522 04:26:30.022366    1509 buffer_comparator.cc:156] Difference at 320: 0, expected 5.33362\n",
      "E0522 04:26:30.022381    1509 buffer_comparator.cc:156] Difference at 321: 0, expected 1.9333\n",
      "E0522 04:26:30.022384    1509 buffer_comparator.cc:156] Difference at 323: 0, expected 1.80417\n",
      "E0522 04:26:30.022386    1509 buffer_comparator.cc:156] Difference at 324: 0, expected 0.459183\n",
      "E0522 04:26:30.022388    1509 buffer_comparator.cc:156] Difference at 325: 0, expected 3.46658\n",
      "E0522 04:26:30.022391    1509 buffer_comparator.cc:156] Difference at 326: 0, expected 2.96232\n",
      "E0522 04:26:30.022393    1509 buffer_comparator.cc:156] Difference at 327: 0, expected 2.46093\n",
      "E0522 04:26:30.022395    1509 buffer_comparator.cc:156] Difference at 328: 0, expected 1.80168\n",
      "E0522 04:26:30.022397    1509 buffer_comparator.cc:156] Difference at 329: 0, expected 0.926565\n",
      "E0522 04:26:30.022399    1509 buffer_comparator.cc:156] Difference at 330: 0, expected 2.47314\n",
      "2025-05-22 04:26:30.022403: E external/xla/xla/service/gpu/autotuning/gemm_fusion_autotuner.cc:1138] Results do not match the reference. This is likely a bug/unexpected loss of precision.\n",
      "E0522 04:26:30.039735    1509 buffer_comparator.cc:156] Difference at 640: 0, expected 2.33659\n",
      "E0522 04:26:30.039750    1509 buffer_comparator.cc:156] Difference at 641: 0, expected 0.365464\n",
      "E0522 04:26:30.039753    1509 buffer_comparator.cc:156] Difference at 642: 0, expected 0.415599\n",
      "E0522 04:26:30.039755    1509 buffer_comparator.cc:156] Difference at 643: 0, expected 1.38944\n",
      "E0522 04:26:30.039758    1509 buffer_comparator.cc:156] Difference at 644: 0, expected 0.458841\n",
      "E0522 04:26:30.039760    1509 buffer_comparator.cc:156] Difference at 645: 0, expected 1.03175\n",
      "E0522 04:26:30.039762    1509 buffer_comparator.cc:156] Difference at 646: 0, expected 0.21178\n",
      "E0522 04:26:30.039764    1509 buffer_comparator.cc:156] Difference at 647: 0, expected 3.43368\n",
      "E0522 04:26:30.039766    1509 buffer_comparator.cc:156] Difference at 648: 0, expected 2.27973\n",
      "E0522 04:26:30.039768    1509 buffer_comparator.cc:156] Difference at 649: 0, expected 0.228737\n",
      "2025-05-22 04:26:30.039772: E external/xla/xla/service/gpu/autotuning/gemm_fusion_autotuner.cc:1138] Results do not match the reference. This is likely a bug/unexpected loss of precision.\n",
      "E0522 04:26:30.049801    1509 buffer_comparator.cc:156] Difference at 640: 0, expected 2.33659\n",
      "E0522 04:26:30.049816    1509 buffer_comparator.cc:156] Difference at 641: 0, expected 0.365464\n",
      "E0522 04:26:30.049819    1509 buffer_comparator.cc:156] Difference at 642: 0, expected 0.415599\n",
      "E0522 04:26:30.049821    1509 buffer_comparator.cc:156] Difference at 643: 0, expected 1.38944\n",
      "E0522 04:26:30.049823    1509 buffer_comparator.cc:156] Difference at 644: 0, expected 0.458841\n",
      "E0522 04:26:30.049825    1509 buffer_comparator.cc:156] Difference at 645: 0, expected 1.03175\n",
      "E0522 04:26:30.049827    1509 buffer_comparator.cc:156] Difference at 646: 0, expected 0.21178\n",
      "E0522 04:26:30.049829    1509 buffer_comparator.cc:156] Difference at 647: 0, expected 3.43368\n",
      "E0522 04:26:30.049831    1509 buffer_comparator.cc:156] Difference at 648: 0, expected 2.27973\n",
      "E0522 04:26:30.049833    1509 buffer_comparator.cc:156] Difference at 649: 0, expected 0.228737\n",
      "2025-05-22 04:26:30.049838: E external/xla/xla/service/gpu/autotuning/gemm_fusion_autotuner.cc:1138] Results do not match the reference. This is likely a bug/unexpected loss of precision.\n",
      "E0522 04:26:30.052041    1509 buffer_comparator.cc:156] Difference at 1280: 0.962022, expected 5.48689\n",
      "E0522 04:26:30.052056    1509 buffer_comparator.cc:156] Difference at 1281: 0.214181, expected 1.77145\n",
      "E0522 04:26:30.052058    1509 buffer_comparator.cc:156] Difference at 1282: 0.23385, expected 0.50861\n",
      "E0522 04:26:30.052061    1509 buffer_comparator.cc:156] Difference at 1283: 1.12307, expected 2.25117\n",
      "E0522 04:26:30.052063    1509 buffer_comparator.cc:156] Difference at 1284: 0.846985, expected 0.18996\n",
      "E0522 04:26:30.052065    1509 buffer_comparator.cc:156] Difference at 1285: 0.795726, expected 4.25798\n",
      "E0522 04:26:30.052067    1509 buffer_comparator.cc:156] Difference at 1286: 0.22752, expected 2.55249\n",
      "E0522 04:26:30.052069    1509 buffer_comparator.cc:156] Difference at 1287: 0.895446, expected 2.25222\n",
      "E0522 04:26:30.052071    1509 buffer_comparator.cc:156] Difference at 1288: 0.938885, expected 1.80044\n",
      "E0522 04:26:30.052073    1509 buffer_comparator.cc:156] Difference at 1289: 1.51854, expected 0.562362\n",
      "2025-05-22 04:26:30.052077: E external/xla/xla/service/gpu/autotuning/gemm_fusion_autotuner.cc:1138] Results do not match the reference. This is likely a bug/unexpected loss of precision.\n",
      "E0522 04:26:30.054203    1509 buffer_comparator.cc:156] Difference at 1280: 0.962022, expected 5.48689\n",
      "E0522 04:26:30.054218    1509 buffer_comparator.cc:156] Difference at 1281: 0.214181, expected 1.77145\n",
      "E0522 04:26:30.054220    1509 buffer_comparator.cc:156] Difference at 1282: 0.23385, expected 0.50861\n",
      "E0522 04:26:30.054222    1509 buffer_comparator.cc:156] Difference at 1283: 1.12307, expected 2.25117\n",
      "E0522 04:26:30.054225    1509 buffer_comparator.cc:156] Difference at 1284: 0.846985, expected 0.18996\n",
      "E0522 04:26:30.054227    1509 buffer_comparator.cc:156] Difference at 1285: 0.795726, expected 4.25798\n",
      "E0522 04:26:30.054229    1509 buffer_comparator.cc:156] Difference at 1286: 0.22752, expected 2.55249\n",
      "E0522 04:26:30.054231    1509 buffer_comparator.cc:156] Difference at 1287: 0.895446, expected 2.25222\n",
      "E0522 04:26:30.054233    1509 buffer_comparator.cc:156] Difference at 1288: 0.938885, expected 1.80044\n",
      "E0522 04:26:30.054235    1509 buffer_comparator.cc:156] Difference at 1289: 1.51854, expected 0.562362\n",
      "2025-05-22 04:26:30.054239: E external/xla/xla/service/gpu/autotuning/gemm_fusion_autotuner.cc:1138] Results do not match the reference. This is likely a bug/unexpected loss of precision.\n",
      "E0522 04:26:30.055924    1509 buffer_comparator.cc:156] Difference at 17: 2.76038, expected 1.7418\n",
      "E0522 04:26:30.055941    1509 buffer_comparator.cc:156] Difference at 18: 1.07281, expected 1.484\n",
      "E0522 04:26:30.055944    1509 buffer_comparator.cc:156] Difference at 19: 0.239499, expected 1.18247\n",
      "E0522 04:26:30.055946    1509 buffer_comparator.cc:156] Difference at 20: 4.54468, expected 0.710485\n",
      "E0522 04:26:30.055960    1509 buffer_comparator.cc:156] Difference at 21: 0.841922, expected 1.12632\n",
      "E0522 04:26:30.055964    1509 buffer_comparator.cc:156] Difference at 22: 0.553981, expected 1.26752\n",
      "E0522 04:26:30.055966    1509 buffer_comparator.cc:156] Difference at 23: 2.09348, expected 0.809523\n",
      "E0522 04:26:30.055969    1509 buffer_comparator.cc:156] Difference at 24: 0.175098, expected 1.09214\n",
      "E0522 04:26:30.055971    1509 buffer_comparator.cc:156] Difference at 25: 5.41908, expected 0.771374\n",
      "E0522 04:26:30.055973    1509 buffer_comparator.cc:156] Difference at 26: 2.01794, expected 0.570473\n",
      "2025-05-22 04:26:30.055977: E external/xla/xla/service/gpu/autotuning/gemm_fusion_autotuner.cc:1138] Results do not match the reference. This is likely a bug/unexpected loss of precision.\n",
      "E0522 04:26:30.057179    1509 buffer_comparator.cc:156] Difference at 17: 2.76038, expected 1.7418\n",
      "E0522 04:26:30.057193    1509 buffer_comparator.cc:156] Difference at 18: 1.07281, expected 1.484\n",
      "E0522 04:26:30.057195    1509 buffer_comparator.cc:156] Difference at 19: 0.239499, expected 1.18247\n",
      "E0522 04:26:30.057197    1509 buffer_comparator.cc:156] Difference at 20: 4.54468, expected 0.710485\n",
      "E0522 04:26:30.057200    1509 buffer_comparator.cc:156] Difference at 21: 0.841922, expected 1.12632\n",
      "E0522 04:26:30.057202    1509 buffer_comparator.cc:156] Difference at 22: 0.553981, expected 1.26752\n",
      "E0522 04:26:30.057204    1509 buffer_comparator.cc:156] Difference at 23: 2.09348, expected 0.809523\n",
      "E0522 04:26:30.057206    1509 buffer_comparator.cc:156] Difference at 24: 0.175098, expected 1.09214\n",
      "E0522 04:26:30.057208    1509 buffer_comparator.cc:156] Difference at 25: 5.41908, expected 0.771374\n",
      "E0522 04:26:30.057210    1509 buffer_comparator.cc:156] Difference at 26: 2.01794, expected 0.570473\n",
      "2025-05-22 04:26:30.057214: E external/xla/xla/service/gpu/autotuning/gemm_fusion_autotuner.cc:1138] Results do not match the reference. This is likely a bug/unexpected loss of precision.\n",
      "E0522 04:26:30.058297    1509 buffer_comparator.cc:156] Difference at 32: 3.42098, expected 1.53962\n",
      "E0522 04:26:30.058311    1509 buffer_comparator.cc:156] Difference at 33: 0.701551, expected 0.988085\n",
      "E0522 04:26:30.058314    1509 buffer_comparator.cc:156] Difference at 34: 0.00394236, expected 0.855174\n",
      "E0522 04:26:30.058317    1509 buffer_comparator.cc:156] Difference at 35: 0.927315, expected 0.569565\n",
      "E0522 04:26:30.058319    1509 buffer_comparator.cc:156] Difference at 37: 3.56616, expected 1.19428\n",
      "E0522 04:26:30.058321    1509 buffer_comparator.cc:156] Difference at 38: 2.22882, expected 0.874728\n",
      "E0522 04:26:30.058323    1509 buffer_comparator.cc:156] Difference at 40: 4.68113, expected 0.654307\n",
      "E0522 04:26:30.058325    1509 buffer_comparator.cc:156] Difference at 42: 1.53354, expected 0.916251\n",
      "E0522 04:26:30.058327    1509 buffer_comparator.cc:156] Difference at 43: 2.43867, expected 0.828013\n",
      "E0522 04:26:30.058329    1509 buffer_comparator.cc:156] Difference at 44: 0.22105, expected 1.12381\n",
      "2025-05-22 04:26:30.058333: E external/xla/xla/service/gpu/autotuning/gemm_fusion_autotuner.cc:1138] Results do not match the reference. This is likely a bug/unexpected loss of precision.\n",
      "E0522 04:26:30.059366    1509 buffer_comparator.cc:156] Difference at 32: 3.42098, expected 1.53962\n",
      "E0522 04:26:30.059380    1509 buffer_comparator.cc:156] Difference at 33: 0.701551, expected 0.988085\n",
      "E0522 04:26:30.059383    1509 buffer_comparator.cc:156] Difference at 34: 0.00394236, expected 0.855174\n",
      "E0522 04:26:30.059386    1509 buffer_comparator.cc:156] Difference at 35: 0.927315, expected 0.569565\n",
      "E0522 04:26:30.059388    1509 buffer_comparator.cc:156] Difference at 37: 3.56616, expected 1.19428\n",
      "E0522 04:26:30.059390    1509 buffer_comparator.cc:156] Difference at 38: 2.22882, expected 0.874728\n",
      "E0522 04:26:30.059392    1509 buffer_comparator.cc:156] Difference at 40: 4.68113, expected 0.654307\n",
      "E0522 04:26:30.059394    1509 buffer_comparator.cc:156] Difference at 42: 1.53354, expected 0.916251\n",
      "E0522 04:26:30.059396    1509 buffer_comparator.cc:156] Difference at 43: 2.43867, expected 0.828013\n",
      "E0522 04:26:30.059398    1509 buffer_comparator.cc:156] Difference at 44: 0.22105, expected 1.12381\n",
      "2025-05-22 04:26:30.059402: E external/xla/xla/service/gpu/autotuning/gemm_fusion_autotuner.cc:1138] Results do not match the reference. This is likely a bug/unexpected loss of precision.\n",
      "E0522 04:26:30.060620    1509 buffer_comparator.cc:156] Difference at 65: 0.0678778, expected 0.655591\n",
      "E0522 04:26:30.060634    1509 buffer_comparator.cc:156] Difference at 66: 1.18121, expected 1.45595\n",
      "E0522 04:26:30.060637    1509 buffer_comparator.cc:156] Difference at 67: 2.95093, expected 1.17065\n",
      "E0522 04:26:30.060639    1509 buffer_comparator.cc:156] Difference at 68: 2.19281, expected 1.40911\n",
      "E0522 04:26:30.060641    1509 buffer_comparator.cc:156] Difference at 69: 0.231641, expected 0.734316\n",
      "E0522 04:26:30.060643    1509 buffer_comparator.cc:156] Difference at 70: 2.69144, expected 1.19525\n",
      "E0522 04:26:30.060645    1509 buffer_comparator.cc:156] Difference at 71: 1.98824, expected 1.48337\n",
      "E0522 04:26:30.060647    1509 buffer_comparator.cc:156] Difference at 72: 2.66056, expected 0.927518\n",
      "E0522 04:26:30.060649    1509 buffer_comparator.cc:156] Difference at 74: 1.27642, expected 0.399007\n",
      "E0522 04:26:30.060651    1509 buffer_comparator.cc:156] Difference at 75: 5.20744, expected 1.05824\n",
      "2025-05-22 04:26:30.060655: E external/xla/xla/service/gpu/autotuning/gemm_fusion_autotuner.cc:1138] Results do not match the reference. This is likely a bug/unexpected loss of precision.\n",
      "E0522 04:26:30.061707    1509 buffer_comparator.cc:156] Difference at 65: 0.0678778, expected 0.655591\n",
      "E0522 04:26:30.061721    1509 buffer_comparator.cc:156] Difference at 66: 1.18121, expected 1.45595\n",
      "E0522 04:26:30.061723    1509 buffer_comparator.cc:156] Difference at 67: 2.95093, expected 1.17065\n",
      "E0522 04:26:30.061725    1509 buffer_comparator.cc:156] Difference at 68: 2.19281, expected 1.40911\n",
      "E0522 04:26:30.061728    1509 buffer_comparator.cc:156] Difference at 69: 0.231641, expected 0.734316\n",
      "E0522 04:26:30.061730    1509 buffer_comparator.cc:156] Difference at 70: 2.69144, expected 1.19525\n",
      "E0522 04:26:30.061732    1509 buffer_comparator.cc:156] Difference at 71: 1.98824, expected 1.48337\n",
      "E0522 04:26:30.061734    1509 buffer_comparator.cc:156] Difference at 72: 2.66056, expected 0.927518\n",
      "E0522 04:26:30.061736    1509 buffer_comparator.cc:156] Difference at 74: 1.27642, expected 0.399007\n",
      "E0522 04:26:30.061738    1509 buffer_comparator.cc:156] Difference at 75: 5.20744, expected 1.05824\n",
      "2025-05-22 04:26:30.061742: E external/xla/xla/service/gpu/autotuning/gemm_fusion_autotuner.cc:1138] Results do not match the reference. This is likely a bug/unexpected loss of precision.\n",
      "E0522 04:26:30.062801    1509 buffer_comparator.cc:156] Difference at 65: 0.0678778, expected 0.655591\n",
      "E0522 04:26:30.062816    1509 buffer_comparator.cc:156] Difference at 66: 1.18121, expected 1.45595\n",
      "E0522 04:26:30.062818    1509 buffer_comparator.cc:156] Difference at 67: 2.95093, expected 1.17065\n",
      "E0522 04:26:30.062820    1509 buffer_comparator.cc:156] Difference at 68: 2.19281, expected 1.40911\n",
      "E0522 04:26:30.062822    1509 buffer_comparator.cc:156] Difference at 69: 0.231641, expected 0.734316\n",
      "E0522 04:26:30.062824    1509 buffer_comparator.cc:156] Difference at 70: 2.69144, expected 1.19525\n",
      "E0522 04:26:30.062826    1509 buffer_comparator.cc:156] Difference at 71: 1.98824, expected 1.48337\n",
      "E0522 04:26:30.062828    1509 buffer_comparator.cc:156] Difference at 72: 2.66056, expected 0.927518\n",
      "E0522 04:26:30.062830    1509 buffer_comparator.cc:156] Difference at 74: 1.27642, expected 0.399007\n",
      "E0522 04:26:30.062833    1509 buffer_comparator.cc:156] Difference at 75: 5.20744, expected 1.05824\n",
      "2025-05-22 04:26:30.062836: E external/xla/xla/service/gpu/autotuning/gemm_fusion_autotuner.cc:1138] Results do not match the reference. This is likely a bug/unexpected loss of precision.\n",
      "E0522 04:26:30.063878    1509 buffer_comparator.cc:156] Difference at 128: 2.3145, expected 1.28939\n",
      "E0522 04:26:30.063892    1509 buffer_comparator.cc:156] Difference at 129: 0.625226, expected 1.33288\n",
      "E0522 04:26:30.063894    1509 buffer_comparator.cc:156] Difference at 130: 0.616121, expected 0.974981\n",
      "E0522 04:26:30.063897    1509 buffer_comparator.cc:156] Difference at 131: 1.55317, expected 0.694791\n",
      "E0522 04:26:30.063899    1509 buffer_comparator.cc:156] Difference at 134: 0.196109, expected 1.54957\n",
      "E0522 04:26:30.063901    1509 buffer_comparator.cc:156] Difference at 135: 3.03814, expected 0.55943\n",
      "E0522 04:26:30.063903    1509 buffer_comparator.cc:156] Difference at 136: 3.00983, expected 0.705995\n",
      "E0522 04:26:30.063905    1509 buffer_comparator.cc:156] Difference at 137: 3.25401, expected 0.971175\n",
      "E0522 04:26:30.063907    1509 buffer_comparator.cc:156] Difference at 139: 0.821336, expected 1.51243\n",
      "E0522 04:26:30.063909    1509 buffer_comparator.cc:156] Difference at 140: 3.07991, expected 1.03021\n",
      "2025-05-22 04:26:30.063913: E external/xla/xla/service/gpu/autotuning/gemm_fusion_autotuner.cc:1138] Results do not match the reference. This is likely a bug/unexpected loss of precision.\n",
      "E0522 04:26:30.064963    1509 buffer_comparator.cc:156] Difference at 128: 2.3145, expected 1.28939\n",
      "E0522 04:26:30.064977    1509 buffer_comparator.cc:156] Difference at 129: 0.625226, expected 1.33288\n",
      "E0522 04:26:30.064980    1509 buffer_comparator.cc:156] Difference at 130: 0.616121, expected 0.974981\n",
      "E0522 04:26:30.064982    1509 buffer_comparator.cc:156] Difference at 131: 1.55317, expected 0.694791\n",
      "E0522 04:26:30.064985    1509 buffer_comparator.cc:156] Difference at 134: 0.196109, expected 1.54957\n",
      "E0522 04:26:30.064987    1509 buffer_comparator.cc:156] Difference at 135: 3.03814, expected 0.55943\n",
      "E0522 04:26:30.064989    1509 buffer_comparator.cc:156] Difference at 136: 3.00983, expected 0.705995\n",
      "E0522 04:26:30.064991    1509 buffer_comparator.cc:156] Difference at 137: 3.25401, expected 0.971175\n",
      "E0522 04:26:30.064993    1509 buffer_comparator.cc:156] Difference at 139: 0.821336, expected 1.51243\n",
      "E0522 04:26:30.064995    1509 buffer_comparator.cc:156] Difference at 140: 3.07991, expected 1.03021\n",
      "2025-05-22 04:26:30.064999: E external/xla/xla/service/gpu/autotuning/gemm_fusion_autotuner.cc:1138] Results do not match the reference. This is likely a bug/unexpected loss of precision.\n",
      "E0522 04:26:30.066070    1509 buffer_comparator.cc:156] Difference at 256: 1.61702, expected 0.518756\n",
      "E0522 04:26:30.066084    1509 buffer_comparator.cc:156] Difference at 257: 2.71319, expected 1.01396\n",
      "E0522 04:26:30.066086    1509 buffer_comparator.cc:156] Difference at 258: 0.518093, expected 0.734671\n",
      "E0522 04:26:30.066088    1509 buffer_comparator.cc:156] Difference at 259: 0.150755, expected 1.3672\n",
      "E0522 04:26:30.066091    1509 buffer_comparator.cc:156] Difference at 260: 4.83429, expected 0.643897\n",
      "E0522 04:26:30.066093    1509 buffer_comparator.cc:156] Difference at 261: 2.48567, expected 1.07894\n",
      "E0522 04:26:30.066095    1509 buffer_comparator.cc:156] Difference at 262: 2.45004, expected 0.869257\n",
      "E0522 04:26:30.066097    1509 buffer_comparator.cc:156] Difference at 263: 0.0572339, expected 1.2179\n",
      "E0522 04:26:30.066099    1509 buffer_comparator.cc:156] Difference at 264: 1.07689, expected 0.688384\n",
      "E0522 04:26:30.066101    1509 buffer_comparator.cc:156] Difference at 265: 0.920353, expected 1.35391\n",
      "2025-05-22 04:26:30.066105: E external/xla/xla/service/gpu/autotuning/gemm_fusion_autotuner.cc:1138] Results do not match the reference. This is likely a bug/unexpected loss of precision.\n",
      "E0522 04:26:30.067155    1509 buffer_comparator.cc:156] Difference at 256: 1.61702, expected 0.518756\n",
      "E0522 04:26:30.067169    1509 buffer_comparator.cc:156] Difference at 257: 2.71319, expected 1.01396\n",
      "E0522 04:26:30.067171    1509 buffer_comparator.cc:156] Difference at 258: 0.518093, expected 0.734671\n",
      "E0522 04:26:30.067174    1509 buffer_comparator.cc:156] Difference at 259: 0.150755, expected 1.3672\n",
      "E0522 04:26:30.067176    1509 buffer_comparator.cc:156] Difference at 260: 4.83429, expected 0.643897\n",
      "E0522 04:26:30.067178    1509 buffer_comparator.cc:156] Difference at 261: 2.48567, expected 1.07894\n",
      "E0522 04:26:30.067180    1509 buffer_comparator.cc:156] Difference at 262: 2.45004, expected 0.869257\n",
      "E0522 04:26:30.067182    1509 buffer_comparator.cc:156] Difference at 263: 0.0572339, expected 1.2179\n",
      "E0522 04:26:30.067184    1509 buffer_comparator.cc:156] Difference at 264: 1.07689, expected 0.688384\n",
      "E0522 04:26:30.067186    1509 buffer_comparator.cc:156] Difference at 265: 0.920353, expected 1.35391\n",
      "2025-05-22 04:26:30.067190: E external/xla/xla/service/gpu/autotuning/gemm_fusion_autotuner.cc:1138] Results do not match the reference. This is likely a bug/unexpected loss of precision.\n",
      "E0522 04:26:30.089809    1509 buffer_comparator.cc:156] Difference at 0: 0.349112, expected 0.760084\n",
      "E0522 04:26:30.089825    1509 buffer_comparator.cc:156] Difference at 1: 0.350505, expected 0.799896\n",
      "E0522 04:26:30.089828    1509 buffer_comparator.cc:156] Difference at 2: 0.433774, expected 0.64915\n",
      "E0522 04:26:30.089830    1509 buffer_comparator.cc:156] Difference at 6: 0.581368, expected 1.84138\n",
      "E0522 04:26:30.089832    1509 buffer_comparator.cc:156] Difference at 7: 0.601941, expected 1.91584\n",
      "E0522 04:26:30.089834    1509 buffer_comparator.cc:156] Difference at 8: 0.561503, expected 1.74872\n",
      "E0522 04:26:30.089836    1509 buffer_comparator.cc:156] Difference at 9: 0.591092, expected 1.06016\n",
      "E0522 04:26:30.089839    1509 buffer_comparator.cc:156] Difference at 10: 0.614805, expected 1.08114\n",
      "E0522 04:26:30.089841    1509 buffer_comparator.cc:156] Difference at 11: 0.556092, expected 1.19505\n",
      "E0522 04:26:30.089843    1509 buffer_comparator.cc:156] Difference at 12: 1.06706, expected 1.61175\n",
      "2025-05-22 04:26:30.089847: E external/xla/xla/service/gpu/autotuning/gemm_fusion_autotuner.cc:1138] Results do not match the reference. This is likely a bug/unexpected loss of precision.\n",
      "E0522 04:26:30.091324    1509 buffer_comparator.cc:156] Difference at 0: 0.349112, expected 0.760084\n",
      "E0522 04:26:30.091336    1509 buffer_comparator.cc:156] Difference at 1: 0.350505, expected 0.799896\n",
      "E0522 04:26:30.091339    1509 buffer_comparator.cc:156] Difference at 2: 0.433774, expected 0.64915\n",
      "E0522 04:26:30.091341    1509 buffer_comparator.cc:156] Difference at 6: 0.581368, expected 1.84138\n",
      "E0522 04:26:30.091344    1509 buffer_comparator.cc:156] Difference at 7: 0.601941, expected 1.91584\n",
      "E0522 04:26:30.091346    1509 buffer_comparator.cc:156] Difference at 8: 0.561503, expected 1.74872\n",
      "E0522 04:26:30.091348    1509 buffer_comparator.cc:156] Difference at 9: 0.591092, expected 1.06016\n",
      "E0522 04:26:30.091350    1509 buffer_comparator.cc:156] Difference at 10: 0.614805, expected 1.08114\n",
      "E0522 04:26:30.091352    1509 buffer_comparator.cc:156] Difference at 11: 0.556092, expected 1.19505\n",
      "E0522 04:26:30.091354    1509 buffer_comparator.cc:156] Difference at 12: 1.06706, expected 1.61175\n",
      "2025-05-22 04:26:30.091357: E external/xla/xla/service/gpu/autotuning/gemm_fusion_autotuner.cc:1138] Results do not match the reference. This is likely a bug/unexpected loss of precision.\n",
      "E0522 04:26:30.092820    1509 buffer_comparator.cc:156] Difference at 0: 0.349112, expected 0.760084\n",
      "E0522 04:26:30.092832    1509 buffer_comparator.cc:156] Difference at 1: 0.350505, expected 0.799896\n",
      "E0522 04:26:30.092835    1509 buffer_comparator.cc:156] Difference at 2: 0.433774, expected 0.64915\n",
      "E0522 04:26:30.092837    1509 buffer_comparator.cc:156] Difference at 6: 0.581368, expected 1.84138\n",
      "E0522 04:26:30.092839    1509 buffer_comparator.cc:156] Difference at 7: 0.601941, expected 1.91584\n",
      "E0522 04:26:30.092841    1509 buffer_comparator.cc:156] Difference at 8: 0.561503, expected 1.74872\n",
      "E0522 04:26:30.092843    1509 buffer_comparator.cc:156] Difference at 9: 0.591092, expected 1.06016\n",
      "E0522 04:26:30.092845    1509 buffer_comparator.cc:156] Difference at 10: 0.614805, expected 1.08114\n",
      "E0522 04:26:30.092847    1509 buffer_comparator.cc:156] Difference at 11: 0.556092, expected 1.19505\n",
      "E0522 04:26:30.092849    1509 buffer_comparator.cc:156] Difference at 12: 1.06706, expected 1.61175\n",
      "2025-05-22 04:26:30.092853: E external/xla/xla/service/gpu/autotuning/gemm_fusion_autotuner.cc:1138] Results do not match the reference. This is likely a bug/unexpected loss of precision.\n",
      "E0522 04:26:30.094342    1509 buffer_comparator.cc:156] Difference at 0: 0.349112, expected 0.760084\n",
      "E0522 04:26:30.094356    1509 buffer_comparator.cc:156] Difference at 1: 0.350505, expected 0.799896\n",
      "E0522 04:26:30.094358    1509 buffer_comparator.cc:156] Difference at 2: 0.433774, expected 0.64915\n",
      "E0522 04:26:30.094361    1509 buffer_comparator.cc:156] Difference at 6: 0.581368, expected 1.84138\n",
      "E0522 04:26:30.094363    1509 buffer_comparator.cc:156] Difference at 7: 0.601941, expected 1.91584\n",
      "E0522 04:26:30.094365    1509 buffer_comparator.cc:156] Difference at 8: 0.561503, expected 1.74872\n",
      "E0522 04:26:30.094367    1509 buffer_comparator.cc:156] Difference at 9: 0.591092, expected 1.06016\n",
      "E0522 04:26:30.094369    1509 buffer_comparator.cc:156] Difference at 10: 0.614805, expected 1.08114\n",
      "E0522 04:26:30.094371    1509 buffer_comparator.cc:156] Difference at 11: 0.556092, expected 1.19505\n",
      "E0522 04:26:30.094373    1509 buffer_comparator.cc:156] Difference at 12: 1.06706, expected 1.61175\n",
      "2025-05-22 04:26:30.094377: E external/xla/xla/service/gpu/autotuning/gemm_fusion_autotuner.cc:1138] Results do not match the reference. This is likely a bug/unexpected loss of precision.\n",
      "E0522 04:26:30.095827    1509 buffer_comparator.cc:156] Difference at 0: 0.349112, expected 0.760084\n",
      "E0522 04:26:30.095841    1509 buffer_comparator.cc:156] Difference at 1: 0.350505, expected 0.799896\n",
      "E0522 04:26:30.095843    1509 buffer_comparator.cc:156] Difference at 2: 0.433774, expected 0.64915\n",
      "E0522 04:26:30.095845    1509 buffer_comparator.cc:156] Difference at 6: 0.581368, expected 1.84138\n",
      "E0522 04:26:30.095848    1509 buffer_comparator.cc:156] Difference at 7: 0.601941, expected 1.91584\n",
      "E0522 04:26:30.095850    1509 buffer_comparator.cc:156] Difference at 8: 0.561503, expected 1.74872\n",
      "E0522 04:26:30.095852    1509 buffer_comparator.cc:156] Difference at 9: 0.591092, expected 1.06016\n",
      "E0522 04:26:30.095854    1509 buffer_comparator.cc:156] Difference at 10: 0.614805, expected 1.08114\n",
      "E0522 04:26:30.095856    1509 buffer_comparator.cc:156] Difference at 11: 0.556092, expected 1.19505\n",
      "E0522 04:26:30.095858    1509 buffer_comparator.cc:156] Difference at 12: 1.06706, expected 1.61175\n",
      "2025-05-22 04:26:30.095862: E external/xla/xla/service/gpu/autotuning/gemm_fusion_autotuner.cc:1138] Results do not match the reference. This is likely a bug/unexpected loss of precision.\n",
      "E0522 04:26:30.097341    1509 buffer_comparator.cc:156] Difference at 0: 0.349112, expected 0.760084\n",
      "E0522 04:26:30.097355    1509 buffer_comparator.cc:156] Difference at 1: 0.350505, expected 0.799896\n",
      "E0522 04:26:30.097357    1509 buffer_comparator.cc:156] Difference at 2: 0.433774, expected 0.64915\n",
      "E0522 04:26:30.097360    1509 buffer_comparator.cc:156] Difference at 6: 0.581368, expected 1.84138\n",
      "E0522 04:26:30.097362    1509 buffer_comparator.cc:156] Difference at 7: 0.601941, expected 1.91584\n",
      "E0522 04:26:30.097364    1509 buffer_comparator.cc:156] Difference at 8: 0.561503, expected 1.74872\n",
      "E0522 04:26:30.097366    1509 buffer_comparator.cc:156] Difference at 9: 0.591092, expected 1.06016\n",
      "E0522 04:26:30.097368    1509 buffer_comparator.cc:156] Difference at 10: 0.614805, expected 1.08114\n",
      "E0522 04:26:30.097370    1509 buffer_comparator.cc:156] Difference at 11: 0.556092, expected 1.19505\n",
      "E0522 04:26:30.097372    1509 buffer_comparator.cc:156] Difference at 12: 1.06706, expected 1.61175\n",
      "2025-05-22 04:26:30.097375: E external/xla/xla/service/gpu/autotuning/gemm_fusion_autotuner.cc:1138] Results do not match the reference. This is likely a bug/unexpected loss of precision.\n",
      "E0522 04:26:30.098826    1509 buffer_comparator.cc:156] Difference at 0: 0.349112, expected 0.760084\n",
      "E0522 04:26:30.098840    1509 buffer_comparator.cc:156] Difference at 1: 0.350505, expected 0.799896\n",
      "E0522 04:26:30.098842    1509 buffer_comparator.cc:156] Difference at 2: 0.433774, expected 0.64915\n",
      "E0522 04:26:30.098845    1509 buffer_comparator.cc:156] Difference at 6: 0.581368, expected 1.84138\n",
      "E0522 04:26:30.098847    1509 buffer_comparator.cc:156] Difference at 7: 0.601941, expected 1.91584\n",
      "E0522 04:26:30.098849    1509 buffer_comparator.cc:156] Difference at 8: 0.561503, expected 1.74872\n",
      "E0522 04:26:30.098851    1509 buffer_comparator.cc:156] Difference at 9: 0.591092, expected 1.06016\n",
      "E0522 04:26:30.098853    1509 buffer_comparator.cc:156] Difference at 10: 0.614805, expected 1.08114\n",
      "E0522 04:26:30.098855    1509 buffer_comparator.cc:156] Difference at 11: 0.556092, expected 1.19505\n",
      "E0522 04:26:30.098857    1509 buffer_comparator.cc:156] Difference at 12: 1.06706, expected 1.61175\n",
      "2025-05-22 04:26:30.098861: E external/xla/xla/service/gpu/autotuning/gemm_fusion_autotuner.cc:1138] Results do not match the reference. This is likely a bug/unexpected loss of precision.\n",
      "E0522 04:26:30.100344    1509 buffer_comparator.cc:156] Difference at 0: 0.349112, expected 0.760084\n",
      "E0522 04:26:30.100358    1509 buffer_comparator.cc:156] Difference at 1: 0.350505, expected 0.799896\n",
      "E0522 04:26:30.100361    1509 buffer_comparator.cc:156] Difference at 2: 0.433774, expected 0.64915\n",
      "E0522 04:26:30.100363    1509 buffer_comparator.cc:156] Difference at 6: 0.581368, expected 1.84138\n",
      "E0522 04:26:30.100365    1509 buffer_comparator.cc:156] Difference at 7: 0.601941, expected 1.91584\n",
      "E0522 04:26:30.100367    1509 buffer_comparator.cc:156] Difference at 8: 0.561503, expected 1.74872\n",
      "E0522 04:26:30.100369    1509 buffer_comparator.cc:156] Difference at 9: 0.591092, expected 1.06016\n",
      "E0522 04:26:30.100371    1509 buffer_comparator.cc:156] Difference at 10: 0.614805, expected 1.08114\n",
      "E0522 04:26:30.100373    1509 buffer_comparator.cc:156] Difference at 11: 0.556092, expected 1.19505\n",
      "E0522 04:26:30.100376    1509 buffer_comparator.cc:156] Difference at 12: 1.06706, expected 1.61175\n",
      "2025-05-22 04:26:30.100379: E external/xla/xla/service/gpu/autotuning/gemm_fusion_autotuner.cc:1138] Results do not match the reference. This is likely a bug/unexpected loss of precision.\n",
      "E0522 04:26:30.101898    1509 buffer_comparator.cc:156] Difference at 0: 0.349112, expected 0.760084\n",
      "E0522 04:26:30.101912    1509 buffer_comparator.cc:156] Difference at 1: 0.350505, expected 0.799896\n",
      "E0522 04:26:30.101915    1509 buffer_comparator.cc:156] Difference at 2: 0.433774, expected 0.64915\n",
      "E0522 04:26:30.101917    1509 buffer_comparator.cc:156] Difference at 6: 0.581368, expected 1.84138\n",
      "E0522 04:26:30.101919    1509 buffer_comparator.cc:156] Difference at 7: 0.601941, expected 1.91584\n",
      "E0522 04:26:30.101922    1509 buffer_comparator.cc:156] Difference at 8: 0.561503, expected 1.74872\n",
      "E0522 04:26:30.101924    1509 buffer_comparator.cc:156] Difference at 9: 0.591092, expected 1.06016\n",
      "E0522 04:26:30.101926    1509 buffer_comparator.cc:156] Difference at 10: 0.614805, expected 1.08114\n",
      "E0522 04:26:30.101928    1509 buffer_comparator.cc:156] Difference at 11: 0.556092, expected 1.19505\n",
      "E0522 04:26:30.101930    1509 buffer_comparator.cc:156] Difference at 12: 1.06706, expected 1.61175\n",
      "2025-05-22 04:26:30.101933: E external/xla/xla/service/gpu/autotuning/gemm_fusion_autotuner.cc:1138] Results do not match the reference. This is likely a bug/unexpected loss of precision.\n",
      "E0522 04:26:30.103421    1509 buffer_comparator.cc:156] Difference at 771: 0.497405, expected 1.65043\n",
      "E0522 04:26:30.103435    1509 buffer_comparator.cc:156] Difference at 772: 1.04959, expected 1.71674\n",
      "E0522 04:26:30.103438    1509 buffer_comparator.cc:156] Difference at 773: 1.10454, expected 1.5718\n",
      "E0522 04:26:30.103440    1509 buffer_comparator.cc:156] Difference at 774: 1.40206, expected 0.672905\n",
      "E0522 04:26:30.103442    1509 buffer_comparator.cc:156] Difference at 775: 1.69438, expected 0.693032\n",
      "E0522 04:26:30.103444    1509 buffer_comparator.cc:156] Difference at 776: 1.30709, expected 0.68579\n",
      "E0522 04:26:30.103446    1509 buffer_comparator.cc:156] Difference at 777: 1.05987, expected 0.840045\n",
      "E0522 04:26:30.103448    1509 buffer_comparator.cc:156] Difference at 778: 1.32858, expected 0.877063\n",
      "E0522 04:26:30.103450    1509 buffer_comparator.cc:156] Difference at 779: 1.38209, expected 0.759683\n",
      "E0522 04:26:30.103453    1509 buffer_comparator.cc:156] Difference at 781: 1.09252, expected 0.540358\n",
      "2025-05-22 04:26:30.103456: E external/xla/xla/service/gpu/autotuning/gemm_fusion_autotuner.cc:1138] Results do not match the reference. This is likely a bug/unexpected loss of precision.\n",
      "E0522 04:26:30.104908    1509 buffer_comparator.cc:156] Difference at 771: 0.497405, expected 1.65043\n",
      "E0522 04:26:30.104922    1509 buffer_comparator.cc:156] Difference at 772: 1.04959, expected 1.71674\n",
      "E0522 04:26:30.104925    1509 buffer_comparator.cc:156] Difference at 773: 1.10454, expected 1.5718\n",
      "E0522 04:26:30.104927    1509 buffer_comparator.cc:156] Difference at 774: 1.40206, expected 0.672905\n",
      "E0522 04:26:30.104929    1509 buffer_comparator.cc:156] Difference at 775: 1.69438, expected 0.693032\n",
      "E0522 04:26:30.104931    1509 buffer_comparator.cc:156] Difference at 776: 1.30709, expected 0.68579\n",
      "E0522 04:26:30.104933    1509 buffer_comparator.cc:156] Difference at 777: 1.05987, expected 0.840045\n",
      "E0522 04:26:30.104935    1509 buffer_comparator.cc:156] Difference at 778: 1.32858, expected 0.877063\n",
      "E0522 04:26:30.104937    1509 buffer_comparator.cc:156] Difference at 779: 1.38209, expected 0.759683\n",
      "E0522 04:26:30.104949    1509 buffer_comparator.cc:156] Difference at 781: 1.09252, expected 0.540358\n",
      "2025-05-22 04:26:30.104955: E external/xla/xla/service/gpu/autotuning/gemm_fusion_autotuner.cc:1138] Results do not match the reference. This is likely a bug/unexpected loss of precision.\n",
      "E0522 04:26:30.106412    1509 buffer_comparator.cc:156] Difference at 80: 0.866953, expected 0.552164\n",
      "E0522 04:26:30.106427    1509 buffer_comparator.cc:156] Difference at 81: 0.402434, expected 0.115321\n",
      "E0522 04:26:30.106430    1509 buffer_comparator.cc:156] Difference at 82: 0.726935, expected 0.415164\n",
      "E0522 04:26:30.106432    1509 buffer_comparator.cc:156] Difference at 83: 0.318019, expected 0.772393\n",
      "E0522 04:26:30.106434    1509 buffer_comparator.cc:156] Difference at 84: 0.410977, expected 2.1058\n",
      "E0522 04:26:30.106437    1509 buffer_comparator.cc:156] Difference at 87: 0.910195, expected 0.663975\n",
      "E0522 04:26:30.106439    1509 buffer_comparator.cc:156] Difference at 88: 0.363378, expected 1.04557\n",
      "E0522 04:26:30.106441    1509 buffer_comparator.cc:156] Difference at 90: 0.295552, expected 0.796275\n",
      "E0522 04:26:30.106443    1509 buffer_comparator.cc:156] Difference at 92: 0.461059, expected 0.290707\n",
      "E0522 04:26:30.106445    1509 buffer_comparator.cc:156] Difference at 93: 0.332571, expected 0.763656\n",
      "2025-05-22 04:26:30.106449: E external/xla/xla/service/gpu/autotuning/gemm_fusion_autotuner.cc:1138] Results do not match the reference. This is likely a bug/unexpected loss of precision.\n",
      "E0522 04:26:30.107436    1509 buffer_comparator.cc:156] Difference at 80: 0.866953, expected 0.552164\n",
      "E0522 04:26:30.107450    1509 buffer_comparator.cc:156] Difference at 81: 0.402434, expected 0.115321\n",
      "E0522 04:26:30.107453    1509 buffer_comparator.cc:156] Difference at 82: 0.726935, expected 0.415164\n",
      "E0522 04:26:30.107455    1509 buffer_comparator.cc:156] Difference at 83: 0.318019, expected 0.772393\n",
      "E0522 04:26:30.107457    1509 buffer_comparator.cc:156] Difference at 84: 0.410977, expected 2.1058\n",
      "E0522 04:26:30.107459    1509 buffer_comparator.cc:156] Difference at 87: 0.910195, expected 0.663975\n",
      "E0522 04:26:30.107461    1509 buffer_comparator.cc:156] Difference at 88: 0.363378, expected 1.04557\n",
      "E0522 04:26:30.107463    1509 buffer_comparator.cc:156] Difference at 90: 0.295552, expected 0.796275\n",
      "E0522 04:26:30.107465    1509 buffer_comparator.cc:156] Difference at 92: 0.461059, expected 0.290707\n",
      "E0522 04:26:30.107467    1509 buffer_comparator.cc:156] Difference at 93: 0.332571, expected 0.763656\n",
      "2025-05-22 04:26:30.107471: E external/xla/xla/service/gpu/autotuning/gemm_fusion_autotuner.cc:1138] Results do not match the reference. This is likely a bug/unexpected loss of precision.\n",
      "E0522 04:26:30.108454    1509 buffer_comparator.cc:156] Difference at 161: 0.761546, expected 0.240465\n",
      "E0522 04:26:30.108468    1509 buffer_comparator.cc:156] Difference at 163: 0.762408, expected 1.52437\n",
      "E0522 04:26:30.108471    1509 buffer_comparator.cc:156] Difference at 164: 0.117334, expected 1.12016\n",
      "E0522 04:26:30.108473    1509 buffer_comparator.cc:156] Difference at 166: 0.29986, expected 0.538369\n",
      "E0522 04:26:30.108475    1509 buffer_comparator.cc:156] Difference at 167: 0.747663, expected 0.291455\n",
      "E0522 04:26:30.108477    1509 buffer_comparator.cc:156] Difference at 168: 0.378304, expected 1.1176\n",
      "E0522 04:26:30.108479    1509 buffer_comparator.cc:156] Difference at 169: 0.645535, expected 1.54065\n",
      "E0522 04:26:30.108481    1509 buffer_comparator.cc:156] Difference at 170: 0.738415, expected 0.514085\n",
      "E0522 04:26:30.108483    1509 buffer_comparator.cc:156] Difference at 171: 0.12322, expected 0.550361\n",
      "E0522 04:26:30.108486    1509 buffer_comparator.cc:156] Difference at 172: 0.79477, expected 0.177633\n",
      "2025-05-22 04:26:30.108489: E external/xla/xla/service/gpu/autotuning/gemm_fusion_autotuner.cc:1138] Results do not match the reference. This is likely a bug/unexpected loss of precision.\n",
      "E0522 04:26:30.109463    1509 buffer_comparator.cc:156] Difference at 161: 0.761546, expected 0.240465\n",
      "E0522 04:26:30.109477    1509 buffer_comparator.cc:156] Difference at 163: 0.762408, expected 1.52437\n",
      "E0522 04:26:30.109480    1509 buffer_comparator.cc:156] Difference at 164: 0.117334, expected 1.12016\n",
      "E0522 04:26:30.109482    1509 buffer_comparator.cc:156] Difference at 166: 0.29986, expected 0.538369\n",
      "E0522 04:26:30.109484    1509 buffer_comparator.cc:156] Difference at 167: 0.747663, expected 0.291455\n",
      "E0522 04:26:30.109487    1509 buffer_comparator.cc:156] Difference at 168: 0.378304, expected 1.1176\n",
      "E0522 04:26:30.109489    1509 buffer_comparator.cc:156] Difference at 169: 0.645535, expected 1.54065\n",
      "E0522 04:26:30.109491    1509 buffer_comparator.cc:156] Difference at 170: 0.738415, expected 0.514085\n",
      "E0522 04:26:30.109493    1509 buffer_comparator.cc:156] Difference at 171: 0.12322, expected 0.550361\n",
      "E0522 04:26:30.109495    1509 buffer_comparator.cc:156] Difference at 172: 0.79477, expected 0.177633\n",
      "2025-05-22 04:26:30.109499: E external/xla/xla/service/gpu/autotuning/gemm_fusion_autotuner.cc:1138] Results do not match the reference. This is likely a bug/unexpected loss of precision.\n",
      "E0522 04:26:30.110493    1509 buffer_comparator.cc:156] Difference at 320: 0.0769285, expected 0.52927\n",
      "E0522 04:26:30.110507    1509 buffer_comparator.cc:156] Difference at 321: 0.229886, expected 0.721513\n",
      "E0522 04:26:30.110509    1509 buffer_comparator.cc:156] Difference at 322: 0.203082, expected 0.476424\n",
      "E0522 04:26:30.110512    1509 buffer_comparator.cc:156] Difference at 323: 0.576053, expected 1.04751\n",
      "E0522 04:26:30.110514    1509 buffer_comparator.cc:156] Difference at 324: 0.113999, expected 0.611935\n",
      "E0522 04:26:30.110516    1509 buffer_comparator.cc:156] Difference at 325: 0.810628, expected 0.534679\n",
      "E0522 04:26:30.110518    1509 buffer_comparator.cc:156] Difference at 327: 0.403843, expected 0.576865\n",
      "E0522 04:26:30.110520    1509 buffer_comparator.cc:156] Difference at 329: 0.988439, expected 1.29351\n",
      "E0522 04:26:30.110522    1509 buffer_comparator.cc:156] Difference at 331: 0.0899988, expected 0.458476\n",
      "E0522 04:26:30.110524    1509 buffer_comparator.cc:156] Difference at 333: 0.320941, expected 1.17696\n",
      "2025-05-22 04:26:30.110528: E external/xla/xla/service/gpu/autotuning/gemm_fusion_autotuner.cc:1138] Results do not match the reference. This is likely a bug/unexpected loss of precision.\n",
      "E0522 04:26:30.111483    1509 buffer_comparator.cc:156] Difference at 320: 0.0769285, expected 0.52927\n",
      "E0522 04:26:30.111497    1509 buffer_comparator.cc:156] Difference at 321: 0.229886, expected 0.721513\n",
      "E0522 04:26:30.111500    1509 buffer_comparator.cc:156] Difference at 322: 0.203082, expected 0.476424\n",
      "E0522 04:26:30.111502    1509 buffer_comparator.cc:156] Difference at 323: 0.576053, expected 1.04751\n",
      "E0522 04:26:30.111504    1509 buffer_comparator.cc:156] Difference at 324: 0.113999, expected 0.611935\n",
      "E0522 04:26:30.111506    1509 buffer_comparator.cc:156] Difference at 325: 0.810628, expected 0.534679\n",
      "E0522 04:26:30.111508    1509 buffer_comparator.cc:156] Difference at 327: 0.403843, expected 0.576865\n",
      "E0522 04:26:30.111511    1509 buffer_comparator.cc:156] Difference at 329: 0.988439, expected 1.29351\n",
      "E0522 04:26:30.111513    1509 buffer_comparator.cc:156] Difference at 331: 0.0899988, expected 0.458476\n",
      "E0522 04:26:30.111515    1509 buffer_comparator.cc:156] Difference at 333: 0.320941, expected 1.17696\n",
      "2025-05-22 04:26:30.111518: E external/xla/xla/service/gpu/autotuning/gemm_fusion_autotuner.cc:1138] Results do not match the reference. This is likely a bug/unexpected loss of precision.\n",
      "E0522 04:26:30.112493    1509 buffer_comparator.cc:156] Difference at 320: 0.0769285, expected 0.52927\n",
      "E0522 04:26:30.112507    1509 buffer_comparator.cc:156] Difference at 321: 0.229886, expected 0.721513\n",
      "E0522 04:26:30.112509    1509 buffer_comparator.cc:156] Difference at 322: 0.203082, expected 0.476424\n",
      "E0522 04:26:30.112511    1509 buffer_comparator.cc:156] Difference at 323: 0.576053, expected 1.04751\n",
      "E0522 04:26:30.112514    1509 buffer_comparator.cc:156] Difference at 324: 0.113999, expected 0.611935\n",
      "E0522 04:26:30.112516    1509 buffer_comparator.cc:156] Difference at 325: 0.810628, expected 0.534679\n",
      "E0522 04:26:30.112518    1509 buffer_comparator.cc:156] Difference at 327: 0.403843, expected 0.576865\n",
      "E0522 04:26:30.112520    1509 buffer_comparator.cc:156] Difference at 329: 0.988439, expected 1.29351\n",
      "E0522 04:26:30.112522    1509 buffer_comparator.cc:156] Difference at 331: 0.0899988, expected 0.458476\n",
      "E0522 04:26:30.112524    1509 buffer_comparator.cc:156] Difference at 333: 0.320941, expected 1.17696\n",
      "2025-05-22 04:26:30.112528: E external/xla/xla/service/gpu/autotuning/gemm_fusion_autotuner.cc:1138] Results do not match the reference. This is likely a bug/unexpected loss of precision.\n",
      "E0522 04:26:30.113517    1509 buffer_comparator.cc:156] Difference at 641: 0.18198, expected 0.641783\n",
      "E0522 04:26:30.113531    1509 buffer_comparator.cc:156] Difference at 643: 0.0929889, expected 0.706849\n",
      "E0522 04:26:30.113534    1509 buffer_comparator.cc:156] Difference at 644: 0.493741, expected 1.19936\n",
      "E0522 04:26:30.113536    1509 buffer_comparator.cc:156] Difference at 645: 0.463489, expected 0.13464\n",
      "E0522 04:26:30.113538    1509 buffer_comparator.cc:156] Difference at 647: 0.00933251, expected 0.469231\n",
      "E0522 04:26:30.113540    1509 buffer_comparator.cc:156] Difference at 649: 0.915026, expected 1.39703\n",
      "E0522 04:26:30.113543    1509 buffer_comparator.cc:156] Difference at 650: 0.934306, expected 0.577853\n",
      "E0522 04:26:30.113545    1509 buffer_comparator.cc:156] Difference at 653: 0.00141905, expected 1.2529\n",
      "E0522 04:26:30.113547    1509 buffer_comparator.cc:156] Difference at 654: 0.767826, expected 1.41857\n",
      "E0522 04:26:30.113549    1509 buffer_comparator.cc:156] Difference at 655: 0.0303853, expected 0.789244\n",
      "2025-05-22 04:26:30.113553: E external/xla/xla/service/gpu/autotuning/gemm_fusion_autotuner.cc:1138] Results do not match the reference. This is likely a bug/unexpected loss of precision.\n",
      "E0522 04:26:30.114525    1509 buffer_comparator.cc:156] Difference at 641: 0.18198, expected 0.641783\n",
      "E0522 04:26:30.114539    1509 buffer_comparator.cc:156] Difference at 643: 0.0929889, expected 0.706849\n",
      "E0522 04:26:30.114542    1509 buffer_comparator.cc:156] Difference at 644: 0.493741, expected 1.19936\n",
      "E0522 04:26:30.114544    1509 buffer_comparator.cc:156] Difference at 645: 0.463489, expected 0.13464\n",
      "E0522 04:26:30.114546    1509 buffer_comparator.cc:156] Difference at 647: 0.00933251, expected 0.469231\n",
      "E0522 04:26:30.114548    1509 buffer_comparator.cc:156] Difference at 649: 0.915026, expected 1.39703\n",
      "E0522 04:26:30.114551    1509 buffer_comparator.cc:156] Difference at 650: 0.934306, expected 0.577853\n",
      "E0522 04:26:30.114553    1509 buffer_comparator.cc:156] Difference at 653: 0.00141905, expected 1.2529\n",
      "E0522 04:26:30.114555    1509 buffer_comparator.cc:156] Difference at 654: 0.767826, expected 1.41857\n",
      "E0522 04:26:30.114557    1509 buffer_comparator.cc:156] Difference at 655: 0.0303853, expected 0.789244\n",
      "2025-05-22 04:26:30.114561: E external/xla/xla/service/gpu/autotuning/gemm_fusion_autotuner.cc:1138] Results do not match the reference. This is likely a bug/unexpected loss of precision.\n",
      "E0522 04:26:30.115540    1509 buffer_comparator.cc:156] Difference at 1280: 0.848498, expected 0.234992\n",
      "E0522 04:26:30.115554    1509 buffer_comparator.cc:156] Difference at 1281: 0.466202, expected 0.0854929\n",
      "E0522 04:26:30.115557    1509 buffer_comparator.cc:156] Difference at 1283: 0.325653, expected 1.46282\n",
      "E0522 04:26:30.115559    1509 buffer_comparator.cc:156] Difference at 1284: 0.679284, expected 0.506606\n",
      "E0522 04:26:30.115561    1509 buffer_comparator.cc:156] Difference at 1286: 0.0514224, expected 0.512295\n",
      "E0522 04:26:30.115564    1509 buffer_comparator.cc:156] Difference at 1287: 0.230299, expected 0.465866\n",
      "E0522 04:26:30.115566    1509 buffer_comparator.cc:156] Difference at 1288: 0.522539, expected 0.934695\n",
      "E0522 04:26:30.115568    1509 buffer_comparator.cc:156] Difference at 1289: 0.579885, expected 1.19714\n",
      "E0522 04:26:30.115570    1509 buffer_comparator.cc:156] Difference at 1290: 0.615155, expected 0.375768\n",
      "E0522 04:26:30.115572    1509 buffer_comparator.cc:156] Difference at 1291: 0.603156, expected 0.185219\n",
      "2025-05-22 04:26:30.115576: E external/xla/xla/service/gpu/autotuning/gemm_fusion_autotuner.cc:1138] Results do not match the reference. This is likely a bug/unexpected loss of precision.\n",
      "E0522 04:26:30.116561    1509 buffer_comparator.cc:156] Difference at 1280: 0.848498, expected 0.234992\n",
      "E0522 04:26:30.116576    1509 buffer_comparator.cc:156] Difference at 1281: 0.466202, expected 0.0854929\n",
      "E0522 04:26:30.116578    1509 buffer_comparator.cc:156] Difference at 1283: 0.325653, expected 1.46282\n",
      "E0522 04:26:30.116581    1509 buffer_comparator.cc:156] Difference at 1284: 0.679284, expected 0.506606\n",
      "E0522 04:26:30.116583    1509 buffer_comparator.cc:156] Difference at 1286: 0.0514224, expected 0.512295\n",
      "E0522 04:26:30.116585    1509 buffer_comparator.cc:156] Difference at 1287: 0.230299, expected 0.465866\n",
      "E0522 04:26:30.116587    1509 buffer_comparator.cc:156] Difference at 1288: 0.522539, expected 0.934695\n",
      "E0522 04:26:30.116589    1509 buffer_comparator.cc:156] Difference at 1289: 0.579885, expected 1.19714\n",
      "E0522 04:26:30.116591    1509 buffer_comparator.cc:156] Difference at 1290: 0.615155, expected 0.375768\n",
      "E0522 04:26:30.116593    1509 buffer_comparator.cc:156] Difference at 1291: 0.603156, expected 0.185219\n",
      "2025-05-22 04:26:30.116597: E external/xla/xla/service/gpu/autotuning/gemm_fusion_autotuner.cc:1138] Results do not match the reference. This is likely a bug/unexpected loss of precision.\n",
      "E0522 04:26:30.119200    1509 buffer_comparator.cc:156] Difference at 80: 0.551774, expected 0.284585\n",
      "E0522 04:26:30.119216    1509 buffer_comparator.cc:156] Difference at 81: 0.115241, expected 1.68533\n",
      "E0522 04:26:30.119219    1509 buffer_comparator.cc:156] Difference at 82: 0.414964, expected 2.02899\n",
      "E0522 04:26:30.119221    1509 buffer_comparator.cc:156] Difference at 83: 0.771603, expected 1.79051\n",
      "E0522 04:26:30.119223    1509 buffer_comparator.cc:156] Difference at 84: 2.10413, expected 1.32015\n",
      "E0522 04:26:30.119225    1509 buffer_comparator.cc:156] Difference at 85: 0.51711, expected 5.68752\n",
      "E0522 04:26:30.119228    1509 buffer_comparator.cc:156] Difference at 86: 0.569414, expected 0.977787\n",
      "E0522 04:26:30.119230    1509 buffer_comparator.cc:156] Difference at 87: 0.663563, expected 0.190105\n",
      "E0522 04:26:30.119232    1509 buffer_comparator.cc:156] Difference at 88: 1.04433, expected 2.05126\n",
      "E0522 04:26:30.119234    1509 buffer_comparator.cc:156] Difference at 89: 0.800639, expected 0.157502\n",
      "2025-05-22 04:26:30.119238: E external/xla/xla/service/gpu/autotuning/gemm_fusion_autotuner.cc:1138] Results do not match the reference. This is likely a bug/unexpected loss of precision.\n",
      "E0522 04:26:30.121133    1509 buffer_comparator.cc:156] Difference at 80: 0.551774, expected 0.284585\n",
      "E0522 04:26:30.121147    1509 buffer_comparator.cc:156] Difference at 81: 0.115241, expected 1.68533\n",
      "E0522 04:26:30.121150    1509 buffer_comparator.cc:156] Difference at 82: 0.414964, expected 2.02899\n",
      "E0522 04:26:30.121152    1509 buffer_comparator.cc:156] Difference at 83: 0.771603, expected 1.79051\n",
      "E0522 04:26:30.121154    1509 buffer_comparator.cc:156] Difference at 84: 2.10413, expected 1.32015\n",
      "E0522 04:26:30.121156    1509 buffer_comparator.cc:156] Difference at 85: 0.51711, expected 5.68752\n",
      "E0522 04:26:30.121158    1509 buffer_comparator.cc:156] Difference at 86: 0.569414, expected 0.977787\n",
      "E0522 04:26:30.121160    1509 buffer_comparator.cc:156] Difference at 87: 0.663563, expected 0.190105\n",
      "E0522 04:26:30.121162    1509 buffer_comparator.cc:156] Difference at 88: 1.04433, expected 2.05126\n",
      "E0522 04:26:30.121164    1509 buffer_comparator.cc:156] Difference at 89: 0.800639, expected 0.157502\n",
      "2025-05-22 04:26:30.121168: E external/xla/xla/service/gpu/autotuning/gemm_fusion_autotuner.cc:1138] Results do not match the reference. This is likely a bug/unexpected loss of precision.\n",
      "E0522 04:26:30.123102    1509 buffer_comparator.cc:156] Difference at 160: 0.591453, expected 3.32446\n",
      "E0522 04:26:30.123116    1509 buffer_comparator.cc:156] Difference at 162: 0.932703, expected 1.56439\n",
      "E0522 04:26:30.123119    1509 buffer_comparator.cc:156] Difference at 163: 1.52369, expected 1.14483\n",
      "E0522 04:26:30.123121    1509 buffer_comparator.cc:156] Difference at 164: 1.11967, expected 0.128803\n",
      "E0522 04:26:30.123123    1509 buffer_comparator.cc:156] Difference at 165: 0.719789, expected 3.65607\n",
      "E0522 04:26:30.123125    1509 buffer_comparator.cc:156] Difference at 166: 0.537667, expected 0.0730835\n",
      "E0522 04:26:30.123128    1509 buffer_comparator.cc:156] Difference at 167: 0.291218, expected 3.61335\n",
      "E0522 04:26:30.123130    1509 buffer_comparator.cc:156] Difference at 170: 0.513845, expected 1.58838\n",
      "E0522 04:26:30.123132    1509 buffer_comparator.cc:156] Difference at 172: 0.17743, expected 1.26313\n",
      "E0522 04:26:30.123134    1509 buffer_comparator.cc:156] Difference at 173: 1.24767, expected 1.63778\n",
      "2025-05-22 04:26:30.123139: E external/xla/xla/service/gpu/autotuning/gemm_fusion_autotuner.cc:1138] Results do not match the reference. This is likely a bug/unexpected loss of precision.\n",
      "E0522 04:26:30.125048    1509 buffer_comparator.cc:156] Difference at 160: 0.591453, expected 3.32446\n",
      "E0522 04:26:30.125062    1509 buffer_comparator.cc:156] Difference at 162: 0.932703, expected 1.56439\n",
      "E0522 04:26:30.125065    1509 buffer_comparator.cc:156] Difference at 163: 1.52369, expected 1.14483\n",
      "E0522 04:26:30.125067    1509 buffer_comparator.cc:156] Difference at 164: 1.11967, expected 0.128803\n",
      "E0522 04:26:30.125069    1509 buffer_comparator.cc:156] Difference at 165: 0.719789, expected 3.65607\n",
      "E0522 04:26:30.125071    1509 buffer_comparator.cc:156] Difference at 166: 0.537667, expected 0.0730835\n",
      "E0522 04:26:30.125073    1509 buffer_comparator.cc:156] Difference at 167: 0.291218, expected 3.61335\n",
      "E0522 04:26:30.125075    1509 buffer_comparator.cc:156] Difference at 170: 0.513845, expected 1.58838\n",
      "E0522 04:26:30.125077    1509 buffer_comparator.cc:156] Difference at 172: 0.17743, expected 1.26313\n",
      "E0522 04:26:30.125079    1509 buffer_comparator.cc:156] Difference at 173: 1.24767, expected 1.63778\n",
      "2025-05-22 04:26:30.125083: E external/xla/xla/service/gpu/autotuning/gemm_fusion_autotuner.cc:1138] Results do not match the reference. This is likely a bug/unexpected loss of precision.\n",
      "E0522 04:26:30.127009    1509 buffer_comparator.cc:156] Difference at 320: 0.528691, expected 4.88776\n",
      "E0522 04:26:30.127023    1509 buffer_comparator.cc:156] Difference at 321: 0.720677, expected 1.59327\n",
      "E0522 04:26:30.127025    1509 buffer_comparator.cc:156] Difference at 322: 0.476205, expected 3.34475\n",
      "E0522 04:26:30.127028    1509 buffer_comparator.cc:156] Difference at 323: 1.04627, expected 2.47716\n",
      "E0522 04:26:30.127030    1509 buffer_comparator.cc:156] Difference at 324: 0.61143, expected 0.304926\n",
      "E0522 04:26:30.127032    1509 buffer_comparator.cc:156] Difference at 325: 0.534171, expected 5.39493\n",
      "E0522 04:26:30.127034    1509 buffer_comparator.cc:156] Difference at 326: 0.480143, expected 0.234053\n",
      "E0522 04:26:30.127036    1509 buffer_comparator.cc:156] Difference at 327: 0.576727, expected 3.28305\n",
      "E0522 04:26:30.127038    1509 buffer_comparator.cc:156] Difference at 328: 0.442171, expected 1.20568\n",
      "E0522 04:26:30.127040    1509 buffer_comparator.cc:156] Difference at 329: 1.29312, expected 0.592086\n",
      "2025-05-22 04:26:30.127044: E external/xla/xla/service/gpu/autotuning/gemm_fusion_autotuner.cc:1138] Results do not match the reference. This is likely a bug/unexpected loss of precision.\n",
      "E0522 04:26:30.128930    1509 buffer_comparator.cc:156] Difference at 320: 0.528691, expected 4.88776\n",
      "E0522 04:26:30.128955    1509 buffer_comparator.cc:156] Difference at 321: 0.720677, expected 1.59327\n",
      "E0522 04:26:30.128958    1509 buffer_comparator.cc:156] Difference at 322: 0.476205, expected 3.34475\n",
      "E0522 04:26:30.128960    1509 buffer_comparator.cc:156] Difference at 323: 1.04627, expected 2.47716\n",
      "E0522 04:26:30.128962    1509 buffer_comparator.cc:156] Difference at 324: 0.61143, expected 0.304926\n",
      "E0522 04:26:30.128964    1509 buffer_comparator.cc:156] Difference at 325: 0.534171, expected 5.39493\n",
      "E0522 04:26:30.128966    1509 buffer_comparator.cc:156] Difference at 326: 0.480143, expected 0.234053\n",
      "E0522 04:26:30.128968    1509 buffer_comparator.cc:156] Difference at 327: 0.576727, expected 3.28305\n",
      "E0522 04:26:30.128970    1509 buffer_comparator.cc:156] Difference at 328: 0.442171, expected 1.20568\n",
      "E0522 04:26:30.128972    1509 buffer_comparator.cc:156] Difference at 329: 1.29312, expected 0.592086\n",
      "2025-05-22 04:26:30.128977: E external/xla/xla/service/gpu/autotuning/gemm_fusion_autotuner.cc:1138] Results do not match the reference. This is likely a bug/unexpected loss of precision.\n",
      "E0522 04:26:30.130851    1509 buffer_comparator.cc:156] Difference at 320: 0.528691, expected 4.88776\n",
      "E0522 04:26:30.130865    1509 buffer_comparator.cc:156] Difference at 321: 0.720677, expected 1.59327\n",
      "E0522 04:26:30.130868    1509 buffer_comparator.cc:156] Difference at 322: 0.476205, expected 3.34475\n",
      "E0522 04:26:30.130870    1509 buffer_comparator.cc:156] Difference at 323: 1.04627, expected 2.47716\n",
      "E0522 04:26:30.130872    1509 buffer_comparator.cc:156] Difference at 324: 0.61143, expected 0.304926\n",
      "E0522 04:26:30.130874    1509 buffer_comparator.cc:156] Difference at 325: 0.534171, expected 5.39493\n",
      "E0522 04:26:30.130877    1509 buffer_comparator.cc:156] Difference at 326: 0.480143, expected 0.234053\n",
      "E0522 04:26:30.130879    1509 buffer_comparator.cc:156] Difference at 327: 0.576727, expected 3.28305\n",
      "E0522 04:26:30.130881    1509 buffer_comparator.cc:156] Difference at 328: 0.442171, expected 1.20568\n",
      "E0522 04:26:30.130883    1509 buffer_comparator.cc:156] Difference at 329: 1.29312, expected 0.592086\n",
      "2025-05-22 04:26:30.130888: E external/xla/xla/service/gpu/autotuning/gemm_fusion_autotuner.cc:1138] Results do not match the reference. This is likely a bug/unexpected loss of precision.\n",
      "E0522 04:26:30.132772    1509 buffer_comparator.cc:156] Difference at 640: 0.408136, expected 5.43394\n",
      "E0522 04:26:30.132787    1509 buffer_comparator.cc:156] Difference at 641: 0.641237, expected 2.21691\n",
      "E0522 04:26:30.132789    1509 buffer_comparator.cc:156] Difference at 642: 0.724955, expected 3.62787\n",
      "E0522 04:26:30.132791    1509 buffer_comparator.cc:156] Difference at 643: 0.706436, expected 2.13197\n",
      "E0522 04:26:30.132794    1509 buffer_comparator.cc:156] Difference at 644: 1.1989, expected 0.0432619\n",
      "E0522 04:26:30.132796    1509 buffer_comparator.cc:156] Difference at 645: 0.134556, expected 0.811608\n",
      "E0522 04:26:30.132798    1509 buffer_comparator.cc:156] Difference at 646: 0.629533, expected 1.50195\n",
      "E0522 04:26:30.132800    1509 buffer_comparator.cc:156] Difference at 647: 0.469003, expected 3.60246\n",
      "E0522 04:26:30.132802    1509 buffer_comparator.cc:156] Difference at 648: 0.679866, expected 2.19406\n",
      "E0522 04:26:30.132804    1509 buffer_comparator.cc:156] Difference at 650: 0.577389, expected 1.38635\n",
      "2025-05-22 04:26:30.132808: E external/xla/xla/service/gpu/autotuning/gemm_fusion_autotuner.cc:1138] Results do not match the reference. This is likely a bug/unexpected loss of precision.\n",
      "E0522 04:26:30.134688    1509 buffer_comparator.cc:156] Difference at 640: 0.408136, expected 5.43394\n",
      "E0522 04:26:30.134702    1509 buffer_comparator.cc:156] Difference at 641: 0.641237, expected 2.21691\n",
      "E0522 04:26:30.134705    1509 buffer_comparator.cc:156] Difference at 642: 0.724955, expected 3.62787\n",
      "E0522 04:26:30.134707    1509 buffer_comparator.cc:156] Difference at 643: 0.706436, expected 2.13197\n",
      "E0522 04:26:30.134709    1509 buffer_comparator.cc:156] Difference at 644: 1.1989, expected 0.0432619\n",
      "E0522 04:26:30.134711    1509 buffer_comparator.cc:156] Difference at 645: 0.134556, expected 0.811608\n",
      "E0522 04:26:30.134713    1509 buffer_comparator.cc:156] Difference at 646: 0.629533, expected 1.50195\n",
      "E0522 04:26:30.134715    1509 buffer_comparator.cc:156] Difference at 647: 0.469003, expected 3.60246\n",
      "E0522 04:26:30.134717    1509 buffer_comparator.cc:156] Difference at 648: 0.679866, expected 2.19406\n",
      "E0522 04:26:30.134719    1509 buffer_comparator.cc:156] Difference at 650: 0.577389, expected 1.38635\n",
      "2025-05-22 04:26:30.134724: E external/xla/xla/service/gpu/autotuning/gemm_fusion_autotuner.cc:1138] Results do not match the reference. This is likely a bug/unexpected loss of precision.\n",
      "E0522 04:26:30.136588    1509 buffer_comparator.cc:156] Difference at 1280: 0.848498, expected 1.42049\n",
      "E0522 04:26:30.136603    1509 buffer_comparator.cc:156] Difference at 1281: 0.466202, expected 0.694177\n",
      "E0522 04:26:30.136605    1509 buffer_comparator.cc:156] Difference at 1282: 0.920813, expected 1.43645\n",
      "E0522 04:26:30.136608    1509 buffer_comparator.cc:156] Difference at 1283: 0.325653, expected 0.859245\n",
      "E0522 04:26:30.136610    1509 buffer_comparator.cc:156] Difference at 1285: 0.630205, expected 3.23807\n",
      "E0522 04:26:30.136612    1509 buffer_comparator.cc:156] Difference at 1286: 0.0514224, expected 2.52725\n",
      "E0522 04:26:30.136614    1509 buffer_comparator.cc:156] Difference at 1287: 0.230299, expected 0.776299\n",
      "E0522 04:26:30.136616    1509 buffer_comparator.cc:156] Difference at 1288: 0.522539, expected 2.0972\n",
      "E0522 04:26:30.136618    1509 buffer_comparator.cc:156] Difference at 1290: 0.615155, expected 2.58461\n",
      "E0522 04:26:30.136621    1509 buffer_comparator.cc:156] Difference at 1291: 0.603156, expected 1.61257\n",
      "2025-05-22 04:26:30.136624: E external/xla/xla/service/gpu/autotuning/gemm_fusion_autotuner.cc:1138] Results do not match the reference. This is likely a bug/unexpected loss of precision.\n",
      "E0522 04:26:30.138499    1509 buffer_comparator.cc:156] Difference at 1280: 0.848498, expected 1.42049\n",
      "E0522 04:26:30.138513    1509 buffer_comparator.cc:156] Difference at 1281: 0.466202, expected 0.694177\n",
      "E0522 04:26:30.138516    1509 buffer_comparator.cc:156] Difference at 1282: 0.920813, expected 1.43645\n",
      "E0522 04:26:30.138518    1509 buffer_comparator.cc:156] Difference at 1283: 0.325653, expected 0.859245\n",
      "E0522 04:26:30.138520    1509 buffer_comparator.cc:156] Difference at 1285: 0.630205, expected 3.23807\n",
      "E0522 04:26:30.138522    1509 buffer_comparator.cc:156] Difference at 1286: 0.0514224, expected 2.52725\n",
      "E0522 04:26:30.138524    1509 buffer_comparator.cc:156] Difference at 1287: 0.230299, expected 0.776299\n",
      "E0522 04:26:30.138527    1509 buffer_comparator.cc:156] Difference at 1288: 0.522539, expected 2.0972\n",
      "E0522 04:26:30.138529    1509 buffer_comparator.cc:156] Difference at 1290: 0.615155, expected 2.58461\n",
      "E0522 04:26:30.138531    1509 buffer_comparator.cc:156] Difference at 1291: 0.603156, expected 1.61257\n",
      "2025-05-22 04:26:30.138534: E external/xla/xla/service/gpu/autotuning/gemm_fusion_autotuner.cc:1138] Results do not match the reference. This is likely a bug/unexpected loss of precision.\n"
     ]
    },
    {
     "name": "stdout",
     "output_type": "stream",
     "text": [
      "  32 envs :  28.08 ms/step  |  877.6 µs/env/step\n",
      " 128 envs :  26.74 ms/step  |  208.9 µs/env/step\n",
      " 512 envs :  24.63 ms/step  |   48.1 µs/env/step\n",
      "1024 envs :  29.28 ms/step  |   28.6 µs/env/step\n"
     ]
    }
   ],
   "source": [
    "def bench(num_envs: int, N: int = 500):\n",
    "    # 1) make the vectorised env for this batch size\n",
    "    env = make_vec_env(num_envs)\n",
    "    reset_jit, step_jit = jit_env(env)\n",
    "\n",
    "    # 2) compile once\n",
    "    _ = reset_jit(jax.random.PRNGKey(0))\n",
    "\n",
    "    # 3) reset (gives a batched state under the hood)\n",
    "    state = reset_jit(jax.random.PRNGKey(1))\n",
    "\n",
    "    # 4) build a batch of zero-actions\n",
    "    action = jnp.zeros((num_envs, env.act_size))\n",
    "\n",
    "    # 5) execution-only timing\n",
    "    t0 = time.time()\n",
    "    for _ in range(N):\n",
    "        state = step_jit(state, action)\n",
    "    ms_per_step = (time.time() - t0) * 1e3 / N\n",
    "    return ms_per_step\n",
    "\n",
    "sizes = [32, 128, 512, 1024]\n",
    "results = {n: bench(n) for n in sizes}\n",
    "\n",
    "for n, ms in results.items():\n",
    "    print(f\"{n:4d} envs : {ms:6.2f} ms/step  | {ms/n*1e3:6.1f} µs/env/step\")"
   ]
  },
  {
   "cell_type": "code",
   "execution_count": 18,
   "id": "17969d2b",
   "metadata": {},
   "outputs": [
    {
     "data": {
      "text/html": [
       "<!DOCTYPE html>\n",
       "<html>\n",
       "\n",
       "  <head>\n",
       "    <title>Brax visualizer</title>\n",
       "    <link rel=\"shortcut icon\" type=\"image/x-icon\" href=\"/favicon.ico\">\n",
       "  </head>\n",
       "\n",
       "  <style>\n",
       "    body {\n",
       "      margin: 0;\n",
       "      padding: 0;\n",
       "    }\n",
       "\n",
       "    #brax-viewer {\n",
       "      height: 400px;\n",
       "      margin: 0;\n",
       "      padding: 0;\n",
       "    }\n",
       "  </style>\n",
       "  <script async src=\"https://unpkg.com/es-module-shims@1.6.3/dist/es-module-shims.js\"></script>\n",
       "\n",
       "  <script type=\"importmap\">\n",
       "    {\n",
       "      \"imports\": {\n",
       "        \"three\": \"https://unpkg.com/three@0.150.1/build/three.module.js\",\n",
       "        \"three/addons/\": \"https://unpkg.com/three@0.150.1/examples/jsm/\",\n",
       "        \"lilgui\": \"https://cdn.jsdelivr.net/npm/lil-gui@0.18.0/+esm\",\n",
       "        \"viewer\": \"https://cdn.jsdelivr.net/gh/google/brax@v0.12.1/brax/visualizer/js/viewer.js\"\n",
       "      }\n",
       "    }\n",
       "  </script>\n",
       "\n",
       "  <script src=\"https://unpkg.com/pako@2.1.0/dist/pako.min.js\"></script>\n",
       "\n",
       "  <script type=\"application/javascript\">\n",
       "  var system = \"eJzVlt1u2zgQhV/F0LUTcH7J2ds+QAt074Ig8CJKaqxtGbaKbRvk3XsoWY4apNigQIpdXQgWOTz85syI8kPT7fvmj8VD06+37bFv93hIlylRGi/NGlmNZLlodqtti+nm/b5fd7vmEUOb9e7vmzp+xMRV03eHY9fU8fauv9m09+ffd13X14fD+v7TeWZ8GKauZ/ofvwJkWwPu2257HPD+6Q6b27rHwznsw2a1a5sJYn37BYMXhOd9N9AgjeViulX9Q1dTvaL5+NPk/V+rcZXWMZF6Z18uaJw/rr/VXa90WKSnpZNNpJGInPj6sQaPPvxA+3H/qT08x01vTfsC4UxoYD2X6gfcd6v98fPmOe+bu4twOwGj65KV5DXSnvMOPfMKYH4ZmG1G7JfEwqLsHGxFor2gPJD9cg4U42XG4Uau46anLJaLf2mLn1C/uc3ztnh6UV9hs/wH+mJ2mLyCWP+XjfET6t/XGPXMP/arvh1P5S+j1SeketoEqbM5aSlkZGNmOH2k4ARil5AgYuWXD8/l4uoCdClncYLjOUWulmOQ2LiUgkqAjJOMygjgwoYqiQrnPCggJ4gVUUcwtlaZFDCApa4pJJdBwFnFuK4tWanoE0JhzYHvX87GecBlJGVCwhDPU25ZNUnWpG6ulHgiMM9WyE0s8AU9rZdwpigaVlxjWP/c7utZLWFoZpbiMCGHC9voBcKxmydNXsQkI6hqeVTbiyPF7FbOsSLJNFH2UHePUhGhXOtD4mGZvFg5R5sXOJ8JzYosVEfpEohUDtQxlKZglogKokJ1Y/aTdrKgDDJYJZnO2h5e4JGhJIksDw7khKKKZwc03rUaK5cGM+BoSRxRwNlepEmauSSUBJMFfsYkndkim6OyRVE0OhmS0FtoOoeJNKMGbxZkySWYdFJO8B9Wl8xO4VPrmlFIEq7wWGejMvrA0UqoaGKfYkGNBkW9KdVKl+v535o/D6vd8a47bBu8R4/fAfvGNW0=\";\n",
       "  // decode base64 (convert ascii to binary)\n",
       "  system = atob(system);\n",
       "  // convert binary string to character-number array\n",
       "  system = system.split('').map(function(x){return x.charCodeAt(0);});\n",
       "  // decompress\n",
       "  system = pako.inflate(system);\n",
       "  // convert gunzipped byteArray back to ascii string\n",
       "  system = new TextDecoder(\"utf-8\").decode(system);\n",
       "  // and load json\n",
       "  system = JSON.parse(system);\n",
       "  </script>\n",
       "\n",
       "  <body>\n",
       "\n",
       "    <div id=\"brax-viewer\"></div>\n",
       "\n",
       "    <script type=\"module\">\n",
       "      import {Viewer} from 'viewer';\n",
       "      const domElement = document.getElementById(\"brax-viewer\");\n",
       "      var viewer = new Viewer(domElement, system);\n",
       "    </script>\n",
       "\n",
       "  </body>\n",
       "\n",
       "</html>"
      ],
      "text/plain": [
       "<IPython.core.display.HTML object>"
      ]
     },
     "metadata": {},
     "output_type": "display_data"
    }
   ],
   "source": [
    "from brax.io import html as brax_html\n",
    "from IPython.display import HTML\n",
    "\n",
    "# grab the entire batch\n",
    "batch_ps = state.pipeline_state\n",
    "\n",
    "# helper: pull out iᵗʰ element from every array in the pytree\n",
    "def take(ps, idx):\n",
    "    return jax.tree_util.tree_map(lambda arr: arr[idx], ps)\n",
    "\n",
    "# build your list of N individual PipelineStates\n",
    "N       = batch_ps.x.pos.shape[0]\n",
    "ps_list = [take(batch_ps, i) for i in range(N)]\n",
    "\n",
    "# now render\n",
    "html_str = brax_html.render(walker_sys, ps_list, height=400)\n",
    "display(HTML(html_str))"
   ]
  },
  {
   "cell_type": "markdown",
   "id": "b621c4f7",
   "metadata": {},
   "source": [
    "# Tiny PPO Sanity Run"
   ]
  },
  {
   "cell_type": "markdown",
   "id": "b6ec5438",
   "metadata": {},
   "source": [
    "### Imports & Env instantiation"
   ]
  },
  {
   "cell_type": "markdown",
   "id": "1165105b",
   "metadata": {},
   "source": [
    "For a strange error. I have no idea what is this"
   ]
  },
  {
   "cell_type": "code",
   "execution_count": 19,
   "id": "7e4dc6f9",
   "metadata": {},
   "outputs": [],
   "source": [
    "import brax.training.types as _bt\n",
    "\n",
    "def _uint64_to_numpy(self):\n",
    "    hi = int(self.hi)   # force Python int\n",
    "    lo = int(self.lo)\n",
    "    return (hi << 32) | lo\n",
    "\n",
    "# override the methods in-place\n",
    "#    _bt.UInt64.to_numpy = _uint64_to_numpy\n",
    "#    _bt.UInt64.__int__    = lambda self: _uint64_to_numpy(self)"
   ]
  },
  {
   "cell_type": "code",
   "execution_count": 20,
   "id": "ebbf0ed6",
   "metadata": {},
   "outputs": [
    {
     "name": "stdout",
     "output_type": "stream",
     "text": [
      "obs dim: 11 | act dim: 3\n"
     ]
    }
   ],
   "source": [
    "import jax, jax.numpy as jnp, functools, time, matplotlib.pyplot as plt\n",
    "from brax.training.agents.ppo import train as ppo_train     \n",
    "from brax.training.agents.ppo import networks as ppo_nets    \n",
    "from flax import linen as nn\n",
    "import optax                                                 \n",
    "\n",
    "single_env = BraxPassiveWalker(walker_sys)       \n",
    "print('obs dim:', single_env.observation_size, '| act dim:', single_env.action_size)"
   ]
  },
  {
   "cell_type": "markdown",
   "id": "45501ab4",
   "metadata": {},
   "source": [
    "### Network factory stub"
   ]
  },
  {
   "cell_type": "code",
   "execution_count": 21,
   "id": "5d72d8f2",
   "metadata": {},
   "outputs": [],
   "source": [
    "def make_networks_tiny(observation_size,\n",
    "                  action_size,\n",
    "                  preprocess_observations_fn):\n",
    "    \"\"\"\n",
    "    * observation_size comes straight from ppo.train - leave untouched\n",
    "    * action_size is env.action_size\n",
    "    * preprocess_observations_fn normalises if requested\n",
    "    We simply pick shallow 64-unit MLPs for both policy and value nets.\n",
    "    \"\"\"\n",
    "    return ppo_nets.make_ppo_networks(\n",
    "        observation_size             = observation_size,\n",
    "        action_size                  = action_size,\n",
    "        preprocess_observations_fn   = preprocess_observations_fn,\n",
    "        policy_hidden_layer_sizes    = (128, 128, 128),\n",
    "        value_hidden_layer_sizes     = (128, 128, 128),\n",
    "        activation                   = nn.tanh,   \n",
    "    )"
   ]
  },
  {
   "cell_type": "markdown",
   "id": "88592559",
   "metadata": {},
   "source": [
    "### Training Hyper‑Parameters"
   ]
  },
  {
   "cell_type": "code",
   "execution_count": 22,
   "id": "0423fb29",
   "metadata": {},
   "outputs": [],
   "source": [
    "hp = dict(\n",
    "    num_timesteps          = 100_000,     # tiny sanity run\n",
    "    num_envs               = 32,\n",
    "    episode_length         = 256,\n",
    "    learning_rate          = 1e-3,\n",
    "    entropy_cost           = 1e-3,\n",
    "    discounting            = 0.97,\n",
    "    unroll_length          = 32,\n",
    "    batch_size             = 1024,\n",
    "    num_minibatches        = 4,\n",
    "    num_updates_per_batch  = 2,\n",
    "    normalize_observations = True,\n",
    "    seed                   = 0,\n",
    "    num_evals              = 2,\n",
    ")"
   ]
  },
  {
   "cell_type": "markdown",
   "id": "98cc0104",
   "metadata": {},
   "source": [
    "###  Launch training"
   ]
  },
  {
   "cell_type": "code",
   "execution_count": 23,
   "id": "a4ffdb5d",
   "metadata": {},
   "outputs": [
    {
     "name": "stderr",
     "output_type": "stream",
     "text": [
      "E0522 04:26:55.444373    1509 buffer_comparator.cc:156] Difference at 64: 0, expected 0.590931\n",
      "E0522 04:26:55.444405    1509 buffer_comparator.cc:156] Difference at 65: 0, expected 0.560166\n",
      "E0522 04:26:55.444409    1509 buffer_comparator.cc:156] Difference at 66: 0, expected 0.722293\n",
      "E0522 04:26:55.444413    1509 buffer_comparator.cc:156] Difference at 67: 0, expected 1.16032\n",
      "E0522 04:26:55.444415    1509 buffer_comparator.cc:156] Difference at 68: 0, expected 0.829709\n",
      "E0522 04:26:55.444417    1509 buffer_comparator.cc:156] Difference at 69: 0, expected 0.647865\n",
      "E0522 04:26:55.444420    1509 buffer_comparator.cc:156] Difference at 70: 0, expected 1.06476\n",
      "E0522 04:26:55.444422    1509 buffer_comparator.cc:156] Difference at 71: 0, expected 0.896917\n",
      "E0522 04:26:55.444424    1509 buffer_comparator.cc:156] Difference at 72: 0, expected 0.925539\n",
      "E0522 04:26:55.444426    1509 buffer_comparator.cc:156] Difference at 73: 0, expected 1.3332\n",
      "2025-05-22 04:26:55.444433: E external/xla/xla/service/gpu/autotuning/gemm_fusion_autotuner.cc:1138] Results do not match the reference. This is likely a bug/unexpected loss of precision.\n",
      "E0522 04:26:55.450600    1509 buffer_comparator.cc:156] Difference at 64: 0, expected 0.590931\n",
      "E0522 04:26:55.450616    1509 buffer_comparator.cc:156] Difference at 65: 0, expected 0.560166\n",
      "E0522 04:26:55.450618    1509 buffer_comparator.cc:156] Difference at 66: 0, expected 0.722293\n",
      "E0522 04:26:55.450621    1509 buffer_comparator.cc:156] Difference at 67: 0, expected 1.16032\n",
      "E0522 04:26:55.450623    1509 buffer_comparator.cc:156] Difference at 68: 0, expected 0.829709\n",
      "E0522 04:26:55.450625    1509 buffer_comparator.cc:156] Difference at 69: 0, expected 0.647865\n",
      "E0522 04:26:55.450627    1509 buffer_comparator.cc:156] Difference at 70: 0, expected 1.06476\n",
      "E0522 04:26:55.450629    1509 buffer_comparator.cc:156] Difference at 71: 0, expected 0.896917\n",
      "E0522 04:26:55.450632    1509 buffer_comparator.cc:156] Difference at 72: 0, expected 0.925539\n",
      "E0522 04:26:55.450634    1509 buffer_comparator.cc:156] Difference at 73: 0, expected 1.3332\n",
      "2025-05-22 04:26:55.450638: E external/xla/xla/service/gpu/autotuning/gemm_fusion_autotuner.cc:1138] Results do not match the reference. This is likely a bug/unexpected loss of precision.\n",
      "E0522 04:26:55.456816    1509 buffer_comparator.cc:156] Difference at 128: 0, expected 0.893431\n",
      "E0522 04:26:55.456830    1509 buffer_comparator.cc:156] Difference at 129: 0, expected 0.941504\n",
      "E0522 04:26:55.456833    1509 buffer_comparator.cc:156] Difference at 130: 0, expected 0.713018\n",
      "E0522 04:26:55.456835    1509 buffer_comparator.cc:156] Difference at 131: 0, expected 1.16763\n",
      "E0522 04:26:55.456837    1509 buffer_comparator.cc:156] Difference at 132: 0, expected 0.748249\n",
      "E0522 04:26:55.456840    1509 buffer_comparator.cc:156] Difference at 133: 0, expected 1.34692\n",
      "E0522 04:26:55.456842    1509 buffer_comparator.cc:156] Difference at 134: 0, expected 1.03051\n",
      "E0522 04:26:55.456845    1509 buffer_comparator.cc:156] Difference at 135: 0, expected 1.15002\n",
      "E0522 04:26:55.456847    1509 buffer_comparator.cc:156] Difference at 136: 0, expected 1.04786\n",
      "E0522 04:26:55.456849    1509 buffer_comparator.cc:156] Difference at 137: 0, expected 0.783245\n",
      "2025-05-22 04:26:55.456853: E external/xla/xla/service/gpu/autotuning/gemm_fusion_autotuner.cc:1138] Results do not match the reference. This is likely a bug/unexpected loss of precision.\n",
      "E0522 04:26:55.462981    1509 buffer_comparator.cc:156] Difference at 128: 0, expected 0.893431\n",
      "E0522 04:26:55.462996    1509 buffer_comparator.cc:156] Difference at 129: 0, expected 0.941504\n",
      "E0522 04:26:55.462999    1509 buffer_comparator.cc:156] Difference at 130: 0, expected 0.713018\n",
      "E0522 04:26:55.463002    1509 buffer_comparator.cc:156] Difference at 131: 0, expected 1.16763\n",
      "E0522 04:26:55.463004    1509 buffer_comparator.cc:156] Difference at 132: 0, expected 0.748249\n",
      "E0522 04:26:55.463006    1509 buffer_comparator.cc:156] Difference at 133: 0, expected 1.34692\n",
      "E0522 04:26:55.463008    1509 buffer_comparator.cc:156] Difference at 134: 0, expected 1.03051\n",
      "E0522 04:26:55.463010    1509 buffer_comparator.cc:156] Difference at 135: 0, expected 1.15002\n",
      "E0522 04:26:55.463012    1509 buffer_comparator.cc:156] Difference at 136: 0, expected 1.04786\n",
      "E0522 04:26:55.463014    1509 buffer_comparator.cc:156] Difference at 137: 0, expected 0.783245\n",
      "2025-05-22 04:26:55.463019: E external/xla/xla/service/gpu/autotuning/gemm_fusion_autotuner.cc:1138] Results do not match the reference. This is likely a bug/unexpected loss of precision.\n",
      "E0522 04:26:55.469208    1509 buffer_comparator.cc:156] Difference at 256: 0, expected 0.918568\n",
      "E0522 04:26:55.469223    1509 buffer_comparator.cc:156] Difference at 257: 0, expected 1.46631\n",
      "E0522 04:26:55.469225    1509 buffer_comparator.cc:156] Difference at 258: 0, expected 0.886674\n",
      "E0522 04:26:55.469228    1509 buffer_comparator.cc:156] Difference at 259: 0, expected 0.823674\n",
      "E0522 04:26:55.469230    1509 buffer_comparator.cc:156] Difference at 260: 0, expected 1.12457\n",
      "E0522 04:26:55.469232    1509 buffer_comparator.cc:156] Difference at 261: 0, expected 0.916915\n",
      "E0522 04:26:55.469234    1509 buffer_comparator.cc:156] Difference at 262: 0, expected 1.25435\n",
      "E0522 04:26:55.469236    1509 buffer_comparator.cc:156] Difference at 263: 0, expected 0.342875\n",
      "E0522 04:26:55.469238    1509 buffer_comparator.cc:156] Difference at 264: 0, expected 0.743693\n",
      "E0522 04:26:55.469241    1509 buffer_comparator.cc:156] Difference at 265: 0, expected 0.664584\n",
      "2025-05-22 04:26:55.469245: E external/xla/xla/service/gpu/autotuning/gemm_fusion_autotuner.cc:1138] Results do not match the reference. This is likely a bug/unexpected loss of precision.\n",
      "E0522 04:26:55.475011    1509 buffer_comparator.cc:156] Difference at 256: 0, expected 0.918568\n",
      "E0522 04:26:55.475026    1509 buffer_comparator.cc:156] Difference at 257: 0, expected 1.46631\n",
      "E0522 04:26:55.475028    1509 buffer_comparator.cc:156] Difference at 258: 0, expected 0.886674\n",
      "E0522 04:26:55.475031    1509 buffer_comparator.cc:156] Difference at 259: 0, expected 0.823674\n",
      "E0522 04:26:55.475033    1509 buffer_comparator.cc:156] Difference at 260: 0, expected 1.12457\n",
      "E0522 04:26:55.475035    1509 buffer_comparator.cc:156] Difference at 261: 0, expected 0.916915\n",
      "E0522 04:26:55.475037    1509 buffer_comparator.cc:156] Difference at 262: 0, expected 1.25435\n",
      "E0522 04:26:55.475040    1509 buffer_comparator.cc:156] Difference at 263: 0, expected 0.342875\n",
      "E0522 04:26:55.475043    1509 buffer_comparator.cc:156] Difference at 264: 0, expected 0.743693\n",
      "E0522 04:26:55.475045    1509 buffer_comparator.cc:156] Difference at 265: 0, expected 0.664584\n",
      "2025-05-22 04:26:55.475049: E external/xla/xla/service/gpu/autotuning/gemm_fusion_autotuner.cc:1138] Results do not match the reference. This is likely a bug/unexpected loss of precision.\n",
      "E0522 04:26:55.481165    1509 buffer_comparator.cc:156] Difference at 256: 0, expected 0.918568\n",
      "E0522 04:26:55.481179    1509 buffer_comparator.cc:156] Difference at 257: 0, expected 1.46631\n",
      "E0522 04:26:55.481182    1509 buffer_comparator.cc:156] Difference at 258: 0, expected 0.886674\n",
      "E0522 04:26:55.481185    1509 buffer_comparator.cc:156] Difference at 259: 0, expected 0.823674\n",
      "E0522 04:26:55.481187    1509 buffer_comparator.cc:156] Difference at 260: 0, expected 1.12457\n",
      "E0522 04:26:55.481189    1509 buffer_comparator.cc:156] Difference at 261: 0, expected 0.916915\n",
      "E0522 04:26:55.481191    1509 buffer_comparator.cc:156] Difference at 262: 0, expected 1.25435\n",
      "E0522 04:26:55.481193    1509 buffer_comparator.cc:156] Difference at 263: 0, expected 0.342875\n",
      "E0522 04:26:55.481195    1509 buffer_comparator.cc:156] Difference at 264: 0, expected 0.743693\n",
      "E0522 04:26:55.481198    1509 buffer_comparator.cc:156] Difference at 265: 0, expected 0.664584\n",
      "2025-05-22 04:26:55.481201: E external/xla/xla/service/gpu/autotuning/gemm_fusion_autotuner.cc:1138] Results do not match the reference. This is likely a bug/unexpected loss of precision.\n",
      "E0522 04:26:55.507024    1509 buffer_comparator.cc:156] Difference at 96: 0.717103, expected 27.6104\n",
      "E0522 04:26:55.507044    1509 buffer_comparator.cc:156] Difference at 97: 1.53199, expected 26.8809\n",
      "E0522 04:26:55.507048    1509 buffer_comparator.cc:156] Difference at 98: 0.498445, expected 27.3541\n",
      "E0522 04:26:55.507051    1509 buffer_comparator.cc:156] Difference at 99: 0.273139, expected 28.9793\n",
      "E0522 04:26:55.507054    1509 buffer_comparator.cc:156] Difference at 100: 1.2722, expected 27.0762\n",
      "E0522 04:26:55.507056    1509 buffer_comparator.cc:156] Difference at 101: 1.24555, expected 30.3774\n",
      "E0522 04:26:55.507059    1509 buffer_comparator.cc:156] Difference at 102: 0.711378, expected 29.8009\n",
      "E0522 04:26:55.507061    1509 buffer_comparator.cc:156] Difference at 103: 0.687843, expected 28.2531\n",
      "E0522 04:26:55.507064    1509 buffer_comparator.cc:156] Difference at 104: 0.739378, expected 29.661\n",
      "E0522 04:26:55.507067    1509 buffer_comparator.cc:156] Difference at 105: 1.13632, expected 31.8217\n",
      "2025-05-22 04:26:55.507072: E external/xla/xla/service/gpu/autotuning/gemm_fusion_autotuner.cc:1138] Results do not match the reference. This is likely a bug/unexpected loss of precision.\n",
      "E0522 04:26:55.512913    1509 buffer_comparator.cc:156] Difference at 96: 0.717103, expected 27.6104\n",
      "E0522 04:26:55.512929    1509 buffer_comparator.cc:156] Difference at 97: 1.53199, expected 26.8809\n",
      "E0522 04:26:55.512933    1509 buffer_comparator.cc:156] Difference at 98: 0.498445, expected 27.3541\n",
      "E0522 04:26:55.512935    1509 buffer_comparator.cc:156] Difference at 99: 0.273139, expected 28.9793\n",
      "E0522 04:26:55.512938    1509 buffer_comparator.cc:156] Difference at 100: 1.2722, expected 27.0762\n",
      "E0522 04:26:55.512941    1509 buffer_comparator.cc:156] Difference at 101: 1.24555, expected 30.3774\n",
      "E0522 04:26:55.512943    1509 buffer_comparator.cc:156] Difference at 102: 0.711378, expected 29.8009\n",
      "E0522 04:26:55.512945    1509 buffer_comparator.cc:156] Difference at 103: 0.687843, expected 28.2531\n",
      "E0522 04:26:55.512949    1509 buffer_comparator.cc:156] Difference at 104: 0.739378, expected 29.661\n",
      "E0522 04:26:55.512952    1509 buffer_comparator.cc:156] Difference at 105: 1.13632, expected 31.8217\n",
      "2025-05-22 04:26:55.512956: E external/xla/xla/service/gpu/autotuning/gemm_fusion_autotuner.cc:1138] Results do not match the reference. This is likely a bug/unexpected loss of precision.\n",
      "E0522 04:26:55.519202    1509 buffer_comparator.cc:156] Difference at 192: 0.167554, expected 30.4343\n",
      "E0522 04:26:55.519217    1509 buffer_comparator.cc:156] Difference at 193: 0.612056, expected 28.7863\n",
      "E0522 04:26:55.519221    1509 buffer_comparator.cc:156] Difference at 194: 0.701891, expected 28.4438\n",
      "E0522 04:26:55.519224    1509 buffer_comparator.cc:156] Difference at 195: 0.119435, expected 31.9314\n",
      "E0522 04:26:55.519226    1509 buffer_comparator.cc:156] Difference at 196: 0.833501, expected 29.6479\n",
      "E0522 04:26:55.519229    1509 buffer_comparator.cc:156] Difference at 197: 0.971362, expected 33.517\n",
      "E0522 04:26:55.519231    1509 buffer_comparator.cc:156] Difference at 198: 0.376134, expected 29.7277\n",
      "E0522 04:26:55.519234    1509 buffer_comparator.cc:156] Difference at 199: 0.476534, expected 27.8906\n",
      "E0522 04:26:55.519237    1509 buffer_comparator.cc:156] Difference at 200: 1.5012, expected 27.9053\n",
      "E0522 04:26:55.519240    1509 buffer_comparator.cc:156] Difference at 201: 1.23348, expected 30.9966\n",
      "2025-05-22 04:26:55.519244: E external/xla/xla/service/gpu/autotuning/gemm_fusion_autotuner.cc:1138] Results do not match the reference. This is likely a bug/unexpected loss of precision.\n",
      "E0522 04:26:55.525514    1509 buffer_comparator.cc:156] Difference at 192: 0.167554, expected 30.4343\n",
      "E0522 04:26:55.525529    1509 buffer_comparator.cc:156] Difference at 193: 0.612056, expected 28.7863\n",
      "E0522 04:26:55.525532    1509 buffer_comparator.cc:156] Difference at 194: 0.701891, expected 28.4438\n",
      "E0522 04:26:55.525535    1509 buffer_comparator.cc:156] Difference at 195: 0.119435, expected 31.9314\n",
      "E0522 04:26:55.525537    1509 buffer_comparator.cc:156] Difference at 196: 0.833501, expected 29.6479\n",
      "E0522 04:26:55.525540    1509 buffer_comparator.cc:156] Difference at 197: 0.971362, expected 33.517\n",
      "E0522 04:26:55.525542    1509 buffer_comparator.cc:156] Difference at 198: 0.376134, expected 29.7277\n",
      "E0522 04:26:55.525545    1509 buffer_comparator.cc:156] Difference at 199: 0.476534, expected 27.8906\n",
      "E0522 04:26:55.525547    1509 buffer_comparator.cc:156] Difference at 200: 1.5012, expected 27.9053\n",
      "E0522 04:26:55.525550    1509 buffer_comparator.cc:156] Difference at 201: 1.23348, expected 30.9966\n",
      "2025-05-22 04:26:55.525554: E external/xla/xla/service/gpu/autotuning/gemm_fusion_autotuner.cc:1138] Results do not match the reference. This is likely a bug/unexpected loss of precision.\n",
      "E0522 04:26:55.531331    1509 buffer_comparator.cc:156] Difference at 384: 0.417, expected 25.9715\n",
      "E0522 04:26:55.531348    1509 buffer_comparator.cc:156] Difference at 385: 0.827421, expected 25.2383\n",
      "E0522 04:26:55.531351    1509 buffer_comparator.cc:156] Difference at 386: 0.579379, expected 25.7901\n",
      "E0522 04:26:55.531353    1509 buffer_comparator.cc:156] Difference at 387: 0.492843, expected 27.5271\n",
      "E0522 04:26:55.531356    1509 buffer_comparator.cc:156] Difference at 388: 0.201851, expected 25.5473\n",
      "E0522 04:26:55.531358    1509 buffer_comparator.cc:156] Difference at 389: 1.20104, expected 28.3402\n",
      "E0522 04:26:55.531361    1509 buffer_comparator.cc:156] Difference at 390: 0.823251, expected 27.2779\n",
      "E0522 04:26:55.531363    1509 buffer_comparator.cc:156] Difference at 391: 0.465506, expected 27.9067\n",
      "E0522 04:26:55.531367    1509 buffer_comparator.cc:156] Difference at 392: 0.474139, expected 28.0938\n",
      "E0522 04:26:55.531370    1509 buffer_comparator.cc:156] Difference at 393: 0.800099, expected 28.536\n",
      "2025-05-22 04:26:55.531374: E external/xla/xla/service/gpu/autotuning/gemm_fusion_autotuner.cc:1138] Results do not match the reference. This is likely a bug/unexpected loss of precision.\n",
      "E0522 04:26:55.537587    1509 buffer_comparator.cc:156] Difference at 384: 0.417, expected 25.9715\n",
      "E0522 04:26:55.537604    1509 buffer_comparator.cc:156] Difference at 385: 0.827421, expected 25.2383\n",
      "E0522 04:26:55.537607    1509 buffer_comparator.cc:156] Difference at 386: 0.579379, expected 25.7901\n",
      "E0522 04:26:55.537610    1509 buffer_comparator.cc:156] Difference at 387: 0.492843, expected 27.5271\n",
      "E0522 04:26:55.537613    1509 buffer_comparator.cc:156] Difference at 388: 0.201851, expected 25.5473\n",
      "E0522 04:26:55.537615    1509 buffer_comparator.cc:156] Difference at 389: 1.20104, expected 28.3402\n",
      "E0522 04:26:55.537618    1509 buffer_comparator.cc:156] Difference at 390: 0.823251, expected 27.2779\n",
      "E0522 04:26:55.537620    1509 buffer_comparator.cc:156] Difference at 391: 0.465506, expected 27.9067\n",
      "E0522 04:26:55.537623    1509 buffer_comparator.cc:156] Difference at 392: 0.474139, expected 28.0938\n",
      "E0522 04:26:55.537626    1509 buffer_comparator.cc:156] Difference at 393: 0.800099, expected 28.536\n",
      "2025-05-22 04:26:55.537630: E external/xla/xla/service/gpu/autotuning/gemm_fusion_autotuner.cc:1138] Results do not match the reference. This is likely a bug/unexpected loss of precision.\n",
      "E0522 04:26:55.543419    1509 buffer_comparator.cc:156] Difference at 384: 0.417, expected 25.9715\n",
      "E0522 04:26:55.543435    1509 buffer_comparator.cc:156] Difference at 385: 0.827421, expected 25.2383\n",
      "E0522 04:26:55.543438    1509 buffer_comparator.cc:156] Difference at 386: 0.579379, expected 25.7901\n",
      "E0522 04:26:55.543441    1509 buffer_comparator.cc:156] Difference at 387: 0.492843, expected 27.5271\n",
      "E0522 04:26:55.543443    1509 buffer_comparator.cc:156] Difference at 388: 0.201851, expected 25.5473\n",
      "E0522 04:26:55.543446    1509 buffer_comparator.cc:156] Difference at 389: 1.20104, expected 28.3402\n",
      "E0522 04:26:55.543448    1509 buffer_comparator.cc:156] Difference at 390: 0.823251, expected 27.2779\n",
      "E0522 04:26:55.543451    1509 buffer_comparator.cc:156] Difference at 391: 0.465506, expected 27.9067\n",
      "E0522 04:26:55.543454    1509 buffer_comparator.cc:156] Difference at 392: 0.474139, expected 28.0938\n",
      "E0522 04:26:55.543457    1509 buffer_comparator.cc:156] Difference at 393: 0.800099, expected 28.536\n",
      "2025-05-22 04:26:55.543461: E external/xla/xla/service/gpu/autotuning/gemm_fusion_autotuner.cc:1138] Results do not match the reference. This is likely a bug/unexpected loss of precision.\n",
      "E0522 04:26:55.549247    1509 buffer_comparator.cc:156] Difference at 384: 0.417, expected 25.9715\n",
      "E0522 04:26:55.549263    1509 buffer_comparator.cc:156] Difference at 385: 0.827421, expected 25.2383\n",
      "E0522 04:26:55.549266    1509 buffer_comparator.cc:156] Difference at 386: 0.579379, expected 25.7901\n",
      "E0522 04:26:55.549269    1509 buffer_comparator.cc:156] Difference at 387: 0.492843, expected 27.5271\n",
      "E0522 04:26:55.549271    1509 buffer_comparator.cc:156] Difference at 388: 0.201851, expected 25.5473\n",
      "E0522 04:26:55.549274    1509 buffer_comparator.cc:156] Difference at 389: 1.20104, expected 28.3402\n",
      "E0522 04:26:55.549276    1509 buffer_comparator.cc:156] Difference at 390: 0.823251, expected 27.2779\n",
      "E0522 04:26:55.549279    1509 buffer_comparator.cc:156] Difference at 391: 0.465506, expected 27.9067\n",
      "E0522 04:26:55.549281    1509 buffer_comparator.cc:156] Difference at 392: 0.474139, expected 28.0938\n",
      "E0522 04:26:55.549284    1509 buffer_comparator.cc:156] Difference at 393: 0.800099, expected 28.536\n",
      "2025-05-22 04:26:55.549288: E external/xla/xla/service/gpu/autotuning/gemm_fusion_autotuner.cc:1138] Results do not match the reference. This is likely a bug/unexpected loss of precision.\n",
      "E0522 04:26:55.566596    1509 buffer_comparator.cc:156] Difference at 1: 32.5582, expected 29.144\n",
      "E0522 04:26:55.566613    1509 buffer_comparator.cc:156] Difference at 2: 33.0158, expected 28.1152\n",
      "E0522 04:26:55.566616    1509 buffer_comparator.cc:156] Difference at 23: 32.2869, expected 28.1305\n",
      "E0522 04:26:55.566619    1509 buffer_comparator.cc:156] Difference at 26: 29.7168, expected 26.597\n",
      "E0522 04:26:55.566622    1509 buffer_comparator.cc:156] Difference at 30: 30.4813, expected 26.8669\n",
      "E0522 04:26:55.566624    1509 buffer_comparator.cc:156] Difference at 35: 34.1417, expected 29.6198\n",
      "E0522 04:26:55.566627    1509 buffer_comparator.cc:156] Difference at 38: 31.6761, expected 27.0862\n",
      "E0522 04:26:55.566629    1509 buffer_comparator.cc:156] Difference at 41: 32.5169, expected 28.7214\n",
      "E0522 04:26:55.566632    1509 buffer_comparator.cc:156] Difference at 61: 29.819, expected 26.2349\n",
      "E0522 04:26:55.566636    1509 buffer_comparator.cc:156] Difference at 62: 28.9721, expected 24.3749\n",
      "2025-05-22 04:26:55.566640: E external/xla/xla/service/gpu/autotuning/gemm_fusion_autotuner.cc:1138] Results do not match the reference. This is likely a bug/unexpected loss of precision.\n",
      "E0522 04:26:55.697223    1509 buffer_comparator.cc:156] Difference at 16: 0, expected 29.2602\n",
      "E0522 04:26:55.697250    1509 buffer_comparator.cc:156] Difference at 17: 0, expected 29.0536\n",
      "E0522 04:26:55.697252    1509 buffer_comparator.cc:156] Difference at 18: 0, expected 29.1917\n",
      "E0522 04:26:55.697254    1509 buffer_comparator.cc:156] Difference at 19: 0, expected 30.8619\n",
      "E0522 04:26:55.697255    1509 buffer_comparator.cc:156] Difference at 20: 0, expected 28.1746\n",
      "E0522 04:26:55.697257    1509 buffer_comparator.cc:156] Difference at 21: 0, expected 27.2914\n",
      "E0522 04:26:55.697258    1509 buffer_comparator.cc:156] Difference at 22: 0, expected 28.8488\n",
      "E0522 04:26:55.697260    1509 buffer_comparator.cc:156] Difference at 23: 0, expected 28.7241\n",
      "E0522 04:26:55.697261    1509 buffer_comparator.cc:156] Difference at 24: 0, expected 32.2429\n",
      "E0522 04:26:55.697262    1509 buffer_comparator.cc:156] Difference at 25: 0, expected 30.4087\n",
      "2025-05-22 04:26:55.697268: E external/xla/xla/service/gpu/autotuning/gemm_fusion_autotuner.cc:1138] Results do not match the reference. This is likely a bug/unexpected loss of precision.\n",
      "E0522 04:26:55.703206    1509 buffer_comparator.cc:156] Difference at 16: 0, expected 29.2602\n",
      "E0522 04:26:55.703216    1509 buffer_comparator.cc:156] Difference at 17: 0, expected 29.0536\n",
      "E0522 04:26:55.703218    1509 buffer_comparator.cc:156] Difference at 18: 0, expected 29.1917\n",
      "E0522 04:26:55.703219    1509 buffer_comparator.cc:156] Difference at 19: 0, expected 30.8619\n",
      "E0522 04:26:55.703221    1509 buffer_comparator.cc:156] Difference at 20: 0, expected 28.1746\n",
      "E0522 04:26:55.703222    1509 buffer_comparator.cc:156] Difference at 21: 0, expected 27.2914\n",
      "E0522 04:26:55.703224    1509 buffer_comparator.cc:156] Difference at 22: 0, expected 28.8488\n",
      "E0522 04:26:55.703225    1509 buffer_comparator.cc:156] Difference at 23: 0, expected 28.7241\n",
      "E0522 04:26:55.703226    1509 buffer_comparator.cc:156] Difference at 24: 0, expected 32.2429\n",
      "E0522 04:26:55.703228    1509 buffer_comparator.cc:156] Difference at 25: 0, expected 30.4087\n",
      "2025-05-22 04:26:55.703230: E external/xla/xla/service/gpu/autotuning/gemm_fusion_autotuner.cc:1138] Results do not match the reference. This is likely a bug/unexpected loss of precision.\n",
      "E0522 04:26:55.709194    1509 buffer_comparator.cc:156] Difference at 64: 15.7041, expected 29.6002\n",
      "E0522 04:26:55.709204    1509 buffer_comparator.cc:156] Difference at 65: 15.4677, expected 29.4486\n",
      "E0522 04:26:55.709206    1509 buffer_comparator.cc:156] Difference at 66: 15.1767, expected 29.2068\n",
      "E0522 04:26:55.709207    1509 buffer_comparator.cc:156] Difference at 67: 15.6857, expected 33.5261\n",
      "E0522 04:26:55.709209    1509 buffer_comparator.cc:156] Difference at 68: 14.2807, expected 31.9801\n",
      "E0522 04:26:55.709210    1509 buffer_comparator.cc:156] Difference at 69: 17.134, expected 29.41\n",
      "E0522 04:26:55.709211    1509 buffer_comparator.cc:156] Difference at 70: 15.9887, expected 27.2107\n",
      "E0522 04:26:55.709213    1509 buffer_comparator.cc:156] Difference at 71: 16.7206, expected 28.907\n",
      "E0522 04:26:55.709214    1509 buffer_comparator.cc:156] Difference at 72: 15.6313, expected 30.2448\n",
      "E0522 04:26:55.709216    1509 buffer_comparator.cc:156] Difference at 73: 14.3571, expected 27.8188\n",
      "2025-05-22 04:26:55.709218: E external/xla/xla/service/gpu/autotuning/gemm_fusion_autotuner.cc:1138] Results do not match the reference. This is likely a bug/unexpected loss of precision.\n",
      "E0522 04:26:55.715199    1509 buffer_comparator.cc:156] Difference at 64: 15.7041, expected 29.6002\n",
      "E0522 04:26:55.715208    1509 buffer_comparator.cc:156] Difference at 65: 15.4677, expected 29.4486\n",
      "E0522 04:26:55.715210    1509 buffer_comparator.cc:156] Difference at 66: 15.1767, expected 29.2068\n",
      "E0522 04:26:55.715211    1509 buffer_comparator.cc:156] Difference at 67: 15.6857, expected 33.5261\n",
      "E0522 04:26:55.715213    1509 buffer_comparator.cc:156] Difference at 68: 14.2807, expected 31.9801\n",
      "E0522 04:26:55.715214    1509 buffer_comparator.cc:156] Difference at 69: 17.134, expected 29.41\n",
      "E0522 04:26:55.715216    1509 buffer_comparator.cc:156] Difference at 70: 15.9887, expected 27.2107\n",
      "E0522 04:26:55.715217    1509 buffer_comparator.cc:156] Difference at 71: 16.7206, expected 28.907\n",
      "E0522 04:26:55.715219    1509 buffer_comparator.cc:156] Difference at 72: 15.6313, expected 30.2448\n",
      "E0522 04:26:55.715220    1509 buffer_comparator.cc:156] Difference at 73: 14.3571, expected 27.8188\n",
      "2025-05-22 04:26:55.715223: E external/xla/xla/service/gpu/autotuning/gemm_fusion_autotuner.cc:1138] Results do not match the reference. This is likely a bug/unexpected loss of precision.\n",
      "E0522 04:26:55.721175    1509 buffer_comparator.cc:156] Difference at 64: 15.7041, expected 29.6002\n",
      "E0522 04:26:55.721185    1509 buffer_comparator.cc:156] Difference at 65: 15.4677, expected 29.4486\n",
      "E0522 04:26:55.721187    1509 buffer_comparator.cc:156] Difference at 66: 15.1767, expected 29.2068\n",
      "E0522 04:26:55.721189    1509 buffer_comparator.cc:156] Difference at 67: 15.6857, expected 33.5261\n",
      "E0522 04:26:55.721190    1509 buffer_comparator.cc:156] Difference at 68: 14.2807, expected 31.9801\n",
      "E0522 04:26:55.721191    1509 buffer_comparator.cc:156] Difference at 69: 17.134, expected 29.41\n",
      "E0522 04:26:55.721193    1509 buffer_comparator.cc:156] Difference at 70: 15.9887, expected 27.2107\n",
      "E0522 04:26:55.721194    1509 buffer_comparator.cc:156] Difference at 71: 16.7206, expected 28.907\n",
      "E0522 04:26:55.721196    1509 buffer_comparator.cc:156] Difference at 72: 15.6313, expected 30.2448\n",
      "E0522 04:26:55.721197    1509 buffer_comparator.cc:156] Difference at 73: 14.3571, expected 27.8188\n",
      "2025-05-22 04:26:55.721199: E external/xla/xla/service/gpu/autotuning/gemm_fusion_autotuner.cc:1138] Results do not match the reference. This is likely a bug/unexpected loss of precision.\n",
      "E0522 04:26:55.727276    1509 buffer_comparator.cc:156] Difference at 4096: 15.1127, expected 29.9669\n",
      "E0522 04:26:55.727286    1509 buffer_comparator.cc:156] Difference at 4097: 14.6685, expected 28.4223\n",
      "E0522 04:26:55.727287    1509 buffer_comparator.cc:156] Difference at 4098: 14.8828, expected 29.4537\n",
      "E0522 04:26:55.727289    1509 buffer_comparator.cc:156] Difference at 4099: 13.9816, expected 29.6381\n",
      "E0522 04:26:55.727290    1509 buffer_comparator.cc:156] Difference at 4100: 13.9192, expected 29.6193\n",
      "E0522 04:26:55.727292    1509 buffer_comparator.cc:156] Difference at 4101: 13.3875, expected 31.3687\n",
      "E0522 04:26:55.727293    1509 buffer_comparator.cc:156] Difference at 4102: 14.614, expected 29.9128\n",
      "E0522 04:26:55.727295    1509 buffer_comparator.cc:156] Difference at 4103: 16.6675, expected 29.8836\n",
      "E0522 04:26:55.727296    1509 buffer_comparator.cc:156] Difference at 4104: 15.0912, expected 30.5428\n",
      "E0522 04:26:55.727298    1509 buffer_comparator.cc:156] Difference at 4105: 14.0382, expected 28.1911\n",
      "2025-05-22 04:26:55.727300: E external/xla/xla/service/gpu/autotuning/gemm_fusion_autotuner.cc:1138] Results do not match the reference. This is likely a bug/unexpected loss of precision.\n",
      "E0522 04:26:55.733069    1509 buffer_comparator.cc:156] Difference at 4128: 15.1802, expected 30.882\n",
      "E0522 04:26:55.733081    1509 buffer_comparator.cc:156] Difference at 4129: 13.1332, expected 28.8614\n",
      "E0522 04:26:55.733083    1509 buffer_comparator.cc:156] Difference at 4130: 12.3138, expected 28.7112\n",
      "E0522 04:26:55.733084    1509 buffer_comparator.cc:156] Difference at 4131: 14.8422, expected 29.7565\n",
      "E0522 04:26:55.733086    1509 buffer_comparator.cc:156] Difference at 4132: 13.5679, expected 30.7302\n",
      "E0522 04:26:55.733087    1509 buffer_comparator.cc:156] Difference at 4133: 14.1443, expected 32.4592\n",
      "E0522 04:26:55.733089    1509 buffer_comparator.cc:156] Difference at 4134: 13.6601, expected 31.6733\n",
      "E0522 04:26:55.733090    1509 buffer_comparator.cc:156] Difference at 4135: 14.6512, expected 33.5865\n",
      "E0522 04:26:55.733091    1509 buffer_comparator.cc:156] Difference at 4136: 15.4823, expected 30.069\n",
      "E0522 04:26:55.733093    1509 buffer_comparator.cc:156] Difference at 4137: 15.6161, expected 27.6509\n",
      "2025-05-22 04:26:55.733096: E external/xla/xla/service/gpu/autotuning/gemm_fusion_autotuner.cc:1138] Results do not match the reference. This is likely a bug/unexpected loss of precision.\n",
      "E0522 04:26:55.739077    1509 buffer_comparator.cc:156] Difference at 4128: 15.1802, expected 30.882\n",
      "E0522 04:26:55.739088    1509 buffer_comparator.cc:156] Difference at 4129: 13.1332, expected 28.8614\n",
      "E0522 04:26:55.739090    1509 buffer_comparator.cc:156] Difference at 4130: 12.3138, expected 28.7112\n",
      "E0522 04:26:55.739092    1509 buffer_comparator.cc:156] Difference at 4131: 14.8422, expected 29.7565\n",
      "E0522 04:26:55.739093    1509 buffer_comparator.cc:156] Difference at 4132: 13.5679, expected 30.7302\n",
      "E0522 04:26:55.739095    1509 buffer_comparator.cc:156] Difference at 4133: 14.1443, expected 32.4592\n",
      "E0522 04:26:55.739096    1509 buffer_comparator.cc:156] Difference at 4134: 13.6601, expected 31.6733\n",
      "E0522 04:26:55.739097    1509 buffer_comparator.cc:156] Difference at 4135: 14.6512, expected 33.5865\n",
      "E0522 04:26:55.739099    1509 buffer_comparator.cc:156] Difference at 4136: 15.4823, expected 30.069\n",
      "E0522 04:26:55.739100    1509 buffer_comparator.cc:156] Difference at 4137: 15.6161, expected 27.6509\n",
      "2025-05-22 04:26:55.739103: E external/xla/xla/service/gpu/autotuning/gemm_fusion_autotuner.cc:1138] Results do not match the reference. This is likely a bug/unexpected loss of precision.\n",
      "E0522 04:26:55.745177    1509 buffer_comparator.cc:156] Difference at 4160: 14.5154, expected 32.0004\n",
      "E0522 04:26:55.745189    1509 buffer_comparator.cc:156] Difference at 4161: 14.553, expected 30.8236\n",
      "E0522 04:26:55.745191    1509 buffer_comparator.cc:156] Difference at 4162: 14.5804, expected 30.2456\n",
      "E0522 04:26:55.745193    1509 buffer_comparator.cc:156] Difference at 4163: 15.0828, expected 32.3286\n",
      "E0522 04:26:55.745194    1509 buffer_comparator.cc:156] Difference at 4164: 13.6494, expected 32.8327\n",
      "E0522 04:26:55.745195    1509 buffer_comparator.cc:156] Difference at 4165: 16.982, expected 30.1588\n",
      "E0522 04:26:55.745197    1509 buffer_comparator.cc:156] Difference at 4166: 15.7956, expected 29.2074\n",
      "E0522 04:26:55.745198    1509 buffer_comparator.cc:156] Difference at 4167: 16.1268, expected 30.0515\n",
      "E0522 04:26:55.745200    1509 buffer_comparator.cc:156] Difference at 4168: 14.7038, expected 32.7607\n",
      "E0522 04:26:55.745201    1509 buffer_comparator.cc:156] Difference at 4169: 13.3898, expected 27.8787\n",
      "2025-05-22 04:26:55.745203: E external/xla/xla/service/gpu/autotuning/gemm_fusion_autotuner.cc:1138] Results do not match the reference. This is likely a bug/unexpected loss of precision.\n",
      "E0522 04:26:55.751332    1509 buffer_comparator.cc:156] Difference at 8192: 13.8749, expected 25.8482\n",
      "E0522 04:26:55.751343    1509 buffer_comparator.cc:156] Difference at 8193: 15.305, expected 25.7722\n",
      "E0522 04:26:55.751345    1509 buffer_comparator.cc:156] Difference at 8194: 15.8146, expected 27.3349\n",
      "E0522 04:26:55.751347    1509 buffer_comparator.cc:156] Difference at 8195: 14.803, expected 25.4533\n",
      "E0522 04:26:55.751348    1509 buffer_comparator.cc:156] Difference at 8196: 15.0295, expected 25.8672\n",
      "E0522 04:26:55.751350    1509 buffer_comparator.cc:156] Difference at 8197: 14.7015, expected 25.4917\n",
      "E0522 04:26:55.751351    1509 buffer_comparator.cc:156] Difference at 8198: 15.2029, expected 25.2939\n",
      "E0522 04:26:55.751352    1509 buffer_comparator.cc:156] Difference at 8199: 15.8375, expected 27.409\n",
      "E0522 04:26:55.751354    1509 buffer_comparator.cc:156] Difference at 8200: 14.1546, expected 27.1667\n",
      "E0522 04:26:55.751355    1509 buffer_comparator.cc:156] Difference at 8201: 14.6815, expected 24.4105\n",
      "2025-05-22 04:26:55.751358: E external/xla/xla/service/gpu/autotuning/gemm_fusion_autotuner.cc:1138] Results do not match the reference. This is likely a bug/unexpected loss of precision.\n",
      "E0522 04:26:55.757555    1509 buffer_comparator.cc:156] Difference at 8192: 13.8749, expected 25.8482\n",
      "E0522 04:26:55.757566    1509 buffer_comparator.cc:156] Difference at 8193: 15.305, expected 25.7722\n",
      "E0522 04:26:55.757568    1509 buffer_comparator.cc:156] Difference at 8194: 15.8146, expected 27.3349\n",
      "E0522 04:26:55.757570    1509 buffer_comparator.cc:156] Difference at 8195: 14.803, expected 25.4533\n",
      "E0522 04:26:55.757571    1509 buffer_comparator.cc:156] Difference at 8196: 15.0295, expected 25.8672\n",
      "E0522 04:26:55.757572    1509 buffer_comparator.cc:156] Difference at 8197: 14.7015, expected 25.4917\n",
      "E0522 04:26:55.757574    1509 buffer_comparator.cc:156] Difference at 8198: 15.2029, expected 25.2939\n",
      "E0522 04:26:55.757575    1509 buffer_comparator.cc:156] Difference at 8199: 15.8375, expected 27.409\n",
      "E0522 04:26:55.757577    1509 buffer_comparator.cc:156] Difference at 8200: 14.1546, expected 27.1667\n",
      "E0522 04:26:55.757578    1509 buffer_comparator.cc:156] Difference at 8201: 14.6815, expected 24.4105\n",
      "2025-05-22 04:26:55.757580: E external/xla/xla/service/gpu/autotuning/gemm_fusion_autotuner.cc:1138] Results do not match the reference. This is likely a bug/unexpected loss of precision.\n",
      "E0522 04:26:55.763697    1509 buffer_comparator.cc:156] Difference at 8256: 13.0747, expected 27.4569\n",
      "E0522 04:26:55.763708    1509 buffer_comparator.cc:156] Difference at 8257: 13.5663, expected 27.3813\n",
      "E0522 04:26:55.763709    1509 buffer_comparator.cc:156] Difference at 8258: 13.5609, expected 27.6054\n",
      "E0522 04:26:55.763711    1509 buffer_comparator.cc:156] Difference at 8259: 14.4639, expected 27.1739\n",
      "E0522 04:26:55.763712    1509 buffer_comparator.cc:156] Difference at 8260: 13.0718, expected 27.7772\n",
      "E0522 04:26:55.763714    1509 buffer_comparator.cc:156] Difference at 8261: 14.0889, expected 26.182\n",
      "E0522 04:26:55.763715    1509 buffer_comparator.cc:156] Difference at 8262: 13.2159, expected 25.5823\n",
      "E0522 04:26:55.763717    1509 buffer_comparator.cc:156] Difference at 8263: 14.3307, expected 26.6151\n",
      "E0522 04:26:55.763718    1509 buffer_comparator.cc:156] Difference at 8264: 13.165, expected 27.6925\n",
      "E0522 04:26:55.763720    1509 buffer_comparator.cc:156] Difference at 8265: 12.3008, expected 24.7052\n",
      "2025-05-22 04:26:55.763722: E external/xla/xla/service/gpu/autotuning/gemm_fusion_autotuner.cc:1138] Results do not match the reference. This is likely a bug/unexpected loss of precision.\n",
      "E0522 04:26:55.769626    1509 buffer_comparator.cc:156] Difference at 8256: 13.0747, expected 27.4569\n",
      "E0522 04:26:55.769637    1509 buffer_comparator.cc:156] Difference at 8257: 13.5663, expected 27.3813\n",
      "E0522 04:26:55.769639    1509 buffer_comparator.cc:156] Difference at 8258: 13.5609, expected 27.6054\n",
      "E0522 04:26:55.769641    1509 buffer_comparator.cc:156] Difference at 8259: 14.4639, expected 27.1739\n",
      "E0522 04:26:55.769642    1509 buffer_comparator.cc:156] Difference at 8260: 13.0718, expected 27.7772\n",
      "E0522 04:26:55.769643    1509 buffer_comparator.cc:156] Difference at 8261: 14.0889, expected 26.182\n",
      "E0522 04:26:55.769645    1509 buffer_comparator.cc:156] Difference at 8262: 13.2159, expected 25.5823\n",
      "E0522 04:26:55.769646    1509 buffer_comparator.cc:156] Difference at 8263: 14.3307, expected 26.6151\n",
      "E0522 04:26:55.769648    1509 buffer_comparator.cc:156] Difference at 8264: 13.165, expected 27.6925\n",
      "E0522 04:26:55.769649    1509 buffer_comparator.cc:156] Difference at 8265: 12.3008, expected 24.7052\n",
      "2025-05-22 04:26:55.769652: E external/xla/xla/service/gpu/autotuning/gemm_fusion_autotuner.cc:1138] Results do not match the reference. This is likely a bug/unexpected loss of precision.\n",
      "E0522 04:26:55.781569    1509 buffer_comparator.cc:156] Difference at 18: 33.6276, expected 29.1917\n",
      "E0522 04:26:55.781581    1509 buffer_comparator.cc:156] Difference at 67: 38.7761, expected 33.5261\n",
      "E0522 04:26:55.781583    1509 buffer_comparator.cc:156] Difference at 95: 31.3105, expected 27.6458\n",
      "E0522 04:26:55.781585    1509 buffer_comparator.cc:156] Difference at 102: 31.7691, expected 28.2752\n",
      "E0522 04:26:55.781586    1509 buffer_comparator.cc:156] Difference at 107: 36.0778, expected 30.4284\n",
      "E0522 04:26:55.781588    1509 buffer_comparator.cc:156] Difference at 137: 32.1504, expected 27.5381\n",
      "E0522 04:26:55.781589    1509 buffer_comparator.cc:156] Difference at 145: 24.2658, expected 27.5704\n",
      "E0522 04:26:55.781591    1509 buffer_comparator.cc:156] Difference at 152: 27.0928, expected 31.4936\n",
      "E0522 04:26:55.781592    1509 buffer_comparator.cc:156] Difference at 180: 23.8064, expected 26.8116\n",
      "E0522 04:26:55.781594    1509 buffer_comparator.cc:156] Difference at 192: 27.3605, expected 30.8672\n",
      "2025-05-22 04:26:55.781596: E external/xla/xla/service/gpu/autotuning/gemm_fusion_autotuner.cc:1138] Results do not match the reference. This is likely a bug/unexpected loss of precision.\n"
     ]
    },
    {
     "name": "stdout",
     "output_type": "stream",
     "text": [
      "step      0 | reward 0.0006742242\n"
     ]
    },
    {
     "name": "stderr",
     "output_type": "stream",
     "text": [
      "E0522 04:27:20.089603    1509 buffer_comparator.cc:156] Difference at 0: 28.9721, expected 33.8269\n",
      "E0522 04:27:20.089641    1509 buffer_comparator.cc:156] Difference at 1: 30.1319, expected 36.5832\n",
      "E0522 04:27:20.089647    1509 buffer_comparator.cc:156] Difference at 2: 29.624, expected 33.4259\n",
      "E0522 04:27:20.089650    1509 buffer_comparator.cc:156] Difference at 3: 32.4772, expected 38.7666\n",
      "E0522 04:27:20.089653    1509 buffer_comparator.cc:156] Difference at 5: 29.1438, expected 33.2994\n",
      "E0522 04:27:20.089655    1509 buffer_comparator.cc:156] Difference at 6: 28.9798, expected 35.3328\n",
      "E0522 04:27:20.089658    1509 buffer_comparator.cc:156] Difference at 7: 30.3794, expected 36.5047\n",
      "E0522 04:27:20.089661    1509 buffer_comparator.cc:156] Difference at 8: 30.3641, expected 35.2334\n",
      "E0522 04:27:20.089663    1509 buffer_comparator.cc:156] Difference at 9: 32.116, expected 37.0019\n",
      "E0522 04:27:20.089666    1509 buffer_comparator.cc:156] Difference at 10: 28.6577, expected 32.7479\n",
      "2025-05-22 04:27:20.089674: E external/xla/xla/service/gpu/autotuning/gemm_fusion_autotuner.cc:1138] Results do not match the reference. This is likely a bug/unexpected loss of precision.\n",
      "E0522 04:27:20.136479    1509 buffer_comparator.cc:156] Difference at 0: 28.9721, expected 33.8269\n",
      "E0522 04:27:20.136506    1509 buffer_comparator.cc:156] Difference at 1: 30.1319, expected 36.5832\n",
      "E0522 04:27:20.136511    1509 buffer_comparator.cc:156] Difference at 2: 29.624, expected 33.4259\n",
      "E0522 04:27:20.136514    1509 buffer_comparator.cc:156] Difference at 3: 32.4772, expected 38.7666\n",
      "E0522 04:27:20.136516    1509 buffer_comparator.cc:156] Difference at 5: 29.1438, expected 33.2994\n",
      "E0522 04:27:20.136519    1509 buffer_comparator.cc:156] Difference at 6: 28.9798, expected 35.3328\n",
      "E0522 04:27:20.136522    1509 buffer_comparator.cc:156] Difference at 7: 30.3794, expected 36.5047\n",
      "E0522 04:27:20.136524    1509 buffer_comparator.cc:156] Difference at 8: 30.3641, expected 35.2334\n",
      "E0522 04:27:20.136527    1509 buffer_comparator.cc:156] Difference at 9: 32.116, expected 37.0019\n",
      "E0522 04:27:20.136530    1509 buffer_comparator.cc:156] Difference at 10: 28.6577, expected 32.7479\n",
      "2025-05-22 04:27:20.136536: E external/xla/xla/service/gpu/autotuning/gemm_fusion_autotuner.cc:1138] Results do not match the reference. This is likely a bug/unexpected loss of precision.\n",
      "E0522 04:27:20.180966    1509 buffer_comparator.cc:156] Difference at 0: 28.9721, expected 33.8269\n",
      "E0522 04:27:20.180987    1509 buffer_comparator.cc:156] Difference at 1: 30.1319, expected 36.5832\n",
      "E0522 04:27:20.180991    1509 buffer_comparator.cc:156] Difference at 2: 29.624, expected 33.4259\n",
      "E0522 04:27:20.180994    1509 buffer_comparator.cc:156] Difference at 3: 32.4772, expected 38.7666\n",
      "E0522 04:27:20.180997    1509 buffer_comparator.cc:156] Difference at 5: 29.1438, expected 33.2994\n",
      "E0522 04:27:20.180999    1509 buffer_comparator.cc:156] Difference at 6: 28.9798, expected 35.3328\n",
      "E0522 04:27:20.181002    1509 buffer_comparator.cc:156] Difference at 7: 30.3794, expected 36.5047\n",
      "E0522 04:27:20.181005    1509 buffer_comparator.cc:156] Difference at 8: 30.3641, expected 35.2334\n",
      "E0522 04:27:20.181007    1509 buffer_comparator.cc:156] Difference at 9: 32.116, expected 37.0019\n",
      "E0522 04:27:20.181010    1509 buffer_comparator.cc:156] Difference at 10: 28.6577, expected 32.7479\n",
      "2025-05-22 04:27:20.181015: E external/xla/xla/service/gpu/autotuning/gemm_fusion_autotuner.cc:1138] Results do not match the reference. This is likely a bug/unexpected loss of precision.\n",
      "E0522 04:27:20.225383    1509 buffer_comparator.cc:156] Difference at 0: 28.9721, expected 33.8269\n",
      "E0522 04:27:20.225407    1509 buffer_comparator.cc:156] Difference at 1: 30.1319, expected 36.5832\n",
      "E0522 04:27:20.225411    1509 buffer_comparator.cc:156] Difference at 2: 29.624, expected 33.4259\n",
      "E0522 04:27:20.225414    1509 buffer_comparator.cc:156] Difference at 3: 32.4772, expected 38.7666\n",
      "E0522 04:27:20.225417    1509 buffer_comparator.cc:156] Difference at 5: 29.1438, expected 33.2994\n",
      "E0522 04:27:20.225419    1509 buffer_comparator.cc:156] Difference at 6: 28.9798, expected 35.3328\n",
      "E0522 04:27:20.225422    1509 buffer_comparator.cc:156] Difference at 7: 30.3794, expected 36.5047\n",
      "E0522 04:27:20.225425    1509 buffer_comparator.cc:156] Difference at 8: 30.3641, expected 35.2334\n",
      "E0522 04:27:20.225427    1509 buffer_comparator.cc:156] Difference at 9: 32.116, expected 37.0019\n",
      "E0522 04:27:20.225430    1509 buffer_comparator.cc:156] Difference at 10: 28.6577, expected 32.7479\n",
      "2025-05-22 04:27:20.225436: E external/xla/xla/service/gpu/autotuning/gemm_fusion_autotuner.cc:1138] Results do not match the reference. This is likely a bug/unexpected loss of precision.\n",
      "E0522 04:27:20.236287    1509 buffer_comparator.cc:156] Difference at 0: 28.9721, expected 33.8269\n",
      "E0522 04:27:20.236306    1509 buffer_comparator.cc:156] Difference at 1: 30.1319, expected 36.5832\n",
      "E0522 04:27:20.236311    1509 buffer_comparator.cc:156] Difference at 2: 29.624, expected 33.4259\n",
      "E0522 04:27:20.236313    1509 buffer_comparator.cc:156] Difference at 3: 32.4772, expected 38.7666\n",
      "E0522 04:27:20.236316    1509 buffer_comparator.cc:156] Difference at 5: 29.1438, expected 33.2994\n",
      "E0522 04:27:20.236319    1509 buffer_comparator.cc:156] Difference at 6: 28.9798, expected 35.3328\n",
      "E0522 04:27:20.236321    1509 buffer_comparator.cc:156] Difference at 7: 30.3794, expected 36.5047\n",
      "E0522 04:27:20.236324    1509 buffer_comparator.cc:156] Difference at 8: 30.3641, expected 35.2334\n",
      "E0522 04:27:20.236326    1509 buffer_comparator.cc:156] Difference at 9: 32.116, expected 37.0019\n",
      "E0522 04:27:20.236329    1509 buffer_comparator.cc:156] Difference at 10: 28.6577, expected 32.7479\n",
      "2025-05-22 04:27:20.236335: E external/xla/xla/service/gpu/autotuning/gemm_fusion_autotuner.cc:1138] Results do not match the reference. This is likely a bug/unexpected loss of precision.\n",
      "E0522 04:27:20.243121    1509 buffer_comparator.cc:156] Difference at 0: 28.9721, expected 33.8269\n",
      "E0522 04:27:20.243139    1509 buffer_comparator.cc:156] Difference at 1: 30.1319, expected 36.5832\n",
      "E0522 04:27:20.243143    1509 buffer_comparator.cc:156] Difference at 2: 29.624, expected 33.4259\n",
      "E0522 04:27:20.243145    1509 buffer_comparator.cc:156] Difference at 3: 32.4772, expected 38.7666\n",
      "E0522 04:27:20.243148    1509 buffer_comparator.cc:156] Difference at 5: 29.1438, expected 33.2994\n",
      "E0522 04:27:20.243151    1509 buffer_comparator.cc:156] Difference at 6: 28.9798, expected 35.3328\n",
      "E0522 04:27:20.243153    1509 buffer_comparator.cc:156] Difference at 7: 30.3794, expected 36.5047\n",
      "E0522 04:27:20.243156    1509 buffer_comparator.cc:156] Difference at 8: 30.3641, expected 35.2334\n",
      "E0522 04:27:20.243158    1509 buffer_comparator.cc:156] Difference at 9: 32.116, expected 37.0019\n",
      "E0522 04:27:20.243162    1509 buffer_comparator.cc:156] Difference at 10: 28.6577, expected 32.7479\n",
      "2025-05-22 04:27:20.243167: E external/xla/xla/service/gpu/autotuning/gemm_fusion_autotuner.cc:1138] Results do not match the reference. This is likely a bug/unexpected loss of precision.\n",
      "E0522 04:27:20.249689    1509 buffer_comparator.cc:156] Difference at 0: 28.9721, expected 33.8269\n",
      "E0522 04:27:20.249735    1509 buffer_comparator.cc:156] Difference at 1: 30.1319, expected 36.5832\n",
      "E0522 04:27:20.249740    1509 buffer_comparator.cc:156] Difference at 2: 29.624, expected 33.4259\n",
      "E0522 04:27:20.249743    1509 buffer_comparator.cc:156] Difference at 3: 32.4772, expected 38.7666\n",
      "E0522 04:27:20.249746    1509 buffer_comparator.cc:156] Difference at 5: 29.1438, expected 33.2994\n",
      "E0522 04:27:20.249748    1509 buffer_comparator.cc:156] Difference at 6: 28.9798, expected 35.3328\n",
      "E0522 04:27:20.249751    1509 buffer_comparator.cc:156] Difference at 7: 30.3794, expected 36.5047\n",
      "E0522 04:27:20.249753    1509 buffer_comparator.cc:156] Difference at 8: 30.3641, expected 35.2334\n",
      "E0522 04:27:20.249756    1509 buffer_comparator.cc:156] Difference at 9: 32.116, expected 37.0019\n",
      "E0522 04:27:20.249759    1509 buffer_comparator.cc:156] Difference at 10: 28.6577, expected 32.7479\n",
      "2025-05-22 04:27:20.249764: E external/xla/xla/service/gpu/autotuning/gemm_fusion_autotuner.cc:1138] Results do not match the reference. This is likely a bug/unexpected loss of precision.\n",
      "E0522 04:27:20.256338    1509 buffer_comparator.cc:156] Difference at 0: 28.9721, expected 33.8269\n",
      "E0522 04:27:20.256356    1509 buffer_comparator.cc:156] Difference at 1: 30.1319, expected 36.5832\n",
      "E0522 04:27:20.256359    1509 buffer_comparator.cc:156] Difference at 2: 29.624, expected 33.4259\n",
      "E0522 04:27:20.256362    1509 buffer_comparator.cc:156] Difference at 3: 32.4772, expected 38.7666\n",
      "E0522 04:27:20.256365    1509 buffer_comparator.cc:156] Difference at 5: 29.1438, expected 33.2994\n",
      "E0522 04:27:20.256367    1509 buffer_comparator.cc:156] Difference at 6: 28.9798, expected 35.3328\n",
      "E0522 04:27:20.256370    1509 buffer_comparator.cc:156] Difference at 7: 30.3794, expected 36.5047\n",
      "E0522 04:27:20.256372    1509 buffer_comparator.cc:156] Difference at 8: 30.3641, expected 35.2334\n",
      "E0522 04:27:20.256375    1509 buffer_comparator.cc:156] Difference at 9: 32.116, expected 37.0019\n",
      "E0522 04:27:20.256379    1509 buffer_comparator.cc:156] Difference at 10: 28.6577, expected 32.7479\n",
      "2025-05-22 04:27:20.256384: E external/xla/xla/service/gpu/autotuning/gemm_fusion_autotuner.cc:1138] Results do not match the reference. This is likely a bug/unexpected loss of precision.\n",
      "E0522 04:27:20.262891    1509 buffer_comparator.cc:156] Difference at 0: 28.9721, expected 33.8269\n",
      "E0522 04:27:20.262909    1509 buffer_comparator.cc:156] Difference at 1: 30.1319, expected 36.5832\n",
      "E0522 04:27:20.262912    1509 buffer_comparator.cc:156] Difference at 2: 29.624, expected 33.4259\n",
      "E0522 04:27:20.262915    1509 buffer_comparator.cc:156] Difference at 3: 32.4772, expected 38.7666\n",
      "E0522 04:27:20.262917    1509 buffer_comparator.cc:156] Difference at 5: 29.1438, expected 33.2994\n",
      "E0522 04:27:20.262920    1509 buffer_comparator.cc:156] Difference at 6: 28.9798, expected 35.3328\n",
      "E0522 04:27:20.262923    1509 buffer_comparator.cc:156] Difference at 7: 30.3794, expected 36.5047\n",
      "E0522 04:27:20.262925    1509 buffer_comparator.cc:156] Difference at 8: 30.3641, expected 35.2334\n",
      "E0522 04:27:20.262928    1509 buffer_comparator.cc:156] Difference at 9: 32.116, expected 37.0019\n",
      "E0522 04:27:20.262931    1509 buffer_comparator.cc:156] Difference at 10: 28.6577, expected 32.7479\n",
      "2025-05-22 04:27:20.262936: E external/xla/xla/service/gpu/autotuning/gemm_fusion_autotuner.cc:1138] Results do not match the reference. This is likely a bug/unexpected loss of precision.\n",
      "E0522 04:27:20.269486    1509 buffer_comparator.cc:156] Difference at 0: 28.9721, expected 33.8269\n",
      "E0522 04:27:20.269503    1509 buffer_comparator.cc:156] Difference at 1: 30.1319, expected 36.5832\n",
      "E0522 04:27:20.269507    1509 buffer_comparator.cc:156] Difference at 2: 29.624, expected 33.4259\n",
      "E0522 04:27:20.269510    1509 buffer_comparator.cc:156] Difference at 3: 32.4772, expected 38.7666\n",
      "E0522 04:27:20.269512    1509 buffer_comparator.cc:156] Difference at 5: 29.1438, expected 33.2994\n",
      "E0522 04:27:20.269515    1509 buffer_comparator.cc:156] Difference at 6: 28.9798, expected 35.3328\n",
      "E0522 04:27:20.269517    1509 buffer_comparator.cc:156] Difference at 7: 30.3794, expected 36.5047\n",
      "E0522 04:27:20.269520    1509 buffer_comparator.cc:156] Difference at 8: 30.3641, expected 35.2334\n",
      "E0522 04:27:20.269522    1509 buffer_comparator.cc:156] Difference at 9: 32.116, expected 37.0019\n",
      "E0522 04:27:20.269526    1509 buffer_comparator.cc:156] Difference at 10: 28.6577, expected 32.7479\n",
      "2025-05-22 04:27:20.269531: E external/xla/xla/service/gpu/autotuning/gemm_fusion_autotuner.cc:1138] Results do not match the reference. This is likely a bug/unexpected loss of precision.\n",
      "E0522 04:27:20.276177    1509 buffer_comparator.cc:156] Difference at 0: 28.9721, expected 33.8269\n",
      "E0522 04:27:20.276194    1509 buffer_comparator.cc:156] Difference at 1: 30.1319, expected 36.5832\n",
      "E0522 04:27:20.276198    1509 buffer_comparator.cc:156] Difference at 2: 29.624, expected 33.4259\n",
      "E0522 04:27:20.276200    1509 buffer_comparator.cc:156] Difference at 3: 32.4772, expected 38.7666\n",
      "E0522 04:27:20.276203    1509 buffer_comparator.cc:156] Difference at 5: 29.1438, expected 33.2994\n",
      "E0522 04:27:20.276205    1509 buffer_comparator.cc:156] Difference at 6: 28.9798, expected 35.3328\n",
      "E0522 04:27:20.276208    1509 buffer_comparator.cc:156] Difference at 7: 30.3794, expected 36.5047\n",
      "E0522 04:27:20.276210    1509 buffer_comparator.cc:156] Difference at 8: 30.3641, expected 35.2334\n",
      "E0522 04:27:20.276213    1509 buffer_comparator.cc:156] Difference at 9: 32.116, expected 37.0019\n",
      "E0522 04:27:20.276216    1509 buffer_comparator.cc:156] Difference at 10: 28.6577, expected 32.7479\n",
      "2025-05-22 04:27:20.276221: E external/xla/xla/service/gpu/autotuning/gemm_fusion_autotuner.cc:1138] Results do not match the reference. This is likely a bug/unexpected loss of precision.\n",
      "E0522 04:27:20.282879    1509 buffer_comparator.cc:156] Difference at 0: 28.9721, expected 33.8269\n",
      "E0522 04:27:20.282897    1509 buffer_comparator.cc:156] Difference at 1: 30.1319, expected 36.5832\n",
      "E0522 04:27:20.282900    1509 buffer_comparator.cc:156] Difference at 2: 29.624, expected 33.4259\n",
      "E0522 04:27:20.282903    1509 buffer_comparator.cc:156] Difference at 3: 32.4772, expected 38.7666\n",
      "E0522 04:27:20.282906    1509 buffer_comparator.cc:156] Difference at 5: 29.1438, expected 33.2994\n",
      "E0522 04:27:20.282908    1509 buffer_comparator.cc:156] Difference at 6: 28.9798, expected 35.3328\n",
      "E0522 04:27:20.282911    1509 buffer_comparator.cc:156] Difference at 7: 30.3794, expected 36.5047\n",
      "E0522 04:27:20.282913    1509 buffer_comparator.cc:156] Difference at 8: 30.3641, expected 35.2334\n",
      "E0522 04:27:20.282916    1509 buffer_comparator.cc:156] Difference at 9: 32.116, expected 37.0019\n",
      "E0522 04:27:20.282920    1509 buffer_comparator.cc:156] Difference at 10: 28.6577, expected 32.7479\n",
      "2025-05-22 04:27:20.282924: E external/xla/xla/service/gpu/autotuning/gemm_fusion_autotuner.cc:1138] Results do not match the reference. This is likely a bug/unexpected loss of precision.\n",
      "E0522 04:27:20.289399    1509 buffer_comparator.cc:156] Difference at 0: 28.9721, expected 33.8269\n",
      "E0522 04:27:20.289418    1509 buffer_comparator.cc:156] Difference at 1: 30.1319, expected 36.5832\n",
      "E0522 04:27:20.289422    1509 buffer_comparator.cc:156] Difference at 2: 29.624, expected 33.4259\n",
      "E0522 04:27:20.289425    1509 buffer_comparator.cc:156] Difference at 3: 32.4772, expected 38.7666\n",
      "E0522 04:27:20.289427    1509 buffer_comparator.cc:156] Difference at 5: 29.1438, expected 33.2994\n",
      "E0522 04:27:20.289430    1509 buffer_comparator.cc:156] Difference at 6: 28.9798, expected 35.3328\n",
      "E0522 04:27:20.289433    1509 buffer_comparator.cc:156] Difference at 7: 30.3794, expected 36.5047\n",
      "E0522 04:27:20.289435    1509 buffer_comparator.cc:156] Difference at 8: 30.3641, expected 35.2334\n",
      "E0522 04:27:20.289438    1509 buffer_comparator.cc:156] Difference at 9: 32.116, expected 37.0019\n",
      "E0522 04:27:20.289441    1509 buffer_comparator.cc:156] Difference at 10: 28.6577, expected 32.7479\n",
      "2025-05-22 04:27:20.289446: E external/xla/xla/service/gpu/autotuning/gemm_fusion_autotuner.cc:1138] Results do not match the reference. This is likely a bug/unexpected loss of precision.\n",
      "E0522 04:27:20.296023    1509 buffer_comparator.cc:156] Difference at 0: 28.9721, expected 33.8269\n",
      "E0522 04:27:20.296044    1509 buffer_comparator.cc:156] Difference at 1: 30.1319, expected 36.5832\n",
      "E0522 04:27:20.296048    1509 buffer_comparator.cc:156] Difference at 2: 29.624, expected 33.4259\n",
      "E0522 04:27:20.296051    1509 buffer_comparator.cc:156] Difference at 3: 32.4772, expected 38.7666\n",
      "E0522 04:27:20.296053    1509 buffer_comparator.cc:156] Difference at 5: 29.1438, expected 33.2994\n",
      "E0522 04:27:20.296056    1509 buffer_comparator.cc:156] Difference at 6: 28.9798, expected 35.3328\n",
      "E0522 04:27:20.296058    1509 buffer_comparator.cc:156] Difference at 7: 30.3794, expected 36.5047\n",
      "E0522 04:27:20.296061    1509 buffer_comparator.cc:156] Difference at 8: 30.3641, expected 35.2334\n",
      "E0522 04:27:20.296063    1509 buffer_comparator.cc:156] Difference at 9: 32.116, expected 37.0019\n",
      "E0522 04:27:20.296067    1509 buffer_comparator.cc:156] Difference at 10: 28.6577, expected 32.7479\n",
      "2025-05-22 04:27:20.296073: E external/xla/xla/service/gpu/autotuning/gemm_fusion_autotuner.cc:1138] Results do not match the reference. This is likely a bug/unexpected loss of precision.\n",
      "E0522 04:27:20.302481    1509 buffer_comparator.cc:156] Difference at 0: 28.9721, expected 33.8269\n",
      "E0522 04:27:20.302502    1509 buffer_comparator.cc:156] Difference at 1: 30.1319, expected 36.5832\n",
      "E0522 04:27:20.302506    1509 buffer_comparator.cc:156] Difference at 2: 29.624, expected 33.4259\n",
      "E0522 04:27:20.302509    1509 buffer_comparator.cc:156] Difference at 3: 32.4772, expected 38.7666\n",
      "E0522 04:27:20.302511    1509 buffer_comparator.cc:156] Difference at 5: 29.1438, expected 33.2994\n",
      "E0522 04:27:20.302514    1509 buffer_comparator.cc:156] Difference at 6: 28.9798, expected 35.3328\n",
      "E0522 04:27:20.302516    1509 buffer_comparator.cc:156] Difference at 7: 30.3794, expected 36.5047\n",
      "E0522 04:27:20.302519    1509 buffer_comparator.cc:156] Difference at 8: 30.3641, expected 35.2334\n",
      "E0522 04:27:20.302522    1509 buffer_comparator.cc:156] Difference at 9: 32.116, expected 37.0019\n",
      "E0522 04:27:20.302525    1509 buffer_comparator.cc:156] Difference at 10: 28.6577, expected 32.7479\n",
      "2025-05-22 04:27:20.302540: E external/xla/xla/service/gpu/autotuning/gemm_fusion_autotuner.cc:1138] Results do not match the reference. This is likely a bug/unexpected loss of precision.\n",
      "E0522 04:27:20.309024    1509 buffer_comparator.cc:156] Difference at 0: 28.9721, expected 33.8269\n",
      "E0522 04:27:20.309044    1509 buffer_comparator.cc:156] Difference at 1: 30.1319, expected 36.5832\n",
      "E0522 04:27:20.309048    1509 buffer_comparator.cc:156] Difference at 2: 29.624, expected 33.4259\n",
      "E0522 04:27:20.309050    1509 buffer_comparator.cc:156] Difference at 3: 32.4772, expected 38.7666\n",
      "E0522 04:27:20.309053    1509 buffer_comparator.cc:156] Difference at 5: 29.1438, expected 33.2994\n",
      "E0522 04:27:20.309056    1509 buffer_comparator.cc:156] Difference at 6: 28.9798, expected 35.3328\n",
      "E0522 04:27:20.309058    1509 buffer_comparator.cc:156] Difference at 7: 30.3794, expected 36.5047\n",
      "E0522 04:27:20.309061    1509 buffer_comparator.cc:156] Difference at 8: 30.3641, expected 35.2334\n",
      "E0522 04:27:20.309063    1509 buffer_comparator.cc:156] Difference at 9: 32.116, expected 37.0019\n",
      "E0522 04:27:20.309066    1509 buffer_comparator.cc:156] Difference at 10: 28.6577, expected 32.7479\n",
      "2025-05-22 04:27:20.309071: E external/xla/xla/service/gpu/autotuning/gemm_fusion_autotuner.cc:1138] Results do not match the reference. This is likely a bug/unexpected loss of precision.\n",
      "E0522 04:27:20.315559    1509 buffer_comparator.cc:156] Difference at 0: 28.9721, expected 33.8269\n",
      "E0522 04:27:20.315578    1509 buffer_comparator.cc:156] Difference at 1: 30.1319, expected 36.5832\n",
      "E0522 04:27:20.315582    1509 buffer_comparator.cc:156] Difference at 2: 29.624, expected 33.4259\n",
      "E0522 04:27:20.315584    1509 buffer_comparator.cc:156] Difference at 3: 32.4772, expected 38.7666\n",
      "E0522 04:27:20.315587    1509 buffer_comparator.cc:156] Difference at 5: 29.1438, expected 33.2994\n",
      "E0522 04:27:20.315590    1509 buffer_comparator.cc:156] Difference at 6: 28.9798, expected 35.3328\n",
      "E0522 04:27:20.315592    1509 buffer_comparator.cc:156] Difference at 7: 30.3794, expected 36.5047\n",
      "E0522 04:27:20.315595    1509 buffer_comparator.cc:156] Difference at 8: 30.3641, expected 35.2334\n",
      "E0522 04:27:20.315597    1509 buffer_comparator.cc:156] Difference at 9: 32.116, expected 37.0019\n",
      "E0522 04:27:20.315601    1509 buffer_comparator.cc:156] Difference at 10: 28.6577, expected 32.7479\n",
      "2025-05-22 04:27:20.315606: E external/xla/xla/service/gpu/autotuning/gemm_fusion_autotuner.cc:1138] Results do not match the reference. This is likely a bug/unexpected loss of precision.\n",
      "E0522 04:27:20.322669    1509 buffer_comparator.cc:156] Difference at 0: 1.77659, expected 3.03796\n",
      "E0522 04:27:20.322689    1509 buffer_comparator.cc:156] Difference at 1: 1.63506, expected 3.16889\n",
      "E0522 04:27:20.322692    1509 buffer_comparator.cc:156] Difference at 2: 1.48507, expected 2.36279\n",
      "E0522 04:27:20.322695    1509 buffer_comparator.cc:156] Difference at 3: 1.82284, expected 3.25532\n",
      "E0522 04:27:20.322697    1509 buffer_comparator.cc:156] Difference at 4: 1.13226, expected 1.61662\n",
      "E0522 04:27:20.322699    1509 buffer_comparator.cc:156] Difference at 5: 2.06923, expected 3.55008\n",
      "E0522 04:27:20.322702    1509 buffer_comparator.cc:156] Difference at 6: 1.75223, expected 3.89869\n",
      "E0522 04:27:20.322704    1509 buffer_comparator.cc:156] Difference at 7: 1.1274, expected 3.15753\n",
      "E0522 04:27:20.322706    1509 buffer_comparator.cc:156] Difference at 8: 1.2255, expected 2.22132\n",
      "E0522 04:27:20.322709    1509 buffer_comparator.cc:156] Difference at 9: 2.07096, expected 3.33725\n",
      "2025-05-22 04:27:20.322714: E external/xla/xla/service/gpu/autotuning/gemm_fusion_autotuner.cc:1138] Results do not match the reference. This is likely a bug/unexpected loss of precision.\n",
      "E0522 04:27:20.328976    1509 buffer_comparator.cc:156] Difference at 0: 1.77659, expected 3.03796\n",
      "E0522 04:27:20.328994    1509 buffer_comparator.cc:156] Difference at 1: 1.63506, expected 3.16889\n",
      "E0522 04:27:20.328997    1509 buffer_comparator.cc:156] Difference at 2: 1.48507, expected 2.36279\n",
      "E0522 04:27:20.329000    1509 buffer_comparator.cc:156] Difference at 3: 1.82284, expected 3.25532\n",
      "E0522 04:27:20.329002    1509 buffer_comparator.cc:156] Difference at 4: 1.13226, expected 1.61662\n",
      "E0522 04:27:20.329005    1509 buffer_comparator.cc:156] Difference at 5: 2.06923, expected 3.55008\n",
      "E0522 04:27:20.329022    1509 buffer_comparator.cc:156] Difference at 6: 1.75223, expected 3.89869\n",
      "E0522 04:27:20.329025    1509 buffer_comparator.cc:156] Difference at 7: 1.1274, expected 3.15753\n",
      "E0522 04:27:20.329027    1509 buffer_comparator.cc:156] Difference at 8: 1.2255, expected 2.22132\n",
      "E0522 04:27:20.329029    1509 buffer_comparator.cc:156] Difference at 9: 2.07096, expected 3.33725\n",
      "2025-05-22 04:27:20.329034: E external/xla/xla/service/gpu/autotuning/gemm_fusion_autotuner.cc:1138] Results do not match the reference. This is likely a bug/unexpected loss of precision.\n",
      "E0522 04:27:20.335306    1509 buffer_comparator.cc:156] Difference at 0: 1.77659, expected 3.03796\n",
      "E0522 04:27:20.335325    1509 buffer_comparator.cc:156] Difference at 1: 1.63506, expected 3.16889\n",
      "E0522 04:27:20.335328    1509 buffer_comparator.cc:156] Difference at 2: 1.48507, expected 2.36279\n",
      "E0522 04:27:20.335331    1509 buffer_comparator.cc:156] Difference at 3: 1.82284, expected 3.25532\n",
      "E0522 04:27:20.335333    1509 buffer_comparator.cc:156] Difference at 4: 1.13226, expected 1.61662\n",
      "E0522 04:27:20.335335    1509 buffer_comparator.cc:156] Difference at 5: 2.06923, expected 3.55008\n",
      "E0522 04:27:20.335338    1509 buffer_comparator.cc:156] Difference at 6: 1.75223, expected 3.89869\n",
      "E0522 04:27:20.335340    1509 buffer_comparator.cc:156] Difference at 7: 1.1274, expected 3.15753\n",
      "E0522 04:27:20.335342    1509 buffer_comparator.cc:156] Difference at 8: 1.2255, expected 2.22132\n",
      "E0522 04:27:20.335345    1509 buffer_comparator.cc:156] Difference at 9: 2.07096, expected 3.33725\n",
      "2025-05-22 04:27:20.335351: E external/xla/xla/service/gpu/autotuning/gemm_fusion_autotuner.cc:1138] Results do not match the reference. This is likely a bug/unexpected loss of precision.\n",
      "E0522 04:27:20.341632    1509 buffer_comparator.cc:156] Difference at 0: 1.77659, expected 3.03796\n",
      "E0522 04:27:20.341651    1509 buffer_comparator.cc:156] Difference at 1: 1.63506, expected 3.16889\n",
      "E0522 04:27:20.341654    1509 buffer_comparator.cc:156] Difference at 2: 1.48507, expected 2.36279\n",
      "E0522 04:27:20.341657    1509 buffer_comparator.cc:156] Difference at 3: 1.82284, expected 3.25532\n",
      "E0522 04:27:20.341659    1509 buffer_comparator.cc:156] Difference at 4: 1.13226, expected 1.61662\n",
      "E0522 04:27:20.341661    1509 buffer_comparator.cc:156] Difference at 5: 2.06923, expected 3.55008\n",
      "E0522 04:27:20.341664    1509 buffer_comparator.cc:156] Difference at 6: 1.75223, expected 3.89869\n",
      "E0522 04:27:20.341666    1509 buffer_comparator.cc:156] Difference at 7: 1.1274, expected 3.15753\n",
      "E0522 04:27:20.341668    1509 buffer_comparator.cc:156] Difference at 8: 1.2255, expected 2.22132\n",
      "E0522 04:27:20.341671    1509 buffer_comparator.cc:156] Difference at 9: 2.07096, expected 3.33725\n",
      "2025-05-22 04:27:20.341676: E external/xla/xla/service/gpu/autotuning/gemm_fusion_autotuner.cc:1138] Results do not match the reference. This is likely a bug/unexpected loss of precision.\n",
      "E0522 04:27:20.347940    1509 buffer_comparator.cc:156] Difference at 0: 1.77659, expected 3.03796\n",
      "E0522 04:27:20.347968    1509 buffer_comparator.cc:156] Difference at 1: 1.63506, expected 3.16889\n",
      "E0522 04:27:20.347971    1509 buffer_comparator.cc:156] Difference at 2: 1.48507, expected 2.36279\n",
      "E0522 04:27:20.347974    1509 buffer_comparator.cc:156] Difference at 3: 1.82284, expected 3.25532\n",
      "E0522 04:27:20.347976    1509 buffer_comparator.cc:156] Difference at 4: 1.13226, expected 1.61662\n",
      "E0522 04:27:20.347978    1509 buffer_comparator.cc:156] Difference at 5: 2.06923, expected 3.55008\n",
      "E0522 04:27:20.347981    1509 buffer_comparator.cc:156] Difference at 6: 1.75223, expected 3.89869\n",
      "E0522 04:27:20.347983    1509 buffer_comparator.cc:156] Difference at 7: 1.1274, expected 3.15753\n",
      "E0522 04:27:20.347985    1509 buffer_comparator.cc:156] Difference at 8: 1.2255, expected 2.22132\n",
      "E0522 04:27:20.347988    1509 buffer_comparator.cc:156] Difference at 9: 2.07096, expected 3.33725\n",
      "2025-05-22 04:27:20.347993: E external/xla/xla/service/gpu/autotuning/gemm_fusion_autotuner.cc:1138] Results do not match the reference. This is likely a bug/unexpected loss of precision.\n",
      "E0522 04:27:20.354297    1509 buffer_comparator.cc:156] Difference at 0: 1.77659, expected 3.03796\n",
      "E0522 04:27:20.354328    1509 buffer_comparator.cc:156] Difference at 1: 1.63506, expected 3.16889\n",
      "E0522 04:27:20.354331    1509 buffer_comparator.cc:156] Difference at 2: 1.48507, expected 2.36279\n",
      "E0522 04:27:20.354334    1509 buffer_comparator.cc:156] Difference at 3: 1.82284, expected 3.25532\n",
      "E0522 04:27:20.354336    1509 buffer_comparator.cc:156] Difference at 4: 1.13226, expected 1.61662\n",
      "E0522 04:27:20.354338    1509 buffer_comparator.cc:156] Difference at 5: 2.06923, expected 3.55008\n",
      "E0522 04:27:20.354341    1509 buffer_comparator.cc:156] Difference at 6: 1.75223, expected 3.89869\n",
      "E0522 04:27:20.354343    1509 buffer_comparator.cc:156] Difference at 7: 1.1274, expected 3.15753\n",
      "E0522 04:27:20.354345    1509 buffer_comparator.cc:156] Difference at 8: 1.2255, expected 2.22132\n",
      "E0522 04:27:20.354347    1509 buffer_comparator.cc:156] Difference at 9: 2.07096, expected 3.33725\n",
      "2025-05-22 04:27:20.354353: E external/xla/xla/service/gpu/autotuning/gemm_fusion_autotuner.cc:1138] Results do not match the reference. This is likely a bug/unexpected loss of precision.\n",
      "E0522 04:27:20.361505    1509 buffer_comparator.cc:156] Difference at 0: 1.77659, expected 3.03796\n",
      "E0522 04:27:20.361539    1509 buffer_comparator.cc:156] Difference at 1: 1.63506, expected 3.16889\n",
      "E0522 04:27:20.361544    1509 buffer_comparator.cc:156] Difference at 2: 1.48507, expected 2.36279\n",
      "E0522 04:27:20.361546    1509 buffer_comparator.cc:156] Difference at 3: 1.82284, expected 3.25532\n",
      "E0522 04:27:20.361549    1509 buffer_comparator.cc:156] Difference at 4: 1.13226, expected 1.61662\n",
      "E0522 04:27:20.361551    1509 buffer_comparator.cc:156] Difference at 5: 2.06923, expected 3.55008\n",
      "E0522 04:27:20.361553    1509 buffer_comparator.cc:156] Difference at 6: 1.75223, expected 3.89869\n",
      "E0522 04:27:20.361555    1509 buffer_comparator.cc:156] Difference at 7: 1.1274, expected 3.15753\n",
      "E0522 04:27:20.361558    1509 buffer_comparator.cc:156] Difference at 8: 1.2255, expected 2.22132\n",
      "E0522 04:27:20.361561    1509 buffer_comparator.cc:156] Difference at 9: 2.07096, expected 3.33725\n",
      "2025-05-22 04:27:20.361567: E external/xla/xla/service/gpu/autotuning/gemm_fusion_autotuner.cc:1138] Results do not match the reference. This is likely a bug/unexpected loss of precision.\n",
      "E0522 04:27:20.367907    1509 buffer_comparator.cc:156] Difference at 0: 1.77659, expected 3.03796\n",
      "E0522 04:27:20.367926    1509 buffer_comparator.cc:156] Difference at 1: 1.63506, expected 3.16889\n",
      "E0522 04:27:20.367930    1509 buffer_comparator.cc:156] Difference at 2: 1.48507, expected 2.36279\n",
      "E0522 04:27:20.367932    1509 buffer_comparator.cc:156] Difference at 3: 1.82284, expected 3.25532\n",
      "E0522 04:27:20.367935    1509 buffer_comparator.cc:156] Difference at 4: 1.13226, expected 1.61662\n",
      "E0522 04:27:20.367937    1509 buffer_comparator.cc:156] Difference at 5: 2.06923, expected 3.55008\n",
      "E0522 04:27:20.367939    1509 buffer_comparator.cc:156] Difference at 6: 1.75223, expected 3.89869\n",
      "E0522 04:27:20.367942    1509 buffer_comparator.cc:156] Difference at 7: 1.1274, expected 3.15753\n",
      "E0522 04:27:20.367944    1509 buffer_comparator.cc:156] Difference at 8: 1.2255, expected 2.22132\n",
      "E0522 04:27:20.367946    1509 buffer_comparator.cc:156] Difference at 9: 2.07096, expected 3.33725\n",
      "2025-05-22 04:27:20.367952: E external/xla/xla/service/gpu/autotuning/gemm_fusion_autotuner.cc:1138] Results do not match the reference. This is likely a bug/unexpected loss of precision.\n",
      "E0522 04:27:20.374300    1509 buffer_comparator.cc:156] Difference at 0: 1.77659, expected 3.03796\n",
      "E0522 04:27:20.374321    1509 buffer_comparator.cc:156] Difference at 1: 1.63506, expected 3.16889\n",
      "E0522 04:27:20.374324    1509 buffer_comparator.cc:156] Difference at 2: 1.48507, expected 2.36279\n",
      "E0522 04:27:20.374326    1509 buffer_comparator.cc:156] Difference at 3: 1.82284, expected 3.25532\n",
      "E0522 04:27:20.374329    1509 buffer_comparator.cc:156] Difference at 4: 1.13226, expected 1.61662\n",
      "E0522 04:27:20.374331    1509 buffer_comparator.cc:156] Difference at 5: 2.06923, expected 3.55008\n",
      "E0522 04:27:20.374333    1509 buffer_comparator.cc:156] Difference at 6: 1.75223, expected 3.89869\n",
      "E0522 04:27:20.374336    1509 buffer_comparator.cc:156] Difference at 7: 1.1274, expected 3.15753\n",
      "E0522 04:27:20.374338    1509 buffer_comparator.cc:156] Difference at 8: 1.2255, expected 2.22132\n",
      "E0522 04:27:20.374340    1509 buffer_comparator.cc:156] Difference at 9: 2.07096, expected 3.33725\n",
      "2025-05-22 04:27:20.374346: E external/xla/xla/service/gpu/autotuning/gemm_fusion_autotuner.cc:1138] Results do not match the reference. This is likely a bug/unexpected loss of precision.\n",
      "E0522 04:27:20.380640    1509 buffer_comparator.cc:156] Difference at 0: 1.77659, expected 3.03796\n",
      "E0522 04:27:20.380659    1509 buffer_comparator.cc:156] Difference at 1: 1.63506, expected 3.16889\n",
      "E0522 04:27:20.380663    1509 buffer_comparator.cc:156] Difference at 2: 1.48507, expected 2.36279\n",
      "E0522 04:27:20.380665    1509 buffer_comparator.cc:156] Difference at 3: 1.82284, expected 3.25532\n",
      "E0522 04:27:20.380668    1509 buffer_comparator.cc:156] Difference at 4: 1.13226, expected 1.61662\n",
      "E0522 04:27:20.380670    1509 buffer_comparator.cc:156] Difference at 5: 2.06923, expected 3.55008\n",
      "E0522 04:27:20.380672    1509 buffer_comparator.cc:156] Difference at 6: 1.75223, expected 3.89869\n",
      "E0522 04:27:20.380675    1509 buffer_comparator.cc:156] Difference at 7: 1.1274, expected 3.15753\n",
      "E0522 04:27:20.380677    1509 buffer_comparator.cc:156] Difference at 8: 1.2255, expected 2.22132\n",
      "E0522 04:27:20.380679    1509 buffer_comparator.cc:156] Difference at 9: 2.07096, expected 3.33725\n",
      "2025-05-22 04:27:20.380684: E external/xla/xla/service/gpu/autotuning/gemm_fusion_autotuner.cc:1138] Results do not match the reference. This is likely a bug/unexpected loss of precision.\n",
      "E0522 04:27:20.386889    1509 buffer_comparator.cc:156] Difference at 0: 1.77659, expected 3.03796\n",
      "E0522 04:27:20.386907    1509 buffer_comparator.cc:156] Difference at 1: 1.63506, expected 3.16889\n",
      "E0522 04:27:20.386910    1509 buffer_comparator.cc:156] Difference at 2: 1.48507, expected 2.36279\n",
      "E0522 04:27:20.386913    1509 buffer_comparator.cc:156] Difference at 3: 1.82284, expected 3.25532\n",
      "E0522 04:27:20.386915    1509 buffer_comparator.cc:156] Difference at 4: 1.13226, expected 1.61662\n",
      "E0522 04:27:20.386917    1509 buffer_comparator.cc:156] Difference at 5: 2.06923, expected 3.55008\n",
      "E0522 04:27:20.386920    1509 buffer_comparator.cc:156] Difference at 6: 1.75223, expected 3.89869\n",
      "E0522 04:27:20.386922    1509 buffer_comparator.cc:156] Difference at 7: 1.1274, expected 3.15753\n",
      "E0522 04:27:20.386924    1509 buffer_comparator.cc:156] Difference at 8: 1.2255, expected 2.22132\n",
      "E0522 04:27:20.386927    1509 buffer_comparator.cc:156] Difference at 9: 2.07096, expected 3.33725\n",
      "2025-05-22 04:27:20.386932: E external/xla/xla/service/gpu/autotuning/gemm_fusion_autotuner.cc:1138] Results do not match the reference. This is likely a bug/unexpected loss of precision.\n",
      "E0522 04:27:20.393134    1509 buffer_comparator.cc:156] Difference at 0: 1.77659, expected 3.03796\n",
      "E0522 04:27:20.393153    1509 buffer_comparator.cc:156] Difference at 1: 1.63506, expected 3.16889\n",
      "E0522 04:27:20.393156    1509 buffer_comparator.cc:156] Difference at 2: 1.48507, expected 2.36279\n",
      "E0522 04:27:20.393159    1509 buffer_comparator.cc:156] Difference at 3: 1.82284, expected 3.25532\n",
      "E0522 04:27:20.393161    1509 buffer_comparator.cc:156] Difference at 4: 1.13226, expected 1.61662\n",
      "E0522 04:27:20.393163    1509 buffer_comparator.cc:156] Difference at 5: 2.06923, expected 3.55008\n",
      "E0522 04:27:20.393166    1509 buffer_comparator.cc:156] Difference at 6: 1.75223, expected 3.89869\n",
      "E0522 04:27:20.393168    1509 buffer_comparator.cc:156] Difference at 7: 1.1274, expected 3.15753\n",
      "E0522 04:27:20.393170    1509 buffer_comparator.cc:156] Difference at 8: 1.2255, expected 2.22132\n",
      "E0522 04:27:20.393173    1509 buffer_comparator.cc:156] Difference at 9: 2.07096, expected 3.33725\n",
      "2025-05-22 04:27:20.393178: E external/xla/xla/service/gpu/autotuning/gemm_fusion_autotuner.cc:1138] Results do not match the reference. This is likely a bug/unexpected loss of precision.\n",
      "E0522 04:27:20.399315    1509 buffer_comparator.cc:156] Difference at 0: 1.77659, expected 3.03796\n",
      "E0522 04:27:20.399333    1509 buffer_comparator.cc:156] Difference at 1: 1.63506, expected 3.16889\n",
      "E0522 04:27:20.399337    1509 buffer_comparator.cc:156] Difference at 2: 1.48507, expected 2.36279\n",
      "E0522 04:27:20.399339    1509 buffer_comparator.cc:156] Difference at 3: 1.82284, expected 3.25532\n",
      "E0522 04:27:20.399342    1509 buffer_comparator.cc:156] Difference at 4: 1.13226, expected 1.61662\n",
      "E0522 04:27:20.399344    1509 buffer_comparator.cc:156] Difference at 5: 2.06923, expected 3.55008\n",
      "E0522 04:27:20.399346    1509 buffer_comparator.cc:156] Difference at 6: 1.75223, expected 3.89869\n",
      "E0522 04:27:20.399349    1509 buffer_comparator.cc:156] Difference at 7: 1.1274, expected 3.15753\n",
      "E0522 04:27:20.399351    1509 buffer_comparator.cc:156] Difference at 8: 1.2255, expected 2.22132\n",
      "E0522 04:27:20.399353    1509 buffer_comparator.cc:156] Difference at 9: 2.07096, expected 3.33725\n",
      "2025-05-22 04:27:20.399358: E external/xla/xla/service/gpu/autotuning/gemm_fusion_autotuner.cc:1138] Results do not match the reference. This is likely a bug/unexpected loss of precision.\n",
      "E0522 04:27:20.405581    1509 buffer_comparator.cc:156] Difference at 0: 1.77659, expected 3.03796\n",
      "E0522 04:27:20.405600    1509 buffer_comparator.cc:156] Difference at 1: 1.63506, expected 3.16889\n",
      "E0522 04:27:20.405603    1509 buffer_comparator.cc:156] Difference at 2: 1.48507, expected 2.36279\n",
      "E0522 04:27:20.405606    1509 buffer_comparator.cc:156] Difference at 3: 1.82284, expected 3.25532\n",
      "E0522 04:27:20.405608    1509 buffer_comparator.cc:156] Difference at 4: 1.13226, expected 1.61662\n",
      "E0522 04:27:20.405610    1509 buffer_comparator.cc:156] Difference at 5: 2.06923, expected 3.55008\n",
      "E0522 04:27:20.405613    1509 buffer_comparator.cc:156] Difference at 6: 1.75223, expected 3.89869\n",
      "E0522 04:27:20.405615    1509 buffer_comparator.cc:156] Difference at 7: 1.1274, expected 3.15753\n",
      "E0522 04:27:20.405617    1509 buffer_comparator.cc:156] Difference at 8: 1.2255, expected 2.22132\n",
      "E0522 04:27:20.405620    1509 buffer_comparator.cc:156] Difference at 9: 2.07096, expected 3.33725\n",
      "2025-05-22 04:27:20.405625: E external/xla/xla/service/gpu/autotuning/gemm_fusion_autotuner.cc:1138] Results do not match the reference. This is likely a bug/unexpected loss of precision.\n",
      "E0522 04:27:20.411842    1509 buffer_comparator.cc:156] Difference at 0: 1.77659, expected 3.03796\n",
      "E0522 04:27:20.411860    1509 buffer_comparator.cc:156] Difference at 1: 1.63506, expected 3.16889\n",
      "E0522 04:27:20.411864    1509 buffer_comparator.cc:156] Difference at 2: 1.48507, expected 2.36279\n",
      "E0522 04:27:20.411866    1509 buffer_comparator.cc:156] Difference at 3: 1.82284, expected 3.25532\n",
      "E0522 04:27:20.411869    1509 buffer_comparator.cc:156] Difference at 4: 1.13226, expected 1.61662\n",
      "E0522 04:27:20.411871    1509 buffer_comparator.cc:156] Difference at 5: 2.06923, expected 3.55008\n",
      "E0522 04:27:20.411873    1509 buffer_comparator.cc:156] Difference at 6: 1.75223, expected 3.89869\n",
      "E0522 04:27:20.411875    1509 buffer_comparator.cc:156] Difference at 7: 1.1274, expected 3.15753\n",
      "E0522 04:27:20.411878    1509 buffer_comparator.cc:156] Difference at 8: 1.2255, expected 2.22132\n",
      "E0522 04:27:20.411880    1509 buffer_comparator.cc:156] Difference at 9: 2.07096, expected 3.33725\n",
      "2025-05-22 04:27:20.411885: E external/xla/xla/service/gpu/autotuning/gemm_fusion_autotuner.cc:1138] Results do not match the reference. This is likely a bug/unexpected loss of precision.\n",
      "E0522 04:27:20.418172    1509 buffer_comparator.cc:156] Difference at 0: 1.77659, expected 3.03796\n",
      "E0522 04:27:20.418191    1509 buffer_comparator.cc:156] Difference at 1: 1.63506, expected 3.16889\n",
      "E0522 04:27:20.418194    1509 buffer_comparator.cc:156] Difference at 2: 1.48507, expected 2.36279\n",
      "E0522 04:27:20.418196    1509 buffer_comparator.cc:156] Difference at 3: 1.82284, expected 3.25532\n",
      "E0522 04:27:20.418199    1509 buffer_comparator.cc:156] Difference at 4: 1.13226, expected 1.61662\n",
      "E0522 04:27:20.418201    1509 buffer_comparator.cc:156] Difference at 5: 2.06923, expected 3.55008\n",
      "E0522 04:27:20.418203    1509 buffer_comparator.cc:156] Difference at 6: 1.75223, expected 3.89869\n",
      "E0522 04:27:20.418206    1509 buffer_comparator.cc:156] Difference at 7: 1.1274, expected 3.15753\n",
      "E0522 04:27:20.418208    1509 buffer_comparator.cc:156] Difference at 8: 1.2255, expected 2.22132\n",
      "E0522 04:27:20.418210    1509 buffer_comparator.cc:156] Difference at 9: 2.07096, expected 3.33725\n",
      "2025-05-22 04:27:20.418216: E external/xla/xla/service/gpu/autotuning/gemm_fusion_autotuner.cc:1138] Results do not match the reference. This is likely a bug/unexpected loss of precision.\n",
      "E0522 04:27:20.424446    1509 buffer_comparator.cc:156] Difference at 0: 1.77659, expected 3.03796\n",
      "E0522 04:27:20.424465    1509 buffer_comparator.cc:156] Difference at 1: 1.63506, expected 3.16889\n",
      "E0522 04:27:20.424469    1509 buffer_comparator.cc:156] Difference at 2: 1.48507, expected 2.36279\n",
      "E0522 04:27:20.424471    1509 buffer_comparator.cc:156] Difference at 3: 1.82284, expected 3.25532\n",
      "E0522 04:27:20.424473    1509 buffer_comparator.cc:156] Difference at 4: 1.13226, expected 1.61662\n",
      "E0522 04:27:20.424476    1509 buffer_comparator.cc:156] Difference at 5: 2.06923, expected 3.55008\n",
      "E0522 04:27:20.424478    1509 buffer_comparator.cc:156] Difference at 6: 1.75223, expected 3.89869\n",
      "E0522 04:27:20.424480    1509 buffer_comparator.cc:156] Difference at 7: 1.1274, expected 3.15753\n",
      "E0522 04:27:20.424483    1509 buffer_comparator.cc:156] Difference at 8: 1.2255, expected 2.22132\n",
      "E0522 04:27:20.424485    1509 buffer_comparator.cc:156] Difference at 9: 2.07096, expected 3.33725\n",
      "2025-05-22 04:27:20.424490: E external/xla/xla/service/gpu/autotuning/gemm_fusion_autotuner.cc:1138] Results do not match the reference. This is likely a bug/unexpected loss of precision.\n",
      "E0522 04:27:20.430654    1509 buffer_comparator.cc:156] Difference at 0: 1.77659, expected 3.03796\n",
      "E0522 04:27:20.430672    1509 buffer_comparator.cc:156] Difference at 1: 1.63506, expected 3.16889\n",
      "E0522 04:27:20.430676    1509 buffer_comparator.cc:156] Difference at 2: 1.48507, expected 2.36279\n",
      "E0522 04:27:20.430678    1509 buffer_comparator.cc:156] Difference at 3: 1.82284, expected 3.25532\n",
      "E0522 04:27:20.430681    1509 buffer_comparator.cc:156] Difference at 4: 1.13226, expected 1.61662\n",
      "E0522 04:27:20.430683    1509 buffer_comparator.cc:156] Difference at 5: 2.06923, expected 3.55008\n",
      "E0522 04:27:20.430685    1509 buffer_comparator.cc:156] Difference at 6: 1.75223, expected 3.89869\n",
      "E0522 04:27:20.430687    1509 buffer_comparator.cc:156] Difference at 7: 1.1274, expected 3.15753\n",
      "E0522 04:27:20.430690    1509 buffer_comparator.cc:156] Difference at 8: 1.2255, expected 2.22132\n",
      "E0522 04:27:20.430692    1509 buffer_comparator.cc:156] Difference at 9: 2.07096, expected 3.33725\n",
      "2025-05-22 04:27:20.430697: E external/xla/xla/service/gpu/autotuning/gemm_fusion_autotuner.cc:1138] Results do not match the reference. This is likely a bug/unexpected loss of precision.\n",
      "E0522 04:27:20.437050    1509 buffer_comparator.cc:156] Difference at 0: 1.77659, expected 3.03796\n",
      "E0522 04:27:20.437069    1509 buffer_comparator.cc:156] Difference at 1: 1.63506, expected 3.16889\n",
      "E0522 04:27:20.437072    1509 buffer_comparator.cc:156] Difference at 2: 1.48507, expected 2.36279\n",
      "E0522 04:27:20.437074    1509 buffer_comparator.cc:156] Difference at 3: 1.82284, expected 3.25532\n",
      "E0522 04:27:20.437077    1509 buffer_comparator.cc:156] Difference at 4: 1.13226, expected 1.61662\n",
      "E0522 04:27:20.437079    1509 buffer_comparator.cc:156] Difference at 5: 2.06923, expected 3.55008\n",
      "E0522 04:27:20.437081    1509 buffer_comparator.cc:156] Difference at 6: 1.75223, expected 3.89869\n",
      "E0522 04:27:20.437084    1509 buffer_comparator.cc:156] Difference at 7: 1.1274, expected 3.15753\n",
      "E0522 04:27:20.437086    1509 buffer_comparator.cc:156] Difference at 8: 1.2255, expected 2.22132\n",
      "E0522 04:27:20.437088    1509 buffer_comparator.cc:156] Difference at 9: 2.07096, expected 3.33725\n",
      "2025-05-22 04:27:20.437093: E external/xla/xla/service/gpu/autotuning/gemm_fusion_autotuner.cc:1138] Results do not match the reference. This is likely a bug/unexpected loss of precision.\n",
      "E0522 04:27:20.443477    1509 buffer_comparator.cc:156] Difference at 0: 1.77659, expected 3.03796\n",
      "E0522 04:27:20.443495    1509 buffer_comparator.cc:156] Difference at 1: 1.63506, expected 3.16889\n",
      "E0522 04:27:20.443499    1509 buffer_comparator.cc:156] Difference at 2: 1.48507, expected 2.36279\n",
      "E0522 04:27:20.443501    1509 buffer_comparator.cc:156] Difference at 3: 1.82284, expected 3.25532\n",
      "E0522 04:27:20.443513    1509 buffer_comparator.cc:156] Difference at 4: 1.13226, expected 1.61662\n",
      "E0522 04:27:20.443518    1509 buffer_comparator.cc:156] Difference at 5: 2.06923, expected 3.55008\n",
      "E0522 04:27:20.443520    1509 buffer_comparator.cc:156] Difference at 6: 1.75223, expected 3.89869\n",
      "E0522 04:27:20.443523    1509 buffer_comparator.cc:156] Difference at 7: 1.1274, expected 3.15753\n",
      "E0522 04:27:20.443525    1509 buffer_comparator.cc:156] Difference at 8: 1.2255, expected 2.22132\n",
      "E0522 04:27:20.443527    1509 buffer_comparator.cc:156] Difference at 9: 2.07096, expected 3.33725\n",
      "2025-05-22 04:27:20.443532: E external/xla/xla/service/gpu/autotuning/gemm_fusion_autotuner.cc:1138] Results do not match the reference. This is likely a bug/unexpected loss of precision.\n",
      "E0522 04:27:20.449959    1509 buffer_comparator.cc:156] Difference at 0: 1.77659, expected 3.03796\n",
      "E0522 04:27:20.449978    1509 buffer_comparator.cc:156] Difference at 1: 1.63506, expected 3.16889\n",
      "E0522 04:27:20.449981    1509 buffer_comparator.cc:156] Difference at 2: 1.48507, expected 2.36279\n",
      "E0522 04:27:20.449984    1509 buffer_comparator.cc:156] Difference at 3: 1.82284, expected 3.25532\n",
      "E0522 04:27:20.449986    1509 buffer_comparator.cc:156] Difference at 4: 1.13226, expected 1.61662\n",
      "E0522 04:27:20.449988    1509 buffer_comparator.cc:156] Difference at 5: 2.06923, expected 3.55008\n",
      "E0522 04:27:20.449991    1509 buffer_comparator.cc:156] Difference at 6: 1.75223, expected 3.89869\n",
      "E0522 04:27:20.449993    1509 buffer_comparator.cc:156] Difference at 7: 1.1274, expected 3.15753\n",
      "E0522 04:27:20.449995    1509 buffer_comparator.cc:156] Difference at 8: 1.2255, expected 2.22132\n",
      "E0522 04:27:20.449998    1509 buffer_comparator.cc:156] Difference at 9: 2.07096, expected 3.33725\n",
      "2025-05-22 04:27:20.450003: E external/xla/xla/service/gpu/autotuning/gemm_fusion_autotuner.cc:1138] Results do not match the reference. This is likely a bug/unexpected loss of precision.\n",
      "E0522 04:27:20.457021    1509 buffer_comparator.cc:156] Difference at 16: -nan, expected 30.5035\n",
      "E0522 04:27:20.457042    1509 buffer_comparator.cc:156] Difference at 17: -nan, expected 30.5996\n",
      "E0522 04:27:20.457045    1509 buffer_comparator.cc:156] Difference at 18: -nan, expected 28.2034\n",
      "E0522 04:27:20.457048    1509 buffer_comparator.cc:156] Difference at 19: -nan, expected 30.1919\n",
      "E0522 04:27:20.457050    1509 buffer_comparator.cc:156] Difference at 20: -nan, expected 28.6143\n",
      "E0522 04:27:20.457053    1509 buffer_comparator.cc:156] Difference at 21: -nan, expected 28.6288\n",
      "E0522 04:27:20.457055    1509 buffer_comparator.cc:156] Difference at 22: -nan, expected 28.9994\n",
      "E0522 04:27:20.457058    1509 buffer_comparator.cc:156] Difference at 23: -nan, expected 28.531\n",
      "E0522 04:27:20.457060    1509 buffer_comparator.cc:156] Difference at 24: -nan, expected 27.4256\n",
      "E0522 04:27:20.457062    1509 buffer_comparator.cc:156] Difference at 25: -nan, expected 30.0117\n",
      "2025-05-22 04:27:20.457068: E external/xla/xla/service/gpu/autotuning/gemm_fusion_autotuner.cc:1138] Results do not match the reference. This is likely a bug/unexpected loss of precision.\n",
      "E0522 04:27:20.463146    1509 buffer_comparator.cc:156] Difference at 16: -nan, expected 30.5035\n",
      "E0522 04:27:20.463165    1509 buffer_comparator.cc:156] Difference at 17: -nan, expected 30.5996\n",
      "E0522 04:27:20.463169    1509 buffer_comparator.cc:156] Difference at 18: -nan, expected 28.2034\n",
      "E0522 04:27:20.463172    1509 buffer_comparator.cc:156] Difference at 19: -nan, expected 30.1919\n",
      "E0522 04:27:20.463174    1509 buffer_comparator.cc:156] Difference at 20: -nan, expected 28.6143\n",
      "E0522 04:27:20.463176    1509 buffer_comparator.cc:156] Difference at 21: -nan, expected 28.6288\n",
      "E0522 04:27:20.463179    1509 buffer_comparator.cc:156] Difference at 22: -nan, expected 28.9994\n",
      "E0522 04:27:20.463181    1509 buffer_comparator.cc:156] Difference at 23: -nan, expected 28.531\n",
      "E0522 04:27:20.463183    1509 buffer_comparator.cc:156] Difference at 24: -nan, expected 27.4256\n",
      "E0522 04:27:20.463186    1509 buffer_comparator.cc:156] Difference at 25: -nan, expected 30.0117\n",
      "2025-05-22 04:27:20.463191: E external/xla/xla/service/gpu/autotuning/gemm_fusion_autotuner.cc:1138] Results do not match the reference. This is likely a bug/unexpected loss of precision.\n",
      "E0522 04:27:20.469079    1509 buffer_comparator.cc:156] Difference at 64: -nan, expected 28.2031\n",
      "E0522 04:27:20.469098    1509 buffer_comparator.cc:156] Difference at 65: -nan, expected 28.1028\n",
      "E0522 04:27:20.469102    1509 buffer_comparator.cc:156] Difference at 66: -nan, expected 28.9385\n",
      "E0522 04:27:20.469104    1509 buffer_comparator.cc:156] Difference at 67: -nan, expected 28.5141\n",
      "E0522 04:27:20.469106    1509 buffer_comparator.cc:156] Difference at 68: -nan, expected 31.5694\n",
      "E0522 04:27:20.469109    1509 buffer_comparator.cc:156] Difference at 69: -nan, expected 31.2783\n",
      "E0522 04:27:20.469111    1509 buffer_comparator.cc:156] Difference at 70: -nan, expected 29.6661\n",
      "E0522 04:27:20.469114    1509 buffer_comparator.cc:156] Difference at 71: -nan, expected 32.6867\n",
      "E0522 04:27:20.469116    1509 buffer_comparator.cc:156] Difference at 72: -nan, expected 29.785\n",
      "E0522 04:27:20.469118    1509 buffer_comparator.cc:156] Difference at 73: -nan, expected 29.6624\n",
      "2025-05-22 04:27:20.469123: E external/xla/xla/service/gpu/autotuning/gemm_fusion_autotuner.cc:1138] Results do not match the reference. This is likely a bug/unexpected loss of precision.\n",
      "E0522 04:27:20.474969    1509 buffer_comparator.cc:156] Difference at 2048: -nan, expected 28.6142\n",
      "E0522 04:27:20.474988    1509 buffer_comparator.cc:156] Difference at 2049: -nan, expected 27.3333\n",
      "E0522 04:27:20.474991    1509 buffer_comparator.cc:156] Difference at 2050: -nan, expected 29.1162\n",
      "E0522 04:27:20.474994    1509 buffer_comparator.cc:156] Difference at 2051: -nan, expected 26.8806\n",
      "E0522 04:27:20.474996    1509 buffer_comparator.cc:156] Difference at 2052: -nan, expected 29.8406\n",
      "E0522 04:27:20.474999    1509 buffer_comparator.cc:156] Difference at 2053: -nan, expected 29.0042\n",
      "E0522 04:27:20.475001    1509 buffer_comparator.cc:156] Difference at 2054: -nan, expected 29.8784\n",
      "E0522 04:27:20.475004    1509 buffer_comparator.cc:156] Difference at 2055: -nan, expected 30.6052\n",
      "E0522 04:27:20.475006    1509 buffer_comparator.cc:156] Difference at 2056: -nan, expected 25.637\n",
      "E0522 04:27:20.475008    1509 buffer_comparator.cc:156] Difference at 2057: -nan, expected 25.9809\n",
      "2025-05-22 04:27:20.475013: E external/xla/xla/service/gpu/autotuning/gemm_fusion_autotuner.cc:1138] Results do not match the reference. This is likely a bug/unexpected loss of precision.\n",
      "E0522 04:27:20.480860    1509 buffer_comparator.cc:156] Difference at 2064: -nan, expected 27.2165\n",
      "E0522 04:27:20.480879    1509 buffer_comparator.cc:156] Difference at 2065: -nan, expected 26.702\n",
      "E0522 04:27:20.480883    1509 buffer_comparator.cc:156] Difference at 2066: -nan, expected 26.7225\n",
      "E0522 04:27:20.480886    1509 buffer_comparator.cc:156] Difference at 2067: -nan, expected 29.0811\n",
      "E0522 04:27:20.480889    1509 buffer_comparator.cc:156] Difference at 2068: -nan, expected 26.0567\n",
      "E0522 04:27:20.480891    1509 buffer_comparator.cc:156] Difference at 2069: -nan, expected 28.585\n",
      "E0522 04:27:20.480893    1509 buffer_comparator.cc:156] Difference at 2070: -nan, expected 28.2659\n",
      "E0522 04:27:20.480896    1509 buffer_comparator.cc:156] Difference at 2071: -nan, expected 27.5816\n",
      "E0522 04:27:20.480898    1509 buffer_comparator.cc:156] Difference at 2072: -nan, expected 24.6455\n",
      "E0522 04:27:20.480900    1509 buffer_comparator.cc:156] Difference at 2073: -nan, expected 29.7521\n",
      "2025-05-22 04:27:20.480905: E external/xla/xla/service/gpu/autotuning/gemm_fusion_autotuner.cc:1138] Results do not match the reference. This is likely a bug/unexpected loss of precision.\n",
      "E0522 04:27:20.486666    1509 buffer_comparator.cc:156] Difference at 2080: -nan, expected 28.194\n",
      "E0522 04:27:20.486685    1509 buffer_comparator.cc:156] Difference at 2081: -nan, expected 25.1249\n",
      "E0522 04:27:20.486688    1509 buffer_comparator.cc:156] Difference at 2082: -nan, expected 26.9487\n",
      "E0522 04:27:20.486691    1509 buffer_comparator.cc:156] Difference at 2083: -nan, expected 28.3646\n",
      "E0522 04:27:20.486693    1509 buffer_comparator.cc:156] Difference at 2084: -nan, expected 26.8644\n",
      "E0522 04:27:20.486696    1509 buffer_comparator.cc:156] Difference at 2085: -nan, expected 26.3745\n",
      "E0522 04:27:20.486698    1509 buffer_comparator.cc:156] Difference at 2086: -nan, expected 24.8671\n",
      "E0522 04:27:20.486701    1509 buffer_comparator.cc:156] Difference at 2087: -nan, expected 29.2149\n",
      "E0522 04:27:20.486703    1509 buffer_comparator.cc:156] Difference at 2088: -nan, expected 29.3939\n",
      "E0522 04:27:20.486705    1509 buffer_comparator.cc:156] Difference at 2089: -nan, expected 28.0219\n",
      "2025-05-22 04:27:20.486710: E external/xla/xla/service/gpu/autotuning/gemm_fusion_autotuner.cc:1138] Results do not match the reference. This is likely a bug/unexpected loss of precision.\n",
      "E0522 04:27:20.492523    1509 buffer_comparator.cc:156] Difference at 2112: -nan, expected 26.4121\n",
      "E0522 04:27:20.492542    1509 buffer_comparator.cc:156] Difference at 2113: -nan, expected 25.1965\n",
      "E0522 04:27:20.492545    1509 buffer_comparator.cc:156] Difference at 2114: -nan, expected 28.0291\n",
      "E0522 04:27:20.492548    1509 buffer_comparator.cc:156] Difference at 2115: -nan, expected 27.6604\n",
      "E0522 04:27:20.492551    1509 buffer_comparator.cc:156] Difference at 2116: -nan, expected 28.2389\n",
      "E0522 04:27:20.492553    1509 buffer_comparator.cc:156] Difference at 2117: -nan, expected 27.6028\n",
      "E0522 04:27:20.492555    1509 buffer_comparator.cc:156] Difference at 2118: -nan, expected 29.9406\n",
      "E0522 04:27:20.492558    1509 buffer_comparator.cc:156] Difference at 2119: -nan, expected 30.9761\n",
      "E0522 04:27:20.492560    1509 buffer_comparator.cc:156] Difference at 2120: -nan, expected 28.7814\n",
      "E0522 04:27:20.492562    1509 buffer_comparator.cc:156] Difference at 2121: -nan, expected 25.6564\n",
      "2025-05-22 04:27:20.492568: E external/xla/xla/service/gpu/autotuning/gemm_fusion_autotuner.cc:1138] Results do not match the reference. This is likely a bug/unexpected loss of precision.\n",
      "E0522 04:27:20.498693    1509 buffer_comparator.cc:156] Difference at 4096: -nan, expected 30.2021\n",
      "E0522 04:27:20.498712    1509 buffer_comparator.cc:156] Difference at 4097: -nan, expected 29.1943\n",
      "E0522 04:27:20.498716    1509 buffer_comparator.cc:156] Difference at 4098: -nan, expected 31.5666\n",
      "E0522 04:27:20.498719    1509 buffer_comparator.cc:156] Difference at 4099: -nan, expected 28.3189\n",
      "E0522 04:27:20.498721    1509 buffer_comparator.cc:156] Difference at 4100: -nan, expected 31.2477\n",
      "E0522 04:27:20.498724    1509 buffer_comparator.cc:156] Difference at 4101: -nan, expected 30.7905\n",
      "E0522 04:27:20.498726    1509 buffer_comparator.cc:156] Difference at 4102: -nan, expected 31.5788\n",
      "E0522 04:27:20.498729    1509 buffer_comparator.cc:156] Difference at 4103: -nan, expected 30.5788\n",
      "E0522 04:27:20.498731    1509 buffer_comparator.cc:156] Difference at 4104: -nan, expected 27.4092\n",
      "E0522 04:27:20.498733    1509 buffer_comparator.cc:156] Difference at 4105: -nan, expected 27.5869\n",
      "2025-05-22 04:27:20.498739: E external/xla/xla/service/gpu/autotuning/gemm_fusion_autotuner.cc:1138] Results do not match the reference. This is likely a bug/unexpected loss of precision.\n",
      "E0522 04:27:20.504595    1509 buffer_comparator.cc:156] Difference at 4128: -nan, expected 29.0675\n",
      "E0522 04:27:20.504621    1509 buffer_comparator.cc:156] Difference at 4129: -nan, expected 28.9771\n",
      "E0522 04:27:20.504625    1509 buffer_comparator.cc:156] Difference at 4130: -nan, expected 28.2925\n",
      "E0522 04:27:20.504628    1509 buffer_comparator.cc:156] Difference at 4131: -nan, expected 28.2972\n",
      "E0522 04:27:20.504630    1509 buffer_comparator.cc:156] Difference at 4132: -nan, expected 31.853\n",
      "E0522 04:27:20.504632    1509 buffer_comparator.cc:156] Difference at 4133: -nan, expected 29.2438\n",
      "E0522 04:27:20.504635    1509 buffer_comparator.cc:156] Difference at 4134: -nan, expected 25.074\n",
      "E0522 04:27:20.504637    1509 buffer_comparator.cc:156] Difference at 4135: -nan, expected 30.9548\n",
      "E0522 04:27:20.504640    1509 buffer_comparator.cc:156] Difference at 4136: -nan, expected 31.1856\n",
      "E0522 04:27:20.504643    1509 buffer_comparator.cc:156] Difference at 4137: -nan, expected 29.0752\n",
      "2025-05-22 04:27:20.504649: E external/xla/xla/service/gpu/autotuning/gemm_fusion_autotuner.cc:1138] Results do not match the reference. This is likely a bug/unexpected loss of precision.\n",
      "E0522 04:27:20.510476    1509 buffer_comparator.cc:156] Difference at 4128: -nan, expected 29.0675\n",
      "E0522 04:27:20.510503    1509 buffer_comparator.cc:156] Difference at 4129: -nan, expected 28.9771\n",
      "E0522 04:27:20.510509    1509 buffer_comparator.cc:156] Difference at 4130: -nan, expected 28.2925\n",
      "E0522 04:27:20.510512    1509 buffer_comparator.cc:156] Difference at 4131: -nan, expected 28.2972\n",
      "E0522 04:27:20.510514    1509 buffer_comparator.cc:156] Difference at 4132: -nan, expected 31.853\n",
      "E0522 04:27:20.510518    1509 buffer_comparator.cc:156] Difference at 4133: -nan, expected 29.2438\n",
      "E0522 04:27:20.510520    1509 buffer_comparator.cc:156] Difference at 4134: -nan, expected 25.074\n",
      "E0522 04:27:20.510522    1509 buffer_comparator.cc:156] Difference at 4135: -nan, expected 30.9548\n",
      "E0522 04:27:20.510525    1509 buffer_comparator.cc:156] Difference at 4136: -nan, expected 31.1856\n",
      "E0522 04:27:20.510528    1509 buffer_comparator.cc:156] Difference at 4137: -nan, expected 29.0752\n",
      "2025-05-22 04:27:20.510532: E external/xla/xla/service/gpu/autotuning/gemm_fusion_autotuner.cc:1138] Results do not match the reference. This is likely a bug/unexpected loss of precision.\n",
      "E0522 04:27:20.516487    1509 buffer_comparator.cc:156] Difference at 4128: -nan, expected 29.0675\n",
      "E0522 04:27:20.516516    1509 buffer_comparator.cc:156] Difference at 4129: -nan, expected 28.9771\n",
      "E0522 04:27:20.516521    1509 buffer_comparator.cc:156] Difference at 4130: -nan, expected 28.2925\n",
      "E0522 04:27:20.516523    1509 buffer_comparator.cc:156] Difference at 4131: -nan, expected 28.2972\n",
      "E0522 04:27:20.516526    1509 buffer_comparator.cc:156] Difference at 4132: -nan, expected 31.853\n",
      "E0522 04:27:20.516528    1509 buffer_comparator.cc:156] Difference at 4133: -nan, expected 29.2438\n",
      "E0522 04:27:20.516530    1509 buffer_comparator.cc:156] Difference at 4134: -nan, expected 25.074\n",
      "E0522 04:27:20.516533    1509 buffer_comparator.cc:156] Difference at 4135: -nan, expected 30.9548\n",
      "E0522 04:27:20.516535    1509 buffer_comparator.cc:156] Difference at 4136: -nan, expected 31.1856\n",
      "E0522 04:27:20.516537    1509 buffer_comparator.cc:156] Difference at 4137: -nan, expected 29.0752\n",
      "2025-05-22 04:27:20.516543: E external/xla/xla/service/gpu/autotuning/gemm_fusion_autotuner.cc:1138] Results do not match the reference. This is likely a bug/unexpected loss of precision.\n",
      "E0522 04:27:20.522358    1509 buffer_comparator.cc:156] Difference at 4160: -nan, expected 29.2584\n",
      "E0522 04:27:20.522378    1509 buffer_comparator.cc:156] Difference at 4161: -nan, expected 28.5645\n",
      "E0522 04:27:20.522381    1509 buffer_comparator.cc:156] Difference at 4162: -nan, expected 29.2468\n",
      "E0522 04:27:20.522384    1509 buffer_comparator.cc:156] Difference at 4163: -nan, expected 30.343\n",
      "E0522 04:27:20.522386    1509 buffer_comparator.cc:156] Difference at 4164: -nan, expected 31.2255\n",
      "E0522 04:27:20.522389    1509 buffer_comparator.cc:156] Difference at 4165: -nan, expected 30.8329\n",
      "E0522 04:27:20.522391    1509 buffer_comparator.cc:156] Difference at 4166: -nan, expected 30.5238\n",
      "E0522 04:27:20.522393    1509 buffer_comparator.cc:156] Difference at 4167: -nan, expected 33.6018\n",
      "E0522 04:27:20.522396    1509 buffer_comparator.cc:156] Difference at 4168: -nan, expected 30.5982\n",
      "E0522 04:27:20.522398    1509 buffer_comparator.cc:156] Difference at 4169: -nan, expected 28.6726\n",
      "2025-05-22 04:27:20.522403: E external/xla/xla/service/gpu/autotuning/gemm_fusion_autotuner.cc:1138] Results do not match the reference. This is likely a bug/unexpected loss of precision.\n",
      "E0522 04:27:20.528238    1509 buffer_comparator.cc:156] Difference at 8192: -nan, expected 28.2805\n",
      "E0522 04:27:20.528257    1509 buffer_comparator.cc:156] Difference at 8193: -nan, expected 25.6476\n",
      "E0522 04:27:20.528261    1509 buffer_comparator.cc:156] Difference at 8194: -nan, expected 26.7109\n",
      "E0522 04:27:20.528263    1509 buffer_comparator.cc:156] Difference at 8195: -nan, expected 25.7177\n",
      "E0522 04:27:20.528265    1509 buffer_comparator.cc:156] Difference at 8196: -nan, expected 26.0821\n",
      "E0522 04:27:20.528268    1509 buffer_comparator.cc:156] Difference at 8197: -nan, expected 26.9232\n",
      "E0522 04:27:20.528270    1509 buffer_comparator.cc:156] Difference at 8198: -nan, expected 28.3442\n",
      "E0522 04:27:20.528273    1509 buffer_comparator.cc:156] Difference at 8199: -nan, expected 27.9541\n",
      "E0522 04:27:20.528275    1509 buffer_comparator.cc:156] Difference at 8200: -nan, expected 24.5185\n",
      "E0522 04:27:20.528277    1509 buffer_comparator.cc:156] Difference at 8201: -nan, expected 24.9063\n",
      "2025-05-22 04:27:20.528282: E external/xla/xla/service/gpu/autotuning/gemm_fusion_autotuner.cc:1138] Results do not match the reference. This is likely a bug/unexpected loss of precision.\n",
      "E0522 04:27:20.534184    1509 buffer_comparator.cc:156] Difference at 8192: -nan, expected 28.2805\n",
      "E0522 04:27:20.534204    1509 buffer_comparator.cc:156] Difference at 8193: -nan, expected 25.6476\n",
      "E0522 04:27:20.534210    1509 buffer_comparator.cc:156] Difference at 8194: -nan, expected 26.7109\n",
      "E0522 04:27:20.534212    1509 buffer_comparator.cc:156] Difference at 8195: -nan, expected 25.7177\n",
      "E0522 04:27:20.534215    1509 buffer_comparator.cc:156] Difference at 8196: -nan, expected 26.0821\n",
      "E0522 04:27:20.534217    1509 buffer_comparator.cc:156] Difference at 8197: -nan, expected 26.9232\n",
      "E0522 04:27:20.534219    1509 buffer_comparator.cc:156] Difference at 8198: -nan, expected 28.3442\n",
      "E0522 04:27:20.534222    1509 buffer_comparator.cc:156] Difference at 8199: -nan, expected 27.9541\n",
      "E0522 04:27:20.534226    1509 buffer_comparator.cc:156] Difference at 8200: -nan, expected 24.5185\n",
      "E0522 04:27:20.534229    1509 buffer_comparator.cc:156] Difference at 8201: -nan, expected 24.9063\n",
      "2025-05-22 04:27:20.534239: E external/xla/xla/service/gpu/autotuning/gemm_fusion_autotuner.cc:1138] Results do not match the reference. This is likely a bug/unexpected loss of precision.\n",
      "E0522 04:27:20.540234    1509 buffer_comparator.cc:156] Difference at 8256: -nan, expected 24.7179\n",
      "E0522 04:27:20.540253    1509 buffer_comparator.cc:156] Difference at 8257: -nan, expected 23.565\n",
      "E0522 04:27:20.540257    1509 buffer_comparator.cc:156] Difference at 8258: -nan, expected 25.2283\n",
      "E0522 04:27:20.540259    1509 buffer_comparator.cc:156] Difference at 8259: -nan, expected 26.4974\n",
      "E0522 04:27:20.540262    1509 buffer_comparator.cc:156] Difference at 8260: -nan, expected 27.7268\n",
      "E0522 04:27:20.540264    1509 buffer_comparator.cc:156] Difference at 8261: -nan, expected 27.2561\n",
      "E0522 04:27:20.540266    1509 buffer_comparator.cc:156] Difference at 8262: -nan, expected 26.8956\n",
      "E0522 04:27:20.540269    1509 buffer_comparator.cc:156] Difference at 8263: -nan, expected 30.5629\n",
      "E0522 04:27:20.540271    1509 buffer_comparator.cc:156] Difference at 8264: -nan, expected 27.1871\n",
      "E0522 04:27:20.540274    1509 buffer_comparator.cc:156] Difference at 8265: -nan, expected 25.4377\n",
      "2025-05-22 04:27:20.540279: E external/xla/xla/service/gpu/autotuning/gemm_fusion_autotuner.cc:1138] Results do not match the reference. This is likely a bug/unexpected loss of precision.\n",
      "E0522 04:27:20.546163    1509 buffer_comparator.cc:156] Difference at 16384: -nan, expected 29.5182\n",
      "E0522 04:27:20.546183    1509 buffer_comparator.cc:156] Difference at 16385: -nan, expected 28.7276\n",
      "E0522 04:27:20.546187    1509 buffer_comparator.cc:156] Difference at 16386: -nan, expected 29.7582\n",
      "E0522 04:27:20.546189    1509 buffer_comparator.cc:156] Difference at 16387: -nan, expected 27.4856\n",
      "E0522 04:27:20.546192    1509 buffer_comparator.cc:156] Difference at 16388: -nan, expected 30.6663\n",
      "E0522 04:27:20.546194    1509 buffer_comparator.cc:156] Difference at 16389: -nan, expected 29.6624\n",
      "E0522 04:27:20.546196    1509 buffer_comparator.cc:156] Difference at 16390: -nan, expected 28.6475\n",
      "E0522 04:27:20.546199    1509 buffer_comparator.cc:156] Difference at 16391: -nan, expected 30.8942\n",
      "E0522 04:27:20.546201    1509 buffer_comparator.cc:156] Difference at 16392: -nan, expected 26.7244\n",
      "E0522 04:27:20.546203    1509 buffer_comparator.cc:156] Difference at 16393: -nan, expected 26.9199\n",
      "2025-05-22 04:27:20.546208: E external/xla/xla/service/gpu/autotuning/gemm_fusion_autotuner.cc:1138] Results do not match the reference. This is likely a bug/unexpected loss of precision.\n",
      "E0522 04:27:20.548478    1509 buffer_comparator.cc:156] Difference at 96: -nan, expected 28.9473\n",
      "E0522 04:27:20.548510    1509 buffer_comparator.cc:156] Difference at 97: -nan, expected 29.2162\n",
      "E0522 04:27:20.548514    1509 buffer_comparator.cc:156] Difference at 98: -nan, expected 27.815\n",
      "E0522 04:27:20.548517    1509 buffer_comparator.cc:156] Difference at 99: -nan, expected 29.1468\n",
      "E0522 04:27:20.548520    1509 buffer_comparator.cc:156] Difference at 100: -nan, expected 28.424\n",
      "E0522 04:27:20.548522    1509 buffer_comparator.cc:156] Difference at 101: -nan, expected 31.5457\n",
      "E0522 04:27:20.548524    1509 buffer_comparator.cc:156] Difference at 102: -nan, expected 30.8341\n",
      "E0522 04:27:20.548527    1509 buffer_comparator.cc:156] Difference at 103: -nan, expected 30.4587\n",
      "E0522 04:27:20.548529    1509 buffer_comparator.cc:156] Difference at 104: -nan, expected 30.1843\n",
      "E0522 04:27:20.548533    1509 buffer_comparator.cc:156] Difference at 105: -nan, expected 27.9091\n",
      "2025-05-22 04:27:20.548537: E external/xla/xla/service/gpu/autotuning/gemm_fusion_autotuner.cc:1138] Results do not match the reference. This is likely a bug/unexpected loss of precision.\n",
      "E0522 04:27:20.549893    1509 buffer_comparator.cc:156] Difference at 96: -nan, expected 28.9473\n",
      "E0522 04:27:20.549911    1509 buffer_comparator.cc:156] Difference at 97: -nan, expected 29.2162\n",
      "E0522 04:27:20.549915    1509 buffer_comparator.cc:156] Difference at 98: -nan, expected 27.815\n",
      "E0522 04:27:20.549917    1509 buffer_comparator.cc:156] Difference at 99: -nan, expected 29.1468\n",
      "E0522 04:27:20.549920    1509 buffer_comparator.cc:156] Difference at 100: -nan, expected 28.424\n",
      "E0522 04:27:20.549922    1509 buffer_comparator.cc:156] Difference at 101: -nan, expected 31.5457\n",
      "E0522 04:27:20.549925    1509 buffer_comparator.cc:156] Difference at 102: -nan, expected 30.8341\n",
      "E0522 04:27:20.549927    1509 buffer_comparator.cc:156] Difference at 103: -nan, expected 30.4587\n",
      "E0522 04:27:20.549929    1509 buffer_comparator.cc:156] Difference at 104: -nan, expected 30.1843\n",
      "E0522 04:27:20.549932    1509 buffer_comparator.cc:156] Difference at 105: -nan, expected 27.9091\n",
      "2025-05-22 04:27:20.549936: E external/xla/xla/service/gpu/autotuning/gemm_fusion_autotuner.cc:1138] Results do not match the reference. This is likely a bug/unexpected loss of precision.\n",
      "E0522 04:27:20.551293    1509 buffer_comparator.cc:156] Difference at 96: -nan, expected 28.9473\n",
      "E0522 04:27:20.551311    1509 buffer_comparator.cc:156] Difference at 97: -nan, expected 29.2162\n",
      "E0522 04:27:20.551314    1509 buffer_comparator.cc:156] Difference at 98: -nan, expected 27.815\n",
      "E0522 04:27:20.551316    1509 buffer_comparator.cc:156] Difference at 99: -nan, expected 29.1468\n",
      "E0522 04:27:20.551319    1509 buffer_comparator.cc:156] Difference at 100: -nan, expected 28.424\n",
      "E0522 04:27:20.551321    1509 buffer_comparator.cc:156] Difference at 101: -nan, expected 31.5457\n",
      "E0522 04:27:20.551324    1509 buffer_comparator.cc:156] Difference at 102: -nan, expected 30.8341\n",
      "E0522 04:27:20.551326    1509 buffer_comparator.cc:156] Difference at 103: -nan, expected 30.4587\n",
      "E0522 04:27:20.551328    1509 buffer_comparator.cc:156] Difference at 104: -nan, expected 30.1843\n",
      "E0522 04:27:20.551331    1509 buffer_comparator.cc:156] Difference at 105: -nan, expected 27.9091\n",
      "2025-05-22 04:27:20.551335: E external/xla/xla/service/gpu/autotuning/gemm_fusion_autotuner.cc:1138] Results do not match the reference. This is likely a bug/unexpected loss of precision.\n",
      "E0522 04:27:20.552679    1509 buffer_comparator.cc:156] Difference at 192: -nan, expected 31.3919\n",
      "E0522 04:27:20.552697    1509 buffer_comparator.cc:156] Difference at 193: -nan, expected 31.9051\n",
      "E0522 04:27:20.552700    1509 buffer_comparator.cc:156] Difference at 194: -nan, expected 28.6051\n",
      "E0522 04:27:20.552703    1509 buffer_comparator.cc:156] Difference at 195: -nan, expected 28.8099\n",
      "E0522 04:27:20.552705    1509 buffer_comparator.cc:156] Difference at 196: -nan, expected 30.2834\n",
      "E0522 04:27:20.552707    1509 buffer_comparator.cc:156] Difference at 197: -nan, expected 32.7897\n",
      "E0522 04:27:20.552710    1509 buffer_comparator.cc:156] Difference at 198: -nan, expected 29.801\n",
      "E0522 04:27:20.552712    1509 buffer_comparator.cc:156] Difference at 199: -nan, expected 30.0578\n",
      "E0522 04:27:20.552715    1509 buffer_comparator.cc:156] Difference at 200: -nan, expected 28.6174\n",
      "E0522 04:27:20.552717    1509 buffer_comparator.cc:156] Difference at 201: -nan, expected 28.6071\n",
      "2025-05-22 04:27:20.552722: E external/xla/xla/service/gpu/autotuning/gemm_fusion_autotuner.cc:1138] Results do not match the reference. This is likely a bug/unexpected loss of precision.\n",
      "E0522 04:27:20.554052    1509 buffer_comparator.cc:156] Difference at 192: -nan, expected 31.3919\n",
      "E0522 04:27:20.554070    1509 buffer_comparator.cc:156] Difference at 193: -nan, expected 31.9051\n",
      "E0522 04:27:20.554073    1509 buffer_comparator.cc:156] Difference at 194: -nan, expected 28.6051\n",
      "E0522 04:27:20.554076    1509 buffer_comparator.cc:156] Difference at 195: -nan, expected 28.8099\n",
      "E0522 04:27:20.554078    1509 buffer_comparator.cc:156] Difference at 196: -nan, expected 30.2834\n",
      "E0522 04:27:20.554080    1509 buffer_comparator.cc:156] Difference at 197: -nan, expected 32.7897\n",
      "E0522 04:27:20.554083    1509 buffer_comparator.cc:156] Difference at 198: -nan, expected 29.801\n",
      "E0522 04:27:20.554085    1509 buffer_comparator.cc:156] Difference at 199: -nan, expected 30.0578\n",
      "E0522 04:27:20.554088    1509 buffer_comparator.cc:156] Difference at 200: -nan, expected 28.6174\n",
      "E0522 04:27:20.554090    1509 buffer_comparator.cc:156] Difference at 201: -nan, expected 28.6071\n",
      "2025-05-22 04:27:20.554095: E external/xla/xla/service/gpu/autotuning/gemm_fusion_autotuner.cc:1138] Results do not match the reference. This is likely a bug/unexpected loss of precision.\n",
      "E0522 04:27:20.555477    1509 buffer_comparator.cc:156] Difference at 192: -nan, expected 31.3919\n",
      "E0522 04:27:20.555524    1509 buffer_comparator.cc:156] Difference at 193: -nan, expected 31.9051\n",
      "E0522 04:27:20.555528    1509 buffer_comparator.cc:156] Difference at 194: -nan, expected 28.6051\n",
      "E0522 04:27:20.555531    1509 buffer_comparator.cc:156] Difference at 195: -nan, expected 28.8099\n",
      "E0522 04:27:20.555533    1509 buffer_comparator.cc:156] Difference at 196: -nan, expected 30.2834\n",
      "E0522 04:27:20.555535    1509 buffer_comparator.cc:156] Difference at 197: -nan, expected 32.7897\n",
      "E0522 04:27:20.555538    1509 buffer_comparator.cc:156] Difference at 198: -nan, expected 29.801\n",
      "E0522 04:27:20.555540    1509 buffer_comparator.cc:156] Difference at 199: -nan, expected 30.0578\n",
      "E0522 04:27:20.555542    1509 buffer_comparator.cc:156] Difference at 200: -nan, expected 28.6174\n",
      "E0522 04:27:20.555545    1509 buffer_comparator.cc:156] Difference at 201: -nan, expected 28.6071\n",
      "2025-05-22 04:27:20.555550: E external/xla/xla/service/gpu/autotuning/gemm_fusion_autotuner.cc:1138] Results do not match the reference. This is likely a bug/unexpected loss of precision.\n",
      "E0522 04:27:20.556875    1509 buffer_comparator.cc:156] Difference at 384: -nan, expected 27.4377\n",
      "E0522 04:27:20.556893    1509 buffer_comparator.cc:156] Difference at 385: -nan, expected 26.7617\n",
      "E0522 04:27:20.556896    1509 buffer_comparator.cc:156] Difference at 386: -nan, expected 25.9625\n",
      "E0522 04:27:20.556899    1509 buffer_comparator.cc:156] Difference at 387: -nan, expected 27.6688\n",
      "E0522 04:27:20.556901    1509 buffer_comparator.cc:156] Difference at 388: -nan, expected 26.7488\n",
      "E0522 04:27:20.556903    1509 buffer_comparator.cc:156] Difference at 389: -nan, expected 29.3955\n",
      "E0522 04:27:20.556906    1509 buffer_comparator.cc:156] Difference at 390: -nan, expected 28.8014\n",
      "E0522 04:27:20.556908    1509 buffer_comparator.cc:156] Difference at 391: -nan, expected 27.4658\n",
      "E0522 04:27:20.556910    1509 buffer_comparator.cc:156] Difference at 392: -nan, expected 27.3079\n",
      "E0522 04:27:20.556913    1509 buffer_comparator.cc:156] Difference at 393: -nan, expected 27.1074\n",
      "2025-05-22 04:27:20.556917: E external/xla/xla/service/gpu/autotuning/gemm_fusion_autotuner.cc:1138] Results do not match the reference. This is likely a bug/unexpected loss of precision.\n",
      "E0522 04:27:20.558318    1509 buffer_comparator.cc:156] Difference at 384: -nan, expected 27.4377\n",
      "E0522 04:27:20.558335    1509 buffer_comparator.cc:156] Difference at 385: -nan, expected 26.7617\n",
      "E0522 04:27:20.558338    1509 buffer_comparator.cc:156] Difference at 386: -nan, expected 25.9625\n",
      "E0522 04:27:20.558341    1509 buffer_comparator.cc:156] Difference at 387: -nan, expected 27.6688\n",
      "E0522 04:27:20.558343    1509 buffer_comparator.cc:156] Difference at 388: -nan, expected 26.7488\n",
      "E0522 04:27:20.558346    1509 buffer_comparator.cc:156] Difference at 389: -nan, expected 29.3955\n",
      "E0522 04:27:20.558348    1509 buffer_comparator.cc:156] Difference at 390: -nan, expected 28.8014\n",
      "E0522 04:27:20.558350    1509 buffer_comparator.cc:156] Difference at 391: -nan, expected 27.4658\n",
      "E0522 04:27:20.558353    1509 buffer_comparator.cc:156] Difference at 392: -nan, expected 27.3079\n",
      "E0522 04:27:20.558355    1509 buffer_comparator.cc:156] Difference at 393: -nan, expected 27.1074\n",
      "2025-05-22 04:27:20.558360: E external/xla/xla/service/gpu/autotuning/gemm_fusion_autotuner.cc:1138] Results do not match the reference. This is likely a bug/unexpected loss of precision.\n",
      "E0522 04:27:20.559787    1509 buffer_comparator.cc:156] Difference at 384: -nan, expected 27.4377\n",
      "E0522 04:27:20.559804    1509 buffer_comparator.cc:156] Difference at 385: -nan, expected 26.7617\n",
      "E0522 04:27:20.559808    1509 buffer_comparator.cc:156] Difference at 386: -nan, expected 25.9625\n",
      "E0522 04:27:20.559810    1509 buffer_comparator.cc:156] Difference at 387: -nan, expected 27.6688\n",
      "E0522 04:27:20.559813    1509 buffer_comparator.cc:156] Difference at 388: -nan, expected 26.7488\n",
      "E0522 04:27:20.559815    1509 buffer_comparator.cc:156] Difference at 389: -nan, expected 29.3955\n",
      "E0522 04:27:20.559817    1509 buffer_comparator.cc:156] Difference at 390: -nan, expected 28.8014\n",
      "E0522 04:27:20.559820    1509 buffer_comparator.cc:156] Difference at 391: -nan, expected 27.4658\n",
      "E0522 04:27:20.559822    1509 buffer_comparator.cc:156] Difference at 392: -nan, expected 27.3079\n",
      "E0522 04:27:20.559824    1509 buffer_comparator.cc:156] Difference at 393: -nan, expected 27.1074\n",
      "2025-05-22 04:27:20.559829: E external/xla/xla/service/gpu/autotuning/gemm_fusion_autotuner.cc:1138] Results do not match the reference. This is likely a bug/unexpected loss of precision.\n",
      "E0522 04:27:20.561222    1509 buffer_comparator.cc:156] Difference at 384: -nan, expected 27.4377\n",
      "E0522 04:27:20.561239    1509 buffer_comparator.cc:156] Difference at 385: -nan, expected 26.7617\n",
      "E0522 04:27:20.561242    1509 buffer_comparator.cc:156] Difference at 386: -nan, expected 25.9625\n",
      "E0522 04:27:20.561244    1509 buffer_comparator.cc:156] Difference at 387: -nan, expected 27.6688\n",
      "E0522 04:27:20.561246    1509 buffer_comparator.cc:156] Difference at 388: -nan, expected 26.7488\n",
      "E0522 04:27:20.561249    1509 buffer_comparator.cc:156] Difference at 389: -nan, expected 29.3955\n",
      "E0522 04:27:20.561251    1509 buffer_comparator.cc:156] Difference at 390: -nan, expected 28.8014\n",
      "E0522 04:27:20.561254    1509 buffer_comparator.cc:156] Difference at 391: -nan, expected 27.4658\n",
      "E0522 04:27:20.561256    1509 buffer_comparator.cc:156] Difference at 392: -nan, expected 27.3079\n",
      "E0522 04:27:20.561258    1509 buffer_comparator.cc:156] Difference at 393: -nan, expected 27.1074\n",
      "2025-05-22 04:27:20.561263: E external/xla/xla/service/gpu/autotuning/gemm_fusion_autotuner.cc:1138] Results do not match the reference. This is likely a bug/unexpected loss of precision.\n",
      "E0522 04:27:20.562664    1509 buffer_comparator.cc:156] Difference at 384: -nan, expected 27.4377\n",
      "E0522 04:27:20.562681    1509 buffer_comparator.cc:156] Difference at 385: -nan, expected 26.7617\n",
      "E0522 04:27:20.562684    1509 buffer_comparator.cc:156] Difference at 386: -nan, expected 25.9625\n",
      "E0522 04:27:20.562687    1509 buffer_comparator.cc:156] Difference at 387: -nan, expected 27.6688\n",
      "E0522 04:27:20.562689    1509 buffer_comparator.cc:156] Difference at 388: -nan, expected 26.7488\n",
      "E0522 04:27:20.562691    1509 buffer_comparator.cc:156] Difference at 389: -nan, expected 29.3955\n",
      "E0522 04:27:20.562693    1509 buffer_comparator.cc:156] Difference at 390: -nan, expected 28.8014\n",
      "E0522 04:27:20.562696    1509 buffer_comparator.cc:156] Difference at 391: -nan, expected 27.4658\n",
      "E0522 04:27:20.562698    1509 buffer_comparator.cc:156] Difference at 392: -nan, expected 27.3079\n",
      "E0522 04:27:20.562701    1509 buffer_comparator.cc:156] Difference at 393: -nan, expected 27.1074\n",
      "2025-05-22 04:27:20.562711: E external/xla/xla/service/gpu/autotuning/gemm_fusion_autotuner.cc:1138] Results do not match the reference. This is likely a bug/unexpected loss of precision.\n",
      "E0522 04:27:20.564082    1509 buffer_comparator.cc:156] Difference at 768: -nan, expected 28.5878\n",
      "E0522 04:27:20.564099    1509 buffer_comparator.cc:156] Difference at 769: -nan, expected 28.9264\n",
      "E0522 04:27:20.564102    1509 buffer_comparator.cc:156] Difference at 770: -nan, expected 28.4678\n",
      "E0522 04:27:20.564104    1509 buffer_comparator.cc:156] Difference at 771: -nan, expected 27.4327\n",
      "E0522 04:27:20.564106    1509 buffer_comparator.cc:156] Difference at 772: -nan, expected 28.2751\n",
      "E0522 04:27:20.564109    1509 buffer_comparator.cc:156] Difference at 773: -nan, expected 29.8618\n",
      "E0522 04:27:20.564111    1509 buffer_comparator.cc:156] Difference at 774: -nan, expected 29.7304\n",
      "E0522 04:27:20.564113    1509 buffer_comparator.cc:156] Difference at 775: -nan, expected 30.1022\n",
      "E0522 04:27:20.564116    1509 buffer_comparator.cc:156] Difference at 776: -nan, expected 26.9898\n",
      "E0522 04:27:20.564118    1509 buffer_comparator.cc:156] Difference at 777: -nan, expected 28.8418\n",
      "2025-05-22 04:27:20.564123: E external/xla/xla/service/gpu/autotuning/gemm_fusion_autotuner.cc:1138] Results do not match the reference. This is likely a bug/unexpected loss of precision.\n",
      "E0522 04:27:20.565514    1509 buffer_comparator.cc:156] Difference at 768: -nan, expected 28.5878\n",
      "E0522 04:27:20.565531    1509 buffer_comparator.cc:156] Difference at 769: -nan, expected 28.9264\n",
      "E0522 04:27:20.565534    1509 buffer_comparator.cc:156] Difference at 770: -nan, expected 28.4678\n",
      "E0522 04:27:20.565537    1509 buffer_comparator.cc:156] Difference at 771: -nan, expected 27.4327\n",
      "E0522 04:27:20.565539    1509 buffer_comparator.cc:156] Difference at 772: -nan, expected 28.2751\n",
      "E0522 04:27:20.565542    1509 buffer_comparator.cc:156] Difference at 773: -nan, expected 29.8618\n",
      "E0522 04:27:20.565544    1509 buffer_comparator.cc:156] Difference at 774: -nan, expected 29.7304\n",
      "E0522 04:27:20.565546    1509 buffer_comparator.cc:156] Difference at 775: -nan, expected 30.1022\n",
      "E0522 04:27:20.565549    1509 buffer_comparator.cc:156] Difference at 776: -nan, expected 26.9898\n",
      "E0522 04:27:20.565551    1509 buffer_comparator.cc:156] Difference at 777: -nan, expected 28.8418\n",
      "2025-05-22 04:27:20.565556: E external/xla/xla/service/gpu/autotuning/gemm_fusion_autotuner.cc:1138] Results do not match the reference. This is likely a bug/unexpected loss of precision.\n",
      "E0522 04:27:20.566884    1509 buffer_comparator.cc:156] Difference at 768: -nan, expected 28.5878\n",
      "E0522 04:27:20.566901    1509 buffer_comparator.cc:156] Difference at 769: -nan, expected 28.9264\n",
      "E0522 04:27:20.566904    1509 buffer_comparator.cc:156] Difference at 770: -nan, expected 28.4678\n",
      "E0522 04:27:20.566906    1509 buffer_comparator.cc:156] Difference at 771: -nan, expected 27.4327\n",
      "E0522 04:27:20.566909    1509 buffer_comparator.cc:156] Difference at 772: -nan, expected 28.2751\n",
      "E0522 04:27:20.566911    1509 buffer_comparator.cc:156] Difference at 773: -nan, expected 29.8618\n",
      "E0522 04:27:20.566913    1509 buffer_comparator.cc:156] Difference at 774: -nan, expected 29.7304\n",
      "E0522 04:27:20.566916    1509 buffer_comparator.cc:156] Difference at 775: -nan, expected 30.1022\n",
      "E0522 04:27:20.566918    1509 buffer_comparator.cc:156] Difference at 776: -nan, expected 26.9898\n",
      "E0522 04:27:20.566920    1509 buffer_comparator.cc:156] Difference at 777: -nan, expected 28.8418\n",
      "2025-05-22 04:27:20.566925: E external/xla/xla/service/gpu/autotuning/gemm_fusion_autotuner.cc:1138] Results do not match the reference. This is likely a bug/unexpected loss of precision.\n",
      "E0522 04:27:20.568247    1509 buffer_comparator.cc:156] Difference at 768: -nan, expected 28.5878\n",
      "E0522 04:27:20.568284    1509 buffer_comparator.cc:156] Difference at 769: -nan, expected 28.9264\n",
      "E0522 04:27:20.568288    1509 buffer_comparator.cc:156] Difference at 770: -nan, expected 28.4678\n",
      "E0522 04:27:20.568290    1509 buffer_comparator.cc:156] Difference at 771: -nan, expected 27.4327\n",
      "E0522 04:27:20.568293    1509 buffer_comparator.cc:156] Difference at 772: -nan, expected 28.2751\n",
      "E0522 04:27:20.568295    1509 buffer_comparator.cc:156] Difference at 773: -nan, expected 29.8618\n",
      "E0522 04:27:20.568298    1509 buffer_comparator.cc:156] Difference at 774: -nan, expected 29.7304\n",
      "E0522 04:27:20.568300    1509 buffer_comparator.cc:156] Difference at 775: -nan, expected 30.1022\n",
      "E0522 04:27:20.568302    1509 buffer_comparator.cc:156] Difference at 776: -nan, expected 26.9898\n",
      "E0522 04:27:20.568305    1509 buffer_comparator.cc:156] Difference at 777: -nan, expected 28.8418\n",
      "2025-05-22 04:27:20.568311: E external/xla/xla/service/gpu/autotuning/gemm_fusion_autotuner.cc:1138] Results do not match the reference. This is likely a bug/unexpected loss of precision.\n",
      "E0522 04:27:20.569818    1509 buffer_comparator.cc:156] Difference at 768: -nan, expected 28.5878\n",
      "E0522 04:27:20.569836    1509 buffer_comparator.cc:156] Difference at 769: -nan, expected 28.9264\n",
      "E0522 04:27:20.569840    1509 buffer_comparator.cc:156] Difference at 770: -nan, expected 28.4678\n",
      "E0522 04:27:20.569842    1509 buffer_comparator.cc:156] Difference at 771: -nan, expected 27.4327\n",
      "E0522 04:27:20.569845    1509 buffer_comparator.cc:156] Difference at 772: -nan, expected 28.2751\n",
      "E0522 04:27:20.569847    1509 buffer_comparator.cc:156] Difference at 773: -nan, expected 29.8618\n",
      "E0522 04:27:20.569850    1509 buffer_comparator.cc:156] Difference at 774: -nan, expected 29.7304\n",
      "E0522 04:27:20.569852    1509 buffer_comparator.cc:156] Difference at 775: -nan, expected 30.1022\n",
      "E0522 04:27:20.569854    1509 buffer_comparator.cc:156] Difference at 776: -nan, expected 26.9898\n",
      "E0522 04:27:20.569857    1509 buffer_comparator.cc:156] Difference at 777: -nan, expected 28.8418\n",
      "2025-05-22 04:27:20.569861: E external/xla/xla/service/gpu/autotuning/gemm_fusion_autotuner.cc:1138] Results do not match the reference. This is likely a bug/unexpected loss of precision.\n",
      "E0522 04:27:20.571279    1509 buffer_comparator.cc:156] Difference at 96: 0, expected 25.2391\n",
      "E0522 04:27:20.571297    1509 buffer_comparator.cc:156] Difference at 97: 0, expected 27.9205\n",
      "E0522 04:27:20.571301    1509 buffer_comparator.cc:156] Difference at 98: 0, expected 32.8814\n",
      "E0522 04:27:20.571304    1509 buffer_comparator.cc:156] Difference at 99: 0, expected 27.298\n",
      "E0522 04:27:20.571306    1509 buffer_comparator.cc:156] Difference at 100: 0, expected 27.5779\n",
      "E0522 04:27:20.571309    1509 buffer_comparator.cc:156] Difference at 101: 0, expected 29.2079\n",
      "E0522 04:27:20.571311    1509 buffer_comparator.cc:156] Difference at 102: 0, expected 27.883\n",
      "E0522 04:27:20.571314    1509 buffer_comparator.cc:156] Difference at 103: 0, expected 30.5167\n",
      "E0522 04:27:20.571317    1509 buffer_comparator.cc:156] Difference at 104: 0, expected 34.7108\n",
      "E0522 04:27:20.571319    1509 buffer_comparator.cc:156] Difference at 105: 0, expected 30.2319\n",
      "2025-05-22 04:27:20.571323: E external/xla/xla/service/gpu/autotuning/gemm_fusion_autotuner.cc:1138] Results do not match the reference. This is likely a bug/unexpected loss of precision.\n",
      "E0522 04:27:20.572244    1509 buffer_comparator.cc:156] Difference at 96: 0, expected 25.2391\n",
      "E0522 04:27:20.572260    1509 buffer_comparator.cc:156] Difference at 97: 0, expected 27.9205\n",
      "E0522 04:27:20.572264    1509 buffer_comparator.cc:156] Difference at 98: 0, expected 32.8814\n",
      "E0522 04:27:20.572266    1509 buffer_comparator.cc:156] Difference at 99: 0, expected 27.298\n",
      "E0522 04:27:20.572269    1509 buffer_comparator.cc:156] Difference at 100: 0, expected 27.5779\n",
      "E0522 04:27:20.572271    1509 buffer_comparator.cc:156] Difference at 101: 0, expected 29.2079\n",
      "E0522 04:27:20.572274    1509 buffer_comparator.cc:156] Difference at 102: 0, expected 27.883\n",
      "E0522 04:27:20.572276    1509 buffer_comparator.cc:156] Difference at 103: 0, expected 30.5167\n",
      "E0522 04:27:20.572279    1509 buffer_comparator.cc:156] Difference at 104: 0, expected 34.7108\n",
      "E0522 04:27:20.572282    1509 buffer_comparator.cc:156] Difference at 105: 0, expected 30.2319\n",
      "2025-05-22 04:27:20.572286: E external/xla/xla/service/gpu/autotuning/gemm_fusion_autotuner.cc:1138] Results do not match the reference. This is likely a bug/unexpected loss of precision.\n",
      "E0522 04:27:20.577350    1509 buffer_comparator.cc:156] Difference at 4: 32.2321, expected 28.539\n",
      "E0522 04:27:20.577368    1509 buffer_comparator.cc:156] Difference at 22: 29.7662, expected 26.2153\n",
      "E0522 04:27:20.577372    1509 buffer_comparator.cc:156] Difference at 40: 30.9146, expected 27.2293\n",
      "E0522 04:27:20.577375    1509 buffer_comparator.cc:156] Difference at 64: 29.5634, expected 25.5085\n",
      "E0522 04:27:20.577378    1509 buffer_comparator.cc:156] Difference at 65: 31.1193, expected 27.4801\n",
      "E0522 04:27:20.577381    1509 buffer_comparator.cc:156] Difference at 81: 27.5933, expected 24.2474\n",
      "E0522 04:27:20.577383    1509 buffer_comparator.cc:156] Difference at 82: 28.4287, expected 24.8674\n",
      "E0522 04:27:20.577386    1509 buffer_comparator.cc:156] Difference at 84: 30.2232, expected 27.0391\n",
      "E0522 04:27:20.577388    1509 buffer_comparator.cc:156] Difference at 88: 30.6427, expected 27.3974\n",
      "E0522 04:27:20.577391    1509 buffer_comparator.cc:156] Difference at 106: 35.2305, expected 31.005\n",
      "2025-05-22 04:27:20.577395: E external/xla/xla/service/gpu/autotuning/gemm_fusion_autotuner.cc:1138] Results do not match the reference. This is likely a bug/unexpected loss of precision.\n",
      "E0522 04:27:20.583633    1509 buffer_comparator.cc:156] Difference at 16: 0.31884, expected 8299.91\n",
      "E0522 04:27:20.583653    1509 buffer_comparator.cc:156] Difference at 17: -0.081159, expected 8268.4\n",
      "E0522 04:27:20.583657    1509 buffer_comparator.cc:156] Difference at 18: 0.437317, expected 8234.56\n",
      "E0522 04:27:20.583660    1509 buffer_comparator.cc:156] Difference at 19: -0.11424, expected 8256.49\n",
      "E0522 04:27:20.583662    1509 buffer_comparator.cc:156] Difference at 20: 0.130025, expected 8264.63\n",
      "E0522 04:27:20.583665    1509 buffer_comparator.cc:156] Difference at 21: 0.230229, expected 8257.14\n",
      "E0522 04:27:20.583668    1509 buffer_comparator.cc:156] Difference at 22: -0.329268, expected 8237.99\n",
      "E0522 04:27:20.583670    1509 buffer_comparator.cc:156] Difference at 23: -0.273698, expected 8273.47\n",
      "E0522 04:27:20.583673    1509 buffer_comparator.cc:156] Difference at 24: 0.316472, expected 8260.14\n",
      "E0522 04:27:20.583676    1509 buffer_comparator.cc:156] Difference at 25: 0.333813, expected 8230.7\n",
      "2025-05-22 04:27:20.583681: E external/xla/xla/service/gpu/autotuning/gemm_fusion_autotuner.cc:1138] Results do not match the reference. This is likely a bug/unexpected loss of precision.\n",
      "E0522 04:27:20.585763    1509 buffer_comparator.cc:156] Difference at 16: 0.31884, expected 8299.91\n",
      "E0522 04:27:20.585781    1509 buffer_comparator.cc:156] Difference at 17: -0.081159, expected 8268.4\n",
      "E0522 04:27:20.585784    1509 buffer_comparator.cc:156] Difference at 18: 0.437317, expected 8234.56\n",
      "E0522 04:27:20.585787    1509 buffer_comparator.cc:156] Difference at 19: -0.11424, expected 8256.49\n",
      "E0522 04:27:20.585790    1509 buffer_comparator.cc:156] Difference at 20: 0.130025, expected 8264.63\n",
      "E0522 04:27:20.585792    1509 buffer_comparator.cc:156] Difference at 21: 0.230229, expected 8257.14\n",
      "E0522 04:27:20.585795    1509 buffer_comparator.cc:156] Difference at 22: -0.329268, expected 8237.99\n",
      "E0522 04:27:20.585797    1509 buffer_comparator.cc:156] Difference at 23: -0.273698, expected 8273.47\n",
      "E0522 04:27:20.585801    1509 buffer_comparator.cc:156] Difference at 24: 0.316472, expected 8260.14\n",
      "E0522 04:27:20.585803    1509 buffer_comparator.cc:156] Difference at 25: 0.333813, expected 8230.7\n",
      "2025-05-22 04:27:20.585808: E external/xla/xla/service/gpu/autotuning/gemm_fusion_autotuner.cc:1138] Results do not match the reference. This is likely a bug/unexpected loss of precision.\n",
      "E0522 04:27:20.587831    1509 buffer_comparator.cc:156] Difference at 32: 0.0670766, expected 8276.26\n",
      "E0522 04:27:20.587848    1509 buffer_comparator.cc:156] Difference at 33: 0.0118499, expected 8246.73\n",
      "E0522 04:27:20.587852    1509 buffer_comparator.cc:156] Difference at 34: 0.534496, expected 8246.94\n",
      "E0522 04:27:20.587855    1509 buffer_comparator.cc:156] Difference at 35: -0.036726, expected 8238.26\n",
      "E0522 04:27:20.587857    1509 buffer_comparator.cc:156] Difference at 36: -0.0792044, expected 8251.25\n",
      "E0522 04:27:20.587860    1509 buffer_comparator.cc:156] Difference at 37: 0.326943, expected 8277.5\n",
      "E0522 04:27:20.587862    1509 buffer_comparator.cc:156] Difference at 38: 0.230986, expected 8248.87\n",
      "E0522 04:27:20.587865    1509 buffer_comparator.cc:156] Difference at 39: 0.60261, expected 8297.28\n",
      "E0522 04:27:20.587868    1509 buffer_comparator.cc:156] Difference at 40: -0.0349514, expected 8250.73\n",
      "E0522 04:27:20.587871    1509 buffer_comparator.cc:156] Difference at 41: -0.410712, expected 8204\n",
      "2025-05-22 04:27:20.587875: E external/xla/xla/service/gpu/autotuning/gemm_fusion_autotuner.cc:1138] Results do not match the reference. This is likely a bug/unexpected loss of precision.\n",
      "E0522 04:27:20.589827    1509 buffer_comparator.cc:156] Difference at 32: 1.11228, expected 8276.26\n",
      "E0522 04:27:20.589844    1509 buffer_comparator.cc:156] Difference at 33: 0.416709, expected 8246.73\n",
      "E0522 04:27:20.589848    1509 buffer_comparator.cc:156] Difference at 34: 1.0244, expected 8246.94\n",
      "E0522 04:27:20.589851    1509 buffer_comparator.cc:156] Difference at 35: 1.38374, expected 8238.26\n",
      "E0522 04:27:20.589853    1509 buffer_comparator.cc:156] Difference at 36: 1.13671, expected 8251.25\n",
      "E0522 04:27:20.589856    1509 buffer_comparator.cc:156] Difference at 37: 1.30044, expected 8277.5\n",
      "E0522 04:27:20.589858    1509 buffer_comparator.cc:156] Difference at 38: 0.534292, expected 8248.87\n",
      "E0522 04:27:20.589861    1509 buffer_comparator.cc:156] Difference at 39: 0.826958, expected 8297.28\n",
      "E0522 04:27:20.589863    1509 buffer_comparator.cc:156] Difference at 40: 0.882019, expected 8250.73\n",
      "E0522 04:27:20.589866    1509 buffer_comparator.cc:156] Difference at 41: 1.25709, expected 8204\n",
      "2025-05-22 04:27:20.589871: E external/xla/xla/service/gpu/autotuning/gemm_fusion_autotuner.cc:1138] Results do not match the reference. This is likely a bug/unexpected loss of precision.\n",
      "E0522 04:27:20.591999    1509 buffer_comparator.cc:156] Difference at 64: 0.753802, expected 8272.77\n",
      "E0522 04:27:20.592016    1509 buffer_comparator.cc:156] Difference at 65: 0.828585, expected 8243.64\n",
      "E0522 04:27:20.592020    1509 buffer_comparator.cc:156] Difference at 66: 0.748469, expected 8260.4\n",
      "E0522 04:27:20.592023    1509 buffer_comparator.cc:156] Difference at 67: 1.26351, expected 8285.18\n",
      "E0522 04:27:20.592026    1509 buffer_comparator.cc:156] Difference at 68: 1.12807, expected 8238.81\n",
      "E0522 04:27:20.592028    1509 buffer_comparator.cc:156] Difference at 69: 1.48826, expected 8271.38\n",
      "E0522 04:27:20.592030    1509 buffer_comparator.cc:156] Difference at 70: 0.806178, expected 8248.01\n",
      "E0522 04:27:20.592033    1509 buffer_comparator.cc:156] Difference at 71: 1.04123, expected 8256.19\n",
      "E0522 04:27:20.592036    1509 buffer_comparator.cc:156] Difference at 72: 1.34392, expected 8248.31\n",
      "E0522 04:27:20.592039    1509 buffer_comparator.cc:156] Difference at 73: 0.959194, expected 8253.53\n",
      "2025-05-22 04:27:20.592044: E external/xla/xla/service/gpu/autotuning/gemm_fusion_autotuner.cc:1138] Results do not match the reference. This is likely a bug/unexpected loss of precision.\n",
      "E0522 04:27:20.593877    1509 buffer_comparator.cc:156] Difference at 64: 0.529068, expected 8272.77\n",
      "E0522 04:27:20.593894    1509 buffer_comparator.cc:156] Difference at 65: 0.379512, expected 8243.64\n",
      "E0522 04:27:20.593898    1509 buffer_comparator.cc:156] Difference at 66: 0.154197, expected 8260.4\n",
      "E0522 04:27:20.593901    1509 buffer_comparator.cc:156] Difference at 67: -0.137947, expected 8285.18\n",
      "E0522 04:27:20.593903    1509 buffer_comparator.cc:156] Difference at 68: -0.330332, expected 8238.81\n",
      "E0522 04:27:20.593906    1509 buffer_comparator.cc:156] Difference at 69: 0.96176, expected 8271.38\n",
      "E0522 04:27:20.593908    1509 buffer_comparator.cc:156] Difference at 70: 0.19313, expected 8248.01\n",
      "E0522 04:27:20.593911    1509 buffer_comparator.cc:156] Difference at 71: -0.193468, expected 8256.19\n",
      "E0522 04:27:20.593914    1509 buffer_comparator.cc:156] Difference at 72: -0.0127005, expected 8248.31\n",
      "E0522 04:27:20.593917    1509 buffer_comparator.cc:156] Difference at 73: 0.393578, expected 8253.53\n",
      "2025-05-22 04:27:20.593921: E external/xla/xla/service/gpu/autotuning/gemm_fusion_autotuner.cc:1138] Results do not match the reference. This is likely a bug/unexpected loss of precision.\n",
      "E0522 04:27:20.596273    1509 buffer_comparator.cc:156] Difference at 64: 0.529068, expected 8272.77\n",
      "E0522 04:27:20.596290    1509 buffer_comparator.cc:156] Difference at 65: 0.379512, expected 8243.64\n",
      "E0522 04:27:20.596294    1509 buffer_comparator.cc:156] Difference at 66: 0.154197, expected 8260.4\n",
      "E0522 04:27:20.596296    1509 buffer_comparator.cc:156] Difference at 67: -0.137947, expected 8285.18\n",
      "E0522 04:27:20.596299    1509 buffer_comparator.cc:156] Difference at 68: -0.330332, expected 8238.81\n",
      "E0522 04:27:20.596302    1509 buffer_comparator.cc:156] Difference at 69: 0.96176, expected 8271.38\n",
      "E0522 04:27:20.596304    1509 buffer_comparator.cc:156] Difference at 70: 0.19313, expected 8248.01\n",
      "E0522 04:27:20.596307    1509 buffer_comparator.cc:156] Difference at 71: -0.193468, expected 8256.19\n",
      "E0522 04:27:20.596309    1509 buffer_comparator.cc:156] Difference at 72: -0.0127005, expected 8248.31\n",
      "E0522 04:27:20.596312    1509 buffer_comparator.cc:156] Difference at 73: 0.393578, expected 8253.53\n",
      "2025-05-22 04:27:20.596317: E external/xla/xla/service/gpu/autotuning/gemm_fusion_autotuner.cc:1138] Results do not match the reference. This is likely a bug/unexpected loss of precision.\n",
      "E0522 04:27:20.598745    1509 buffer_comparator.cc:156] Difference at 64: 0.529068, expected 8272.77\n",
      "E0522 04:27:20.598762    1509 buffer_comparator.cc:156] Difference at 65: 0.379512, expected 8243.64\n",
      "E0522 04:27:20.598765    1509 buffer_comparator.cc:156] Difference at 66: 0.154197, expected 8260.4\n",
      "E0522 04:27:20.598768    1509 buffer_comparator.cc:156] Difference at 67: -0.137947, expected 8285.18\n",
      "E0522 04:27:20.598771    1509 buffer_comparator.cc:156] Difference at 68: -0.330332, expected 8238.81\n",
      "E0522 04:27:20.598773    1509 buffer_comparator.cc:156] Difference at 69: 0.96176, expected 8271.38\n",
      "E0522 04:27:20.598776    1509 buffer_comparator.cc:156] Difference at 70: 0.19313, expected 8248.01\n",
      "E0522 04:27:20.598778    1509 buffer_comparator.cc:156] Difference at 71: -0.193468, expected 8256.19\n",
      "E0522 04:27:20.598781    1509 buffer_comparator.cc:156] Difference at 72: -0.0127005, expected 8248.31\n",
      "E0522 04:27:20.598784    1509 buffer_comparator.cc:156] Difference at 73: 0.393578, expected 8253.53\n",
      "2025-05-22 04:27:20.598788: E external/xla/xla/service/gpu/autotuning/gemm_fusion_autotuner.cc:1138] Results do not match the reference. This is likely a bug/unexpected loss of precision.\n",
      "E0522 04:27:20.600870    1509 buffer_comparator.cc:156] Difference at 64: 0.529068, expected 8272.77\n",
      "E0522 04:27:20.600887    1509 buffer_comparator.cc:156] Difference at 65: 0.379512, expected 8243.64\n",
      "E0522 04:27:20.600891    1509 buffer_comparator.cc:156] Difference at 66: 0.154197, expected 8260.4\n",
      "E0522 04:27:20.600894    1509 buffer_comparator.cc:156] Difference at 67: -0.137947, expected 8285.18\n",
      "E0522 04:27:20.600896    1509 buffer_comparator.cc:156] Difference at 68: -0.330332, expected 8238.81\n",
      "E0522 04:27:20.600899    1509 buffer_comparator.cc:156] Difference at 69: 0.96176, expected 8271.38\n",
      "E0522 04:27:20.600901    1509 buffer_comparator.cc:156] Difference at 70: 0.19313, expected 8248.01\n",
      "E0522 04:27:20.600904    1509 buffer_comparator.cc:156] Difference at 71: -0.193468, expected 8256.19\n",
      "E0522 04:27:20.600906    1509 buffer_comparator.cc:156] Difference at 72: -0.0127005, expected 8248.31\n",
      "E0522 04:27:20.600910    1509 buffer_comparator.cc:156] Difference at 73: 0.393578, expected 8253.53\n",
      "2025-05-22 04:27:20.600914: E external/xla/xla/service/gpu/autotuning/gemm_fusion_autotuner.cc:1138] Results do not match the reference. This is likely a bug/unexpected loss of precision.\n",
      "E0522 04:27:20.603295    1509 buffer_comparator.cc:156] Difference at 128: -0.141086, expected 8243.75\n",
      "E0522 04:27:20.603312    1509 buffer_comparator.cc:156] Difference at 129: -0.160861, expected 8206.23\n",
      "E0522 04:27:20.603316    1509 buffer_comparator.cc:156] Difference at 130: -0.134595, expected 8264.27\n",
      "E0522 04:27:20.603318    1509 buffer_comparator.cc:156] Difference at 131: 0.39451, expected 8174.51\n",
      "E0522 04:27:20.603321    1509 buffer_comparator.cc:156] Difference at 132: 0.271579, expected 8234.27\n",
      "E0522 04:27:20.603323    1509 buffer_comparator.cc:156] Difference at 133: 0.624311, expected 8264.38\n",
      "E0522 04:27:20.603326    1509 buffer_comparator.cc:156] Difference at 134: -0.297438, expected 8248.68\n",
      "E0522 04:27:20.603328    1509 buffer_comparator.cc:156] Difference at 135: -0.0212534, expected 8215.76\n",
      "E0522 04:27:20.603331    1509 buffer_comparator.cc:156] Difference at 136: 0.0791645, expected 8256.77\n",
      "E0522 04:27:20.603335    1509 buffer_comparator.cc:156] Difference at 137: 0.0304876, expected 8276.67\n",
      "2025-05-22 04:27:20.603339: E external/xla/xla/service/gpu/autotuning/gemm_fusion_autotuner.cc:1138] Results do not match the reference. This is likely a bug/unexpected loss of precision.\n",
      "E0522 04:27:20.605624    1509 buffer_comparator.cc:156] Difference at 128: -0.141086, expected 8243.75\n",
      "E0522 04:27:20.605641    1509 buffer_comparator.cc:156] Difference at 129: -0.160861, expected 8206.23\n",
      "E0522 04:27:20.605644    1509 buffer_comparator.cc:156] Difference at 130: -0.134595, expected 8264.27\n",
      "E0522 04:27:20.605647    1509 buffer_comparator.cc:156] Difference at 131: 0.39451, expected 8174.51\n",
      "E0522 04:27:20.605650    1509 buffer_comparator.cc:156] Difference at 132: 0.271579, expected 8234.27\n",
      "E0522 04:27:20.605652    1509 buffer_comparator.cc:156] Difference at 133: 0.624311, expected 8264.38\n",
      "E0522 04:27:20.605655    1509 buffer_comparator.cc:156] Difference at 134: -0.297438, expected 8248.68\n",
      "E0522 04:27:20.605657    1509 buffer_comparator.cc:156] Difference at 135: -0.0212534, expected 8215.76\n",
      "E0522 04:27:20.605660    1509 buffer_comparator.cc:156] Difference at 136: 0.0791645, expected 8256.77\n",
      "E0522 04:27:20.605664    1509 buffer_comparator.cc:156] Difference at 137: 0.0304876, expected 8276.67\n",
      "2025-05-22 04:27:20.605668: E external/xla/xla/service/gpu/autotuning/gemm_fusion_autotuner.cc:1138] Results do not match the reference. This is likely a bug/unexpected loss of precision.\n",
      "E0522 04:27:20.607965    1509 buffer_comparator.cc:156] Difference at 128: 0.0126656, expected 8243.75\n",
      "E0522 04:27:20.607981    1509 buffer_comparator.cc:156] Difference at 129: 0.0970069, expected 8206.23\n",
      "E0522 04:27:20.607985    1509 buffer_comparator.cc:156] Difference at 130: 0.039606, expected 8264.27\n",
      "E0522 04:27:20.607988    1509 buffer_comparator.cc:156] Difference at 131: -0.0645749, expected 8174.51\n",
      "E0522 04:27:20.607990    1509 buffer_comparator.cc:156] Difference at 132: 0.190489, expected 8234.27\n",
      "E0522 04:27:20.607993    1509 buffer_comparator.cc:156] Difference at 133: 0.128183, expected 8264.38\n",
      "E0522 04:27:20.607995    1509 buffer_comparator.cc:156] Difference at 134: 0.109208, expected 8248.68\n",
      "E0522 04:27:20.607998    1509 buffer_comparator.cc:156] Difference at 135: -0.143893, expected 8215.76\n",
      "E0522 04:27:20.608001    1509 buffer_comparator.cc:156] Difference at 136: 0.1141, expected 8256.77\n",
      "E0522 04:27:20.608005    1509 buffer_comparator.cc:156] Difference at 137: -0.16596, expected 8276.67\n",
      "2025-05-22 04:27:20.608012: E external/xla/xla/service/gpu/autotuning/gemm_fusion_autotuner.cc:1138] Results do not match the reference. This is likely a bug/unexpected loss of precision.\n",
      "E0522 04:27:20.610062    1509 buffer_comparator.cc:156] Difference at 128: 0.584651, expected 8243.75\n",
      "E0522 04:27:20.610079    1509 buffer_comparator.cc:156] Difference at 129: 0.378382, expected 8206.23\n",
      "E0522 04:27:20.610083    1509 buffer_comparator.cc:156] Difference at 130: 1.40413, expected 8264.27\n",
      "E0522 04:27:20.610086    1509 buffer_comparator.cc:156] Difference at 131: 0.695733, expected 8174.51\n",
      "E0522 04:27:20.610088    1509 buffer_comparator.cc:156] Difference at 132: 0.766674, expected 8234.27\n",
      "E0522 04:27:20.610091    1509 buffer_comparator.cc:156] Difference at 133: 1.0004, expected 8264.38\n",
      "E0522 04:27:20.610094    1509 buffer_comparator.cc:156] Difference at 134: 1.35116, expected 8248.68\n",
      "E0522 04:27:20.610096    1509 buffer_comparator.cc:156] Difference at 135: 0.909927, expected 8215.76\n",
      "E0522 04:27:20.610099    1509 buffer_comparator.cc:156] Difference at 136: 0.806243, expected 8256.77\n",
      "E0522 04:27:20.610102    1509 buffer_comparator.cc:156] Difference at 137: 0.231463, expected 8276.67\n",
      "2025-05-22 04:27:20.610106: E external/xla/xla/service/gpu/autotuning/gemm_fusion_autotuner.cc:1138] Results do not match the reference. This is likely a bug/unexpected loss of precision.\n",
      "E0522 04:27:20.612194    1509 buffer_comparator.cc:156] Difference at 96: 16484.4, expected 7183.61\n",
      "E0522 04:27:20.612212    1509 buffer_comparator.cc:156] Difference at 97: 16493.4, expected 7149.6\n",
      "E0522 04:27:20.612216    1509 buffer_comparator.cc:156] Difference at 98: 16405.4, expected 7166.97\n",
      "E0522 04:27:20.612219    1509 buffer_comparator.cc:156] Difference at 99: 16549.2, expected 7184.83\n",
      "E0522 04:27:20.612222    1509 buffer_comparator.cc:156] Difference at 100: 16571.2, expected 7149.17\n",
      "E0522 04:27:20.612224    1509 buffer_comparator.cc:156] Difference at 101: 16522.2, expected 7126.29\n",
      "E0522 04:27:20.612227    1509 buffer_comparator.cc:156] Difference at 102: 16446.8, expected 7175.09\n",
      "E0522 04:27:20.612230    1509 buffer_comparator.cc:156] Difference at 103: 16549.1, expected 7127.8\n",
      "E0522 04:27:20.612233    1509 buffer_comparator.cc:156] Difference at 104: 16627.9, expected 7124.09\n",
      "E0522 04:27:20.612236    1509 buffer_comparator.cc:156] Difference at 105: 16505.4, expected 7179.41\n",
      "2025-05-22 04:27:20.612240: E external/xla/xla/service/gpu/autotuning/gemm_fusion_autotuner.cc:1138] Results do not match the reference. This is likely a bug/unexpected loss of precision.\n",
      "E0522 04:27:20.613429    1509 buffer_comparator.cc:156] Difference at 96: 30890.5, expected 7183.61\n",
      "E0522 04:27:20.613446    1509 buffer_comparator.cc:156] Difference at 97: 30918, expected 7149.6\n",
      "E0522 04:27:20.613450    1509 buffer_comparator.cc:156] Difference at 98: 30747.5, expected 7166.97\n",
      "E0522 04:27:20.613453    1509 buffer_comparator.cc:156] Difference at 99: 31018.1, expected 7184.83\n",
      "E0522 04:27:20.613455    1509 buffer_comparator.cc:156] Difference at 100: 31072.6, expected 7149.17\n",
      "E0522 04:27:20.613458    1509 buffer_comparator.cc:156] Difference at 101: 30961.7, expected 7126.29\n",
      "E0522 04:27:20.613461    1509 buffer_comparator.cc:156] Difference at 102: 30817.2, expected 7175.09\n",
      "E0522 04:27:20.613463    1509 buffer_comparator.cc:156] Difference at 103: 31034.3, expected 7127.8\n",
      "E0522 04:27:20.613466    1509 buffer_comparator.cc:156] Difference at 104: 31178.2, expected 7124.09\n",
      "E0522 04:27:20.613469    1509 buffer_comparator.cc:156] Difference at 105: 30949.8, expected 7179.41\n",
      "2025-05-22 04:27:20.613474: E external/xla/xla/service/gpu/autotuning/gemm_fusion_autotuner.cc:1138] Results do not match the reference. This is likely a bug/unexpected loss of precision.\n",
      "E0522 04:27:20.614972    1509 buffer_comparator.cc:156] Difference at 96: 30890.5, expected 7183.61\n",
      "E0522 04:27:20.614991    1509 buffer_comparator.cc:156] Difference at 97: 30918, expected 7149.6\n",
      "E0522 04:27:20.614995    1509 buffer_comparator.cc:156] Difference at 98: 30747.5, expected 7166.97\n",
      "E0522 04:27:20.614998    1509 buffer_comparator.cc:156] Difference at 99: 31018.1, expected 7184.83\n",
      "E0522 04:27:20.615001    1509 buffer_comparator.cc:156] Difference at 100: 31072.6, expected 7149.17\n",
      "E0522 04:27:20.615003    1509 buffer_comparator.cc:156] Difference at 101: 30961.7, expected 7126.29\n",
      "E0522 04:27:20.615006    1509 buffer_comparator.cc:156] Difference at 102: 30817.2, expected 7175.09\n",
      "E0522 04:27:20.615008    1509 buffer_comparator.cc:156] Difference at 103: 31034.3, expected 7127.8\n",
      "E0522 04:27:20.615012    1509 buffer_comparator.cc:156] Difference at 104: 31178.2, expected 7124.09\n",
      "E0522 04:27:20.615015    1509 buffer_comparator.cc:156] Difference at 105: 30949.8, expected 7179.41\n",
      "2025-05-22 04:27:20.615019: E external/xla/xla/service/gpu/autotuning/gemm_fusion_autotuner.cc:1138] Results do not match the reference. This is likely a bug/unexpected loss of precision.\n",
      "E0522 04:27:20.616460    1509 buffer_comparator.cc:156] Difference at 96: 30890.5, expected 7183.61\n",
      "E0522 04:27:20.616476    1509 buffer_comparator.cc:156] Difference at 97: 30918, expected 7149.6\n",
      "E0522 04:27:20.616493    1509 buffer_comparator.cc:156] Difference at 98: 30747.5, expected 7166.97\n",
      "E0522 04:27:20.616496    1509 buffer_comparator.cc:156] Difference at 99: 31018.1, expected 7184.83\n",
      "E0522 04:27:20.616499    1509 buffer_comparator.cc:156] Difference at 100: 31072.6, expected 7149.17\n",
      "E0522 04:27:20.616502    1509 buffer_comparator.cc:156] Difference at 101: 30961.7, expected 7126.29\n",
      "E0522 04:27:20.616504    1509 buffer_comparator.cc:156] Difference at 102: 30817.2, expected 7175.09\n",
      "E0522 04:27:20.616507    1509 buffer_comparator.cc:156] Difference at 103: 31034.3, expected 7127.8\n",
      "E0522 04:27:20.616510    1509 buffer_comparator.cc:156] Difference at 104: 31178.2, expected 7124.09\n",
      "E0522 04:27:20.616512    1509 buffer_comparator.cc:156] Difference at 105: 30949.8, expected 7179.41\n",
      "2025-05-22 04:27:20.616517: E external/xla/xla/service/gpu/autotuning/gemm_fusion_autotuner.cc:1138] Results do not match the reference. This is likely a bug/unexpected loss of precision.\n",
      "E0522 04:27:20.617895    1509 buffer_comparator.cc:156] Difference at 96: 30890.5, expected 7183.61\n",
      "E0522 04:27:20.617912    1509 buffer_comparator.cc:156] Difference at 97: 30918, expected 7149.6\n",
      "E0522 04:27:20.617915    1509 buffer_comparator.cc:156] Difference at 98: 30747.5, expected 7166.97\n",
      "E0522 04:27:20.617918    1509 buffer_comparator.cc:156] Difference at 99: 31018.1, expected 7184.83\n",
      "E0522 04:27:20.617921    1509 buffer_comparator.cc:156] Difference at 100: 31072.6, expected 7149.17\n",
      "E0522 04:27:20.617923    1509 buffer_comparator.cc:156] Difference at 101: 30961.7, expected 7126.29\n",
      "E0522 04:27:20.617926    1509 buffer_comparator.cc:156] Difference at 102: 30817.2, expected 7175.09\n",
      "E0522 04:27:20.617928    1509 buffer_comparator.cc:156] Difference at 103: 31034.3, expected 7127.8\n",
      "E0522 04:27:20.617931    1509 buffer_comparator.cc:156] Difference at 104: 31178.2, expected 7124.09\n",
      "E0522 04:27:20.617934    1509 buffer_comparator.cc:156] Difference at 105: 30949.8, expected 7179.41\n",
      "2025-05-22 04:27:20.617939: E external/xla/xla/service/gpu/autotuning/gemm_fusion_autotuner.cc:1138] Results do not match the reference. This is likely a bug/unexpected loss of precision.\n",
      "E0522 04:27:20.619168    1509 buffer_comparator.cc:156] Difference at 96: 16484.4, expected 7183.61\n",
      "E0522 04:27:20.619185    1509 buffer_comparator.cc:156] Difference at 97: 16493.4, expected 7149.6\n",
      "E0522 04:27:20.619189    1509 buffer_comparator.cc:156] Difference at 98: 16405.4, expected 7166.97\n",
      "E0522 04:27:20.619192    1509 buffer_comparator.cc:156] Difference at 99: 16549.2, expected 7184.83\n",
      "E0522 04:27:20.619194    1509 buffer_comparator.cc:156] Difference at 100: 16571.2, expected 7149.17\n",
      "E0522 04:27:20.619197    1509 buffer_comparator.cc:156] Difference at 101: 16522.2, expected 7126.29\n",
      "E0522 04:27:20.619200    1509 buffer_comparator.cc:156] Difference at 102: 16446.8, expected 7175.09\n",
      "E0522 04:27:20.619202    1509 buffer_comparator.cc:156] Difference at 103: 16549.1, expected 7127.8\n",
      "E0522 04:27:20.619205    1509 buffer_comparator.cc:156] Difference at 104: 16627.9, expected 7124.09\n",
      "E0522 04:27:20.619208    1509 buffer_comparator.cc:156] Difference at 105: 16505.4, expected 7179.41\n",
      "2025-05-22 04:27:20.619212: E external/xla/xla/service/gpu/autotuning/gemm_fusion_autotuner.cc:1138] Results do not match the reference. This is likely a bug/unexpected loss of precision.\n",
      "E0522 04:27:20.620878    1509 buffer_comparator.cc:156] Difference at 192: 0.0599588, expected 7214.75\n",
      "E0522 04:27:20.620895    1509 buffer_comparator.cc:156] Difference at 193: 0.309747, expected 7138.09\n",
      "E0522 04:27:20.620899    1509 buffer_comparator.cc:156] Difference at 194: 0.189047, expected 7143.54\n",
      "E0522 04:27:20.620902    1509 buffer_comparator.cc:156] Difference at 195: 1.1641, expected 7141.51\n",
      "E0522 04:27:20.620904    1509 buffer_comparator.cc:156] Difference at 196: 0.116717, expected 7178.18\n",
      "E0522 04:27:20.620907    1509 buffer_comparator.cc:156] Difference at 197: 0.276275, expected 7149.73\n",
      "E0522 04:27:20.620909    1509 buffer_comparator.cc:156] Difference at 198: 0.646443, expected 7157.58\n",
      "E0522 04:27:20.620912    1509 buffer_comparator.cc:156] Difference at 199: 0.576296, expected 7156.66\n",
      "E0522 04:27:20.620914    1509 buffer_comparator.cc:156] Difference at 200: 0.714429, expected 7130.46\n",
      "E0522 04:27:20.620918    1509 buffer_comparator.cc:156] Difference at 201: 0.60414, expected 7118.88\n",
      "2025-05-22 04:27:20.620922: E external/xla/xla/service/gpu/autotuning/gemm_fusion_autotuner.cc:1138] Results do not match the reference. This is likely a bug/unexpected loss of precision.\n",
      "E0522 04:27:20.622180    1509 buffer_comparator.cc:156] Difference at 192: 2.02302, expected 7214.75\n",
      "E0522 04:27:20.622197    1509 buffer_comparator.cc:156] Difference at 193: 2.86926, expected 7138.09\n",
      "E0522 04:27:20.622201    1509 buffer_comparator.cc:156] Difference at 194: 2.94369, expected 7143.54\n",
      "E0522 04:27:20.622203    1509 buffer_comparator.cc:156] Difference at 195: 3.04803, expected 7141.51\n",
      "E0522 04:27:20.622206    1509 buffer_comparator.cc:156] Difference at 196: 2.57488, expected 7178.18\n",
      "E0522 04:27:20.622208    1509 buffer_comparator.cc:156] Difference at 197: 2.94764, expected 7149.73\n",
      "E0522 04:27:20.622211    1509 buffer_comparator.cc:156] Difference at 198: 4.2289, expected 7157.58\n",
      "E0522 04:27:20.622213    1509 buffer_comparator.cc:156] Difference at 199: 3.21081, expected 7156.66\n",
      "E0522 04:27:20.622216    1509 buffer_comparator.cc:156] Difference at 200: 2.20041, expected 7130.46\n",
      "E0522 04:27:20.622218    1509 buffer_comparator.cc:156] Difference at 201: 3.14268, expected 7118.88\n",
      "2025-05-22 04:27:20.622223: E external/xla/xla/service/gpu/autotuning/gemm_fusion_autotuner.cc:1138] Results do not match the reference. This is likely a bug/unexpected loss of precision.\n",
      "E0522 04:27:20.624259    1509 buffer_comparator.cc:156] Difference at 384: 2.28169, expected 7167.91\n",
      "E0522 04:27:20.624278    1509 buffer_comparator.cc:156] Difference at 385: 3.51557, expected 7154.8\n",
      "E0522 04:27:20.624281    1509 buffer_comparator.cc:156] Difference at 386: 2.40607, expected 7167.88\n",
      "E0522 04:27:20.624284    1509 buffer_comparator.cc:156] Difference at 387: 3.00481, expected 7169.54\n",
      "E0522 04:27:20.624287    1509 buffer_comparator.cc:156] Difference at 388: 2.68141, expected 7188.9\n",
      "E0522 04:27:20.624289    1509 buffer_comparator.cc:156] Difference at 389: 1.548, expected 7181.1\n",
      "E0522 04:27:20.624292    1509 buffer_comparator.cc:156] Difference at 390: 3.083, expected 7174.52\n",
      "E0522 04:27:20.624295    1509 buffer_comparator.cc:156] Difference at 391: 1.85101, expected 7183.05\n",
      "E0522 04:27:20.624297    1509 buffer_comparator.cc:156] Difference at 392: 2.80632, expected 7185.16\n",
      "E0522 04:27:20.624301    1509 buffer_comparator.cc:156] Difference at 393: 4.1502, expected 7190.95\n",
      "2025-05-22 04:27:20.624305: E external/xla/xla/service/gpu/autotuning/gemm_fusion_autotuner.cc:1138] Results do not match the reference. This is likely a bug/unexpected loss of precision.\n",
      "E0522 04:27:20.625545    1509 buffer_comparator.cc:156] Difference at 384: 2.70619, expected 7167.91\n",
      "E0522 04:27:20.625561    1509 buffer_comparator.cc:156] Difference at 385: 3.09352, expected 7154.8\n",
      "E0522 04:27:20.625565    1509 buffer_comparator.cc:156] Difference at 386: 3.18219, expected 7167.88\n",
      "E0522 04:27:20.625567    1509 buffer_comparator.cc:156] Difference at 387: 3.7861, expected 7169.54\n",
      "E0522 04:27:20.625570    1509 buffer_comparator.cc:156] Difference at 388: 2.9991, expected 7188.9\n",
      "E0522 04:27:20.625573    1509 buffer_comparator.cc:156] Difference at 389: 2.83619, expected 7181.1\n",
      "E0522 04:27:20.625575    1509 buffer_comparator.cc:156] Difference at 390: 2.83835, expected 7174.52\n",
      "E0522 04:27:20.625577    1509 buffer_comparator.cc:156] Difference at 391: 2.63738, expected 7183.05\n",
      "E0522 04:27:20.625580    1509 buffer_comparator.cc:156] Difference at 392: 2.79849, expected 7185.16\n",
      "E0522 04:27:20.625583    1509 buffer_comparator.cc:156] Difference at 393: 1.95448, expected 7190.95\n",
      "2025-05-22 04:27:20.625588: E external/xla/xla/service/gpu/autotuning/gemm_fusion_autotuner.cc:1138] Results do not match the reference. This is likely a bug/unexpected loss of precision.\n",
      "E0522 04:27:20.627624    1509 buffer_comparator.cc:156] Difference at 384: 2.70619, expected 7167.91\n",
      "E0522 04:27:20.627641    1509 buffer_comparator.cc:156] Difference at 385: 3.09352, expected 7154.8\n",
      "E0522 04:27:20.627644    1509 buffer_comparator.cc:156] Difference at 386: 3.18219, expected 7167.88\n",
      "E0522 04:27:20.627647    1509 buffer_comparator.cc:156] Difference at 387: 3.7861, expected 7169.54\n",
      "E0522 04:27:20.627649    1509 buffer_comparator.cc:156] Difference at 388: 2.9991, expected 7188.9\n",
      "E0522 04:27:20.627652    1509 buffer_comparator.cc:156] Difference at 389: 2.83619, expected 7181.1\n",
      "E0522 04:27:20.627654    1509 buffer_comparator.cc:156] Difference at 390: 2.83835, expected 7174.52\n",
      "E0522 04:27:20.627657    1509 buffer_comparator.cc:156] Difference at 391: 2.63738, expected 7183.05\n",
      "E0522 04:27:20.627659    1509 buffer_comparator.cc:156] Difference at 392: 2.79849, expected 7185.16\n",
      "E0522 04:27:20.627662    1509 buffer_comparator.cc:156] Difference at 393: 1.95448, expected 7190.95\n",
      "2025-05-22 04:27:20.627666: E external/xla/xla/service/gpu/autotuning/gemm_fusion_autotuner.cc:1138] Results do not match the reference. This is likely a bug/unexpected loss of precision.\n",
      "E0522 04:27:20.629705    1509 buffer_comparator.cc:156] Difference at 384: 2.70619, expected 7167.91\n",
      "E0522 04:27:20.629722    1509 buffer_comparator.cc:156] Difference at 385: 3.09352, expected 7154.8\n",
      "E0522 04:27:20.629726    1509 buffer_comparator.cc:156] Difference at 386: 3.18219, expected 7167.88\n",
      "E0522 04:27:20.629729    1509 buffer_comparator.cc:156] Difference at 387: 3.7861, expected 7169.54\n",
      "E0522 04:27:20.629731    1509 buffer_comparator.cc:156] Difference at 388: 2.9991, expected 7188.9\n",
      "E0522 04:27:20.629734    1509 buffer_comparator.cc:156] Difference at 389: 2.83619, expected 7181.1\n",
      "E0522 04:27:20.629736    1509 buffer_comparator.cc:156] Difference at 390: 2.83835, expected 7174.52\n",
      "E0522 04:27:20.629739    1509 buffer_comparator.cc:156] Difference at 391: 2.63738, expected 7183.05\n",
      "E0522 04:27:20.629741    1509 buffer_comparator.cc:156] Difference at 392: 2.79849, expected 7185.16\n",
      "E0522 04:27:20.629745    1509 buffer_comparator.cc:156] Difference at 393: 1.95448, expected 7190.95\n",
      "2025-05-22 04:27:20.629749: E external/xla/xla/service/gpu/autotuning/gemm_fusion_autotuner.cc:1138] Results do not match the reference. This is likely a bug/unexpected loss of precision.\n",
      "E0522 04:27:20.631560    1509 buffer_comparator.cc:156] Difference at 384: 2.70619, expected 7167.91\n",
      "E0522 04:27:20.631577    1509 buffer_comparator.cc:156] Difference at 385: 3.09352, expected 7154.8\n",
      "E0522 04:27:20.631580    1509 buffer_comparator.cc:156] Difference at 386: 3.18219, expected 7167.88\n",
      "E0522 04:27:20.631583    1509 buffer_comparator.cc:156] Difference at 387: 3.7861, expected 7169.54\n",
      "E0522 04:27:20.631586    1509 buffer_comparator.cc:156] Difference at 388: 2.9991, expected 7188.9\n",
      "E0522 04:27:20.631588    1509 buffer_comparator.cc:156] Difference at 389: 2.83619, expected 7181.1\n",
      "E0522 04:27:20.631591    1509 buffer_comparator.cc:156] Difference at 390: 2.83835, expected 7174.52\n",
      "E0522 04:27:20.631593    1509 buffer_comparator.cc:156] Difference at 391: 2.63738, expected 7183.05\n",
      "E0522 04:27:20.631596    1509 buffer_comparator.cc:156] Difference at 392: 2.79849, expected 7185.16\n",
      "E0522 04:27:20.631600    1509 buffer_comparator.cc:156] Difference at 393: 1.95448, expected 7190.95\n",
      "2025-05-22 04:27:20.631604: E external/xla/xla/service/gpu/autotuning/gemm_fusion_autotuner.cc:1138] Results do not match the reference. This is likely a bug/unexpected loss of precision.\n",
      "E0522 04:27:20.642984    1509 buffer_comparator.cc:156] Difference at 16: 511.075, expected 7159.91\n",
      "E0522 04:27:20.643004    1509 buffer_comparator.cc:156] Difference at 17: 510.348, expected 7158.61\n",
      "E0522 04:27:20.643008    1509 buffer_comparator.cc:156] Difference at 18: 520.608, expected 7120.19\n",
      "E0522 04:27:20.643011    1509 buffer_comparator.cc:156] Difference at 19: 517.201, expected 7158.06\n",
      "E0522 04:27:20.643014    1509 buffer_comparator.cc:156] Difference at 20: 516.689, expected 7168.25\n",
      "E0522 04:27:20.643017    1509 buffer_comparator.cc:156] Difference at 21: 519.302, expected 7142.77\n",
      "E0522 04:27:20.643019    1509 buffer_comparator.cc:156] Difference at 22: 524.204, expected 7147.92\n",
      "E0522 04:27:20.643022    1509 buffer_comparator.cc:156] Difference at 23: 515.775, expected 7161.71\n",
      "E0522 04:27:20.643025    1509 buffer_comparator.cc:156] Difference at 24: 494.888, expected 7152.92\n",
      "E0522 04:27:20.643028    1509 buffer_comparator.cc:156] Difference at 25: 519.187, expected 7173.6\n",
      "2025-05-22 04:27:20.643032: E external/xla/xla/service/gpu/autotuning/gemm_fusion_autotuner.cc:1138] Results do not match the reference. This is likely a bug/unexpected loss of precision.\n",
      "E0522 04:27:20.644958    1509 buffer_comparator.cc:156] Difference at 16: 511.075, expected 7159.91\n",
      "E0522 04:27:20.644976    1509 buffer_comparator.cc:156] Difference at 17: 510.348, expected 7158.61\n",
      "E0522 04:27:20.644979    1509 buffer_comparator.cc:156] Difference at 18: 520.608, expected 7120.19\n",
      "E0522 04:27:20.644982    1509 buffer_comparator.cc:156] Difference at 19: 517.201, expected 7158.06\n",
      "E0522 04:27:20.644985    1509 buffer_comparator.cc:156] Difference at 20: 516.689, expected 7168.25\n",
      "E0522 04:27:20.644987    1509 buffer_comparator.cc:156] Difference at 21: 519.302, expected 7142.77\n",
      "E0522 04:27:20.644990    1509 buffer_comparator.cc:156] Difference at 22: 524.204, expected 7147.92\n",
      "E0522 04:27:20.644992    1509 buffer_comparator.cc:156] Difference at 23: 515.775, expected 7161.71\n",
      "E0522 04:27:20.644995    1509 buffer_comparator.cc:156] Difference at 24: 494.888, expected 7152.92\n",
      "E0522 04:27:20.644998    1509 buffer_comparator.cc:156] Difference at 25: 519.187, expected 7173.6\n",
      "2025-05-22 04:27:20.645003: E external/xla/xla/service/gpu/autotuning/gemm_fusion_autotuner.cc:1138] Results do not match the reference. This is likely a bug/unexpected loss of precision.\n",
      "E0522 04:27:20.646525    1509 buffer_comparator.cc:156] Difference at 2048: 3.51095, expected 7150.77\n",
      "E0522 04:27:20.646543    1509 buffer_comparator.cc:156] Difference at 2049: 3.65015, expected 7183.52\n",
      "E0522 04:27:20.646546    1509 buffer_comparator.cc:156] Difference at 2050: 3.43176, expected 7148.48\n",
      "E0522 04:27:20.646549    1509 buffer_comparator.cc:156] Difference at 2051: 3.65667, expected 7139.34\n",
      "E0522 04:27:20.646552    1509 buffer_comparator.cc:156] Difference at 2052: 2.88512, expected 7165.03\n",
      "E0522 04:27:20.646554    1509 buffer_comparator.cc:156] Difference at 2053: 3.69075, expected 7150.29\n",
      "E0522 04:27:20.646557    1509 buffer_comparator.cc:156] Difference at 2054: 3.52876, expected 7167.78\n",
      "E0522 04:27:20.646559    1509 buffer_comparator.cc:156] Difference at 2055: 4.15592, expected 7168.49\n",
      "E0522 04:27:20.646562    1509 buffer_comparator.cc:156] Difference at 2056: 3.41294, expected 7142.72\n",
      "E0522 04:27:20.646565    1509 buffer_comparator.cc:156] Difference at 2057: 3.20616, expected 7195.74\n",
      "2025-05-22 04:27:20.646570: E external/xla/xla/service/gpu/autotuning/gemm_fusion_autotuner.cc:1138] Results do not match the reference. This is likely a bug/unexpected loss of precision.\n",
      "E0522 04:27:20.648113    1509 buffer_comparator.cc:156] Difference at 2048: 7.32412, expected 7150.77\n",
      "E0522 04:27:20.648133    1509 buffer_comparator.cc:156] Difference at 2049: 7.00654, expected 7183.52\n",
      "E0522 04:27:20.648136    1509 buffer_comparator.cc:156] Difference at 2050: 7.90419, expected 7148.48\n",
      "E0522 04:27:20.648139    1509 buffer_comparator.cc:156] Difference at 2051: 7.14975, expected 7139.34\n",
      "E0522 04:27:20.648141    1509 buffer_comparator.cc:156] Difference at 2052: 6.48093, expected 7165.03\n",
      "E0522 04:27:20.648144    1509 buffer_comparator.cc:156] Difference at 2053: 6.29732, expected 7150.29\n",
      "E0522 04:27:20.648146    1509 buffer_comparator.cc:156] Difference at 2054: 6.3866, expected 7167.78\n",
      "E0522 04:27:20.648149    1509 buffer_comparator.cc:156] Difference at 2055: 7.1054, expected 7168.49\n",
      "E0522 04:27:20.648152    1509 buffer_comparator.cc:156] Difference at 2056: 4.97296, expected 7142.72\n",
      "E0522 04:27:20.648154    1509 buffer_comparator.cc:156] Difference at 2057: 6.49705, expected 7195.74\n",
      "2025-05-22 04:27:20.648159: E external/xla/xla/service/gpu/autotuning/gemm_fusion_autotuner.cc:1138] Results do not match the reference. This is likely a bug/unexpected loss of precision.\n",
      "E0522 04:27:20.649768    1509 buffer_comparator.cc:156] Difference at 64: 2, expected 7140.46\n",
      "E0522 04:27:20.649788    1509 buffer_comparator.cc:156] Difference at 65: 0, expected 7146.8\n",
      "E0522 04:27:20.649792    1509 buffer_comparator.cc:156] Difference at 66: 0, expected 7181.1\n",
      "E0522 04:27:20.649795    1509 buffer_comparator.cc:156] Difference at 67: 0, expected 7148.19\n",
      "E0522 04:27:20.649797    1509 buffer_comparator.cc:156] Difference at 68: 1.99976, expected 7151.95\n",
      "E0522 04:27:20.649800    1509 buffer_comparator.cc:156] Difference at 69: 0, expected 7158.42\n",
      "E0522 04:27:20.649802    1509 buffer_comparator.cc:156] Difference at 70: 0.0219494, expected 7149.07\n",
      "E0522 04:27:20.649805    1509 buffer_comparator.cc:156] Difference at 71: 0, expected 7122.5\n",
      "E0522 04:27:20.649808    1509 buffer_comparator.cc:156] Difference at 72: 2, expected 7110.09\n",
      "E0522 04:27:20.649811    1509 buffer_comparator.cc:156] Difference at 73: 0, expected 7158.42\n",
      "2025-05-22 04:27:20.649815: E external/xla/xla/service/gpu/autotuning/gemm_fusion_autotuner.cc:1138] Results do not match the reference. This is likely a bug/unexpected loss of precision.\n",
      "E0522 04:27:20.652347    1509 buffer_comparator.cc:156] Difference at 4096: 1.98262, expected 7189.46\n",
      "E0522 04:27:20.652363    1509 buffer_comparator.cc:156] Difference at 4097: 0.117287, expected 7138.91\n",
      "E0522 04:27:20.652367    1509 buffer_comparator.cc:156] Difference at 4098: 0.800302, expected 7131.39\n",
      "E0522 04:27:20.652370    1509 buffer_comparator.cc:156] Difference at 4099: -0.0429269, expected 7194.73\n",
      "E0522 04:27:20.652373    1509 buffer_comparator.cc:156] Difference at 4100: 2.125, expected 7143.81\n",
      "E0522 04:27:20.652375    1509 buffer_comparator.cc:156] Difference at 4101: 0.0657296, expected 7164.51\n",
      "E0522 04:27:20.652378    1509 buffer_comparator.cc:156] Difference at 4102: 0, expected 7163.99\n",
      "E0522 04:27:20.652380    1509 buffer_comparator.cc:156] Difference at 4103: 0, expected 7186.39\n",
      "E0522 04:27:20.652383    1509 buffer_comparator.cc:156] Difference at 4104: 3.3, expected 7182.32\n",
      "E0522 04:27:20.652386    1509 buffer_comparator.cc:156] Difference at 4105: 0, expected 7163.5\n",
      "2025-05-22 04:27:20.652391: E external/xla/xla/service/gpu/autotuning/gemm_fusion_autotuner.cc:1138] Results do not match the reference. This is likely a bug/unexpected loss of precision.\n",
      "E0522 04:27:20.653901    1509 buffer_comparator.cc:156] Difference at 2080: 6.34468, expected 7166.37\n",
      "E0522 04:27:20.653918    1509 buffer_comparator.cc:156] Difference at 2081: 6.22827, expected 7157.61\n",
      "E0522 04:27:20.653921    1509 buffer_comparator.cc:156] Difference at 2082: 5.92897, expected 7130.74\n",
      "E0522 04:27:20.653924    1509 buffer_comparator.cc:156] Difference at 2083: 7.95364, expected 7166.4\n",
      "E0522 04:27:20.653927    1509 buffer_comparator.cc:156] Difference at 2084: 6.83529, expected 7181.08\n",
      "E0522 04:27:20.653929    1509 buffer_comparator.cc:156] Difference at 2085: 6.11634, expected 7147.1\n",
      "E0522 04:27:20.653932    1509 buffer_comparator.cc:156] Difference at 2086: 6.50957, expected 7156.32\n",
      "E0522 04:27:20.653934    1509 buffer_comparator.cc:156] Difference at 2087: 6.90127, expected 7173.54\n",
      "E0522 04:27:20.653937    1509 buffer_comparator.cc:156] Difference at 2088: 7.14043, expected 7156.88\n",
      "E0522 04:27:20.653939    1509 buffer_comparator.cc:156] Difference at 2089: 5.52115, expected 7185.66\n",
      "2025-05-22 04:27:20.653944: E external/xla/xla/service/gpu/autotuning/gemm_fusion_autotuner.cc:1138] Results do not match the reference. This is likely a bug/unexpected loss of precision.\n",
      "E0522 04:27:20.656386    1509 buffer_comparator.cc:156] Difference at 2080: 6.34468, expected 7166.37\n",
      "E0522 04:27:20.656403    1509 buffer_comparator.cc:156] Difference at 2081: 6.22827, expected 7157.61\n",
      "E0522 04:27:20.656407    1509 buffer_comparator.cc:156] Difference at 2082: 5.92897, expected 7130.74\n",
      "E0522 04:27:20.656409    1509 buffer_comparator.cc:156] Difference at 2083: 7.95364, expected 7166.4\n",
      "E0522 04:27:20.656412    1509 buffer_comparator.cc:156] Difference at 2084: 6.83529, expected 7181.08\n",
      "E0522 04:27:20.656415    1509 buffer_comparator.cc:156] Difference at 2085: 6.11634, expected 7147.1\n",
      "E0522 04:27:20.656417    1509 buffer_comparator.cc:156] Difference at 2086: 6.50957, expected 7156.32\n",
      "E0522 04:27:20.656420    1509 buffer_comparator.cc:156] Difference at 2087: 6.90127, expected 7173.54\n",
      "E0522 04:27:20.656422    1509 buffer_comparator.cc:156] Difference at 2088: 7.14043, expected 7156.88\n",
      "E0522 04:27:20.656426    1509 buffer_comparator.cc:156] Difference at 2089: 5.52115, expected 7185.66\n",
      "2025-05-22 04:27:20.656430: E external/xla/xla/service/gpu/autotuning/gemm_fusion_autotuner.cc:1138] Results do not match the reference. This is likely a bug/unexpected loss of precision.\n",
      "E0522 04:27:20.658592    1509 buffer_comparator.cc:156] Difference at 2080: 6.34468, expected 7166.37\n",
      "E0522 04:27:20.658609    1509 buffer_comparator.cc:156] Difference at 2081: 6.22827, expected 7157.61\n",
      "E0522 04:27:20.658613    1509 buffer_comparator.cc:156] Difference at 2082: 5.92897, expected 7130.74\n",
      "E0522 04:27:20.658615    1509 buffer_comparator.cc:156] Difference at 2083: 7.95364, expected 7166.4\n",
      "E0522 04:27:20.658618    1509 buffer_comparator.cc:156] Difference at 2084: 6.83529, expected 7181.08\n",
      "E0522 04:27:20.658620    1509 buffer_comparator.cc:156] Difference at 2085: 6.11634, expected 7147.1\n",
      "E0522 04:27:20.658623    1509 buffer_comparator.cc:156] Difference at 2086: 6.50957, expected 7156.32\n",
      "E0522 04:27:20.658626    1509 buffer_comparator.cc:156] Difference at 2087: 6.90127, expected 7173.54\n",
      "E0522 04:27:20.658628    1509 buffer_comparator.cc:156] Difference at 2088: 7.14043, expected 7156.88\n",
      "E0522 04:27:20.658631    1509 buffer_comparator.cc:156] Difference at 2089: 5.52115, expected 7185.66\n",
      "2025-05-22 04:27:20.658636: E external/xla/xla/service/gpu/autotuning/gemm_fusion_autotuner.cc:1138] Results do not match the reference. This is likely a bug/unexpected loss of precision.\n",
      "E0522 04:27:20.662034    1509 buffer_comparator.cc:156] Difference at 8192: 6.68559, expected 7177.88\n",
      "E0522 04:27:20.662052    1509 buffer_comparator.cc:156] Difference at 8193: 7.58375, expected 7170.61\n",
      "E0522 04:27:20.662055    1509 buffer_comparator.cc:156] Difference at 8194: 6.91588, expected 7169.39\n",
      "E0522 04:27:20.662058    1509 buffer_comparator.cc:156] Difference at 8195: 8.07182, expected 7151.9\n",
      "E0522 04:27:20.662060    1509 buffer_comparator.cc:156] Difference at 8196: 6.24554, expected 7156.08\n",
      "E0522 04:27:20.662063    1509 buffer_comparator.cc:156] Difference at 8197: 6.73172, expected 7151.76\n",
      "E0522 04:27:20.662066    1509 buffer_comparator.cc:156] Difference at 8198: 8.26139, expected 7148.33\n",
      "E0522 04:27:20.662068    1509 buffer_comparator.cc:156] Difference at 8199: 5.87467, expected 7177.41\n",
      "E0522 04:27:20.662071    1509 buffer_comparator.cc:156] Difference at 8200: 7.45645, expected 7172.59\n",
      "E0522 04:27:20.662073    1509 buffer_comparator.cc:156] Difference at 8201: 6.70903, expected 7181.86\n",
      "2025-05-22 04:27:20.662078: E external/xla/xla/service/gpu/autotuning/gemm_fusion_autotuner.cc:1138] Results do not match the reference. This is likely a bug/unexpected loss of precision.\n",
      "E0522 04:27:20.665699    1509 buffer_comparator.cc:156] Difference at 8256: 7.46592, expected 7173.34\n",
      "E0522 04:27:20.665716    1509 buffer_comparator.cc:156] Difference at 8257: 7.26511, expected 7167.23\n",
      "E0522 04:27:20.665719    1509 buffer_comparator.cc:156] Difference at 8258: 8.02615, expected 7190.95\n",
      "E0522 04:27:20.665722    1509 buffer_comparator.cc:156] Difference at 8259: 4.70401, expected 7193.43\n",
      "E0522 04:27:20.665725    1509 buffer_comparator.cc:156] Difference at 8260: 5.60151, expected 7165.82\n",
      "E0522 04:27:20.665727    1509 buffer_comparator.cc:156] Difference at 8261: 7.1002, expected 7223.59\n",
      "E0522 04:27:20.665730    1509 buffer_comparator.cc:156] Difference at 8262: 6.66963, expected 7113.55\n",
      "E0522 04:27:20.665732    1509 buffer_comparator.cc:156] Difference at 8263: 6.38551, expected 7164.93\n",
      "E0522 04:27:20.665735    1509 buffer_comparator.cc:156] Difference at 8264: 7.72248, expected 7170.11\n",
      "E0522 04:27:20.665738    1509 buffer_comparator.cc:156] Difference at 8265: 6.14439, expected 7170.28\n",
      "2025-05-22 04:27:20.665743: E external/xla/xla/service/gpu/autotuning/gemm_fusion_autotuner.cc:1138] Results do not match the reference. This is likely a bug/unexpected loss of precision.\n",
      "E0522 04:27:20.673684    1509 buffer_comparator.cc:156] Difference at 16: 7159.91, expected 31.471\n",
      "E0522 04:27:20.673703    1509 buffer_comparator.cc:156] Difference at 17: 7158.61, expected 28.1786\n",
      "E0522 04:27:20.673707    1509 buffer_comparator.cc:156] Difference at 18: 7120.19, expected 33.0668\n",
      "E0522 04:27:20.673710    1509 buffer_comparator.cc:156] Difference at 19: 7158.06, expected 29.1891\n",
      "E0522 04:27:20.673713    1509 buffer_comparator.cc:156] Difference at 20: 7168.25, expected 28.6906\n",
      "E0522 04:27:20.673715    1509 buffer_comparator.cc:156] Difference at 21: 7142.77, expected 29.8778\n",
      "E0522 04:27:20.673718    1509 buffer_comparator.cc:156] Difference at 22: 7147.92, expected 30.0375\n",
      "E0522 04:27:20.673721    1509 buffer_comparator.cc:156] Difference at 23: 7161.71, expected 30.3082\n",
      "E0522 04:27:20.673724    1509 buffer_comparator.cc:156] Difference at 24: 7152.92, expected 31.9259\n",
      "E0522 04:27:20.673727    1509 buffer_comparator.cc:156] Difference at 25: 7173.6, expected 29.2447\n",
      "2025-05-22 04:27:20.673731: E external/xla/xla/service/gpu/autotuning/gemm_fusion_autotuner.cc:1138] Results do not match the reference. This is likely a bug/unexpected loss of precision.\n",
      "E0522 04:27:20.674678    1509 buffer_comparator.cc:156] Difference at 16: 7159.91, expected 31.471\n",
      "E0522 04:27:20.674695    1509 buffer_comparator.cc:156] Difference at 17: 7158.61, expected 28.1786\n",
      "E0522 04:27:20.674699    1509 buffer_comparator.cc:156] Difference at 18: 7120.19, expected 33.0668\n",
      "E0522 04:27:20.674702    1509 buffer_comparator.cc:156] Difference at 19: 7158.06, expected 29.1891\n",
      "E0522 04:27:20.674704    1509 buffer_comparator.cc:156] Difference at 20: 7168.25, expected 28.6906\n",
      "E0522 04:27:20.674707    1509 buffer_comparator.cc:156] Difference at 21: 7142.77, expected 29.8778\n",
      "E0522 04:27:20.674710    1509 buffer_comparator.cc:156] Difference at 22: 7147.92, expected 30.0375\n",
      "E0522 04:27:20.674712    1509 buffer_comparator.cc:156] Difference at 23: 7161.71, expected 30.3082\n",
      "E0522 04:27:20.674715    1509 buffer_comparator.cc:156] Difference at 24: 7152.92, expected 31.9259\n",
      "E0522 04:27:20.674718    1509 buffer_comparator.cc:156] Difference at 25: 7173.6, expected 29.2447\n",
      "2025-05-22 04:27:20.674723: E external/xla/xla/service/gpu/autotuning/gemm_fusion_autotuner.cc:1138] Results do not match the reference. This is likely a bug/unexpected loss of precision.\n",
      "E0522 04:27:20.675660    1509 buffer_comparator.cc:156] Difference at 16: 7159.91, expected 31.471\n",
      "E0522 04:27:20.675678    1509 buffer_comparator.cc:156] Difference at 17: 7158.61, expected 28.1786\n",
      "E0522 04:27:20.675682    1509 buffer_comparator.cc:156] Difference at 18: 7120.19, expected 33.0668\n",
      "E0522 04:27:20.675684    1509 buffer_comparator.cc:156] Difference at 19: 7158.06, expected 29.1891\n",
      "E0522 04:27:20.675687    1509 buffer_comparator.cc:156] Difference at 20: 7168.25, expected 28.6906\n",
      "E0522 04:27:20.675690    1509 buffer_comparator.cc:156] Difference at 21: 7142.77, expected 29.8778\n",
      "E0522 04:27:20.675692    1509 buffer_comparator.cc:156] Difference at 22: 7147.92, expected 30.0375\n",
      "E0522 04:27:20.675695    1509 buffer_comparator.cc:156] Difference at 23: 7161.71, expected 30.3082\n",
      "E0522 04:27:20.675698    1509 buffer_comparator.cc:156] Difference at 24: 7152.92, expected 31.9259\n",
      "E0522 04:27:20.675701    1509 buffer_comparator.cc:156] Difference at 25: 7173.6, expected 29.2447\n",
      "2025-05-22 04:27:20.675706: E external/xla/xla/service/gpu/autotuning/gemm_fusion_autotuner.cc:1138] Results do not match the reference. This is likely a bug/unexpected loss of precision.\n",
      "E0522 04:27:20.676646    1509 buffer_comparator.cc:156] Difference at 32: 7137.43, expected 28.3323\n",
      "E0522 04:27:20.676663    1509 buffer_comparator.cc:156] Difference at 33: 7153.77, expected 27.9965\n",
      "E0522 04:27:20.676667    1509 buffer_comparator.cc:156] Difference at 34: 7133.22, expected 28.5102\n",
      "E0522 04:27:20.676669    1509 buffer_comparator.cc:156] Difference at 35: 7156.2, expected 28.106\n",
      "E0522 04:27:20.676672    1509 buffer_comparator.cc:156] Difference at 36: 7138.04, expected 31.1546\n",
      "E0522 04:27:20.676675    1509 buffer_comparator.cc:156] Difference at 37: 7159.89, expected 30.4731\n",
      "E0522 04:27:20.676678    1509 buffer_comparator.cc:156] Difference at 38: 7135.26, expected 29.2083\n",
      "E0522 04:27:20.676680    1509 buffer_comparator.cc:156] Difference at 39: 7114.05, expected 32.7929\n",
      "E0522 04:27:20.676683    1509 buffer_comparator.cc:156] Difference at 40: 7174.04, expected 30.2495\n",
      "E0522 04:27:20.676686    1509 buffer_comparator.cc:156] Difference at 41: 7179.83, expected 28.2269\n",
      "2025-05-22 04:27:20.676690: E external/xla/xla/service/gpu/autotuning/gemm_fusion_autotuner.cc:1138] Results do not match the reference. This is likely a bug/unexpected loss of precision.\n",
      "E0522 04:27:20.677634    1509 buffer_comparator.cc:156] Difference at 32: 7137.43, expected 28.3323\n",
      "E0522 04:27:20.677650    1509 buffer_comparator.cc:156] Difference at 33: 7153.77, expected 27.9965\n",
      "E0522 04:27:20.677653    1509 buffer_comparator.cc:156] Difference at 34: 7133.22, expected 28.5102\n",
      "E0522 04:27:20.677656    1509 buffer_comparator.cc:156] Difference at 35: 7156.2, expected 28.106\n",
      "E0522 04:27:20.677659    1509 buffer_comparator.cc:156] Difference at 36: 7138.04, expected 31.1546\n",
      "E0522 04:27:20.677661    1509 buffer_comparator.cc:156] Difference at 37: 7159.89, expected 30.4731\n",
      "E0522 04:27:20.677664    1509 buffer_comparator.cc:156] Difference at 38: 7135.26, expected 29.2083\n",
      "E0522 04:27:20.677666    1509 buffer_comparator.cc:156] Difference at 39: 7114.05, expected 32.7929\n",
      "E0522 04:27:20.677669    1509 buffer_comparator.cc:156] Difference at 40: 7174.04, expected 30.2495\n",
      "E0522 04:27:20.677672    1509 buffer_comparator.cc:156] Difference at 41: 7179.83, expected 28.2269\n",
      "2025-05-22 04:27:20.677677: E external/xla/xla/service/gpu/autotuning/gemm_fusion_autotuner.cc:1138] Results do not match the reference. This is likely a bug/unexpected loss of precision.\n",
      "E0522 04:27:20.678622    1509 buffer_comparator.cc:156] Difference at 32: 7137.43, expected 28.3323\n",
      "E0522 04:27:20.678639    1509 buffer_comparator.cc:156] Difference at 33: 7153.77, expected 27.9965\n",
      "E0522 04:27:20.678642    1509 buffer_comparator.cc:156] Difference at 34: 7133.22, expected 28.5102\n",
      "E0522 04:27:20.678645    1509 buffer_comparator.cc:156] Difference at 35: 7156.2, expected 28.106\n",
      "E0522 04:27:20.678648    1509 buffer_comparator.cc:156] Difference at 36: 7138.04, expected 31.1546\n",
      "E0522 04:27:20.678650    1509 buffer_comparator.cc:156] Difference at 37: 7159.89, expected 30.4731\n",
      "E0522 04:27:20.678653    1509 buffer_comparator.cc:156] Difference at 38: 7135.26, expected 29.2083\n",
      "E0522 04:27:20.678655    1509 buffer_comparator.cc:156] Difference at 39: 7114.05, expected 32.7929\n",
      "E0522 04:27:20.678658    1509 buffer_comparator.cc:156] Difference at 40: 7174.04, expected 30.2495\n",
      "E0522 04:27:20.678662    1509 buffer_comparator.cc:156] Difference at 41: 7179.83, expected 28.2269\n",
      "2025-05-22 04:27:20.678666: E external/xla/xla/service/gpu/autotuning/gemm_fusion_autotuner.cc:1138] Results do not match the reference. This is likely a bug/unexpected loss of precision.\n",
      "E0522 04:27:20.679618    1509 buffer_comparator.cc:156] Difference at 64: 7140.46, expected 26.9171\n",
      "E0522 04:27:20.679636    1509 buffer_comparator.cc:156] Difference at 65: 7146.8, expected 28.9346\n",
      "E0522 04:27:20.679639    1509 buffer_comparator.cc:156] Difference at 66: 7181.1, expected 26.4092\n",
      "E0522 04:27:20.679642    1509 buffer_comparator.cc:156] Difference at 67: 7148.19, expected 32.7482\n",
      "E0522 04:27:20.679645    1509 buffer_comparator.cc:156] Difference at 68: 7151.95, expected 29.3376\n",
      "E0522 04:27:20.679647    1509 buffer_comparator.cc:156] Difference at 69: 7158.42, expected 32.7949\n",
      "E0522 04:27:20.679650    1509 buffer_comparator.cc:156] Difference at 70: 7149.07, expected 31.1439\n",
      "E0522 04:27:20.679652    1509 buffer_comparator.cc:156] Difference at 71: 7122.5, expected 31.8523\n",
      "E0522 04:27:20.679655    1509 buffer_comparator.cc:156] Difference at 72: 7110.09, expected 31.4902\n",
      "E0522 04:27:20.679658    1509 buffer_comparator.cc:156] Difference at 73: 7158.42, expected 29.0495\n",
      "2025-05-22 04:27:20.679663: E external/xla/xla/service/gpu/autotuning/gemm_fusion_autotuner.cc:1138] Results do not match the reference. This is likely a bug/unexpected loss of precision.\n",
      "E0522 04:27:20.680748    1509 buffer_comparator.cc:156] Difference at 64: 7140.46, expected 26.9171\n",
      "E0522 04:27:20.680767    1509 buffer_comparator.cc:156] Difference at 65: 7146.8, expected 28.9346\n",
      "E0522 04:27:20.680771    1509 buffer_comparator.cc:156] Difference at 66: 7181.1, expected 26.4092\n",
      "E0522 04:27:20.680773    1509 buffer_comparator.cc:156] Difference at 67: 7148.19, expected 32.7482\n",
      "E0522 04:27:20.680776    1509 buffer_comparator.cc:156] Difference at 68: 7151.95, expected 29.3376\n",
      "E0522 04:27:20.680778    1509 buffer_comparator.cc:156] Difference at 69: 7158.42, expected 32.7949\n",
      "E0522 04:27:20.680781    1509 buffer_comparator.cc:156] Difference at 70: 7149.07, expected 31.1439\n",
      "E0522 04:27:20.680784    1509 buffer_comparator.cc:156] Difference at 71: 7122.5, expected 31.8523\n",
      "E0522 04:27:20.680786    1509 buffer_comparator.cc:156] Difference at 72: 7110.09, expected 31.4902\n",
      "E0522 04:27:20.680789    1509 buffer_comparator.cc:156] Difference at 73: 7158.42, expected 29.0495\n",
      "2025-05-22 04:27:20.680794: E external/xla/xla/service/gpu/autotuning/gemm_fusion_autotuner.cc:1138] Results do not match the reference. This is likely a bug/unexpected loss of precision.\n",
      "E0522 04:27:20.681738    1509 buffer_comparator.cc:156] Difference at 64: 7140.46, expected 26.9171\n",
      "E0522 04:27:20.681755    1509 buffer_comparator.cc:156] Difference at 65: 7146.8, expected 28.9346\n",
      "E0522 04:27:20.681759    1509 buffer_comparator.cc:156] Difference at 66: 7181.1, expected 26.4092\n",
      "E0522 04:27:20.681761    1509 buffer_comparator.cc:156] Difference at 67: 7148.19, expected 32.7482\n",
      "E0522 04:27:20.681764    1509 buffer_comparator.cc:156] Difference at 68: 7151.95, expected 29.3376\n",
      "E0522 04:27:20.681766    1509 buffer_comparator.cc:156] Difference at 69: 7158.42, expected 32.7949\n",
      "E0522 04:27:20.681769    1509 buffer_comparator.cc:156] Difference at 70: 7149.07, expected 31.1439\n",
      "E0522 04:27:20.681772    1509 buffer_comparator.cc:156] Difference at 71: 7122.5, expected 31.8523\n",
      "E0522 04:27:20.681774    1509 buffer_comparator.cc:156] Difference at 72: 7110.09, expected 31.4902\n",
      "E0522 04:27:20.681778    1509 buffer_comparator.cc:156] Difference at 73: 7158.42, expected 29.0495\n",
      "2025-05-22 04:27:20.681782: E external/xla/xla/service/gpu/autotuning/gemm_fusion_autotuner.cc:1138] Results do not match the reference. This is likely a bug/unexpected loss of precision.\n",
      "E0522 04:27:20.682759    1509 buffer_comparator.cc:156] Difference at 64: 7140.46, expected 26.9171\n",
      "E0522 04:27:20.682775    1509 buffer_comparator.cc:156] Difference at 65: 7146.8, expected 28.9346\n",
      "E0522 04:27:20.682779    1509 buffer_comparator.cc:156] Difference at 66: 7181.1, expected 26.4092\n",
      "E0522 04:27:20.682782    1509 buffer_comparator.cc:156] Difference at 67: 7148.19, expected 32.7482\n",
      "E0522 04:27:20.682784    1509 buffer_comparator.cc:156] Difference at 68: 7151.95, expected 29.3376\n",
      "E0522 04:27:20.682787    1509 buffer_comparator.cc:156] Difference at 69: 7158.42, expected 32.7949\n",
      "E0522 04:27:20.682789    1509 buffer_comparator.cc:156] Difference at 70: 7149.07, expected 31.1439\n",
      "E0522 04:27:20.682792    1509 buffer_comparator.cc:156] Difference at 71: 7122.5, expected 31.8523\n",
      "E0522 04:27:20.682794    1509 buffer_comparator.cc:156] Difference at 72: 7110.09, expected 31.4902\n",
      "E0522 04:27:20.682798    1509 buffer_comparator.cc:156] Difference at 73: 7158.42, expected 29.0495\n",
      "2025-05-22 04:27:20.682803: E external/xla/xla/service/gpu/autotuning/gemm_fusion_autotuner.cc:1138] Results do not match the reference. This is likely a bug/unexpected loss of precision.\n",
      "E0522 04:27:20.683756    1509 buffer_comparator.cc:156] Difference at 64: 7140.46, expected 26.9171\n",
      "E0522 04:27:20.683774    1509 buffer_comparator.cc:156] Difference at 65: 7146.8, expected 28.9346\n",
      "E0522 04:27:20.683777    1509 buffer_comparator.cc:156] Difference at 66: 7181.1, expected 26.4092\n",
      "E0522 04:27:20.683780    1509 buffer_comparator.cc:156] Difference at 67: 7148.19, expected 32.7482\n",
      "E0522 04:27:20.683783    1509 buffer_comparator.cc:156] Difference at 68: 7151.95, expected 29.3376\n",
      "E0522 04:27:20.683785    1509 buffer_comparator.cc:156] Difference at 69: 7158.42, expected 32.7949\n",
      "E0522 04:27:20.683788    1509 buffer_comparator.cc:156] Difference at 70: 7149.07, expected 31.1439\n",
      "E0522 04:27:20.683790    1509 buffer_comparator.cc:156] Difference at 71: 7122.5, expected 31.8523\n",
      "E0522 04:27:20.683793    1509 buffer_comparator.cc:156] Difference at 72: 7110.09, expected 31.4902\n",
      "E0522 04:27:20.683796    1509 buffer_comparator.cc:156] Difference at 73: 7158.42, expected 29.0495\n",
      "2025-05-22 04:27:20.683801: E external/xla/xla/service/gpu/autotuning/gemm_fusion_autotuner.cc:1138] Results do not match the reference. This is likely a bug/unexpected loss of precision.\n",
      "E0522 04:27:20.686556    1509 buffer_comparator.cc:156] Difference at 17: 31.6119, expected 28.1786\n",
      "E0522 04:27:20.686574    1509 buffer_comparator.cc:156] Difference at 22: 35.6622, expected 30.0375\n",
      "E0522 04:27:20.686578    1509 buffer_comparator.cc:156] Difference at 32: 32.0801, expected 28.3323\n",
      "E0522 04:27:20.686581    1509 buffer_comparator.cc:156] Difference at 34: 31.8938, expected 28.5102\n",
      "E0522 04:27:20.686584    1509 buffer_comparator.cc:156] Difference at 54: 32.1932, expected 28.8057\n",
      "E0522 04:27:20.686587    1509 buffer_comparator.cc:156] Difference at 91: 34.1792, expected 29.0598\n",
      "E0522 04:27:20.686589    1509 buffer_comparator.cc:156] Difference at 93: 33.4836, expected 29.862\n",
      "E0522 04:27:20.686592    1509 buffer_comparator.cc:156] Difference at 107: 26.6943, expected 30.6881\n",
      "E0522 04:27:20.686594    1509 buffer_comparator.cc:156] Difference at 110: 37.2676, expected 32.9708\n",
      "E0522 04:27:20.686597    1509 buffer_comparator.cc:156] Difference at 147: 26.6633, expected 29.7541\n",
      "2025-05-22 04:27:20.686602: E external/xla/xla/service/gpu/autotuning/gemm_fusion_autotuner.cc:1138] Results do not match the reference. This is likely a bug/unexpected loss of precision.\n"
     ]
    },
    {
     "name": "stdout",
     "output_type": "stream",
     "text": [
      "step 131072 | reward -0.00012291103\n",
      "✓ training done in 52.0s\n"
     ]
    }
   ],
   "source": [
    "metrics_log = []\n",
    "def progress(step, m):\n",
    "    metrics_log.append((step, m))\n",
    "    print(f\"step {step:6d} | reward\",\n",
    "          m.get('evaluation/episode_reward',\n",
    "                m.get('eval/episode_reward',\n",
    "                      m.get('eval/episode_return', '?'))))\n",
    "\n",
    "t0 = time.time()\n",
    "make_policy, params, final_metrics = ppo_train.train(\n",
    "    environment           = single_env,\n",
    "    wrap_env              = True,             # let Brax add AutoReset etc.\n",
    "    network_factory       = make_networks_tiny,\n",
    "    progress_fn           = progress,\n",
    "    **hp\n",
    ")\n",
    "print(f'✓ training done in {time.time()-t0:.1f}s')"
   ]
  },
  {
   "cell_type": "markdown",
   "id": "8a5eb0c2",
   "metadata": {},
   "source": [
    "### Reward curve"
   ]
  },
  {
   "cell_type": "code",
   "execution_count": 24,
   "id": "d7793eab",
   "metadata": {},
   "outputs": [
    {
     "data": {
      "image/png": "[encoded data removed]",
      "text/plain": [
       "<Figure size 640x480 with 1 Axes>"
      ]
     },
     "metadata": {},
     "output_type": "display_data"
    }
   ],
   "source": [
    "rew = [m[1].get('evaluation/episode_reward',\n",
    "                m[1].get('eval/episode_reward',\n",
    "                         m[1].get('eval/episode_return', 0.0)))\n",
    "       for m in metrics_log]\n",
    "plt.plot(rew); plt.title('Eval episode reward'); plt.xlabel('eval #'); plt.ylabel('m'); plt.grid(); plt.show()"
   ]
  },
  {
   "cell_type": "markdown",
   "id": "1c5e483f",
   "metadata": {},
   "source": [
    "### Visulazie MuJoCo"
   ]
  },
  {
   "cell_type": "code",
   "execution_count": 25,
   "id": "c273ef89",
   "metadata": {},
   "outputs": [],
   "source": [
    "import time\n",
    "import jax, jax.numpy as jnp\n",
    "import numpy as np\n",
    "from mujoco.glfw import glfw\n",
    "\n",
    "from passive_walker.envs.mujoco_env import PassiveWalkerEnv\n",
    "\n",
    "# ---------- 1.  grab the trained weights and inference fn -------------------\n",
    "policy_fn = make_policy(params, deterministic=True)     \n",
    "\n",
    "# ---------- 2.  launch a GUI MuJoCo sim ------------------------------------\n",
    "\n",
    "mj_env = PassiveWalkerEnv(\n",
    "    str(XML_PATH),\n",
    "    simend          = 10.0,   \n",
    "    use_nn_for_hip  = True,\n",
    "    use_nn_for_knees= True,\n",
    "    use_gui         = True,\n",
    "    rng_seed=42\n",
    ")\n",
    "\n",
    "obs  = mj_env.reset()                       \n",
    "key  = jax.random.PRNGKey(0)              \n",
    "done = False\n",
    "cum_reward = 0.0\n",
    "t0 = time.time()\n",
    "mj_env.render()"
   ]
  },
  {
   "cell_type": "code",
   "execution_count": 26,
   "id": "91f608f1",
   "metadata": {},
   "outputs": [
    {
     "name": "stdout",
     "output_type": "stream",
     "text": [
      "\n",
      "Episode finished in 21.1s  |  total reward = 252.47\n"
     ]
    }
   ],
   "source": [
    "# ---------- 3.  control‑loop -------------------------------------------------\n",
    "while not done and (not mj_env.window or not glfw.window_should_close(mj_env.window)):\n",
    "    key, sub = jax.random.split(key)        \n",
    "    act_jax, _ = policy_fn(jnp.array(obs), sub)\n",
    "    act = np.asarray(act_jax, dtype=np.float32)  \n",
    "\n",
    "    obs, reward, done, _ = mj_env.step(act)      # one physics step\n",
    "    cum_reward += reward\n",
    "    mj_env.render(mode=\"human\")                  # draw frame (blocking)\n",
    "\n",
    "print(f\"\\nEpisode finished in {time.time()-t0:.1f}s  |  total reward = {cum_reward:.2f}\")\n",
    "mj_env.close()"
   ]
  },
  {
   "cell_type": "markdown",
   "id": "1ee6cce8",
   "metadata": {},
   "source": [
    "# Full Enhanced PPO Experiment Suite"
   ]
  },
  {
   "cell_type": "markdown",
   "id": "ac5d8d0d",
   "metadata": {},
   "source": [
    "### Imports & Common Helpers"
   ]
  },
  {
   "cell_type": "code",
   "execution_count": 27,
   "id": "a72aaafc",
   "metadata": {},
   "outputs": [],
   "source": [
    "import brax.training.types as _bt\n",
    "\n",
    "def _uint64_to_numpy(self):\n",
    "    hi = int(self.hi)   # force Python int\n",
    "    lo = int(self.lo)\n",
    "    return (hi << 32) | lo\n",
    "\n",
    "# override the methods in-place\n",
    "#   _bt.UInt64.to_numpy = _uint64_to_numpy\n",
    "#   _bt.UInt64.__int__    = lambda self: _uint64_to_numpy(self)"
   ]
  },
  {
   "cell_type": "code",
   "execution_count": 28,
   "id": "e21950bb",
   "metadata": {},
   "outputs": [
    {
     "name": "stdout",
     "output_type": "stream",
     "text": [
      "JAX default device: cuda:0\n",
      "All JAX devices: [CudaDevice(id=0)]\n"
     ]
    },
    {
     "name": "stderr",
     "output_type": "stream",
     "text": [
      "/home/yunusdanabas/miniconda3/envs/ens492/lib/python3.10/site-packages/tqdm/auto.py:21: TqdmWarning: IProgress not found. Please update jupyter and ipywidgets. See https://ipywidgets.readthedocs.io/en/stable/user_install.html\n",
      "  from .autonotebook import tqdm as notebook_tqdm\n"
     ]
    }
   ],
   "source": [
    "# core ----------------------------------------------------------------------\n",
    "import os, time, json, hashlib, functools, itertools, pathlib, msgpack\n",
    "import jax, brax  \n",
    "\n",
    "from dataclasses import dataclass, asdict\n",
    "from typing import Dict, Any, List\n",
    "\n",
    "import numpy as np\n",
    "import jax, jax.numpy as jnp\n",
    "import flax\n",
    "import matplotlib.pyplot as plt\n",
    "import pandas as pd\n",
    "from tqdm.auto import tqdm\n",
    "import IPython.display as ipd\n",
    "import math\n",
    "import optax\n",
    "\n",
    "# brax ----------------------------------------------------------------------\n",
    "import brax\n",
    "from brax.training.agents.ppo import train as ppo_train\n",
    "from brax.training.agents import ppo as ppo_nets     # network helpers\n",
    "from brax.training.agents.ppo import networks as ppo_networks\n",
    "from brax.training.agents.ppo.networks import make_ppo_networks, make_inference_fn\n",
    "\n",
    "from brax.training import types\n",
    "\n",
    "# reproducibility & JAX memory ----------------------------------------------\n",
    "os.environ[\"XLA_PYTHON_CLIENT_PREALLOCATE\"] = \"false\"\n",
    "# jax.config.update(\"jax_platform_name\", \"cpu\")   # comment out for GPU/TPU\n",
    "jax.config.update(\"jax_default_matmul_precision\", \"float32\")  # optional\n",
    "jax.config.update(\"jax_platform_name\", \"gpu\")\n",
    "\n",
    "print(\"JAX default device:\", jax.devices()[0])\n",
    "print(\"All JAX devices:\", jax.devices())\n"
   ]
  },
  {
   "cell_type": "markdown",
   "id": "296a805a",
   "metadata": {},
   "source": [
    "### Define the Sweep Grid"
   ]
  },
  {
   "cell_type": "code",
   "execution_count": 29,
   "id": "19c4bebb",
   "metadata": {},
   "outputs": [],
   "source": [
    "@dataclass\n",
    "class SweepConfig:\n",
    "    seed: int\n",
    "    reward_scale: float\n",
    "    lr: float\n",
    "    arch: str              # NEW field: “small” or “deep”\n",
    "    tag: str\n",
    "\n",
    "    def __post_init__(self):\n",
    "        self.seed         = int(self.seed)\n",
    "        self.reward_scale = float(self.reward_scale)\n",
    "        self.lr           = float(self.lr)\n",
    "\n",
    "    def hash(self) -> str:\n",
    "        return hashlib.sha1(json.dumps(asdict(self), sort_keys=True).encode())\\\n",
    "                     .hexdigest()[:8]\n"
   ]
  },
  {
   "cell_type": "code",
   "execution_count": 30,
   "id": "d8fb8375",
   "metadata": {},
   "outputs": [
    {
     "name": "stdout",
     "output_type": "stream",
     "text": [
      "Total runs: 120\n"
     ]
    }
   ],
   "source": [
    "from itertools import product\n",
    "\n",
    "seeds         = [0, 1, 2]                      # 3 seeds\n",
    "reward_scales = [0.5, 1.0]                     # 2 reward multipliers\n",
    "lrs           = [1e-3, 5e-4, 1e-4, 1e-5]       # 4 learning rates\n",
    "archs         = [\"tiny\", \"small\", \"medium\",\n",
    "                 \"deep\", \"deepXL\"]          # 5 network sizes\n",
    "\n",
    "# 3 × 2 × 4 × 5 = 120 training jobs\n",
    "grid = [\n",
    "    SweepConfig(\n",
    "        s, rs, lr, arch,\n",
    "        tag=f\"S{s}|R{rs}|LR{lr}|A{arch}\"\n",
    "    )\n",
    "    for s, rs, lr, arch in product(seeds, reward_scales, lrs, archs)\n",
    "]\n",
    "print(\"Total runs:\", len(grid))  # → 120\n"
   ]
  },
  {
   "cell_type": "code",
   "execution_count": 31,
   "id": "0bf0b4a5",
   "metadata": {},
   "outputs": [],
   "source": [
    "# ╔══════════════════════════════════════════════════════════════════════╗\n",
    "# 1.  Network factory – map every 'arch' string to widths                #\n",
    "# ╚══════════════════════════════════════════════════════════════════════╝\n",
    "def make_networks_factory(observation_size: int,\n",
    "                          action_size: int,\n",
    "                          cfg: SweepConfig,\n",
    "                          preprocess_observations_fn=types.identity_observation_preprocessor):\n",
    "\n",
    "    match cfg.arch:\n",
    "        # ─── LIGHT MODELS ───────────────────────────────────────────────\n",
    "        case \"tiny\":                       # ≈ 40 k params\n",
    "            print(\"  using tiny networks\")\n",
    "            ph = (64, 64)                  # 2 layers of 64\n",
    "            vh = (128, 128, 128)           # value net a bit deeper\n",
    "        case \"small\":                      # ≈ 150 k params\n",
    "            print(\"  using small networks\")\n",
    "            ph = (128, 128, 128, 128)      # 4 layers\n",
    "            vh = (256,)*6\n",
    "        case \"medium\":                     # ≈ 1 M params\n",
    "            print(\"  using medium networks\")\n",
    "            ph = (256,)*6                  # 6 layers\n",
    "            vh = (512,)*8\n",
    "\n",
    "        # ─── HEAVY MODELS (unchanged) ──────────────────────────────────\n",
    "\n",
    "        case \"deep\":                      # ≈ 4 M params\n",
    "            print(\"  using large networks\")\n",
    "            ph = (512,)*6                  # 6 layers\n",
    "            vh = (1024,)*8\n",
    "\n",
    "        case \"deepXL\":\n",
    "            print(\"  using deepXL networks\")\n",
    "            ph = (512,)*12\n",
    "            vh = (1024,)*14\n",
    "\n",
    "        case other:\n",
    "            raise ValueError(f\"Unknown arch {other}\")\n",
    "\n",
    "    return make_ppo_networks(\n",
    "        observation_size           = observation_size,\n",
    "        action_size                = action_size,\n",
    "        policy_hidden_layer_sizes  = ph,\n",
    "        value_hidden_layer_sizes   = vh,\n",
    "        preprocess_observations_fn = preprocess_observations_fn,\n",
    "        activation                 = jax.nn.tanh,\n",
    "    )\n"
   ]
  },
  {
   "cell_type": "code",
   "execution_count": 32,
   "id": "c9240252",
   "metadata": {},
   "outputs": [],
   "source": [
    "from passive_walker.constants import RESULTS\n",
    "\n",
    "RESULT_DIR = RESULTS / \"brax\" / \"sweep_results\"\n",
    "RESULT_DIR.mkdir(exist_ok=True)"
   ]
  },
  {
   "cell_type": "markdown",
   "id": "86b2ea8d",
   "metadata": {},
   "source": [
    "### Automated Training Loop"
   ]
  },
  {
   "cell_type": "code",
   "execution_count": 33,
   "id": "4eb81670",
   "metadata": {},
   "outputs": [],
   "source": [
    "NUM_TIMESTEPS = 24 * 1024 * 1024          # 24 M updates ≈ twice your previous run\n",
    "NUM_ENVS      = 128                       # more parallel simulators\n",
    "EPISODE_LENGTH = 1024                      # 1k steps per episode\n",
    "BATCH_SIZE    = 4096                      # ≈ NUM_ENVS × episode_length\n",
    "\n",
    "def build_hp(cfg: SweepConfig, network_factory):\n",
    "    return dict(\n",
    "        num_timesteps   = NUM_TIMESTEPS,\n",
    "        num_envs        = NUM_ENVS,\n",
    "        episode_length  = EPISODE_LENGTH,\n",
    "        batch_size      = BATCH_SIZE,\n",
    "        reward_scaling  = cfg.reward_scale,\n",
    "        learning_rate   = cfg.lr,\n",
    "        seed            = cfg.seed,\n",
    "        network_factory = network_factory,\n",
    "        entropy_cost    = 1e-3,\n",
    "        wrap_env        = True,\n",
    "        num_evals       = 1,              # final eval only\n",
    "    )"
   ]
  },
  {
   "cell_type": "code",
   "execution_count": 34,
   "id": "d5ec6f51",
   "metadata": {},
   "outputs": [],
   "source": [
    "from tqdm.auto import tqdm\n",
    "from brax.training.agents.ppo import train as ppo_train\n",
    "import pathlib, msgpack, flax, jax\n",
    "\n",
    "\n",
    "def run_one(cfg: SweepConfig):\n",
    "    # build env\n",
    "    env = BraxPassiveWalker(walker_sys)\n",
    "\n",
    "    net_factory = lambda obs_sz, act_sz, **_: (\n",
    "        make_networks_factory(obs_sz, act_sz, cfg)\n",
    "    )\n",
    "\n",
    "    hp = build_hp(cfg, net_factory)\n",
    "\n",
    "    make_policy, params, metrics = ppo_train.train(\n",
    "        environment = env,\n",
    "        progress_fn = lambda *_: None,\n",
    "        **hp\n",
    "    )\n",
    "\n",
    "    metrics_py = jax.tree_util.tree_map(\n",
    "        lambda x: float(jax.device_get(x)) if isinstance(x, jax.Array) else x,\n",
    "        metrics\n",
    "    )\n",
    "    params_bytes = flax.serialization.to_bytes(params)\n",
    "\n",
    "    run_data = {\n",
    "        \"cfg\":          asdict(cfg),\n",
    "        \"metrics\":      metrics_py,\n",
    "        \"params_bytes\": params_bytes,\n",
    "    }\n",
    "    out_file = RESULT_DIR / f\"run_{cfg.hash()}.msgpack\"\n",
    "    with open(out_file, \"wb\") as f:\n",
    "        msgpack.pack(run_data, f, use_bin_type=True)\n",
    "\n",
    "    return {\"file\": str(out_file), **run_data}"
   ]
  },
  {
   "cell_type": "code",
   "execution_count": 35,
   "id": "178ae856",
   "metadata": {},
   "outputs": [
    {
     "name": "stderr",
     "output_type": "stream",
     "text": [
      "Sweep:   0%|          | 0/120 [00:00<?, ?run/s]"
     ]
    },
    {
     "name": "stdout",
     "output_type": "stream",
     "text": [
      "  using tiny networks\n"
     ]
    },
    {
     "name": "stderr",
     "output_type": "stream",
     "text": [
      "Sweep:   1%|          | 1/120 [01:41<3:22:05, 101.89s/run]"
     ]
    },
    {
     "name": "stdout",
     "output_type": "stream",
     "text": [
      "  using small networks\n"
     ]
    },
    {
     "name": "stderr",
     "output_type": "stream",
     "text": [
      "Sweep:   2%|▏         | 2/120 [03:39<3:38:49, 111.26s/run]"
     ]
    },
    {
     "name": "stdout",
     "output_type": "stream",
     "text": [
      "  using medium networks\n"
     ]
    },
    {
     "name": "stderr",
     "output_type": "stream",
     "text": [
      "Sweep:   2%|▎         | 3/120 [06:42<4:41:04, 144.14s/run]"
     ]
    },
    {
     "name": "stdout",
     "output_type": "stream",
     "text": [
      "  using large networks\n"
     ]
    },
    {
     "name": "stderr",
     "output_type": "stream",
     "text": [
      "Sweep:   3%|▎         | 4/120 [12:48<7:27:25, 231.43s/run]"
     ]
    },
    {
     "name": "stdout",
     "output_type": "stream",
     "text": [
      "  using deepXL networks\n"
     ]
    },
    {
     "name": "stderr",
     "output_type": "stream",
     "text": [
      "Sweep:   4%|▍         | 5/120 [22:54<11:42:32, 366.54s/run]"
     ]
    },
    {
     "name": "stdout",
     "output_type": "stream",
     "text": [
      "  using tiny networks\n"
     ]
    },
    {
     "name": "stderr",
     "output_type": "stream",
     "text": [
      "Sweep:   5%|▌         | 6/120 [24:34<8:44:06, 275.85s/run] "
     ]
    },
    {
     "name": "stdout",
     "output_type": "stream",
     "text": [
      "  using small networks\n"
     ]
    },
    {
     "name": "stderr",
     "output_type": "stream",
     "text": [
      "Sweep:   6%|▌         | 7/120 [26:33<7:03:18, 224.77s/run]"
     ]
    },
    {
     "name": "stdout",
     "output_type": "stream",
     "text": [
      "  using medium networks\n"
     ]
    },
    {
     "name": "stderr",
     "output_type": "stream",
     "text": [
      "Sweep:   7%|▋         | 8/120 [29:38<6:35:57, 212.12s/run]"
     ]
    },
    {
     "name": "stdout",
     "output_type": "stream",
     "text": [
      "  using large networks\n"
     ]
    },
    {
     "name": "stderr",
     "output_type": "stream",
     "text": [
      "Sweep:   8%|▊         | 9/120 [35:41<7:59:32, 259.21s/run]"
     ]
    },
    {
     "name": "stdout",
     "output_type": "stream",
     "text": [
      "  using deepXL networks\n"
     ]
    },
    {
     "name": "stderr",
     "output_type": "stream",
     "text": [
      "Sweep:   8%|▊         | 10/120 [45:43<11:09:09, 365.00s/run]"
     ]
    },
    {
     "name": "stdout",
     "output_type": "stream",
     "text": [
      "  using tiny networks\n"
     ]
    },
    {
     "name": "stderr",
     "output_type": "stream",
     "text": [
      "Sweep:   9%|▉         | 11/120 [47:18<8:32:54, 282.34s/run] "
     ]
    },
    {
     "name": "stdout",
     "output_type": "stream",
     "text": [
      "  using small networks\n"
     ]
    },
    {
     "name": "stderr",
     "output_type": "stream",
     "text": [
      "Sweep:  10%|█         | 12/120 [49:14<6:57:23, 231.88s/run]"
     ]
    },
    {
     "name": "stdout",
     "output_type": "stream",
     "text": [
      "  using medium networks\n"
     ]
    },
    {
     "name": "stderr",
     "output_type": "stream",
     "text": [
      "Sweep:  11%|█         | 13/120 [52:13<6:25:00, 215.90s/run]"
     ]
    },
    {
     "name": "stdout",
     "output_type": "stream",
     "text": [
      "  using large networks\n"
     ]
    },
    {
     "name": "stderr",
     "output_type": "stream",
     "text": [
      "Sweep:  12%|█▏        | 14/120 [58:19<7:41:28, 261.22s/run]"
     ]
    },
    {
     "name": "stdout",
     "output_type": "stream",
     "text": [
      "  using deepXL networks\n"
     ]
    },
    {
     "name": "stderr",
     "output_type": "stream",
     "text": [
      "Sweep:  12%|█▎        | 15/120 [1:08:25<10:38:52, 365.07s/run]"
     ]
    },
    {
     "name": "stdout",
     "output_type": "stream",
     "text": [
      "  using tiny networks\n"
     ]
    },
    {
     "name": "stderr",
     "output_type": "stream",
     "text": [
      "Sweep:  13%|█▎        | 16/120 [1:10:01<8:12:25, 284.09s/run] "
     ]
    },
    {
     "name": "stdout",
     "output_type": "stream",
     "text": [
      "  using small networks\n"
     ]
    },
    {
     "name": "stderr",
     "output_type": "stream",
     "text": [
      "Sweep:  14%|█▍        | 17/120 [1:12:00<6:42:19, 234.37s/run]"
     ]
    },
    {
     "name": "stdout",
     "output_type": "stream",
     "text": [
      "  using medium networks\n"
     ]
    },
    {
     "name": "stderr",
     "output_type": "stream",
     "text": [
      "Sweep:  15%|█▌        | 18/120 [1:15:01<6:10:59, 218.23s/run]"
     ]
    },
    {
     "name": "stdout",
     "output_type": "stream",
     "text": [
      "  using large networks\n"
     ]
    },
    {
     "name": "stderr",
     "output_type": "stream",
     "text": [
      "Sweep:  16%|█▌        | 19/120 [1:21:07<7:22:16, 262.74s/run]"
     ]
    },
    {
     "name": "stdout",
     "output_type": "stream",
     "text": [
      "  using deepXL networks\n"
     ]
    },
    {
     "name": "stderr",
     "output_type": "stream",
     "text": [
      "Sweep:  17%|█▋        | 20/120 [1:31:14<10:10:17, 366.18s/run]"
     ]
    },
    {
     "name": "stdout",
     "output_type": "stream",
     "text": [
      "  using tiny networks\n"
     ]
    },
    {
     "name": "stderr",
     "output_type": "stream",
     "text": [
      "Sweep:  18%|█▊        | 21/120 [1:32:52<7:51:12, 285.59s/run] "
     ]
    },
    {
     "name": "stdout",
     "output_type": "stream",
     "text": [
      "  using small networks\n"
     ]
    },
    {
     "name": "stderr",
     "output_type": "stream",
     "text": [
      "Sweep:  18%|█▊        | 22/120 [1:34:48<6:23:12, 234.62s/run]"
     ]
    },
    {
     "name": "stdout",
     "output_type": "stream",
     "text": [
      "  using medium networks\n"
     ]
    },
    {
     "name": "stderr",
     "output_type": "stream",
     "text": [
      "Sweep:  19%|█▉        | 23/120 [1:37:52<5:55:04, 219.63s/run]"
     ]
    },
    {
     "name": "stdout",
     "output_type": "stream",
     "text": [
      "  using large networks\n"
     ]
    },
    {
     "name": "stderr",
     "output_type": "stream",
     "text": [
      "Sweep:  20%|██        | 24/120 [1:43:56<7:00:27, 262.78s/run]"
     ]
    },
    {
     "name": "stdout",
     "output_type": "stream",
     "text": [
      "  using deepXL networks\n"
     ]
    },
    {
     "name": "stderr",
     "output_type": "stream",
     "text": [
      "Sweep:  21%|██        | 25/120 [1:53:59<9:37:40, 364.85s/run]"
     ]
    },
    {
     "name": "stdout",
     "output_type": "stream",
     "text": [
      "  using tiny networks\n"
     ]
    },
    {
     "name": "stderr",
     "output_type": "stream",
     "text": [
      "Sweep:  22%|██▏       | 26/120 [1:55:42<7:28:35, 286.34s/run]"
     ]
    },
    {
     "name": "stdout",
     "output_type": "stream",
     "text": [
      "  using small networks\n"
     ]
    },
    {
     "name": "stderr",
     "output_type": "stream",
     "text": [
      "Sweep:  22%|██▎       | 27/120 [1:57:39<6:05:12, 235.62s/run]"
     ]
    },
    {
     "name": "stdout",
     "output_type": "stream",
     "text": [
      "  using medium networks\n"
     ]
    },
    {
     "name": "stderr",
     "output_type": "stream",
     "text": [
      "Sweep:  23%|██▎       | 28/120 [2:00:41<5:36:45, 219.62s/run]"
     ]
    },
    {
     "name": "stdout",
     "output_type": "stream",
     "text": [
      "  using large networks\n"
     ]
    },
    {
     "name": "stderr",
     "output_type": "stream",
     "text": [
      "Sweep:  24%|██▍       | 29/120 [2:06:47<6:39:26, 263.37s/run]"
     ]
    },
    {
     "name": "stdout",
     "output_type": "stream",
     "text": [
      "  using deepXL networks\n"
     ]
    },
    {
     "name": "stderr",
     "output_type": "stream",
     "text": [
      "Sweep:  25%|██▌       | 30/120 [2:16:56<9:10:27, 366.97s/run]"
     ]
    },
    {
     "name": "stdout",
     "output_type": "stream",
     "text": [
      "  using tiny networks\n"
     ]
    },
    {
     "name": "stderr",
     "output_type": "stream",
     "text": [
      "Sweep:  26%|██▌       | 31/120 [2:18:32<7:04:00, 285.85s/run]"
     ]
    },
    {
     "name": "stdout",
     "output_type": "stream",
     "text": [
      "  using small networks\n"
     ]
    },
    {
     "name": "stderr",
     "output_type": "stream",
     "text": [
      "Sweep:  27%|██▋       | 32/120 [2:20:27<5:43:57, 234.52s/run]"
     ]
    },
    {
     "name": "stdout",
     "output_type": "stream",
     "text": [
      "  using medium networks\n"
     ]
    },
    {
     "name": "stderr",
     "output_type": "stream",
     "text": [
      "Sweep:  28%|██▊       | 33/120 [2:23:28<5:16:36, 218.35s/run]"
     ]
    },
    {
     "name": "stdout",
     "output_type": "stream",
     "text": [
      "  using large networks\n"
     ]
    },
    {
     "name": "stderr",
     "output_type": "stream",
     "text": [
      "Sweep:  28%|██▊       | 34/120 [2:29:35<6:17:04, 263.07s/run]"
     ]
    },
    {
     "name": "stdout",
     "output_type": "stream",
     "text": [
      "  using deepXL networks\n"
     ]
    },
    {
     "name": "stderr",
     "output_type": "stream",
     "text": [
      "Sweep:  29%|██▉       | 35/120 [2:39:41<8:38:18, 365.87s/run]"
     ]
    },
    {
     "name": "stdout",
     "output_type": "stream",
     "text": [
      "  using tiny networks\n"
     ]
    },
    {
     "name": "stderr",
     "output_type": "stream",
     "text": [
      "Sweep:  30%|███       | 36/120 [2:41:17<6:39:03, 285.04s/run]"
     ]
    },
    {
     "name": "stdout",
     "output_type": "stream",
     "text": [
      "  using small networks\n"
     ]
    },
    {
     "name": "stderr",
     "output_type": "stream",
     "text": [
      "Sweep:  31%|███       | 37/120 [2:43:13<5:23:56, 234.17s/run]"
     ]
    },
    {
     "name": "stdout",
     "output_type": "stream",
     "text": [
      "  using medium networks\n"
     ]
    },
    {
     "name": "stderr",
     "output_type": "stream",
     "text": [
      "Sweep:  32%|███▏      | 38/120 [2:46:14<4:58:22, 218.32s/run]"
     ]
    },
    {
     "name": "stdout",
     "output_type": "stream",
     "text": [
      "  using large networks\n"
     ]
    },
    {
     "name": "stderr",
     "output_type": "stream",
     "text": [
      "Sweep:  32%|███▎      | 39/120 [2:52:24<5:56:10, 263.83s/run]"
     ]
    },
    {
     "name": "stdout",
     "output_type": "stream",
     "text": [
      "  using deepXL networks\n"
     ]
    },
    {
     "name": "stderr",
     "output_type": "stream",
     "text": [
      "Sweep:  33%|███▎      | 40/120 [3:02:32<8:09:25, 367.07s/run]"
     ]
    },
    {
     "name": "stdout",
     "output_type": "stream",
     "text": [
      "  using tiny networks\n"
     ]
    },
    {
     "name": "stderr",
     "output_type": "stream",
     "text": [
      "Sweep:  34%|███▍      | 41/120 [3:04:11<6:17:15, 286.52s/run]"
     ]
    },
    {
     "name": "stdout",
     "output_type": "stream",
     "text": [
      "  using small networks\n"
     ]
    },
    {
     "name": "stderr",
     "output_type": "stream",
     "text": [
      "Sweep:  35%|███▌      | 42/120 [3:06:08<5:06:24, 235.70s/run]"
     ]
    },
    {
     "name": "stdout",
     "output_type": "stream",
     "text": [
      "  using medium networks\n"
     ]
    },
    {
     "name": "stderr",
     "output_type": "stream",
     "text": [
      "Sweep:  36%|███▌      | 43/120 [3:09:09<4:41:40, 219.48s/run]"
     ]
    },
    {
     "name": "stdout",
     "output_type": "stream",
     "text": [
      "  using large networks\n"
     ]
    },
    {
     "name": "stderr",
     "output_type": "stream",
     "text": [
      "Sweep:  37%|███▋      | 44/120 [3:15:13<5:32:43, 262.68s/run]"
     ]
    },
    {
     "name": "stdout",
     "output_type": "stream",
     "text": [
      "  using deepXL networks\n"
     ]
    },
    {
     "name": "stderr",
     "output_type": "stream",
     "text": [
      "Sweep:  38%|███▊      | 45/120 [3:25:20<7:37:33, 366.04s/run]"
     ]
    },
    {
     "name": "stdout",
     "output_type": "stream",
     "text": [
      "  using tiny networks\n"
     ]
    },
    {
     "name": "stderr",
     "output_type": "stream",
     "text": [
      "Sweep:  38%|███▊      | 46/120 [3:27:00<5:53:08, 286.33s/run]"
     ]
    },
    {
     "name": "stdout",
     "output_type": "stream",
     "text": [
      "  using small networks\n"
     ]
    },
    {
     "name": "stderr",
     "output_type": "stream",
     "text": [
      "Sweep:  39%|███▉      | 47/120 [3:29:00<4:47:41, 236.46s/run]"
     ]
    },
    {
     "name": "stdout",
     "output_type": "stream",
     "text": [
      "  using medium networks\n"
     ]
    },
    {
     "name": "stderr",
     "output_type": "stream",
     "text": [
      "Sweep:  40%|████      | 48/120 [3:32:05<4:25:06, 220.92s/run]"
     ]
    },
    {
     "name": "stdout",
     "output_type": "stream",
     "text": [
      "  using large networks\n"
     ]
    },
    {
     "name": "stderr",
     "output_type": "stream",
     "text": [
      "Sweep:  41%|████      | 49/120 [3:38:10<5:12:34, 264.15s/run]"
     ]
    },
    {
     "name": "stdout",
     "output_type": "stream",
     "text": [
      "  using deepXL networks\n"
     ]
    },
    {
     "name": "stderr",
     "output_type": "stream",
     "text": [
      "Sweep:  42%|████▏     | 50/120 [3:48:15<7:07:35, 366.51s/run]"
     ]
    },
    {
     "name": "stdout",
     "output_type": "stream",
     "text": [
      "  using tiny networks\n"
     ]
    },
    {
     "name": "stderr",
     "output_type": "stream",
     "text": [
      "Sweep:  42%|████▎     | 51/120 [3:50:02<5:31:43, 288.46s/run]"
     ]
    },
    {
     "name": "stdout",
     "output_type": "stream",
     "text": [
      "  using small networks\n"
     ]
    },
    {
     "name": "stderr",
     "output_type": "stream",
     "text": [
      "Sweep:  43%|████▎     | 52/120 [3:52:00<4:29:09, 237.50s/run]"
     ]
    },
    {
     "name": "stdout",
     "output_type": "stream",
     "text": [
      "  using medium networks\n"
     ]
    },
    {
     "name": "stderr",
     "output_type": "stream",
     "text": [
      "Sweep:  44%|████▍     | 53/120 [3:55:03<4:06:58, 221.17s/run]"
     ]
    },
    {
     "name": "stdout",
     "output_type": "stream",
     "text": [
      "  using large networks\n"
     ]
    },
    {
     "name": "stderr",
     "output_type": "stream",
     "text": [
      "Sweep:  45%|████▌     | 54/120 [4:01:09<4:51:02, 264.59s/run]"
     ]
    },
    {
     "name": "stdout",
     "output_type": "stream",
     "text": [
      "  using deepXL networks\n"
     ]
    },
    {
     "name": "stderr",
     "output_type": "stream",
     "text": [
      "Sweep:  46%|████▌     | 55/120 [4:11:17<6:38:17, 367.66s/run]"
     ]
    },
    {
     "name": "stdout",
     "output_type": "stream",
     "text": [
      "  using tiny networks\n"
     ]
    },
    {
     "name": "stderr",
     "output_type": "stream",
     "text": [
      "Sweep:  47%|████▋     | 56/120 [4:12:58<5:06:40, 287.51s/run]"
     ]
    },
    {
     "name": "stdout",
     "output_type": "stream",
     "text": [
      "  using small networks\n"
     ]
    },
    {
     "name": "stderr",
     "output_type": "stream",
     "text": [
      "Sweep:  48%|████▊     | 57/120 [4:14:56<4:08:24, 236.58s/run]"
     ]
    },
    {
     "name": "stdout",
     "output_type": "stream",
     "text": [
      "  using medium networks\n"
     ]
    },
    {
     "name": "stderr",
     "output_type": "stream",
     "text": [
      "Sweep:  48%|████▊     | 58/120 [4:18:08<3:50:51, 223.41s/run]"
     ]
    },
    {
     "name": "stdout",
     "output_type": "stream",
     "text": [
      "  using large networks\n"
     ]
    },
    {
     "name": "stderr",
     "output_type": "stream",
     "text": [
      "Sweep:  49%|████▉     | 59/120 [4:24:16<4:31:03, 266.61s/run]"
     ]
    },
    {
     "name": "stdout",
     "output_type": "stream",
     "text": [
      "  using deepXL networks\n"
     ]
    },
    {
     "name": "stderr",
     "output_type": "stream",
     "text": [
      "Sweep:  50%|█████     | 60/120 [4:34:24<6:09:03, 369.06s/run]"
     ]
    },
    {
     "name": "stdout",
     "output_type": "stream",
     "text": [
      "  using tiny networks\n"
     ]
    },
    {
     "name": "stderr",
     "output_type": "stream",
     "text": [
      "Sweep:  51%|█████     | 61/120 [4:36:03<4:43:23, 288.19s/run]"
     ]
    },
    {
     "name": "stdout",
     "output_type": "stream",
     "text": [
      "  using small networks\n"
     ]
    },
    {
     "name": "stderr",
     "output_type": "stream",
     "text": [
      "Sweep:  52%|█████▏    | 62/120 [4:38:02<3:49:17, 237.20s/run]"
     ]
    },
    {
     "name": "stdout",
     "output_type": "stream",
     "text": [
      "  using medium networks\n"
     ]
    },
    {
     "name": "stderr",
     "output_type": "stream",
     "text": [
      "Sweep:  52%|█████▎    | 63/120 [4:41:04<3:29:47, 220.83s/run]"
     ]
    },
    {
     "name": "stdout",
     "output_type": "stream",
     "text": [
      "  using large networks\n"
     ]
    },
    {
     "name": "stderr",
     "output_type": "stream",
     "text": [
      "Sweep:  53%|█████▎    | 64/120 [4:47:08<4:06:05, 263.68s/run]"
     ]
    },
    {
     "name": "stdout",
     "output_type": "stream",
     "text": [
      "  using deepXL networks\n"
     ]
    },
    {
     "name": "stderr",
     "output_type": "stream",
     "text": [
      "Sweep:  54%|█████▍    | 65/120 [4:57:16<5:36:31, 367.12s/run]"
     ]
    },
    {
     "name": "stdout",
     "output_type": "stream",
     "text": [
      "  using tiny networks\n"
     ]
    },
    {
     "name": "stderr",
     "output_type": "stream",
     "text": [
      "Sweep:  55%|█████▌    | 66/120 [4:58:55<4:17:48, 286.45s/run]"
     ]
    },
    {
     "name": "stdout",
     "output_type": "stream",
     "text": [
      "  using small networks\n"
     ]
    },
    {
     "name": "stderr",
     "output_type": "stream",
     "text": [
      "Sweep:  56%|█████▌    | 67/120 [5:00:52<3:28:09, 235.65s/run]"
     ]
    },
    {
     "name": "stdout",
     "output_type": "stream",
     "text": [
      "  using medium networks\n"
     ]
    },
    {
     "name": "stderr",
     "output_type": "stream",
     "text": [
      "Sweep:  57%|█████▋    | 68/120 [5:03:54<3:10:27, 219.76s/run]"
     ]
    },
    {
     "name": "stdout",
     "output_type": "stream",
     "text": [
      "  using large networks\n"
     ]
    },
    {
     "name": "stderr",
     "output_type": "stream",
     "text": [
      "Sweep:  57%|█████▊    | 69/120 [5:09:59<3:43:47, 263.28s/run]"
     ]
    },
    {
     "name": "stdout",
     "output_type": "stream",
     "text": [
      "  using deepXL networks\n"
     ]
    },
    {
     "name": "stderr",
     "output_type": "stream",
     "text": [
      "Sweep:  58%|█████▊    | 70/120 [5:20:03<5:04:24, 365.29s/run]"
     ]
    },
    {
     "name": "stdout",
     "output_type": "stream",
     "text": [
      "  using tiny networks\n"
     ]
    },
    {
     "name": "stderr",
     "output_type": "stream",
     "text": [
      "Sweep:  59%|█████▉    | 71/120 [5:21:42<3:53:08, 285.48s/run]"
     ]
    },
    {
     "name": "stdout",
     "output_type": "stream",
     "text": [
      "  using small networks\n"
     ]
    },
    {
     "name": "stderr",
     "output_type": "stream",
     "text": [
      "Sweep:  60%|██████    | 72/120 [5:23:40<3:08:06, 235.14s/run]"
     ]
    },
    {
     "name": "stdout",
     "output_type": "stream",
     "text": [
      "  using medium networks\n"
     ]
    },
    {
     "name": "stderr",
     "output_type": "stream",
     "text": [
      "Sweep:  61%|██████    | 73/120 [5:26:50<2:53:46, 221.85s/run]"
     ]
    },
    {
     "name": "stdout",
     "output_type": "stream",
     "text": [
      "  using large networks\n"
     ]
    },
    {
     "name": "stderr",
     "output_type": "stream",
     "text": [
      "Sweep:  62%|██████▏   | 74/120 [5:32:55<3:23:02, 264.83s/run]"
     ]
    },
    {
     "name": "stdout",
     "output_type": "stream",
     "text": [
      "  using deepXL networks\n"
     ]
    },
    {
     "name": "stderr",
     "output_type": "stream",
     "text": [
      "Sweep:  62%|██████▎   | 75/120 [5:43:02<4:35:36, 367.48s/run]"
     ]
    },
    {
     "name": "stdout",
     "output_type": "stream",
     "text": [
      "  using tiny networks\n"
     ]
    },
    {
     "name": "stderr",
     "output_type": "stream",
     "text": [
      "Sweep:  63%|██████▎   | 76/120 [5:44:42<3:30:31, 287.09s/run]"
     ]
    },
    {
     "name": "stdout",
     "output_type": "stream",
     "text": [
      "  using small networks\n"
     ]
    },
    {
     "name": "stderr",
     "output_type": "stream",
     "text": [
      "Sweep:  64%|██████▍   | 77/120 [5:46:40<2:49:29, 236.51s/run]"
     ]
    },
    {
     "name": "stdout",
     "output_type": "stream",
     "text": [
      "  using medium networks\n"
     ]
    },
    {
     "name": "stderr",
     "output_type": "stream",
     "text": [
      "Sweep:  65%|██████▌   | 78/120 [5:49:42<2:33:59, 219.99s/run]"
     ]
    },
    {
     "name": "stdout",
     "output_type": "stream",
     "text": [
      "  using large networks\n"
     ]
    },
    {
     "name": "stderr",
     "output_type": "stream",
     "text": [
      "Sweep:  66%|██████▌   | 79/120 [5:55:46<2:59:53, 263.27s/run]"
     ]
    },
    {
     "name": "stdout",
     "output_type": "stream",
     "text": [
      "  using deepXL networks\n"
     ]
    },
    {
     "name": "stderr",
     "output_type": "stream",
     "text": [
      "Sweep:  67%|██████▋   | 80/120 [6:05:54<4:04:21, 366.53s/run]"
     ]
    },
    {
     "name": "stdout",
     "output_type": "stream",
     "text": [
      "  using tiny networks\n"
     ]
    },
    {
     "name": "stderr",
     "output_type": "stream",
     "text": [
      "Sweep:  68%|██████▊   | 81/120 [6:07:40<3:07:24, 288.33s/run]"
     ]
    },
    {
     "name": "stdout",
     "output_type": "stream",
     "text": [
      "  using small networks\n"
     ]
    },
    {
     "name": "stderr",
     "output_type": "stream",
     "text": [
      "Sweep:  68%|██████▊   | 82/120 [6:09:36<2:30:01, 236.89s/run]"
     ]
    },
    {
     "name": "stdout",
     "output_type": "stream",
     "text": [
      "  using medium networks\n"
     ]
    },
    {
     "name": "stderr",
     "output_type": "stream",
     "text": [
      "Sweep:  69%|██████▉   | 83/120 [6:12:38<2:15:50, 220.28s/run]"
     ]
    },
    {
     "name": "stdout",
     "output_type": "stream",
     "text": [
      "  using large networks\n"
     ]
    },
    {
     "name": "stderr",
     "output_type": "stream",
     "text": [
      "Sweep:  70%|███████   | 84/120 [6:18:41<2:37:55, 263.22s/run]"
     ]
    },
    {
     "name": "stdout",
     "output_type": "stream",
     "text": [
      "  using deepXL networks\n"
     ]
    },
    {
     "name": "stderr",
     "output_type": "stream",
     "text": [
      "Sweep:  71%|███████   | 85/120 [6:28:44<3:32:55, 365.02s/run]"
     ]
    },
    {
     "name": "stdout",
     "output_type": "stream",
     "text": [
      "  using tiny networks\n"
     ]
    },
    {
     "name": "stderr",
     "output_type": "stream",
     "text": [
      "Sweep:  72%|███████▏  | 86/120 [6:30:22<2:41:29, 284.97s/run]"
     ]
    },
    {
     "name": "stdout",
     "output_type": "stream",
     "text": [
      "  using small networks\n"
     ]
    },
    {
     "name": "stderr",
     "output_type": "stream",
     "text": [
      "Sweep:  72%|███████▎  | 87/120 [6:32:19<2:09:00, 234.56s/run]"
     ]
    },
    {
     "name": "stdout",
     "output_type": "stream",
     "text": [
      "  using medium networks\n"
     ]
    },
    {
     "name": "stderr",
     "output_type": "stream",
     "text": [
      "Sweep:  73%|███████▎  | 88/120 [6:35:29<1:57:58, 221.20s/run]"
     ]
    },
    {
     "name": "stdout",
     "output_type": "stream",
     "text": [
      "  using large networks\n"
     ]
    },
    {
     "name": "stderr",
     "output_type": "stream",
     "text": [
      "Sweep:  74%|███████▍  | 89/120 [6:41:34<2:16:36, 264.41s/run]"
     ]
    },
    {
     "name": "stdout",
     "output_type": "stream",
     "text": [
      "  using deepXL networks\n"
     ]
    },
    {
     "name": "stderr",
     "output_type": "stream",
     "text": [
      "Sweep:  75%|███████▌  | 90/120 [6:51:41<3:03:34, 367.17s/run]"
     ]
    },
    {
     "name": "stdout",
     "output_type": "stream",
     "text": [
      "  using tiny networks\n"
     ]
    },
    {
     "name": "stderr",
     "output_type": "stream",
     "text": [
      "Sweep:  76%|███████▌  | 91/120 [6:53:19<2:18:22, 286.30s/run]"
     ]
    },
    {
     "name": "stdout",
     "output_type": "stream",
     "text": [
      "  using small networks\n"
     ]
    },
    {
     "name": "stderr",
     "output_type": "stream",
     "text": [
      "Sweep:  77%|███████▋  | 92/120 [6:55:16<1:49:57, 235.63s/run]"
     ]
    },
    {
     "name": "stdout",
     "output_type": "stream",
     "text": [
      "  using medium networks\n"
     ]
    },
    {
     "name": "stderr",
     "output_type": "stream",
     "text": [
      "Sweep:  78%|███████▊  | 93/120 [6:58:18<1:38:44, 219.41s/run]"
     ]
    },
    {
     "name": "stdout",
     "output_type": "stream",
     "text": [
      "  using large networks\n"
     ]
    },
    {
     "name": "stderr",
     "output_type": "stream",
     "text": [
      "Sweep:  78%|███████▊  | 94/120 [7:04:23<1:54:03, 263.22s/run]"
     ]
    },
    {
     "name": "stdout",
     "output_type": "stream",
     "text": [
      "  using deepXL networks\n"
     ]
    },
    {
     "name": "stderr",
     "output_type": "stream",
     "text": [
      "Sweep:  79%|███████▉  | 95/120 [7:14:30<2:32:36, 366.27s/run]"
     ]
    },
    {
     "name": "stdout",
     "output_type": "stream",
     "text": [
      "  using tiny networks\n"
     ]
    },
    {
     "name": "stderr",
     "output_type": "stream",
     "text": [
      "Sweep:  80%|████████  | 96/120 [7:16:18<1:55:31, 288.81s/run]"
     ]
    },
    {
     "name": "stdout",
     "output_type": "stream",
     "text": [
      "  using small networks\n"
     ]
    },
    {
     "name": "stderr",
     "output_type": "stream",
     "text": [
      "Sweep:  81%|████████  | 97/120 [7:18:16<1:31:07, 237.72s/run]"
     ]
    },
    {
     "name": "stdout",
     "output_type": "stream",
     "text": [
      "  using medium networks\n"
     ]
    },
    {
     "name": "stderr",
     "output_type": "stream",
     "text": [
      "Sweep:  82%|████████▏ | 98/120 [7:21:20<1:21:12, 221.50s/run]"
     ]
    },
    {
     "name": "stdout",
     "output_type": "stream",
     "text": [
      "  using large networks\n"
     ]
    },
    {
     "name": "stderr",
     "output_type": "stream",
     "text": [
      "Sweep:  82%|████████▎ | 99/120 [7:27:26<1:32:38, 264.69s/run]"
     ]
    },
    {
     "name": "stdout",
     "output_type": "stream",
     "text": [
      "  using deepXL networks\n"
     ]
    },
    {
     "name": "stderr",
     "output_type": "stream",
     "text": [
      "Sweep:  83%|████████▎ | 100/120 [7:37:35<2:02:40, 368.00s/run]"
     ]
    },
    {
     "name": "stdout",
     "output_type": "stream",
     "text": [
      "  using tiny networks\n"
     ]
    },
    {
     "name": "stderr",
     "output_type": "stream",
     "text": [
      "Sweep:  84%|████████▍ | 101/120 [7:39:13<1:30:53, 287.01s/run]"
     ]
    },
    {
     "name": "stdout",
     "output_type": "stream",
     "text": [
      "  using small networks\n"
     ]
    },
    {
     "name": "stderr",
     "output_type": "stream",
     "text": [
      "Sweep:  85%|████████▌ | 102/120 [7:41:09<1:10:46, 235.94s/run]"
     ]
    },
    {
     "name": "stdout",
     "output_type": "stream",
     "text": [
      "  using medium networks\n"
     ]
    },
    {
     "name": "stderr",
     "output_type": "stream",
     "text": [
      "Sweep:  86%|████████▌ | 103/120 [7:44:22<1:03:07, 222.79s/run]"
     ]
    },
    {
     "name": "stdout",
     "output_type": "stream",
     "text": [
      "  using large networks\n"
     ]
    },
    {
     "name": "stderr",
     "output_type": "stream",
     "text": [
      "Sweep:  87%|████████▋ | 104/120 [7:50:54<1:12:56, 273.54s/run]"
     ]
    },
    {
     "name": "stdout",
     "output_type": "stream",
     "text": [
      "  using deepXL networks\n"
     ]
    },
    {
     "name": "stderr",
     "output_type": "stream",
     "text": [
      "Sweep:  88%|████████▊ | 105/120 [8:02:56<1:42:05, 408.34s/run]"
     ]
    },
    {
     "name": "stdout",
     "output_type": "stream",
     "text": [
      "  using tiny networks\n"
     ]
    },
    {
     "name": "stderr",
     "output_type": "stream",
     "text": [
      "Sweep:  88%|████████▊ | 106/120 [8:04:43<1:14:08, 317.72s/run]"
     ]
    },
    {
     "name": "stdout",
     "output_type": "stream",
     "text": [
      "  using small networks\n"
     ]
    },
    {
     "name": "stderr",
     "output_type": "stream",
     "text": [
      "Sweep:  89%|████████▉ | 107/120 [8:06:37<55:38, 256.81s/run]  "
     ]
    },
    {
     "name": "stdout",
     "output_type": "stream",
     "text": [
      "  using medium networks\n"
     ]
    },
    {
     "name": "stderr",
     "output_type": "stream",
     "text": [
      "Sweep:  90%|█████████ | 108/120 [8:10:03<48:15, 241.31s/run]"
     ]
    },
    {
     "name": "stdout",
     "output_type": "stream",
     "text": [
      "  using large networks\n"
     ]
    },
    {
     "name": "stderr",
     "output_type": "stream",
     "text": [
      "Sweep:  91%|█████████ | 109/120 [8:17:12<54:34, 297.66s/run]"
     ]
    },
    {
     "name": "stdout",
     "output_type": "stream",
     "text": [
      "  using deepXL networks\n"
     ]
    },
    {
     "name": "stderr",
     "output_type": "stream",
     "text": [
      "Sweep:  92%|█████████▏| 110/120 [8:28:38<1:09:02, 414.24s/run]"
     ]
    },
    {
     "name": "stdout",
     "output_type": "stream",
     "text": [
      "  using tiny networks\n"
     ]
    },
    {
     "name": "stderr",
     "output_type": "stream",
     "text": [
      "Sweep:  92%|█████████▎| 111/120 [8:30:37<48:50, 325.66s/run]  "
     ]
    },
    {
     "name": "stdout",
     "output_type": "stream",
     "text": [
      "  using small networks\n"
     ]
    },
    {
     "name": "stderr",
     "output_type": "stream",
     "text": [
      "Sweep:  93%|█████████▎| 112/120 [8:32:40<35:18, 264.83s/run]"
     ]
    },
    {
     "name": "stdout",
     "output_type": "stream",
     "text": [
      "  using medium networks\n"
     ]
    },
    {
     "name": "stderr",
     "output_type": "stream",
     "text": [
      "Sweep:  94%|█████████▍| 113/120 [8:35:52<28:21, 243.10s/run]"
     ]
    },
    {
     "name": "stdout",
     "output_type": "stream",
     "text": [
      "  using large networks\n"
     ]
    },
    {
     "name": "stderr",
     "output_type": "stream",
     "text": [
      "Sweep:  95%|█████████▌| 114/120 [8:42:49<29:31, 295.29s/run]"
     ]
    },
    {
     "name": "stdout",
     "output_type": "stream",
     "text": [
      "  using deepXL networks\n"
     ]
    },
    {
     "name": "stderr",
     "output_type": "stream",
     "text": [
      "Sweep:  96%|█████████▌| 115/120 [8:53:13<32:48, 393.80s/run]"
     ]
    },
    {
     "name": "stdout",
     "output_type": "stream",
     "text": [
      "  using tiny networks\n"
     ]
    },
    {
     "name": "stderr",
     "output_type": "stream",
     "text": [
      "Sweep:  97%|█████████▋| 116/120 [8:54:52<20:21, 305.32s/run]"
     ]
    },
    {
     "name": "stdout",
     "output_type": "stream",
     "text": [
      "  using small networks\n"
     ]
    },
    {
     "name": "stderr",
     "output_type": "stream",
     "text": [
      "Sweep:  98%|█████████▊| 117/120 [8:56:52<12:29, 249.67s/run]"
     ]
    },
    {
     "name": "stdout",
     "output_type": "stream",
     "text": [
      "  using medium networks\n"
     ]
    },
    {
     "name": "stderr",
     "output_type": "stream",
     "text": [
      "Sweep:  98%|█████████▊| 118/120 [8:59:58<07:41, 230.62s/run]"
     ]
    },
    {
     "name": "stdout",
     "output_type": "stream",
     "text": [
      "  using large networks\n"
     ]
    },
    {
     "name": "stderr",
     "output_type": "stream",
     "text": [
      "Sweep:  99%|█████████▉| 119/120 [9:06:21<04:36, 276.51s/run]"
     ]
    },
    {
     "name": "stdout",
     "output_type": "stream",
     "text": [
      "  using deepXL networks\n"
     ]
    },
    {
     "name": "stderr",
     "output_type": "stream",
     "text": [
      "Sweep: 100%|██████████| 120/120 [9:16:43<00:00, 278.37s/run]\n"
     ]
    }
   ],
   "source": [
    "all_results = []\n",
    "for cfg in tqdm(grid, desc=\"Sweep\", unit=\"run\"):\n",
    "    t0 = time.time()\n",
    "    r  = run_one(cfg)\n",
    "    r[\"walltime\"] = time.time() - t0\n",
    "    all_results.append(r)"
   ]
  },
  {
   "cell_type": "markdown",
   "id": "ed0e7815",
   "metadata": {},
   "source": [
    "### Aggregate & Plot"
   ]
  },
  {
   "cell_type": "code",
   "execution_count": 36,
   "id": "caff7c81",
   "metadata": {},
   "outputs": [
    {
     "data": {
      "text/html": [
       "<div>\n",
       "<style scoped>\n",
       "    .dataframe tbody tr th:only-of-type {\n",
       "        vertical-align: middle;\n",
       "    }\n",
       "\n",
       "    .dataframe tbody tr th {\n",
       "        vertical-align: top;\n",
       "    }\n",
       "\n",
       "    .dataframe thead th {\n",
       "        text-align: right;\n",
       "    }\n",
       "</style>\n",
       "<table border=\"1\" class=\"dataframe\">\n",
       "  <thead>\n",
       "    <tr style=\"text-align: right;\">\n",
       "      <th></th>\n",
       "      <th>seed</th>\n",
       "      <th>reward_scale</th>\n",
       "      <th>lr</th>\n",
       "      <th>tag</th>\n",
       "      <th>walltime</th>\n",
       "      <th>reward</th>\n",
       "    </tr>\n",
       "  </thead>\n",
       "  <tbody>\n",
       "    <tr>\n",
       "      <th>0</th>\n",
       "      <td>0</td>\n",
       "      <td>0.5</td>\n",
       "      <td>0.00100</td>\n",
       "      <td>S0|R0.5|LR0.001|Atiny</td>\n",
       "      <td>101.891935</td>\n",
       "      <td>0.099089</td>\n",
       "    </tr>\n",
       "    <tr>\n",
       "      <th>1</th>\n",
       "      <td>0</td>\n",
       "      <td>0.5</td>\n",
       "      <td>0.00100</td>\n",
       "      <td>S0|R0.5|LR0.001|Asmall</td>\n",
       "      <td>117.821274</td>\n",
       "      <td>0.028981</td>\n",
       "    </tr>\n",
       "    <tr>\n",
       "      <th>2</th>\n",
       "      <td>0</td>\n",
       "      <td>0.5</td>\n",
       "      <td>0.00100</td>\n",
       "      <td>S0|R0.5|LR0.001|Amedium</td>\n",
       "      <td>183.267111</td>\n",
       "      <td>-0.093348</td>\n",
       "    </tr>\n",
       "    <tr>\n",
       "      <th>3</th>\n",
       "      <td>0</td>\n",
       "      <td>0.5</td>\n",
       "      <td>0.00100</td>\n",
       "      <td>S0|R0.5|LR0.001|Adeep</td>\n",
       "      <td>365.241978</td>\n",
       "      <td>0.017676</td>\n",
       "    </tr>\n",
       "    <tr>\n",
       "      <th>4</th>\n",
       "      <td>0</td>\n",
       "      <td>0.5</td>\n",
       "      <td>0.00100</td>\n",
       "      <td>S0|R0.5|LR0.001|AdeepXL</td>\n",
       "      <td>606.101465</td>\n",
       "      <td>0.276140</td>\n",
       "    </tr>\n",
       "    <tr>\n",
       "      <th>...</th>\n",
       "      <td>...</td>\n",
       "      <td>...</td>\n",
       "      <td>...</td>\n",
       "      <td>...</td>\n",
       "      <td>...</td>\n",
       "      <td>...</td>\n",
       "    </tr>\n",
       "    <tr>\n",
       "      <th>115</th>\n",
       "      <td>2</td>\n",
       "      <td>1.0</td>\n",
       "      <td>0.00001</td>\n",
       "      <td>S2|R1.0|LR1e-05|Atiny</td>\n",
       "      <td>98.875457</td>\n",
       "      <td>0.269704</td>\n",
       "    </tr>\n",
       "    <tr>\n",
       "      <th>116</th>\n",
       "      <td>2</td>\n",
       "      <td>1.0</td>\n",
       "      <td>0.00001</td>\n",
       "      <td>S2|R1.0|LR1e-05|Asmall</td>\n",
       "      <td>119.814648</td>\n",
       "      <td>0.081821</td>\n",
       "    </tr>\n",
       "    <tr>\n",
       "      <th>117</th>\n",
       "      <td>2</td>\n",
       "      <td>1.0</td>\n",
       "      <td>0.00001</td>\n",
       "      <td>S2|R1.0|LR1e-05|Amedium</td>\n",
       "      <td>186.183223</td>\n",
       "      <td>-0.036795</td>\n",
       "    </tr>\n",
       "    <tr>\n",
       "      <th>118</th>\n",
       "      <td>2</td>\n",
       "      <td>1.0</td>\n",
       "      <td>0.00001</td>\n",
       "      <td>S2|R1.0|LR1e-05|Adeep</td>\n",
       "      <td>383.582678</td>\n",
       "      <td>0.054022</td>\n",
       "    </tr>\n",
       "    <tr>\n",
       "      <th>119</th>\n",
       "      <td>2</td>\n",
       "      <td>1.0</td>\n",
       "      <td>0.00001</td>\n",
       "      <td>S2|R1.0|LR1e-05|AdeepXL</td>\n",
       "      <td>622.017556</td>\n",
       "      <td>-0.034710</td>\n",
       "    </tr>\n",
       "  </tbody>\n",
       "</table>\n",
       "<p>120 rows × 6 columns</p>\n",
       "</div>"
      ],
      "text/plain": [
       "     seed  reward_scale       lr                      tag    walltime  \\\n",
       "0       0           0.5  0.00100    S0|R0.5|LR0.001|Atiny  101.891935   \n",
       "1       0           0.5  0.00100   S0|R0.5|LR0.001|Asmall  117.821274   \n",
       "2       0           0.5  0.00100  S0|R0.5|LR0.001|Amedium  183.267111   \n",
       "3       0           0.5  0.00100    S0|R0.5|LR0.001|Adeep  365.241978   \n",
       "4       0           0.5  0.00100  S0|R0.5|LR0.001|AdeepXL  606.101465   \n",
       "..    ...           ...      ...                      ...         ...   \n",
       "115     2           1.0  0.00001    S2|R1.0|LR1e-05|Atiny   98.875457   \n",
       "116     2           1.0  0.00001   S2|R1.0|LR1e-05|Asmall  119.814648   \n",
       "117     2           1.0  0.00001  S2|R1.0|LR1e-05|Amedium  186.183223   \n",
       "118     2           1.0  0.00001    S2|R1.0|LR1e-05|Adeep  383.582678   \n",
       "119     2           1.0  0.00001  S2|R1.0|LR1e-05|AdeepXL  622.017556   \n",
       "\n",
       "       reward  \n",
       "0    0.099089  \n",
       "1    0.028981  \n",
       "2   -0.093348  \n",
       "3    0.017676  \n",
       "4    0.276140  \n",
       "..        ...  \n",
       "115  0.269704  \n",
       "116  0.081821  \n",
       "117 -0.036795  \n",
       "118  0.054022  \n",
       "119 -0.034710  \n",
       "\n",
       "[120 rows x 6 columns]"
      ]
     },
     "metadata": {},
     "output_type": "display_data"
    },
    {
     "data": {
      "image/png": "[encoded data removed]",
      "text/plain": [
       "<Figure size 600x400 with 1 Axes>"
      ]
     },
     "metadata": {},
     "output_type": "display_data"
    }
   ],
   "source": [
    "# ─── build raw DataFrame ───────────────────────────────────────────────────\n",
    "raw_df = pd.DataFrame(all_results)\n",
    "\n",
    "# ─── flatten the nested cfg dict into its own columns ───────────────────────\n",
    "cfg_df = pd.DataFrame(raw_df[\"cfg\"].tolist())\n",
    "df     = pd.concat([cfg_df, raw_df.drop(columns=[\"cfg\"])], axis=1)\n",
    "\n",
    "# ─── extract a single scalar reward from whatever key exists ───────────────\n",
    "def extract_reward(m):\n",
    "    return (\n",
    "        m.get(\"evaluation/episode_reward\")\n",
    "      or m.get(\"eval/episode_reward\")\n",
    "      or m.get(\"reward\")\n",
    "      or next(iter(m.values()))\n",
    "    )\n",
    "df[\"reward\"] = df[\"metrics\"].apply(extract_reward)\n",
    "\n",
    "# ─── now you truly have seed, reward_scale, etc. ───────────────────────────\n",
    "display(df[[\"seed\", \"reward_scale\", \"lr\", \"tag\", \"walltime\", \"reward\"]])\n",
    "\n",
    "# ─── bar-plot: average over seeds ──────────────────────────────────────────\n",
    "plot_df = (\n",
    "    df\n",
    "    .groupby([\"reward_scale\", \"lr\"], as_index=False)\n",
    "    .agg(mean_reward=(\"reward\",\"mean\"),\n",
    "         std_reward =(\"reward\",\"std\"))\n",
    ")\n",
    "\n",
    "fig, ax = plt.subplots(figsize=(6,4))\n",
    "plot_df.plot.bar(x=\"reward_scale\", y=\"mean_reward\",\n",
    "                 yerr=plot_df[\"std_reward\"], capsize=4, ax=ax)\n",
    "ax.set_ylabel(\"Final episode reward\")\n",
    "ax.set_title(\"PassiveWalker – PPO sweep\")\n",
    "plt.tight_layout()"
   ]
  },
  {
   "cell_type": "code",
   "execution_count": 37,
   "id": "db9c954b",
   "metadata": {},
   "outputs": [
    {
     "data": {
      "image/png": "[encoded data removed]",
      "text/plain": [
       "<Figure size 600x400 with 1 Axes>"
      ]
     },
     "metadata": {},
     "output_type": "display_data"
    }
   ],
   "source": [
    "plot_df = (df.groupby([\"reward_scale\",\"lr\"],as_index=False)\n",
    "             .agg(mean_reward=(\"reward\",\"mean\"), std_reward=(\"reward\",\"std\")))\n",
    "\n",
    "ax = plot_df.pivot(index=\"reward_scale\",columns=\"lr\",values=\"mean_reward\").plot.bar(\n",
    "        yerr=plot_df.pivot(index=\"reward_scale\",columns=\"lr\",values=\"std_reward\"),\n",
    "        capsize=3, rot=0, figsize=(6,4))\n",
    "ax.set_ylabel(\"Final reward\"); ax.set_title(\"PassiveWalker – PPO sweep\"); plt.tight_layout()"
   ]
  },
  {
   "cell_type": "markdown",
   "id": "e60753fe",
   "metadata": {},
   "source": [
    "### Export Best Policy"
   ]
  },
  {
   "cell_type": "code",
   "execution_count": 38,
   "id": "d1a2c141",
   "metadata": {},
   "outputs": [
    {
     "name": "stdout",
     "output_type": "stream",
     "text": [
      "Auto‑selected best run → /home/yunusdanabas/passive_walker_rl/results/brax/sweep_results/run_1ee2e7b2.msgpack\n"
     ]
    }
   ],
   "source": [
    "MODEL_PATH = None                         # <- set path string for custom\n",
    "\n",
    "if MODEL_PATH is None:\n",
    "    best_row  = df.loc[df.reward.idxmax()]\n",
    "    MODEL_PATH = best_row[\"file\"]\n",
    "    print(\"Auto‑selected best run →\", MODEL_PATH)\n",
    "else:\n",
    "    MODEL_PATH = str(pathlib.Path(MODEL_PATH).expanduser())"
   ]
  },
  {
   "cell_type": "code",
   "execution_count": 39,
   "id": "f83b8875",
   "metadata": {},
   "outputs": [],
   "source": [
    "# ---------- load ----------------------------------------------------------\n",
    "saved        = msgpack.unpack(open(MODEL_PATH, \"rb\"), raw=False)\n",
    "cfg          = SweepConfig(**saved[\"cfg\"])\n",
    "params_bytes = saved[\"params_bytes\"]   # ★ grab the raw bytes\n",
    "# print(\"Reward:\", saved[\"metrics\"][\"reward\"])"
   ]
  },
  {
   "cell_type": "code",
   "execution_count": 40,
   "id": "e5bba98b",
   "metadata": {},
   "outputs": [
    {
     "name": "stdout",
     "output_type": "stream",
     "text": [
      "  using medium networks\n"
     ]
    }
   ],
   "source": [
    "# ---------- rebuild policy -----------------------------------------------\n",
    "env_vis = BraxPassiveWalker(walker_sys)\n",
    "\n",
    "# ─── build your PPONetworks & policy factory ────────────────────────────\n",
    "ppon = make_networks_factory(env_vis.obs_size, env_vis.act_size, cfg)\n",
    "policy_factory = make_inference_fn(ppon)\n",
    "\n",
    "# ─── init dummy params & assemble pytree shape ───────────────────────────\n",
    "init_pol = ppon.policy_network.init(jax.random.PRNGKey(0))\n",
    "init_val = ppon.value_network.init(jax.random.PRNGKey(1))\n",
    "init_params = (None, init_pol, init_val)   # no obs-normalizer in our toy setup\n",
    "\n",
    "# ─── load your saved bytes into that pytree ───────────────────────────────\n",
    "params = flax.serialization.from_bytes(init_params, params_bytes)\n",
    "\n",
    "# ─── build a deterministic policy fn ─────────────────────────────────────\n",
    "policy = policy_factory(params, deterministic=True)\n"
   ]
  },
  {
   "cell_type": "markdown",
   "id": "a634ac5e",
   "metadata": {},
   "source": [
    "# MuJoCo‑Based Visualization"
   ]
  },
  {
   "cell_type": "code",
   "execution_count": 43,
   "id": "29b168b2",
   "metadata": {},
   "outputs": [
    {
     "name": "stdout",
     "output_type": "stream",
     "text": [
      "Visualizing S2|R0.5|LR0.001|Amedium\n"
     ]
    }
   ],
   "source": [
    "import msgpack, flax\n",
    "import jax, jax.numpy as jnp\n",
    "import numpy as np\n",
    "from mujoco.glfw import glfw\n",
    "from passive_walker.envs.mujoco_env import PassiveWalkerEnv\n",
    "from pathlib import Path\n",
    "from brax.training.agents.ppo.networks import make_ppo_networks, make_inference_fn\n",
    "\n",
    "from passive_walker.constants import RESULTS\n",
    "\n",
    "# ——— load the best run from sweep_results ————————————————\n",
    "MODEL_PATH = RESULTS / \"brax\" / \"sweep_results\" / \"run_1ee2e7b2.msgpack\"   # ← or override this\n",
    "saved       = msgpack.unpack(open(MODEL_PATH, \"rb\"), raw=False)\n",
    "cfg         = SweepConfig(**saved[\"cfg\"])\n",
    "params_bytes= saved[\"params_bytes\"]\n",
    "print(f\"Visualizing {cfg.tag}\")"
   ]
  },
  {
   "cell_type": "code",
   "execution_count": 44,
   "id": "43937f88",
   "metadata": {},
   "outputs": [
    {
     "name": "stdout",
     "output_type": "stream",
     "text": [
      "  using medium networks\n"
     ]
    }
   ],
   "source": [
    "# We only use the Brax network to get the right shapes\n",
    "env_brax    = BraxPassiveWalker(walker_sys)\n",
    "ppo_nets    = make_networks_factory(env_brax.obs_size, env_brax.act_size, cfg)\n",
    "policy_maker= make_inference_fn(ppo_nets)\n",
    "\n",
    "# init an empty params pytree then load your saved bytes\n",
    "init_pol    = ppo_nets.policy_network.init(jax.random.PRNGKey(0))\n",
    "init_val    = ppo_nets.value_network.init(jax.random.PRNGKey(1))\n",
    "init_tree   = (None, init_pol, init_val)\n",
    "params      = flax.serialization.from_bytes(init_tree, params_bytes)\n",
    "\n",
    "# deterministic policy\n",
    "policy      = policy_maker(params, deterministic=True)"
   ]
  },
  {
   "cell_type": "code",
   "execution_count": 46,
   "id": "e714ebb0",
   "metadata": {},
   "outputs": [
    {
     "name": "stderr",
     "output_type": "stream",
     "text": [
      "/home/yunusdanabas/miniconda3/envs/ens492/lib/python3.10/site-packages/glfw/__init__.py:917: GLFWError: (65537) b'The GLFW library is not initialized'\n",
      "  warnings.warn(message, GLFWError)\n"
     ]
    },
    {
     "name": "stdout",
     "output_type": "stream",
     "text": [
      "Total reward: 99.19197772443295\n"
     ]
    }
   ],
   "source": [
    "# ——— launch MuJoCo + render the rollout ——————————————————————\n",
    "from passive_walker.constants import XML_PATH\n",
    "\n",
    "mj_env   = PassiveWalkerEnv(str(XML_PATH),\n",
    "                            simend=20.0,\n",
    "                            use_nn_for_hip=True,\n",
    "                            use_nn_for_knees=True,\n",
    "                            use_gui=True)\n",
    "\n",
    "# run\n",
    "obs  = mj_env.reset()\n",
    "key  = jax.random.PRNGKey(0)\n",
    "done = False\n",
    "total_reward = 0.0\n",
    "\n",
    "while not done and not glfw.window_should_close(mj_env.window):\n",
    "    key, sub = jax.random.split(key)\n",
    "    # policy expects a jax array of shape (11,)\n",
    "    act_jax, _ = policy(jnp.array(obs), sub)\n",
    "    act = np.array(act_jax, dtype=np.float32)     # back to NumPy\n",
    "    obs, r, done, info = mj_env.step(act)\n",
    "    total_reward += r\n",
    "    mj_env.render(mode=\"human\")\n",
    "\n",
    "print(\"Total reward:\", total_reward)\n",
    "mj_env.close()\n"
   ]
  }
 ],
 "metadata": {
  "kernelspec": {
   "display_name": "ens492",
   "language": "python",
   "name": "python3"
  },
  "language_info": {
   "codemirror_mode": {
    "name": "ipython",
    "version": 3
   },
   "file_extension": ".py",
   "mimetype": "text/x-python",
   "name": "python",
   "nbconvert_exporter": "python",
   "pygments_lexer": "ipython3",
   "version": "3.10.15"
  }
 },
 "nbformat": 4,
 "nbformat_minor": 5
}
