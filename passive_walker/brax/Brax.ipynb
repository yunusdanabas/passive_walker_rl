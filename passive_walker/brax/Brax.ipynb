{
 "cells": [
  {
   "cell_type": "code",
   "execution_count": 1,
   "id": "7ca3cec0",
   "metadata": {},
   "outputs": [
    {
     "name": "stdout",
     "output_type": "stream",
     "text": [
      "Default backend: cpu\n",
      "All devices: [CpuDevice(id=0)]\n"
     ]
    },
    {
     "name": "stderr",
     "output_type": "stream",
     "text": [
      "/tmp/ipykernel_110564/4202943089.py:4: DeprecationWarning: jax.lib.xla_bridge.get_backend is deprecated; use jax.extend.backend.get_backend.\n",
      "  print(\"Default backend:\", xla_bridge.get_backend().platform)\n"
     ]
    }
   ],
   "source": [
    "import jax\n",
    "from jax.lib import xla_bridge\n",
    "\n",
    "print(\"Default backend:\", xla_bridge.get_backend().platform)\n",
    "print(\"All devices:\", jax.devices())"
   ]
  },
  {
   "cell_type": "markdown",
   "id": "7b836fed",
   "metadata": {},
   "source": [
    "# Model ⇨ System Conversion"
   ]
  },
  {
   "cell_type": "markdown",
   "id": "37609ee4",
   "metadata": {},
   "source": [
    "### Imports & File Path"
   ]
  },
  {
   "cell_type": "code",
   "execution_count": 2,
   "id": "e2a1c722",
   "metadata": {},
   "outputs": [],
   "source": [
    "import pathlib\n",
    "import mujoco          # MuJoCo >= 3.1\n",
    "import brax\n",
    "from brax.io import mjcf\n",
    "import jax.numpy as jnp\n",
    "from IPython.display import Markdown, display\n",
    "\n",
    "\n",
    "# Path to your XML file (relative or absolute)\n",
    "from passive_walker.constants import XML_PATH\n",
    "from passive_walker.brax import DATA_BRAX\n",
    "assert XML_PATH.exists(), f'XML file not found: {XML_PATH.resolve()}'"
   ]
  },
  {
   "cell_type": "markdown",
   "id": "308a8018",
   "metadata": {},
   "source": [
    "### Load XML with MuJoCo & Convert to Brax System"
   ]
  },
  {
   "cell_type": "code",
   "execution_count": 3,
   "id": "4141822b",
   "metadata": {},
   "outputs": [
    {
     "name": "stdout",
     "output_type": "stream",
     "text": [
      "MuJoCo XML successfully loaded and converted to Brax System\n"
     ]
    }
   ],
   "source": [
    "# Load into a raw MuJoCo model\n",
    "mj_model = mujoco.MjModel.from_xml_path(str(XML_PATH))\n",
    "\n",
    "# Convert MuJoCo model → Brax System (JAX‑native datastructure)\n",
    "walker_sys = mjcf.load_model(mj_model)\n",
    "\n",
    "print('MuJoCo XML successfully loaded and converted to Brax System')"
   ]
  },
  {
   "cell_type": "markdown",
   "id": "714dc05f",
   "metadata": {},
   "source": [
    "There were some problem with my XML file and following code ensures len(sys.link_types) == len(sys.link_names) "
   ]
  },
  {
   "cell_type": "code",
   "execution_count": 4,
   "id": "7f9dcfaf",
   "metadata": {},
   "outputs": [
    {
     "name": "stdout",
     "output_type": "stream",
     "text": [
      "  No patch needed: 'link_types' and 'link_names' match\n",
      "  No patch needed: '31111'\n",
      "  No patch needed: '['torso', 'left_leg', 'left_foot', 'right_leg', 'right_foot']'\n"
     ]
    }
   ],
   "source": [
    "def fix_link_types(sys: brax.System) -> brax.System:\n",
    "\n",
    "    if len(sys.link_types) == len(sys.link_names):\n",
    "        print(\"  No patch needed: 'link_types' and 'link_names' match\")\n",
    "        print(f\"  No patch needed: '{sys.link_types}'\")\n",
    "        print(f\"  No patch needed: '{sys.link_names}'\")\n",
    "        return sys                      # nothing to do\n",
    "\n",
    "    if len(sys.link_types) == len(sys.link_names) - 1:\n",
    "        print(f\"  Patching link names: '{sys.link_names}'\")\n",
    "        print(f\"  Patching link_types: '{sys.link_types}'\")\n",
    "\n",
    "        fixed = sys.replace(link_types=sys.link_types[0] + sys.link_types)\n",
    "        print(f\"  Patched link names: '{fixed.link_names}'\")\n",
    "        print(f\"  Patched link_types: '{sys.link_types}' ➜ '{fixed.link_types}'\")\n",
    "        return fixed\n",
    "\n",
    "    raise ValueError(\n",
    "        f\"Unexpected link_types mismatch: {len(sys.link_types)} vs {len(sys.link_names)}\"\n",
    "    )\n",
    "\n",
    "walker_sys = fix_link_types(walker_sys)"
   ]
  },
  {
   "cell_type": "markdown",
   "id": "b65df7ab",
   "metadata": {},
   "source": [
    "### System Summary"
   ]
  },
  {
   "cell_type": "code",
   "execution_count": 5,
   "id": "b4b0801a",
   "metadata": {},
   "outputs": [],
   "source": [
    "import pandas as pd\n",
    "import numpy as np\n",
    "import jax.numpy as jnp\n",
    "from IPython.display import display, Markdown\n",
    "\n",
    "def summarize_brax_system(sys, *, style='html'):\n",
    "    \"\"\"\n",
    "    Pretty‑prints a Brax System and returns DataFrames for joints, actuators\n",
    "    and bodies.  Pass style='df' to skip notebook display and just get the\n",
    "    dataframes.\n",
    "\n",
    "    Returns\n",
    "    -------\n",
    "    (joints_df, actuators_df, bodies_df)\n",
    "    \"\"\"\n",
    "    \n",
    "    # helpers \n",
    "    joint_type_map = {0:'free', 1:'ball', 2:'slide', 3:'hinge', 4:'weld'}\n",
    "    names_blob = sys.names\n",
    "    _get_name = lambda off: names_blob[off:].split(b'\\x00',1)[0].decode()\n",
    "    body_names = ['world'] + list(sys.link_names)\n",
    "\n",
    "    # tilt of gravity vector wrt −Z (deg)\n",
    "    tilt = float(jnp.degrees(jnp.arctan2(-sys.gravity[0], sys.gravity[2])))\n",
    "\n",
    "    # joints table \n",
    "    joints_df = pd.DataFrame({\n",
    "        'idx'     : np.arange(sys.njnt),\n",
    "        'type'    : [joint_type_map.get(int(t), '?') for t in sys.jnt_type],\n",
    "        'name'    : [_get_name(int(o)) for o in sys.name_jntadr],\n",
    "        'body'    : [body_names[int(b)] for b in sys.jnt_bodyid],\n",
    "        'axis'    : [tuple(a.tolist()) for a in sys.jnt_axis],\n",
    "        'limited' : sys.jnt_limited.astype(bool),\n",
    "        'lo'      : sys.jnt_range[:,0],\n",
    "        'hi'      : sys.jnt_range[:,1],\n",
    "    })\n",
    "\n",
    "    # actuators table\n",
    "    # map each actuator's q_id to a joint index\n",
    "    q_to_joint = {int(qp):idx for idx, qp in enumerate(sys.jnt_qposadr)}\n",
    "    rows = []\n",
    "    for i,(lo,hi) in enumerate(sys.actuator.ctrl_range):\n",
    "        qid   = int(sys.actuator.q_id[i])\n",
    "        jidx  = q_to_joint[qid]\n",
    "        rows.append(dict(\n",
    "            idx       = i,\n",
    "            name      = _get_name(int(sys.name_actuatoradr[i]))\n",
    "                        if hasattr(sys,'name_actuatoradr') else f'act_{i}',\n",
    "            joint     = joints_df.loc[jidx,'name'],\n",
    "            body      = joints_df.loc[jidx,'body'],\n",
    "            ctrl_lo   = lo,\n",
    "            ctrl_hi   = hi,\n",
    "            unit      = 'rad' if i==0 else 'm',\n",
    "        ))\n",
    "    actuators_df = pd.DataFrame(rows)\n",
    "    \n",
    "    # bodies table \n",
    "    bodies_df = pd.DataFrame({\n",
    "        'idx'   : np.arange(len(sys.link_names)),\n",
    "        'name'  : sys.link_names,\n",
    "        'parent': ['world' if p == -1 else sys.link_names[p]\n",
    "                for p in sys.link_parents],                               \n",
    "        'mass'  : sys.link.inertia.mass,\n",
    "        'inertia': [tuple(np.diag(I)) for I in sys.link.inertia.i],\n",
    "    })\n",
    "\n",
    "\n",
    "    # display in notebooks \n",
    "    if style=='html':\n",
    "        display(Markdown('## ⟪ Brax System Summary ⟫'))\n",
    "        print('‾'*45)\n",
    "        print(f' bodies           : {sys.link_names}')\n",
    "        print(f' nq | nv | nu     : {sys.nq} | {sys.nv} | {sys.nu}')\n",
    "        print(f' gravity tilt     : {tilt:+.1f} deg')\n",
    "\n",
    "        display(Markdown('### Bodies'));     display(bodies_df.style.hide(axis=\"index\"))\n",
    "        display(Markdown('### Joints'));     display(joints_df.style.hide(axis=\"index\"))\n",
    "        display(Markdown('### Actuators'));  display(actuators_df.style.hide(axis=\"index\"))\n",
    "\n",
    "    return joints_df, actuators_df, bodies_df\n"
   ]
  },
  {
   "cell_type": "code",
   "execution_count": 6,
   "id": "f24a2e62",
   "metadata": {},
   "outputs": [
    {
     "data": {
      "text/markdown": [
       "## ⟪ Brax System Summary ⟫"
      ],
      "text/plain": [
       "<IPython.core.display.Markdown object>"
      ]
     },
     "metadata": {},
     "output_type": "display_data"
    },
    {
     "name": "stdout",
     "output_type": "stream",
     "text": [
      "‾‾‾‾‾‾‾‾‾‾‾‾‾‾‾‾‾‾‾‾‾‾‾‾‾‾‾‾‾‾‾‾‾‾‾‾‾‾‾‾‾‾‾‾‾\n",
      " bodies           : ['torso', 'left_leg', 'left_foot', 'right_leg', 'right_foot']\n",
      " nq | nv | nu     : 7 | 7 | 3\n",
      " gravity tilt     : -180.0 deg\n"
     ]
    },
    {
     "data": {
      "text/markdown": [
       "### Bodies"
      ],
      "text/plain": [
       "<IPython.core.display.Markdown object>"
      ]
     },
     "metadata": {},
     "output_type": "display_data"
    },
    {
     "data": {
      "text/html": [
       "<style type=\"text/css\">\n",
       "</style>\n",
       "<table id=\"T_5cc64\">\n",
       "  <thead>\n",
       "    <tr>\n",
       "      <th id=\"T_5cc64_level0_col0\" class=\"col_heading level0 col0\" >idx</th>\n",
       "      <th id=\"T_5cc64_level0_col1\" class=\"col_heading level0 col1\" >name</th>\n",
       "      <th id=\"T_5cc64_level0_col2\" class=\"col_heading level0 col2\" >parent</th>\n",
       "      <th id=\"T_5cc64_level0_col3\" class=\"col_heading level0 col3\" >mass</th>\n",
       "      <th id=\"T_5cc64_level0_col4\" class=\"col_heading level0 col4\" >inertia</th>\n",
       "    </tr>\n",
       "  </thead>\n",
       "  <tbody>\n",
       "    <tr>\n",
       "      <td id=\"T_5cc64_row0_col0\" class=\"data row0 col0\" >0</td>\n",
       "      <td id=\"T_5cc64_row0_col1\" class=\"data row0 col1\" >torso</td>\n",
       "      <td id=\"T_5cc64_row0_col2\" class=\"data row0 col2\" >world</td>\n",
       "      <td id=\"T_5cc64_row0_col3\" class=\"data row0 col3\" >5.000000</td>\n",
       "      <td id=\"T_5cc64_row0_col4\" class=\"data row0 col4\" >(0.02, 0.02, 0.02)</td>\n",
       "    </tr>\n",
       "    <tr>\n",
       "      <td id=\"T_5cc64_row1_col0\" class=\"data row1 col0\" >1</td>\n",
       "      <td id=\"T_5cc64_row1_col1\" class=\"data row1 col1\" >left_leg</td>\n",
       "      <td id=\"T_5cc64_row1_col2\" class=\"data row1 col2\" >torso</td>\n",
       "      <td id=\"T_5cc64_row1_col3\" class=\"data row1 col3\" >1.000000</td>\n",
       "      <td id=\"T_5cc64_row1_col4\" class=\"data row1 col4\" >(0.09557031, 0.09557031, 0.001234375)</td>\n",
       "    </tr>\n",
       "    <tr>\n",
       "      <td id=\"T_5cc64_row2_col0\" class=\"data row2 col0\" >2</td>\n",
       "      <td id=\"T_5cc64_row2_col1\" class=\"data row2 col1\" >left_foot</td>\n",
       "      <td id=\"T_5cc64_row2_col2\" class=\"data row2 col2\" >left_leg</td>\n",
       "      <td id=\"T_5cc64_row2_col3\" class=\"data row2 col3\" >0.100000</td>\n",
       "      <td id=\"T_5cc64_row2_col4\" class=\"data row2 col4\" >(1e-04, 1e-04, 1e-04)</td>\n",
       "    </tr>\n",
       "    <tr>\n",
       "      <td id=\"T_5cc64_row3_col0\" class=\"data row3 col0\" >3</td>\n",
       "      <td id=\"T_5cc64_row3_col1\" class=\"data row3 col1\" >right_leg</td>\n",
       "      <td id=\"T_5cc64_row3_col2\" class=\"data row3 col2\" >torso</td>\n",
       "      <td id=\"T_5cc64_row3_col3\" class=\"data row3 col3\" >1.000000</td>\n",
       "      <td id=\"T_5cc64_row3_col4\" class=\"data row3 col4\" >(0.09557031, 0.09557031, 0.001234375)</td>\n",
       "    </tr>\n",
       "    <tr>\n",
       "      <td id=\"T_5cc64_row4_col0\" class=\"data row4 col0\" >4</td>\n",
       "      <td id=\"T_5cc64_row4_col1\" class=\"data row4 col1\" >right_foot</td>\n",
       "      <td id=\"T_5cc64_row4_col2\" class=\"data row4 col2\" >right_leg</td>\n",
       "      <td id=\"T_5cc64_row4_col3\" class=\"data row4 col3\" >0.100000</td>\n",
       "      <td id=\"T_5cc64_row4_col4\" class=\"data row4 col4\" >(1e-04, 1e-04, 1e-04)</td>\n",
       "    </tr>\n",
       "  </tbody>\n",
       "</table>\n"
      ],
      "text/plain": [
       "<pandas.io.formats.style.Styler at 0x7fe68081eda0>"
      ]
     },
     "metadata": {},
     "output_type": "display_data"
    },
    {
     "data": {
      "text/markdown": [
       "### Joints"
      ],
      "text/plain": [
       "<IPython.core.display.Markdown object>"
      ]
     },
     "metadata": {},
     "output_type": "display_data"
    },
    {
     "data": {
      "text/html": [
       "<style type=\"text/css\">\n",
       "</style>\n",
       "<table id=\"T_a4c62\">\n",
       "  <thead>\n",
       "    <tr>\n",
       "      <th id=\"T_a4c62_level0_col0\" class=\"col_heading level0 col0\" >idx</th>\n",
       "      <th id=\"T_a4c62_level0_col1\" class=\"col_heading level0 col1\" >type</th>\n",
       "      <th id=\"T_a4c62_level0_col2\" class=\"col_heading level0 col2\" >name</th>\n",
       "      <th id=\"T_a4c62_level0_col3\" class=\"col_heading level0 col3\" >body</th>\n",
       "      <th id=\"T_a4c62_level0_col4\" class=\"col_heading level0 col4\" >axis</th>\n",
       "      <th id=\"T_a4c62_level0_col5\" class=\"col_heading level0 col5\" >limited</th>\n",
       "      <th id=\"T_a4c62_level0_col6\" class=\"col_heading level0 col6\" >lo</th>\n",
       "      <th id=\"T_a4c62_level0_col7\" class=\"col_heading level0 col7\" >hi</th>\n",
       "    </tr>\n",
       "  </thead>\n",
       "  <tbody>\n",
       "    <tr>\n",
       "      <td id=\"T_a4c62_row0_col0\" class=\"data row0 col0\" >0</td>\n",
       "      <td id=\"T_a4c62_row0_col1\" class=\"data row0 col1\" >slide</td>\n",
       "      <td id=\"T_a4c62_row0_col2\" class=\"data row0 col2\" >slide_x</td>\n",
       "      <td id=\"T_a4c62_row0_col3\" class=\"data row0 col3\" >torso</td>\n",
       "      <td id=\"T_a4c62_row0_col4\" class=\"data row0 col4\" >(1.0, 0.0, 0.0)</td>\n",
       "      <td id=\"T_a4c62_row0_col5\" class=\"data row0 col5\" >False</td>\n",
       "      <td id=\"T_a4c62_row0_col6\" class=\"data row0 col6\" >-inf</td>\n",
       "      <td id=\"T_a4c62_row0_col7\" class=\"data row0 col7\" >inf</td>\n",
       "    </tr>\n",
       "    <tr>\n",
       "      <td id=\"T_a4c62_row1_col0\" class=\"data row1 col0\" >1</td>\n",
       "      <td id=\"T_a4c62_row1_col1\" class=\"data row1 col1\" >slide</td>\n",
       "      <td id=\"T_a4c62_row1_col2\" class=\"data row1 col2\" >slide_z</td>\n",
       "      <td id=\"T_a4c62_row1_col3\" class=\"data row1 col3\" >torso</td>\n",
       "      <td id=\"T_a4c62_row1_col4\" class=\"data row1 col4\" >(0.0, 0.0, 1.0)</td>\n",
       "      <td id=\"T_a4c62_row1_col5\" class=\"data row1 col5\" >False</td>\n",
       "      <td id=\"T_a4c62_row1_col6\" class=\"data row1 col6\" >-inf</td>\n",
       "      <td id=\"T_a4c62_row1_col7\" class=\"data row1 col7\" >inf</td>\n",
       "    </tr>\n",
       "    <tr>\n",
       "      <td id=\"T_a4c62_row2_col0\" class=\"data row2 col0\" >2</td>\n",
       "      <td id=\"T_a4c62_row2_col1\" class=\"data row2 col1\" >hinge</td>\n",
       "      <td id=\"T_a4c62_row2_col2\" class=\"data row2 col2\" >yaw</td>\n",
       "      <td id=\"T_a4c62_row2_col3\" class=\"data row2 col3\" >torso</td>\n",
       "      <td id=\"T_a4c62_row2_col4\" class=\"data row2 col4\" >(0.0, 1.0, 0.0)</td>\n",
       "      <td id=\"T_a4c62_row2_col5\" class=\"data row2 col5\" >False</td>\n",
       "      <td id=\"T_a4c62_row2_col6\" class=\"data row2 col6\" >-inf</td>\n",
       "      <td id=\"T_a4c62_row2_col7\" class=\"data row2 col7\" >inf</td>\n",
       "    </tr>\n",
       "    <tr>\n",
       "      <td id=\"T_a4c62_row3_col0\" class=\"data row3 col0\" >3</td>\n",
       "      <td id=\"T_a4c62_row3_col1\" class=\"data row3 col1\" >hinge</td>\n",
       "      <td id=\"T_a4c62_row3_col2\" class=\"data row3 col2\" >left_leg_lock</td>\n",
       "      <td id=\"T_a4c62_row3_col3\" class=\"data row3 col3\" >left_leg</td>\n",
       "      <td id=\"T_a4c62_row3_col4\" class=\"data row3 col4\" >(1.0, 0.0, 0.0)</td>\n",
       "      <td id=\"T_a4c62_row3_col5\" class=\"data row3 col5\" >True</td>\n",
       "      <td id=\"T_a4c62_row3_col6\" class=\"data row3 col6\" >0.000000</td>\n",
       "      <td id=\"T_a4c62_row3_col7\" class=\"data row3 col7\" >0.000175</td>\n",
       "    </tr>\n",
       "    <tr>\n",
       "      <td id=\"T_a4c62_row4_col0\" class=\"data row4 col0\" >4</td>\n",
       "      <td id=\"T_a4c62_row4_col1\" class=\"data row4 col1\" >slide</td>\n",
       "      <td id=\"T_a4c62_row4_col2\" class=\"data row4 col2\" >left_knee</td>\n",
       "      <td id=\"T_a4c62_row4_col3\" class=\"data row4 col3\" >left_foot</td>\n",
       "      <td id=\"T_a4c62_row4_col4\" class=\"data row4 col4\" >(0.0, 0.0, -1.0)</td>\n",
       "      <td id=\"T_a4c62_row4_col5\" class=\"data row4 col5\" >True</td>\n",
       "      <td id=\"T_a4c62_row4_col6\" class=\"data row4 col6\" >-0.300000</td>\n",
       "      <td id=\"T_a4c62_row4_col7\" class=\"data row4 col7\" >0.300000</td>\n",
       "    </tr>\n",
       "    <tr>\n",
       "      <td id=\"T_a4c62_row5_col0\" class=\"data row5 col0\" >5</td>\n",
       "      <td id=\"T_a4c62_row5_col1\" class=\"data row5 col1\" >hinge</td>\n",
       "      <td id=\"T_a4c62_row5_col2\" class=\"data row5 col2\" >hip</td>\n",
       "      <td id=\"T_a4c62_row5_col3\" class=\"data row5 col3\" >right_leg</td>\n",
       "      <td id=\"T_a4c62_row5_col4\" class=\"data row5 col4\" >(0.0, -1.0, 0.0)</td>\n",
       "      <td id=\"T_a4c62_row5_col5\" class=\"data row5 col5\" >False</td>\n",
       "      <td id=\"T_a4c62_row5_col6\" class=\"data row5 col6\" >-inf</td>\n",
       "      <td id=\"T_a4c62_row5_col7\" class=\"data row5 col7\" >inf</td>\n",
       "    </tr>\n",
       "    <tr>\n",
       "      <td id=\"T_a4c62_row6_col0\" class=\"data row6 col0\" >6</td>\n",
       "      <td id=\"T_a4c62_row6_col1\" class=\"data row6 col1\" >slide</td>\n",
       "      <td id=\"T_a4c62_row6_col2\" class=\"data row6 col2\" >right_knee</td>\n",
       "      <td id=\"T_a4c62_row6_col3\" class=\"data row6 col3\" >right_foot</td>\n",
       "      <td id=\"T_a4c62_row6_col4\" class=\"data row6 col4\" >(0.0, 0.0, -1.0)</td>\n",
       "      <td id=\"T_a4c62_row6_col5\" class=\"data row6 col5\" >True</td>\n",
       "      <td id=\"T_a4c62_row6_col6\" class=\"data row6 col6\" >-0.300000</td>\n",
       "      <td id=\"T_a4c62_row6_col7\" class=\"data row6 col7\" >0.300000</td>\n",
       "    </tr>\n",
       "  </tbody>\n",
       "</table>\n"
      ],
      "text/plain": [
       "<pandas.io.formats.style.Styler at 0x7fe68081eda0>"
      ]
     },
     "metadata": {},
     "output_type": "display_data"
    },
    {
     "data": {
      "text/markdown": [
       "### Actuators"
      ],
      "text/plain": [
       "<IPython.core.display.Markdown object>"
      ]
     },
     "metadata": {},
     "output_type": "display_data"
    },
    {
     "data": {
      "text/html": [
       "<style type=\"text/css\">\n",
       "</style>\n",
       "<table id=\"T_4cb0e\">\n",
       "  <thead>\n",
       "    <tr>\n",
       "      <th id=\"T_4cb0e_level0_col0\" class=\"col_heading level0 col0\" >idx</th>\n",
       "      <th id=\"T_4cb0e_level0_col1\" class=\"col_heading level0 col1\" >name</th>\n",
       "      <th id=\"T_4cb0e_level0_col2\" class=\"col_heading level0 col2\" >joint</th>\n",
       "      <th id=\"T_4cb0e_level0_col3\" class=\"col_heading level0 col3\" >body</th>\n",
       "      <th id=\"T_4cb0e_level0_col4\" class=\"col_heading level0 col4\" >ctrl_lo</th>\n",
       "      <th id=\"T_4cb0e_level0_col5\" class=\"col_heading level0 col5\" >ctrl_hi</th>\n",
       "      <th id=\"T_4cb0e_level0_col6\" class=\"col_heading level0 col6\" >unit</th>\n",
       "    </tr>\n",
       "  </thead>\n",
       "  <tbody>\n",
       "    <tr>\n",
       "      <td id=\"T_4cb0e_row0_col0\" class=\"data row0 col0\" >0</td>\n",
       "      <td id=\"T_4cb0e_row0_col1\" class=\"data row0 col1\" >hip_act</td>\n",
       "      <td id=\"T_4cb0e_row0_col2\" class=\"data row0 col2\" >hip</td>\n",
       "      <td id=\"T_4cb0e_row0_col3\" class=\"data row0 col3\" >right_leg</td>\n",
       "      <td id=\"T_4cb0e_row0_col4\" class=\"data row0 col4\" >-0.5</td>\n",
       "      <td id=\"T_4cb0e_row0_col5\" class=\"data row0 col5\" >0.5</td>\n",
       "      <td id=\"T_4cb0e_row0_col6\" class=\"data row0 col6\" >rad</td>\n",
       "    </tr>\n",
       "    <tr>\n",
       "      <td id=\"T_4cb0e_row1_col0\" class=\"data row1 col0\" >1</td>\n",
       "      <td id=\"T_4cb0e_row1_col1\" class=\"data row1 col1\" >left_knee_act</td>\n",
       "      <td id=\"T_4cb0e_row1_col2\" class=\"data row1 col2\" >left_knee</td>\n",
       "      <td id=\"T_4cb0e_row1_col3\" class=\"data row1 col3\" >left_foot</td>\n",
       "      <td id=\"T_4cb0e_row1_col4\" class=\"data row1 col4\" >-0.3</td>\n",
       "      <td id=\"T_4cb0e_row1_col5\" class=\"data row1 col5\" >0.3</td>\n",
       "      <td id=\"T_4cb0e_row1_col6\" class=\"data row1 col6\" >m</td>\n",
       "    </tr>\n",
       "    <tr>\n",
       "      <td id=\"T_4cb0e_row2_col0\" class=\"data row2 col0\" >2</td>\n",
       "      <td id=\"T_4cb0e_row2_col1\" class=\"data row2 col1\" >right_knee_act</td>\n",
       "      <td id=\"T_4cb0e_row2_col2\" class=\"data row2 col2\" >right_knee</td>\n",
       "      <td id=\"T_4cb0e_row2_col3\" class=\"data row2 col3\" >right_foot</td>\n",
       "      <td id=\"T_4cb0e_row2_col4\" class=\"data row2 col4\" >-0.3</td>\n",
       "      <td id=\"T_4cb0e_row2_col5\" class=\"data row2 col5\" >0.3</td>\n",
       "      <td id=\"T_4cb0e_row2_col6\" class=\"data row2 col6\" >m</td>\n",
       "    </tr>\n",
       "  </tbody>\n",
       "</table>\n"
      ],
      "text/plain": [
       "<pandas.io.formats.style.Styler at 0x7fe68081eda0>"
      ]
     },
     "metadata": {},
     "output_type": "display_data"
    },
    {
     "data": {
      "text/plain": [
       "(   idx   type           name        body              axis  limited   lo  \\\n",
       " 0    0  slide        slide_x       torso   (1.0, 0.0, 0.0)    False -inf   \n",
       " 1    1  slide        slide_z       torso   (0.0, 0.0, 1.0)    False -inf   \n",
       " 2    2  hinge            yaw       torso   (0.0, 1.0, 0.0)    False -inf   \n",
       " 3    3  hinge  left_leg_lock    left_leg   (1.0, 0.0, 0.0)     True  0.0   \n",
       " 4    4  slide      left_knee   left_foot  (0.0, 0.0, -1.0)     True -0.3   \n",
       " 5    5  hinge            hip   right_leg  (0.0, -1.0, 0.0)    False -inf   \n",
       " 6    6  slide     right_knee  right_foot  (0.0, 0.0, -1.0)     True -0.3   \n",
       " \n",
       "          hi  \n",
       " 0       inf  \n",
       " 1       inf  \n",
       " 2       inf  \n",
       " 3  0.000175  \n",
       " 4  0.300000  \n",
       " 5       inf  \n",
       " 6  0.300000  ,\n",
       "    idx            name       joint        body ctrl_lo ctrl_hi unit\n",
       " 0    0         hip_act         hip   right_leg    -0.5     0.5  rad\n",
       " 1    1   left_knee_act   left_knee   left_foot    -0.3     0.3    m\n",
       " 2    2  right_knee_act  right_knee  right_foot    -0.3     0.3    m,\n",
       "    idx        name     parent  mass                                inertia\n",
       " 0    0       torso      world   5.0                     (0.02, 0.02, 0.02)\n",
       " 1    1    left_leg      torso   1.0  (0.09557031, 0.09557031, 0.001234375)\n",
       " 2    2   left_foot   left_leg   0.1                  (1e-04, 1e-04, 1e-04)\n",
       " 3    3   right_leg      torso   1.0  (0.09557031, 0.09557031, 0.001234375)\n",
       " 4    4  right_foot  right_leg   0.1                  (1e-04, 1e-04, 1e-04))"
      ]
     },
     "execution_count": 6,
     "metadata": {},
     "output_type": "execute_result"
    }
   ],
   "source": [
    "summarize_brax_system(walker_sys)"
   ]
  },
  {
   "cell_type": "code",
   "execution_count": 7,
   "id": "6d4f9f85",
   "metadata": {},
   "outputs": [
    {
     "name": "stdout",
     "output_type": "stream",
     "text": [
      "0 2 83 b'slide_x'\n",
      "1 2 91 b'slide_z'\n",
      "2 3 99 b'yaw'\n",
      "3 3 103 b'left_leg_lock'\n",
      "4 2 117 b'left_knee'\n",
      "5 3 127 b'hip'\n",
      "6 2 131 b'right_knee'\n"
     ]
    }
   ],
   "source": [
    "# show raw MuJoCo codes next to the names we print\n",
    "for idx, (code, name_off) in enumerate(zip(walker_sys.jnt_type, walker_sys.name_jntadr)):\n",
    "    print(idx, int(code), name_off, walker_sys.names[name_off:].split(b'\\0',1)[0])"
   ]
  },
  {
   "cell_type": "markdown",
   "id": "8276f479",
   "metadata": {},
   "source": [
    "> **Gravity check:** MuJoCo encodes an 11.5° downhill slope by tilting the\n",
    "> gravity vector to **( 1.95, 0, –9.61 )m/s²**.  No physical ramp geom is\n",
    "> present; the walker “falls” forward automatically.  If you prefer a flat\n",
    "> world, change the `<option gravity=\"0 0 -9.81\">` line in the XML and\n",
    "> re‑run Cell A‑2."
   ]
  },
  {
   "cell_type": "code",
   "execution_count": 8,
   "id": "3f990ac7",
   "metadata": {},
   "outputs": [
    {
     "name": "stdout",
     "output_type": "stream",
     "text": [
      " Basic numeric sanity checks passed.\n",
      "-------------------------------------------\n"
     ]
    }
   ],
   "source": [
    "# Ensure mass & inertia arrays are finite and positive\n",
    "assert np.all(np.isfinite(walker_sys.link.inertia.i)), 'non‑finite inertia detected'\n",
    "assert np.all(walker_sys.link.inertia.mass > 0), 'link with zero/neg mass detected'\n",
    "\n",
    "print(' Basic numeric sanity checks passed.')\n",
    "print('-------------------------------------------')"
   ]
  },
  {
   "cell_type": "code",
   "execution_count": 9,
   "id": "f448df54",
   "metadata": {},
   "outputs": [
    {
     "name": "stdout",
     "output_type": "stream",
     "text": [
      " System pickled to: /home/yunusdanabas/ENS492/passive_walker_rl/data/brax/passiveWalker_brax_system.pkl.gz\n",
      "-------------------------------------------\n"
     ]
    }
   ],
   "source": [
    "import pickle, gzip\n",
    "\n",
    "OUT = DATA_BRAX / \"passiveWalker_brax_system.pkl.gz\"\n",
    "with gzip.open(OUT, 'wb') as f:\n",
    "    pickle.dump(walker_sys, f)\n",
    "print(f' System pickled to: {OUT.resolve()}')\n",
    "print('-------------------------------------------')"
   ]
  },
  {
   "cell_type": "markdown",
   "id": "3244c0e3",
   "metadata": {},
   "source": [
    "# BraxPassiveWalker Environment"
   ]
  },
  {
   "cell_type": "markdown",
   "id": "0d9075fe",
   "metadata": {},
   "source": [
    "### Imports and sys reload "
   ]
  },
  {
   "cell_type": "code",
   "execution_count": 10,
   "id": "c6faf35a",
   "metadata": {},
   "outputs": [],
   "source": [
    "import jax\n",
    "import jax.numpy as jnp\n",
    "\n",
    "from brax.envs.base    import PipelineEnv, State\n",
    "from brax.v1.physics.base import QP\n",
    "from IPython.display   import HTML, display"
   ]
  },
  {
   "cell_type": "markdown",
   "id": "a4cf9ae5",
   "metadata": {},
   "source": [
    "### Environment Class Definition"
   ]
  },
  {
   "cell_type": "code",
   "execution_count": 11,
   "id": "86f4ed60",
   "metadata": {},
   "outputs": [],
   "source": [
    "class BraxPassiveWalker(PipelineEnv):\n",
    "    \"\"\"\n",
    "    Simple PD‑controlled biped walker (hip + two knees) converted from MuJoCo XML.\n",
    "    * Action ∈ [‑1,1]^3, scaled to physical ranges inside the class.\n",
    "    * Reward = forward progress (Δx).  Episode ends if torso falls below 0.5 m\n",
    "      or pitch exceeds ±0.8 rad.\n",
    "    \"\"\"\n",
    "    def __init__(self,\n",
    "                 sys: brax.System,\n",
    "                 kp: jnp.ndarray = jnp.array([  5.0, 1000.0, 1000.0]),\n",
    "                 kd: jnp.ndarray = jnp.array([  0.5,   50.0,   50.0]),\n",
    "                 reset_noise: float = 0.1):\n",
    "        super().__init__(sys=sys, backend='positional')\n",
    "\n",
    "        self.act_idx      = sys.actuator.q_id            # [hip, knees]\n",
    "        self.kp, self.kd  = kp, kd\n",
    "        self.action_scale = jnp.array([0.5, 0.3, 0.3])   # rad, m, m\n",
    "        self.reset_noise  = reset_noise\n",
    "\n",
    "        self.obs_size     = 2 + 1 + 2 + 3 + 3   # (see _get_obs)\n",
    "        self.act_size     = 3\n",
    "\n",
    "    # ---------- helpers ---------------------------------------------------\n",
    "    def _get_obs(self, ps: brax.base.State) -> jnp.ndarray:\n",
    "        torso_euler = brax.math.quat_to_euler(ps.x.rot[0])  # xyz order\n",
    "        return jnp.concatenate([\n",
    "            ps.x.pos[0, (0, 2)],          # x, z\n",
    "            torso_euler[1:2],             # pitch\n",
    "            ps.xd.vel[0, (0, 2)],         # ẋ, ż\n",
    "            ps.q[self.act_idx],           # joint pos\n",
    "            ps.qd[self.act_idx],          # joint vel\n",
    "        ])\n",
    "\n",
    "    # ---------- API -------------------------------------------------------\n",
    "    def reset(self, rng: jax.Array):\n",
    "        qd_dim = int(self.sys.qd_size())\n",
    "        q  = self.sys.init_q.copy()\n",
    "        qd = jnp.zeros(qd_dim)\n",
    "\n",
    "        # small uniform noise on the three actuated joints\n",
    "        rng, sub = jax.random.split(rng)\n",
    "        q_noise  = self.reset_noise * (2.*jax.random.uniform(sub, (3,)) - 1.)\n",
    "        q = q.at[self.act_idx].set(q_noise * self.action_scale)\n",
    "\n",
    "        ps = self.pipeline_init(q, qd)          # now uses generalized pipeline\n",
    "        return brax.envs.base.State(            # same namedtuple as before\n",
    "            pipeline_state = ps,\n",
    "            obs            = self._get_obs(ps),\n",
    "            reward         = jnp.array(0., jnp.float32),\n",
    "            done           = jnp.array(0., jnp.float32),\n",
    "            metrics        = {\n",
    "                'prev_x': ps.x.pos[0, 0],\n",
    "                'reward': jnp.array(0., jnp.float32),\n",
    "            },\n",
    "        )        \n",
    "\n",
    "    def step(self, state, action):\n",
    "        action   = jnp.clip(action, -1., 1.)\n",
    "        targets  = action * self.action_scale\n",
    "\n",
    "        q, qd    = state.pipeline_state.q[self.act_idx], state.pipeline_state.qd[self.act_idx]\n",
    "        τ        = self.kp * (targets - q) - self.kd * qd  # PD torque\n",
    "\n",
    "        ps_next  = self.pipeline_step(state.pipeline_state, τ)\n",
    "        reward   = ps_next.x.pos[0, 0] - state.metrics['prev_x']\n",
    "\n",
    "        height_ok = ps_next.x.pos[0, 2] > 0.5\n",
    "        pitch_ok  = jnp.abs(brax.math.quat_to_euler(ps_next.x.rot[0])[1]) < 0.8\n",
    "        done      = jnp.logical_not(jnp.logical_and(height_ok, pitch_ok))\n",
    "\n",
    "        return state.replace(\n",
    "            pipeline_state = ps_next,\n",
    "            obs            = self._get_obs(ps_next),\n",
    "            reward         = reward,\n",
    "            done           = done.astype(jnp.float32),\n",
    "            metrics        = {\n",
    "                'prev_x': ps_next.x.pos[0, 0],\n",
    "                'reward': reward,\n",
    "            },\n",
    "        )"
   ]
  },
  {
   "cell_type": "markdown",
   "id": "beb25d7b",
   "metadata": {},
   "source": [
    "### Single‑Episode Smoke Test (JIT)"
   ]
  },
  {
   "cell_type": "code",
   "execution_count": 12,
   "id": "c77c65a8",
   "metadata": {},
   "outputs": [],
   "source": [
    "env = BraxPassiveWalker(walker_sys)\n",
    "\n",
    "@jax.jit\n",
    "def play_episode(rng):\n",
    "    state  = env.reset(rng)\n",
    "    total_r, steps = 0., 0\n",
    "\n",
    "    # naive alternating‑swing heuristic for ~100 steps\n",
    "    action_seq = jnp.array([[ 1., -1.,  1.],\n",
    "                            [-1.,  1., -1.],\n",
    "                            [ 0.,  0.,  0.]])\n",
    "    def body(carry, _):\n",
    "        st, idx, tot = carry\n",
    "        st  = env.step(st, action_seq[idx % 3])\n",
    "        return (st, idx+1, tot+st.reward), None\n",
    "\n",
    "    (final_state, n, total_r), _ = jax.lax.scan(body,\n",
    "                                                (state, 0, total_r),\n",
    "                                                None, length=100)\n",
    "    return final_state, total_r"
   ]
  },
  {
   "cell_type": "code",
   "execution_count": 13,
   "id": "4b42af4f",
   "metadata": {},
   "outputs": [
    {
     "name": "stdout",
     "output_type": "stream",
     "text": [
      "height  : 1.319784164428711 m\n",
      "forward : 0.004573192913085222 m\n",
      "total R : 0.00\n",
      "fallen  : False\n"
     ]
    }
   ],
   "source": [
    "fs, R = play_episode(jax.random.PRNGKey(0))\n",
    "print(f'height  : {fs.pipeline_state.x.pos[0,2]:} m')\n",
    "print(f'forward : {fs.pipeline_state.x.pos[0,0]:} m')\n",
    "print(f'total R : {R:.2f}')\n",
    "print(f'fallen  : {bool(fs.done)}')"
   ]
  },
  {
   "cell_type": "markdown",
   "id": "f69e0b92",
   "metadata": {},
   "source": [
    "# Vectorised & JIT Benchmarks"
   ]
  },
  {
   "cell_type": "markdown",
   "id": "e778f350",
   "metadata": {},
   "source": [
    "### Prereqs & Imports"
   ]
  },
  {
   "cell_type": "code",
   "execution_count": 14,
   "id": "ed6d20ea",
   "metadata": {},
   "outputs": [
    {
     "name": "stdout",
     "output_type": "stream",
     "text": [
      "JAX devices: [CpuDevice(id=0)]\n"
     ]
    }
   ],
   "source": [
    "import time, functools, itertools\n",
    "import jax, jax.numpy as jnp\n",
    "from brax.envs.wrappers.training import VmapWrapper\n",
    "\n",
    "print(\"JAX devices:\", jax.devices())"
   ]
  },
  {
   "cell_type": "markdown",
   "id": "c3cfd53c",
   "metadata": {},
   "source": [
    "### VmapWrapper Integration"
   ]
  },
  {
   "cell_type": "code",
   "execution_count": 15,
   "id": "c1547303",
   "metadata": {},
   "outputs": [
    {
     "name": "stdout",
     "output_type": "stream",
     "text": [
      "obs shape: 11 | act shape: 3\n"
     ]
    }
   ],
   "source": [
    "def make_vec_env(num_envs: int):\n",
    "    \"\"\"Returns a BraxPassiveWalker wrapped to act on `num_envs` in parallel.\"\"\"\n",
    "    base_env = BraxPassiveWalker(walker_sys)\n",
    "    return VmapWrapper(base_env, batch_size=num_envs)\n",
    "\n",
    "# Sanity check: just one copy\n",
    "env1 = make_vec_env(1)\n",
    "print(\"obs shape:\", env1.observation_size, \"| act shape:\", env1.act_size)"
   ]
  },
  {
   "cell_type": "markdown",
   "id": "82ccff26",
   "metadata": {},
   "source": [
    "### JIT‑Compile reset/step"
   ]
  },
  {
   "cell_type": "code",
   "execution_count": 16,
   "id": "80c9795f",
   "metadata": {},
   "outputs": [
    {
     "name": "stdout",
     "output_type": "stream",
     "text": [
      "vmapped-env : 12644.2 µs/step (CPU)\n"
     ]
    }
   ],
   "source": [
    "def jit_env(env):\n",
    "    \"\"\"Return (`jitted_reset`, `jitted_step`).\"\"\"\n",
    "    return jax.jit(env.reset), jax.jit(env.step)\n",
    "\n",
    "# --- batched env with batch_size = 1 ---------------------------\n",
    "env1 = make_vec_env(1)                       \n",
    "reset_jit, step_jit = jit_env(env1)\n",
    "\n",
    "# make your action have the same leading batch axis\n",
    "action = jnp.zeros((1, env1.act_size))       \n",
    "state = reset_jit(jax.random.PRNGKey(0))\n",
    "\n",
    "N = 1_000\n",
    "t0 = time.time()\n",
    "for _ in range(N):\n",
    "    state = step_jit(state, action)    # returns a State; we overwrite `state`\n",
    "print(f\"vmapped-env : {(time.time()-t0)*1e6/N:.1f} µs/step (CPU)\")"
   ]
  },
  {
   "cell_type": "markdown",
   "id": "370b6927",
   "metadata": {},
   "source": [
    "### Scalability Sweep"
   ]
  },
  {
   "cell_type": "code",
   "execution_count": 17,
   "id": "18dad033",
   "metadata": {},
   "outputs": [
    {
     "name": "stdout",
     "output_type": "stream",
     "text": [
      "  32 envs :  27.09 ms/step  |  846.5 µs/env/step\n",
      " 128 envs :  26.03 ms/step  |  203.4 µs/env/step\n",
      " 512 envs :  31.97 ms/step  |   62.4 µs/env/step\n",
      "1024 envs :  43.27 ms/step  |   42.3 µs/env/step\n"
     ]
    }
   ],
   "source": [
    "def bench(num_envs: int, N: int = 500):\n",
    "    # 1) make the vectorised env for this batch size\n",
    "    env = make_vec_env(num_envs)\n",
    "    reset_jit, step_jit = jit_env(env)\n",
    "\n",
    "    # 2) compile once\n",
    "    _ = reset_jit(jax.random.PRNGKey(0))\n",
    "\n",
    "    # 3) reset (gives a batched state under the hood)\n",
    "    state = reset_jit(jax.random.PRNGKey(1))\n",
    "\n",
    "    # 4) build a batch of zero-actions\n",
    "    action = jnp.zeros((num_envs, env.act_size))\n",
    "\n",
    "    # 5) execution-only timing\n",
    "    t0 = time.time()\n",
    "    for _ in range(N):\n",
    "        state = step_jit(state, action)\n",
    "    ms_per_step = (time.time() - t0) * 1e3 / N\n",
    "    return ms_per_step\n",
    "\n",
    "sizes = [32, 128, 512, 1024]\n",
    "results = {n: bench(n) for n in sizes}\n",
    "\n",
    "for n, ms in results.items():\n",
    "    print(f\"{n:4d} envs : {ms:6.2f} ms/step  | {ms/n*1e3:6.1f} µs/env/step\")"
   ]
  },
  {
   "cell_type": "code",
   "execution_count": 18,
   "id": "17969d2b",
   "metadata": {},
   "outputs": [
    {
     "data": {
      "text/html": [
       "<!DOCTYPE html>\n",
       "<html>\n",
       "\n",
       "  <head>\n",
       "    <title>Brax visualizer</title>\n",
       "    <link rel=\"shortcut icon\" type=\"image/x-icon\" href=\"/favicon.ico\">\n",
       "  </head>\n",
       "\n",
       "  <style>\n",
       "    body {\n",
       "      margin: 0;\n",
       "      padding: 0;\n",
       "    }\n",
       "\n",
       "    #brax-viewer {\n",
       "      height: 400px;\n",
       "      margin: 0;\n",
       "      padding: 0;\n",
       "    }\n",
       "  </style>\n",
       "  <script async src=\"https://unpkg.com/es-module-shims@1.6.3/dist/es-module-shims.js\"></script>\n",
       "\n",
       "  <script type=\"importmap\">\n",
       "    {\n",
       "      \"imports\": {\n",
       "        \"three\": \"https://unpkg.com/three@0.150.1/build/three.module.js\",\n",
       "        \"three/addons/\": \"https://unpkg.com/three@0.150.1/examples/jsm/\",\n",
       "        \"lilgui\": \"https://cdn.jsdelivr.net/npm/lil-gui@0.18.0/+esm\",\n",
       "        \"viewer\": \"https://cdn.jsdelivr.net/gh/google/brax@v0.12.3/brax/visualizer/js/viewer.js\"\n",
       "      }\n",
       "    }\n",
       "  </script>\n",
       "\n",
       "  <script src=\"https://unpkg.com/pako@2.1.0/dist/pako.min.js\"></script>\n",
       "\n",
       "  <script type=\"application/javascript\">\n",
       "  var system = \"eJzVlt1u20YQhV9F4LVk7M7fzuS2D9AC6Z1hBCpCO0IlUZBYNKnhd+9ZLqUoboIaBRykuiDE2eGZb84OV3rshsPYvVk8duNm15/G/oCbdJNSTu0jRaKIZl4uuv1612O5+/kwboZ994TQdrP//V2Nn7Bw243D8TR0Nd7fj++2/cPl+/0wjPXmuHn4cFlpN9PS3ZX+208A2dWEh37YnSa8P4fj9n2t8XhJ+2W73vfdGWLz/iOCq4z7wzDRoI3l4nyp+sehtnqbr+OfFx9+W7enpMaY65Vsucht/bT5q1a9lekhmR8925QlUs6W6e6pJjcfvqB9e/jQH5/jptem/QrhldDEetmqL3B/Wh9Of2yf8766u0jXGRhTl9ST1Ux9zjvNzAuA6evApFfEdpOJiYWMgtQ5+lUuE9l/7iFH+6hSmGaTVnTuYrn4l7H4BvWr23w9Fp9f1BfYzD/AXFwdJi8glv/lYHyD+vsNRj3zT+N67Nup/LFZPSPV08ZLxokTRtko5eLLxYpvTHGbVEsUE3XqV032n6fncnG7Al5OQVnA4Cpi1XREMwl0w1Wzaoj4BAVdL0SFBb9SFDJJoCtjbFo4HJcU2c8K6ihTLFxQoCnUEEO2IJxqyoWCqVIrWWGefKsIQcLFLFnIfJi6ubOTJ+HAkl8QsnKBuJMkVjsLODRRT0woceuheqWcOCzYme6u9hOmFs5kOUNbidwbdcqGAULLmFETYZ1YzCkF0MIK4doyCa2RIpRCOFGeACGb4Vgh1gI7Kcmc7JEQLgmjD+d9wq6CoCviGV626UmJGU/VLQFI/cMgTRfJGBtHMVLWWdZgu5AU9gJ5nXoAALkyNto5RcyZqGFUMpqCrV74DGuh1UWAoKDNufAeBJwcux+ctMGi0TBXMw/RGRZmQ1Wx2SCIFLMsAYYNm4EBdZ8Nk/qC4s1ndkWF3JzFLHoQevKiZVZVwnRgb5wFoy1+d/0/5tfjen+6H467Di/O098/DDL1\";\n",
       "  // decode base64 (convert ascii to binary)\n",
       "  system = atob(system);\n",
       "  // convert binary string to character-number array\n",
       "  system = system.split('').map(function(x){return x.charCodeAt(0);});\n",
       "  // decompress\n",
       "  system = pako.inflate(system);\n",
       "  // convert gunzipped byteArray back to ascii string\n",
       "  system = new TextDecoder(\"utf-8\").decode(system);\n",
       "  // and load json\n",
       "  system = JSON.parse(system);\n",
       "  </script>\n",
       "\n",
       "  <body>\n",
       "\n",
       "    <div id=\"brax-viewer\"></div>\n",
       "\n",
       "    <script type=\"module\">\n",
       "      import {Viewer} from 'viewer';\n",
       "      const domElement = document.getElementById(\"brax-viewer\");\n",
       "      var viewer = new Viewer(domElement, system);\n",
       "    </script>\n",
       "\n",
       "  </body>\n",
       "\n",
       "</html>"
      ],
      "text/plain": [
       "<IPython.core.display.HTML object>"
      ]
     },
     "metadata": {},
     "output_type": "display_data"
    }
   ],
   "source": [
    "from brax.io import html as brax_html\n",
    "from IPython.display import HTML\n",
    "\n",
    "# grab the entire batch\n",
    "batch_ps = state.pipeline_state\n",
    "\n",
    "# helper: pull out iᵗʰ element from every array in the pytree\n",
    "def take(ps, idx):\n",
    "    return jax.tree_util.tree_map(lambda arr: arr[idx], ps)\n",
    "\n",
    "# build your list of N individual PipelineStates\n",
    "N       = batch_ps.x.pos.shape[0]\n",
    "ps_list = [take(batch_ps, i) for i in range(N)]\n",
    "\n",
    "# now render\n",
    "html_str = brax_html.render(walker_sys, ps_list, height=400)\n",
    "display(HTML(html_str))"
   ]
  },
  {
   "cell_type": "markdown",
   "id": "b621c4f7",
   "metadata": {},
   "source": [
    "# Tiny PPO Sanity Run"
   ]
  },
  {
   "cell_type": "markdown",
   "id": "b6ec5438",
   "metadata": {},
   "source": [
    "### Imports & Env instantiation"
   ]
  },
  {
   "cell_type": "markdown",
   "id": "1165105b",
   "metadata": {},
   "source": [
    "For a strange error. I have no idea what is this"
   ]
  },
  {
   "cell_type": "code",
   "execution_count": 19,
   "id": "7e4dc6f9",
   "metadata": {},
   "outputs": [],
   "source": [
    "import brax.training.types as _bt\n",
    "\n",
    "def _uint64_to_numpy(self):\n",
    "    hi = int(self.hi)   # force Python int\n",
    "    lo = int(self.lo)\n",
    "    return (hi << 32) | lo\n",
    "\n",
    "# override the methods in-place\n",
    "_bt.UInt64.to_numpy = _uint64_to_numpy\n",
    "_bt.UInt64.__int__    = lambda self: _uint64_to_numpy(self)"
   ]
  },
  {
   "cell_type": "code",
   "execution_count": 20,
   "id": "ebbf0ed6",
   "metadata": {},
   "outputs": [
    {
     "name": "stdout",
     "output_type": "stream",
     "text": [
      "obs dim: 11 | act dim: 3\n"
     ]
    }
   ],
   "source": [
    "import jax, jax.numpy as jnp, functools, time, matplotlib.pyplot as plt\n",
    "from brax.training.agents.ppo import train as ppo_train     \n",
    "from brax.training.agents.ppo import networks as ppo_nets    \n",
    "from flax import linen as nn\n",
    "import optax                                                 \n",
    "\n",
    "single_env = BraxPassiveWalker(walker_sys)       \n",
    "print('obs dim:', single_env.observation_size, '| act dim:', single_env.action_size)"
   ]
  },
  {
   "cell_type": "markdown",
   "id": "45501ab4",
   "metadata": {},
   "source": [
    "### Network factory stub"
   ]
  },
  {
   "cell_type": "code",
   "execution_count": 21,
   "id": "5d72d8f2",
   "metadata": {},
   "outputs": [],
   "source": [
    "def make_networks_tiny(observation_size,\n",
    "                  action_size,\n",
    "                  preprocess_observations_fn):\n",
    "    \"\"\"\n",
    "    * observation_size comes straight from ppo.train - leave untouched\n",
    "    * action_size is env.action_size\n",
    "    * preprocess_observations_fn normalises if requested\n",
    "    We simply pick shallow 64-unit MLPs for both policy and value nets.\n",
    "    \"\"\"\n",
    "    return ppo_nets.make_ppo_networks(\n",
    "        observation_size             = observation_size,\n",
    "        action_size                  = action_size,\n",
    "        preprocess_observations_fn   = preprocess_observations_fn,\n",
    "        policy_hidden_layer_sizes    = (128, 128, 128),\n",
    "        value_hidden_layer_sizes     = (128, 128, 128),\n",
    "        activation                   = nn.tanh,   \n",
    "    )"
   ]
  },
  {
   "cell_type": "markdown",
   "id": "88592559",
   "metadata": {},
   "source": [
    "### Training Hyper‑Parameters"
   ]
  },
  {
   "cell_type": "code",
   "execution_count": 22,
   "id": "0423fb29",
   "metadata": {},
   "outputs": [],
   "source": [
    "hp = dict(\n",
    "    num_timesteps          = 10_000,     # tiny sanity run\n",
    "    num_envs               = 32,\n",
    "    episode_length         = 256,\n",
    "    learning_rate          = 1e-3,\n",
    "    entropy_cost           = 1e-3,\n",
    "    discounting            = 0.97,\n",
    "    unroll_length          = 32,\n",
    "    batch_size             = 1024,\n",
    "    num_minibatches        = 4,\n",
    "    num_updates_per_batch  = 2,\n",
    "    normalize_observations = True,\n",
    "    seed                   = 0,\n",
    "    num_evals              = 2,\n",
    ")"
   ]
  },
  {
   "cell_type": "markdown",
   "id": "98cc0104",
   "metadata": {},
   "source": [
    "###  Launch training"
   ]
  },
  {
   "cell_type": "code",
   "execution_count": 23,
   "id": "a4ffdb5d",
   "metadata": {},
   "outputs": [
    {
     "name": "stdout",
     "output_type": "stream",
     "text": [
      "step      0 | reward 0.00068170414\n",
      "step 131072 | reward 0.00049237\n",
      "✓ training done in 56.3s\n"
     ]
    }
   ],
   "source": [
    "metrics_log = []\n",
    "def progress(step, m):\n",
    "    metrics_log.append((step, m))\n",
    "    print(f\"step {step:6d} | reward\",\n",
    "          m.get('evaluation/episode_reward',\n",
    "                m.get('eval/episode_reward',\n",
    "                      m.get('eval/episode_return', '?'))))\n",
    "\n",
    "t0 = time.time()\n",
    "make_policy, params, final_metrics = ppo_train.train(\n",
    "    environment           = single_env,\n",
    "    wrap_env              = True,             # let Brax add AutoReset etc.\n",
    "    network_factory       = make_networks_tiny,\n",
    "    progress_fn           = progress,\n",
    "    **hp\n",
    ")\n",
    "print(f'✓ training done in {time.time()-t0:.1f}s')"
   ]
  },
  {
   "cell_type": "markdown",
   "id": "8a5eb0c2",
   "metadata": {},
   "source": [
    "### Reward curve"
   ]
  },
  {
   "cell_type": "code",
   "execution_count": 24,
   "id": "d7793eab",
   "metadata": {},
   "outputs": [
    {
     "data": {
      "image/png": "[encoded data removed]",
      "text/plain": [
       "<Figure size 640x480 with 1 Axes>"
      ]
     },
     "metadata": {},
     "output_type": "display_data"
    }
   ],
   "source": [
    "rew = [m[1].get('evaluation/episode_reward',\n",
    "                m[1].get('eval/episode_reward',\n",
    "                         m[1].get('eval/episode_return', 0.0)))\n",
    "       for m in metrics_log]\n",
    "plt.plot(rew); plt.title('Eval episode reward'); plt.xlabel('eval #'); plt.ylabel('m'); plt.grid(); plt.show()"
   ]
  },
  {
   "cell_type": "markdown",
   "id": "1c5e483f",
   "metadata": {},
   "source": [
    "### Visulazie MuJoCo"
   ]
  },
  {
   "cell_type": "code",
   "execution_count": null,
   "id": "c273ef89",
   "metadata": {},
   "outputs": [],
   "source": [
    "import time\n",
    "import jax, jax.numpy as jnp\n",
    "import numpy as np\n",
    "from mujoco.glfw import glfw\n",
    "\n",
    "from passive_walker.envs.mujoco_env import PassiveWalkerEnv\n",
    "\n",
    "# ---------- 1.  grab the trained weights and inference fn -------------------\n",
    "policy_fn = make_policy(params, deterministic=True)     \n",
    "\n",
    "# ---------- 2.  launch a GUI MuJoCo sim ------------------------------------\n",
    "\n",
    "mj_env = PassiveWalkerEnv(\n",
    "    str(XML_PATH),\n",
    "    simend          = 10.0,   \n",
    "    use_nn_for_hip  = True,\n",
    "    use_nn_for_knees= True,\n",
    "    use_gui         = True,\n",
    "    rng_seed=42\n",
    ")\n",
    "\n",
    "obs  = mj_env.reset()                       \n",
    "key  = jax.random.PRNGKey(0)              \n",
    "done = False\n",
    "cum_reward = 0.0\n",
    "t0 = time.time()\n",
    "mj_env.render()"
   ]
  },
  {
   "cell_type": "code",
   "execution_count": null,
   "id": "91f608f1",
   "metadata": {},
   "outputs": [
    {
     "name": "stdout",
     "output_type": "stream",
     "text": [
      "\n",
      "Episode finished in 10.8s  |  total reward = 253.69\n"
     ]
    }
   ],
   "source": [
    "# ---------- 3.  control‑loop -------------------------------------------------\n",
    "while not done and (not mj_env.window or not glfw.window_should_close(mj_env.window)):\n",
    "    key, sub = jax.random.split(key)        \n",
    "    act_jax, _ = policy_fn(jnp.array(obs), sub)\n",
    "    act = np.asarray(act_jax, dtype=np.float32)  \n",
    "\n",
    "    obs, reward, done, _ = mj_env.step(act)      # one physics step\n",
    "    cum_reward += reward\n",
    "    mj_env.render(mode=\"human\")                  # draw frame (blocking)\n",
    "\n",
    "print(f\"\\nEpisode finished in {time.time()-t0:.1f}s  |  total reward = {cum_reward:.2f}\")\n",
    "mj_env.close()"
   ]
  },
  {
   "cell_type": "markdown",
   "id": "1ee6cce8",
   "metadata": {},
   "source": [
    "# Full Enhanced PPO Experiment Suite"
   ]
  },
  {
   "cell_type": "markdown",
   "id": "ac5d8d0d",
   "metadata": {},
   "source": [
    "### Imports & Common Helpers"
   ]
  },
  {
   "cell_type": "code",
   "execution_count": null,
   "id": "a72aaafc",
   "metadata": {},
   "outputs": [],
   "source": [
    "import brax.training.types as _bt\n",
    "\n",
    "def _uint64_to_numpy(self):\n",
    "    hi = int(self.hi)   # force Python int\n",
    "    lo = int(self.lo)\n",
    "    return (hi << 32) | lo\n",
    "\n",
    "# override the methods in-place\n",
    "_bt.UInt64.to_numpy = _uint64_to_numpy\n",
    "_bt.UInt64.__int__    = lambda self: _uint64_to_numpy(self)"
   ]
  },
  {
   "cell_type": "code",
   "execution_count": null,
   "id": "e21950bb",
   "metadata": {},
   "outputs": [],
   "source": [
    "# core ----------------------------------------------------------------------\n",
    "import os, time, json, hashlib, functools, itertools, pathlib, msgpack\n",
    "os.environ[\"XLA_FLAGS\"] = \"--xla_gpu_autotune_level=4\"  # or 0 for full disable\n",
    "os.environ[\"TF_CPP_MIN_LOG_LEVEL\"] = \"3\"                # optional: quiet logs\n",
    "import jax, brax  # …\n",
    "\n",
    "from dataclasses import dataclass, asdict\n",
    "from typing import Dict, Any, List\n",
    "\n",
    "import numpy as np\n",
    "import jax, jax.numpy as jnp\n",
    "import flax\n",
    "import matplotlib.pyplot as plt\n",
    "import pandas as pd\n",
    "from tqdm.auto import tqdm\n",
    "import IPython.display as ipd\n",
    "import math\n",
    "import optax\n",
    "\n",
    "# brax ----------------------------------------------------------------------\n",
    "import brax\n",
    "from brax.training.agents.ppo import train as ppo_train\n",
    "from brax.training.agents import ppo as ppo_nets     # network helpers\n",
    "from brax.training.agents.ppo import networks as ppo_networks\n",
    "from brax.training.agents.ppo.networks import make_ppo_networks, make_inference_fn\n",
    "\n",
    "from brax.training import types\n",
    "\n",
    "# reproducibility & JAX memory ----------------------------------------------\n",
    "os.environ[\"XLA_PYTHON_CLIENT_PREALLOCATE\"] = \"false\"\n",
    "# jax.config.update(\"jax_platform_name\", \"cpu\")   # comment out for GPU/TPU\n",
    "jax.config.update(\"jax_default_matmul_precision\", \"float32\")  # optional\n",
    "jax.config.update(\"jax_platform_name\", \"gpu\")\n",
    "\n",
    "print(\"JAX default device:\", jax.devices()[0])\n",
    "print(\"All JAX devices:\", jax.devices())\n"
   ]
  },
  {
   "cell_type": "markdown",
   "id": "296a805a",
   "metadata": {},
   "source": [
    "### Define the Sweep Grid"
   ]
  },
  {
   "cell_type": "code",
   "execution_count": null,
   "id": "19c4bebb",
   "metadata": {},
   "outputs": [],
   "source": [
    "@dataclass\n",
    "class SweepConfig:\n",
    "    seed: int\n",
    "    reward_scale: float\n",
    "    lr: float\n",
    "    arch: str              # NEW field: “small” or “deep”\n",
    "    tag: str\n",
    "\n",
    "    def __post_init__(self):\n",
    "        self.seed         = int(self.seed)\n",
    "        self.reward_scale = float(self.reward_scale)\n",
    "        self.lr           = float(self.lr)\n",
    "\n",
    "    def hash(self) -> str:\n",
    "        return hashlib.sha1(json.dumps(asdict(self), sort_keys=True).encode())\\\n",
    "                     .hexdigest()[:8]\n"
   ]
  },
  {
   "cell_type": "code",
   "execution_count": null,
   "id": "b40b21c3",
   "metadata": {},
   "outputs": [],
   "source": [
    "from itertools import product\n",
    "\n",
    "seeds         = [0]\n",
    "reward_scales = [1.0]\n",
    "lrs           = [3e-4]\n",
    "archs         = [\"small\"]\n",
    "\n",
    "grid = []\n",
    "for s, rs, lr, arch in product(seeds, reward_scales, lrs, archs):\n",
    "    tag = f\"S{s}|R{rs}|LR{lr}|A{arch}\"\n",
    "    grid.append(SweepConfig(s, rs, lr, arch, tag))\n",
    "\n",
    "print(\"Total runs:\", len(grid))\n"
   ]
  },
  {
   "cell_type": "code",
   "execution_count": null,
   "id": "3246b7ac",
   "metadata": {},
   "outputs": [],
   "source": [
    "from functools import partial\n",
    "from brax.training import networks\n",
    "from brax.training.agents.ppo.networks import make_ppo_networks\n",
    "\n",
    "def make_networks_factory(observation_size,\n",
    "                          action_size,\n",
    "                          cfg: SweepConfig,\n",
    "                          preprocess_observations_fn: types.PreprocessObservationFn = types.identity_observation_preprocessor):\n",
    "    \n",
    "    if cfg.arch == \"small\":\n",
    "        print(\"  using small networks\")\n",
    "        ph = (128,128,128,128,128)    # 5×128\n",
    "        vh = (512,512,512,512,512,512)  # 6×256\n",
    "    elif cfg.arch == \"medium\":\n",
    "        print(\"  using medium networks\")\n",
    "        ph = (128,128,128,128,128,128,128,128)    # 8×64\n",
    "        vh = (512,512,512,512,512,512,512,512,512,512)  # 8×256\n",
    "\n",
    "\n",
    "    elif cfg.arch == \"deep\":\n",
    "        print(\"  using deep networks\")\n",
    "        ph = (256,256,256,256,256,256,256,256)    # 8×256\n",
    "        vh = (1024,1024,1024,1024,1024,1024,1024,1024,1024,1024)  # 10×1024\n",
    "\n",
    "    else:\n",
    "        print(\"  using deeper networks\")\n",
    "        ph = (256,256,256,256,256,256,256,256)   # 8×256\n",
    "        vh = (1024,1024,1024,1024,1024,1024,1024,1024,1024,1024) # 10×1024\n",
    "\n",
    "    return make_ppo_networks(\n",
    "                   observation_size= observation_size,       \n",
    "                   action_size= action_size, \n",
    "                   policy_hidden_layer_sizes=ph,\n",
    "                   value_hidden_layer_sizes=vh,\n",
    "                   preprocess_observations_fn=preprocess_observations_fn,\n",
    "                   activation=jax.nn.relu)\n"
   ]
  },
  {
   "cell_type": "code",
   "execution_count": null,
   "id": "d8fb8375",
   "metadata": {},
   "outputs": [],
   "source": [
    "from itertools import product\n",
    "\n",
    "seeds         = [0, 1, 2]                      # 3 seeds\n",
    "reward_scales = [0.5, 1.0]                     # 2 reward multipliers\n",
    "lrs           = [1e-3, 5e-4, 1e-4, 1e-5]       # 4 learning rates\n",
    "archs         = [\"tiny\", \"small\", \"medium\",\n",
    "                 \"deep\", \"deepXL\"]          # 5 network sizes\n",
    "\n",
    "# 3 × 2 × 4 × 5 = 120 training jobs\n",
    "grid = [\n",
    "    SweepConfig(\n",
    "        s, rs, lr, arch,\n",
    "        tag=f\"S{s}|R{rs}|LR{lr}|A{arch}\"\n",
    "    )\n",
    "    for s, rs, lr, arch in product(seeds, reward_scales, lrs, archs)\n",
    "]\n",
    "print(\"Total runs:\", len(grid))  # → 120\n"
   ]
  },
  {
   "cell_type": "code",
   "execution_count": null,
   "id": "0bf0b4a5",
   "metadata": {},
   "outputs": [],
   "source": [
    "# ╔══════════════════════════════════════════════════════════════════════╗\n",
    "# 1.  Network factory – map every 'arch' string to widths                #\n",
    "# ╚══════════════════════════════════════════════════════════════════════╝\n",
    "def make_networks_factory(observation_size: int,\n",
    "                          action_size: int,\n",
    "                          cfg: SweepConfig,\n",
    "                          preprocess_observations_fn=types.identity_observation_preprocessor):\n",
    "\n",
    "    match cfg.arch:\n",
    "        # ─── LIGHT MODELS ───────────────────────────────────────────────\n",
    "        case \"tiny\":                       # ≈ 40 k params\n",
    "            print(\"  using tiny networks\")\n",
    "            ph = (64, 64)                  # 2 layers of 64\n",
    "            vh = (128, 128, 128)           # value net a bit deeper\n",
    "        case \"small\":                      # ≈ 150 k params\n",
    "            print(\"  using small networks\")\n",
    "            ph = (128, 128, 128, 128)      # 4 layers\n",
    "            vh = (256,)*6\n",
    "        case \"medium\":                     # ≈ 1 M params\n",
    "            print(\"  using medium networks\")\n",
    "            ph = (256,)*6                  # 6 layers\n",
    "            vh = (512,)*8\n",
    "\n",
    "        # ─── HEAVY MODELS (unchanged) ──────────────────────────────────\n",
    "\n",
    "        case \"deep\":                      # ≈ 4 M params\n",
    "            print(\"  using large networks\")\n",
    "            ph = (512,)*6                  # 6 layers\n",
    "            vh = (1024,)*8\n",
    "\n",
    "        case \"deepXL\":\n",
    "            print(\"  using deepXL networks\")\n",
    "            ph = (512,)*12\n",
    "            vh = (1024,)*14\n",
    "\n",
    "        case other:\n",
    "            raise ValueError(f\"Unknown arch {other}\")\n",
    "\n",
    "    return make_ppo_networks(\n",
    "        observation_size           = observation_size,\n",
    "        action_size                = action_size,\n",
    "        policy_hidden_layer_sizes  = ph,\n",
    "        value_hidden_layer_sizes   = vh,\n",
    "        preprocess_observations_fn = preprocess_observations_fn,\n",
    "        activation                 = jax.nn.tanh,\n",
    "    )\n"
   ]
  },
  {
   "cell_type": "code",
   "execution_count": null,
   "id": "c9240252",
   "metadata": {},
   "outputs": [],
   "source": [
    "RESULT_DIR = pathlib.Path(\"sweep_results\")\n",
    "RESULT_DIR.mkdir(exist_ok=True)"
   ]
  },
  {
   "cell_type": "code",
   "execution_count": null,
   "id": "4e6dee60",
   "metadata": {},
   "outputs": [],
   "source": [
    "RESULT_DIR = pathlib.Path(\"deep_results\")\n",
    "RESULT_DIR.mkdir(exist_ok=True)"
   ]
  },
  {
   "cell_type": "markdown",
   "id": "86b2ea8d",
   "metadata": {},
   "source": [
    "### Automated Training Loop"
   ]
  },
  {
   "cell_type": "code",
   "execution_count": null,
   "id": "4eb81670",
   "metadata": {},
   "outputs": [],
   "source": [
    "NUM_TIMESTEPS = 24 * 1024 * 1024          # 24 M updates ≈ twice your previous run\n",
    "NUM_ENVS      = 128                       # more parallel simulators\n",
    "EPISODE_LENGTH = 1024                      # 1k steps per episode\n",
    "BATCH_SIZE    = 4096                      # ≈ NUM_ENVS × episode_length\n",
    "\n",
    "def build_hp(cfg: SweepConfig, network_factory):\n",
    "    return dict(\n",
    "        num_timesteps   = NUM_TIMESTEPS,\n",
    "        num_envs        = NUM_ENVS,\n",
    "        episode_length  = EPISODE_LENGTH,\n",
    "        batch_size      = BATCH_SIZE,\n",
    "        reward_scaling  = cfg.reward_scale,\n",
    "        learning_rate   = cfg.lr,\n",
    "        seed            = cfg.seed,\n",
    "        network_factory = network_factory,\n",
    "        entropy_cost    = 1e-3,\n",
    "        wrap_env        = True,\n",
    "        num_evals       = 1,              # final eval only\n",
    "    )"
   ]
  },
  {
   "cell_type": "code",
   "execution_count": null,
   "id": "d5ec6f51",
   "metadata": {},
   "outputs": [],
   "source": [
    "from tqdm.auto import tqdm\n",
    "from brax.training.agents.ppo import train as ppo_train\n",
    "import pathlib, msgpack, flax, jax\n",
    "\n",
    "\n",
    "def run_one(cfg: SweepConfig):\n",
    "    # build env\n",
    "    env = BraxPassiveWalker(walker_sys)\n",
    "\n",
    "    net_factory = lambda obs_sz, act_sz, **_: (\n",
    "        make_networks_factory(obs_sz, act_sz, cfg)\n",
    "    )\n",
    "\n",
    "    hp = build_hp(cfg, net_factory)\n",
    "\n",
    "    make_policy, params, metrics = ppo_train.train(\n",
    "        environment = env,\n",
    "        progress_fn = lambda *_: None,\n",
    "        **hp\n",
    "    )\n",
    "\n",
    "    metrics_py = jax.tree_util.tree_map(\n",
    "        lambda x: float(jax.device_get(x)) if isinstance(x, jax.Array) else x,\n",
    "        metrics\n",
    "    )\n",
    "    params_bytes = flax.serialization.to_bytes(params)\n",
    "\n",
    "    run_data = {\n",
    "        \"cfg\":          asdict(cfg),\n",
    "        \"metrics\":      metrics_py,\n",
    "        \"params_bytes\": params_bytes,\n",
    "    }\n",
    "    out_file = RESULT_DIR / f\"run_{cfg.hash()}.msgpack\"\n",
    "    with open(out_file, \"wb\") as f:\n",
    "        msgpack.pack(run_data, f, use_bin_type=True)\n",
    "\n",
    "    return {\"file\": str(out_file), **run_data}"
   ]
  },
  {
   "cell_type": "code",
   "execution_count": null,
   "id": "178ae856",
   "metadata": {},
   "outputs": [],
   "source": [
    "all_results = []\n",
    "for cfg in tqdm(grid, desc=\"Sweep\", unit=\"run\"):\n",
    "    t0 = time.time()\n",
    "    r  = run_one(cfg)\n",
    "    r[\"walltime\"] = time.time() - t0\n",
    "    all_results.append(r)"
   ]
  },
  {
   "cell_type": "markdown",
   "id": "ed0e7815",
   "metadata": {},
   "source": [
    "### Aggregate & Plot"
   ]
  },
  {
   "cell_type": "code",
   "execution_count": null,
   "id": "caff7c81",
   "metadata": {},
   "outputs": [],
   "source": [
    "# ─── build raw DataFrame ───────────────────────────────────────────────────\n",
    "raw_df = pd.DataFrame(all_results)\n",
    "\n",
    "# ─── flatten the nested cfg dict into its own columns ───────────────────────\n",
    "cfg_df = pd.DataFrame(raw_df[\"cfg\"].tolist())\n",
    "df     = pd.concat([cfg_df, raw_df.drop(columns=[\"cfg\"])], axis=1)\n",
    "\n",
    "# ─── extract a single scalar reward from whatever key exists ───────────────\n",
    "def extract_reward(m):\n",
    "    return (\n",
    "        m.get(\"evaluation/episode_reward\")\n",
    "      or m.get(\"eval/episode_reward\")\n",
    "      or m.get(\"reward\")\n",
    "      or next(iter(m.values()))\n",
    "    )\n",
    "df[\"reward\"] = df[\"metrics\"].apply(extract_reward)\n",
    "\n",
    "# ─── now you truly have seed, reward_scale, etc. ───────────────────────────\n",
    "display(df[[\"seed\", \"reward_scale\", \"lr\", \"tag\", \"walltime\", \"reward\"]])\n",
    "\n",
    "# ─── bar-plot: average over seeds ──────────────────────────────────────────\n",
    "plot_df = (\n",
    "    df\n",
    "    .groupby([\"reward_scale\", \"lr\"], as_index=False)\n",
    "    .agg(mean_reward=(\"reward\",\"mean\"),\n",
    "         std_reward =(\"reward\",\"std\"))\n",
    ")\n",
    "\n",
    "fig, ax = plt.subplots(figsize=(6,4))\n",
    "plot_df.plot.bar(x=\"reward_scale\", y=\"mean_reward\",\n",
    "                 yerr=plot_df[\"std_reward\"], capsize=4, ax=ax)\n",
    "ax.set_ylabel(\"Final episode reward\")\n",
    "ax.set_title(\"PassiveWalker – PPO sweep\")\n",
    "plt.tight_layout()"
   ]
  },
  {
   "cell_type": "code",
   "execution_count": null,
   "id": "db9c954b",
   "metadata": {},
   "outputs": [],
   "source": [
    "plot_df = (df.groupby([\"reward_scale\",\"lr\"],as_index=False)\n",
    "             .agg(mean_reward=(\"reward\",\"mean\"), std_reward=(\"reward\",\"std\")))\n",
    "\n",
    "ax = plot_df.pivot(index=\"reward_scale\",columns=\"lr\",values=\"mean_reward\").plot.bar(\n",
    "        yerr=plot_df.pivot(index=\"reward_scale\",columns=\"lr\",values=\"std_reward\"),\n",
    "        capsize=3, rot=0, figsize=(6,4))\n",
    "ax.set_ylabel(\"Final reward\"); ax.set_title(\"PassiveWalker – PPO sweep\"); plt.tight_layout()"
   ]
  },
  {
   "cell_type": "markdown",
   "id": "e60753fe",
   "metadata": {},
   "source": [
    "### Export Best Policy"
   ]
  },
  {
   "cell_type": "code",
   "execution_count": null,
   "id": "d1a2c141",
   "metadata": {},
   "outputs": [],
   "source": [
    "# ---------- choose file ---------------------------------------------------\n",
    "MODEL_PATH = None                         # <- set path string for custom\n",
    "\n",
    "if MODEL_PATH is None:\n",
    "    best_row  = df.loc[df.reward.idxmax()]\n",
    "    MODEL_PATH = best_row[\"file\"]\n",
    "    print(\"Auto‑selected best run →\", MODEL_PATH)\n",
    "else:\n",
    "    MODEL_PATH = str(pathlib.Path(MODEL_PATH).expanduser())"
   ]
  },
  {
   "cell_type": "code",
   "execution_count": null,
   "id": "f83b8875",
   "metadata": {},
   "outputs": [],
   "source": [
    "# ---------- load ----------------------------------------------------------\n",
    "saved        = msgpack.unpack(open(MODEL_PATH, \"rb\"), raw=False)\n",
    "cfg          = SweepConfig(**saved[\"cfg\"])\n",
    "params_bytes = saved[\"params_bytes\"]   # ★ grab the raw bytes\n",
    "# print(\"Reward:\", saved[\"metrics\"][\"reward\"])"
   ]
  },
  {
   "cell_type": "code",
   "execution_count": null,
   "id": "e5bba98b",
   "metadata": {},
   "outputs": [],
   "source": [
    "# ---------- rebuild policy -----------------------------------------------\n",
    "env_vis = BraxPassiveWalker(walker_sys)\n",
    "\n",
    "# ─── build your PPONetworks & policy factory ────────────────────────────\n",
    "ppon = make_networks_factory(env_vis.obs_size, env_vis.act_size, cfg)\n",
    "policy_factory = make_inference_fn(ppon)\n",
    "\n",
    "# ─── init dummy params & assemble pytree shape ───────────────────────────\n",
    "init_pol = ppon.policy_network.init(jax.random.PRNGKey(0))\n",
    "init_val = ppon.value_network.init(jax.random.PRNGKey(1))\n",
    "init_params = (None, init_pol, init_val)   # no obs-normalizer in our toy setup\n",
    "\n",
    "# ─── load your saved bytes into that pytree ───────────────────────────────\n",
    "params = flax.serialization.from_bytes(init_params, params_bytes)\n",
    "\n",
    "# ─── build a deterministic policy fn ─────────────────────────────────────\n",
    "policy = policy_factory(params, deterministic=True)\n"
   ]
  },
  {
   "cell_type": "markdown",
   "id": "a634ac5e",
   "metadata": {},
   "source": [
    "# MuJoCo‑Based Visualization"
   ]
  },
  {
   "cell_type": "code",
   "execution_count": null,
   "id": "29b168b2",
   "metadata": {},
   "outputs": [],
   "source": [
    "import msgpack, flax\n",
    "import jax, jax.numpy as jnp\n",
    "import numpy as np\n",
    "from mujoco.glfw import glfw\n",
    "from passive_walker.envs.mujoco_env import PassiveWalkerEnv\n",
    "from pathlib import Path\n",
    "from brax.training.agents.ppo.networks import make_ppo_networks, make_inference_fn\n",
    "\n",
    "# ——— load the best run from sweep_results ————————————————\n",
    "MODEL_PATH = \"sweep_results/run_f5f3c8e5.msgpack\"   # ← or override this\n",
    "saved       = msgpack.unpack(open(MODEL_PATH, \"rb\"), raw=False)\n",
    "cfg         = SweepConfig(**saved[\"cfg\"])\n",
    "params_bytes= saved[\"params_bytes\"]\n",
    "print(f\"Visualizing {cfg.tag}\")"
   ]
  },
  {
   "cell_type": "code",
   "execution_count": null,
   "id": "43937f88",
   "metadata": {},
   "outputs": [],
   "source": [
    "# We only use the Brax network to get the right shapes\n",
    "env_brax    = BraxPassiveWalker(walker_sys)\n",
    "ppo_nets    = make_networks_factory(env_brax.obs_size, env_brax.act_size, cfg)\n",
    "policy_maker= make_inference_fn(ppo_nets)\n",
    "\n",
    "# init an empty params pytree then load your saved bytes\n",
    "init_pol    = ppo_nets.policy_network.init(jax.random.PRNGKey(0))\n",
    "init_val    = ppo_nets.value_network.init(jax.random.PRNGKey(1))\n",
    "init_tree   = (None, init_pol, init_val)\n",
    "params      = flax.serialization.from_bytes(init_tree, params_bytes)\n",
    "\n",
    "# deterministic policy\n",
    "policy      = policy_maker(params, deterministic=True)"
   ]
  },
  {
   "cell_type": "code",
   "execution_count": null,
   "id": "e714ebb0",
   "metadata": {},
   "outputs": [],
   "source": [
    "# ——— launch MuJoCo + render the rollout ——————————————————————\n",
    "xml_path = \"passiveWalker_model.xml\"  # adjust path if needed\n",
    "mj_env   = PassiveWalkerEnv(xml_path,\n",
    "                            simend=20.0,\n",
    "                            use_nn_for_hip=True,\n",
    "                            use_nn_for_knees=True,\n",
    "                            use_gui=True)\n",
    "\n",
    "# run\n",
    "obs  = mj_env.reset()\n",
    "key  = jax.random.PRNGKey(0)\n",
    "done = False\n",
    "total_reward = 0.0\n",
    "\n",
    "while not done and not glfw.window_should_close(mj_env.window):\n",
    "    key, sub = jax.random.split(key)\n",
    "    # policy expects a jax array of shape (11,)\n",
    "    act_jax, _ = policy(jnp.array(obs), sub)\n",
    "    act = np.array(act_jax, dtype=np.float32)     # back to NumPy\n",
    "    obs, r, done, info = mj_env.step(act)\n",
    "    total_reward += r\n",
    "    mj_env.render(mode=\"human\")\n",
    "\n",
    "print(\"Total reward:\", total_reward)\n",
    "mj_env.close()\n"
   ]
  }
 ],
 "metadata": {
  "kernelspec": {
   "display_name": "ME58006",
   "language": "python",
   "name": "python3"
  },
  "language_info": {
   "codemirror_mode": {
    "name": "ipython",
    "version": 3
   },
   "file_extension": ".py",
   "mimetype": "text/x-python",
   "name": "python",
   "nbconvert_exporter": "python",
   "pygments_lexer": "ipython3",
   "version": "3.10.15"
  }
 },
 "nbformat": 4,
 "nbformat_minor": 5
}
